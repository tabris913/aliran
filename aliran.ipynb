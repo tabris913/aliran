{
 "cells": [
  {
   "cell_type": "code",
   "execution_count": 223,
   "metadata": {},
   "outputs": [],
   "source": [
    "# import \n",
    "import json\n",
    "import sys\n",
    "\n",
    "import pandas"
   ]
  },
  {
   "cell_type": "code",
   "execution_count": 224,
   "metadata": {},
   "outputs": [],
   "source": [
    "# setting\n",
    "\n",
    "## columns\n",
    "COLUMNS_CALCED = [\n",
    "    'average_all', 'average', 'average_exclude_debut', 'highest', 'highest_exclude_debut',\n",
    "    'over30', 'over50', 'over100', 'over200', 'count_all', 'count' #, 'under30', 'under50', 'under100', 'under200', \n",
    "]\n",
    "COLUMNS = [\n",
    "    'title', 'date', 'initial', 'kind', # 'r2019u',\n",
    "    'r2007', 'r2008', 'r2009', 'r2010', 'r2011', 'r2012', 'r2013', 'r2014', 'r2015', 'r2016', 'r2017', 'r2018', 'r2019',\n",
    "] + COLUMNS_CALCED\n",
    "RECENT = 'r2019'\n",
    "BEFORE = 'r2018'\n",
    "URA = 'r2019'\n",
    "RANK_INCOMPLETE = ['r2005', 'r2006#1', 'r2006#2']\n",
    "RANK_ALL = RANK_INCOMPLETE + ['r2007', 'r2008', 'r2009', 'r2010', 'r2011', 'r2012', 'r2013', 'r2014', 'r2015', 'r2016', 'r2017', 'r2018', 'r2019']\n",
    "RANK = RANK_ALL[3:]\n",
    "RANK_BEFORE = list(filter(lambda x: x != RECENT, RANK_ALL))\n",
    "\n",
    "def year_filter(value: str, initial: str, array: list, mode: str = 'ge'):\n",
    "    if mode not in ['gt', 'ge']:\n",
    "        raise ValueError(f'invalid mode: {mode}')\n",
    "    if value in array and initial in array:\n",
    "        if mode == 'ge':\n",
    "            return array.index(value) >= array.index(initial)\n",
    "        else:\n",
    "            return array.index(value) > array.index(initial)\n",
    "    elif value in array:\n",
    "        return True\n",
    "    else:\n",
    "        return False"
   ]
  },
  {
   "cell_type": "markdown",
   "metadata": {},
   "outputs": [],
   "source": [
    "### summary.json"
   ]
  },
  {
   "cell_type": "code",
   "execution_count": 225,
   "metadata": {},
   "outputs": [],
   "source": [
    "# read json\n",
    "SUMMARY_PATH = './summary.json'\n",
    "with open(SUMMARY_PATH, encoding='utf8') as summary_file:\n",
    "    summary = json.load(summary_file)"
   ]
  },
  {
   "cell_type": "code",
   "execution_count": 226,
   "metadata": {},
   "outputs": [
    {
     "data": {
      "text/html": "<div>\n<style scoped>\n    .dataframe tbody tr th:only-of-type {\n        vertical-align: middle;\n    }\n\n    .dataframe tbody tr th {\n        vertical-align: top;\n    }\n\n    .dataframe thead th {\n        text-align: right;\n    }\n</style>\n<table border=\"1\" class=\"dataframe\">\n  <thead>\n    <tr style=\"text-align: right;\">\n      <th></th>\n      <th>title</th>\n      <th>ruby</th>\n      <th>inst</th>\n      <th>hall_of_fame</th>\n      <th>works</th>\n      <th>debut</th>\n      <th>date</th>\n      <th>r2019u</th>\n      <th>initial</th>\n      <th>kind</th>\n      <th>...</th>\n      <th>r2011</th>\n      <th>r2012</th>\n      <th>r2013</th>\n      <th>r2014</th>\n      <th>r2015</th>\n      <th>r2016</th>\n      <th>r2017</th>\n      <th>r2018</th>\n      <th>r2019</th>\n      <th>average_all</th>\n    </tr>\n    <tr>\n      <th>no</th>\n      <th></th>\n      <th></th>\n      <th></th>\n      <th></th>\n      <th></th>\n      <th></th>\n      <th></th>\n      <th></th>\n      <th></th>\n      <th></th>\n      <th></th>\n      <th></th>\n      <th></th>\n      <th></th>\n      <th></th>\n      <th></th>\n      <th></th>\n      <th></th>\n      <th></th>\n      <th></th>\n      <th></th>\n    </tr>\n  </thead>\n  <tbody>\n    <tr>\n      <th>1</th>\n      <td>桜の花は狂い咲き</td>\n      <td>None</td>\n      <td>False</td>\n      <td>False</td>\n      <td>[SOME GIRLS -REBEL STREEL IV, CLASSICS, 月光嗜好症]</td>\n      <td>SOME GIRLS -REBEL STREEL IV</td>\n      <td>1997-04-25</td>\n      <td>64.0</td>\n      <td>r2005</td>\n      <td>[SA, OA, OT]</td>\n      <td>...</td>\n      <td>96.0</td>\n      <td>123.0</td>\n      <td>68.0</td>\n      <td>169.0</td>\n      <td>165.0</td>\n      <td>100.0</td>\n      <td>134.0</td>\n      <td>164.0</td>\n      <td>123.0</td>\n      <td>121.462</td>\n    </tr>\n    <tr>\n      <th>2</th>\n      <td>青蛾月</td>\n      <td>None</td>\n      <td>False</td>\n      <td>False</td>\n      <td>[幻想庭園, étoiles]</td>\n      <td>幻想庭園</td>\n      <td>1988-01-25</td>\n      <td>22.0</td>\n      <td>r2005</td>\n      <td>[SA, OA]</td>\n      <td>...</td>\n      <td>72.0</td>\n      <td>57.0</td>\n      <td>54.0</td>\n      <td>87.0</td>\n      <td>81.0</td>\n      <td>59.0</td>\n      <td>146.0</td>\n      <td>126.0</td>\n      <td>54.0</td>\n      <td>80.923</td>\n    </tr>\n    <tr>\n      <th>3</th>\n      <td>マリーゴールド・ガーデン</td>\n      <td>None</td>\n      <td>False</td>\n      <td>False</td>\n      <td>[幻想庭園, フラワーチャイルド, 神々の黄昏]</td>\n      <td>幻想庭園</td>\n      <td>1988-01-25</td>\n      <td>128.0</td>\n      <td>r2005</td>\n      <td>[SA, OA, S-2]</td>\n      <td>...</td>\n      <td>175.0</td>\n      <td>141.0</td>\n      <td>218.0</td>\n      <td>141.0</td>\n      <td>238.0</td>\n      <td>190.0</td>\n      <td>155.0</td>\n      <td>164.0</td>\n      <td>216.0</td>\n      <td>171.769</td>\n    </tr>\n    <tr>\n      <th>4</th>\n      <td>鏡面界 im Juni</td>\n      <td>きょうめんかい・イン・ジュニ</td>\n      <td>False</td>\n      <td>False</td>\n      <td>[幻想庭園]</td>\n      <td>幻想庭園</td>\n      <td>1988-01-25</td>\n      <td>150.0</td>\n      <td>r2005</td>\n      <td>[OA]</td>\n      <td>...</td>\n      <td>204.0</td>\n      <td>131.0</td>\n      <td>174.0</td>\n      <td>194.0</td>\n      <td>253.0</td>\n      <td>244.0</td>\n      <td>202.0</td>\n      <td>250.0</td>\n      <td>260.0</td>\n      <td>201.077</td>\n    </tr>\n    <tr>\n      <th>5</th>\n      <td>アンジェ・ノワールの祭戯</td>\n      <td>None</td>\n      <td>False</td>\n      <td>False</td>\n      <td>[幻想庭園, 神々の黄昏]</td>\n      <td>幻想庭園</td>\n      <td>1988-01-25</td>\n      <td>NaN</td>\n      <td>r2005</td>\n      <td>[SA, OA]</td>\n      <td>...</td>\n      <td>81.0</td>\n      <td>96.0</td>\n      <td>150.0</td>\n      <td>106.0</td>\n      <td>156.0</td>\n      <td>244.0</td>\n      <td>187.0</td>\n      <td>63.0</td>\n      <td>106.0</td>\n      <td>125.615</td>\n    </tr>\n  </tbody>\n</table>\n<p>5 rows × 28 columns</p>\n</div>",
      "text/plain": "           title            ruby   inst  hall_of_fame  \\\nno                                                      \n1       桜の花は狂い咲き            None  False         False   \n2            青蛾月            None  False         False   \n3   マリーゴールド・ガーデン            None  False         False   \n4    鏡面界 im Juni  きょうめんかい・イン・ジュニ  False         False   \n5   アンジェ・ノワールの祭戯            None  False         False   \n\n                                             works  \\\nno                                                   \n1   [SOME GIRLS -REBEL STREEL IV, CLASSICS, 月光嗜好症]   \n2                                  [幻想庭園, étoiles]   \n3                         [幻想庭園, フラワーチャイルド, 神々の黄昏]   \n4                                           [幻想庭園]   \n5                                    [幻想庭園, 神々の黄昏]   \n\n                          debut       date  r2019u initial           kind  \\\nno                                                                          \n1   SOME GIRLS -REBEL STREEL IV 1997-04-25    64.0   r2005   [SA, OA, OT]   \n2                          幻想庭園 1988-01-25    22.0   r2005       [SA, OA]   \n3                          幻想庭園 1988-01-25   128.0   r2005  [SA, OA, S-2]   \n4                          幻想庭園 1988-01-25   150.0   r2005           [OA]   \n5                          幻想庭園 1988-01-25     NaN   r2005       [SA, OA]   \n\n    ...  r2011  r2012  r2013  r2014  r2015  r2016  r2017  r2018  r2019  \\\nno  ...                                                                  \n1   ...   96.0  123.0   68.0  169.0  165.0  100.0  134.0  164.0  123.0   \n2   ...   72.0   57.0   54.0   87.0   81.0   59.0  146.0  126.0   54.0   \n3   ...  175.0  141.0  218.0  141.0  238.0  190.0  155.0  164.0  216.0   \n4   ...  204.0  131.0  174.0  194.0  253.0  244.0  202.0  250.0  260.0   \n5   ...   81.0   96.0  150.0  106.0  156.0  244.0  187.0   63.0  106.0   \n\n    average_all  \nno               \n1       121.462  \n2        80.923  \n3       171.769  \n4       201.077  \n5       125.615  \n\n[5 rows x 28 columns]"
     },
     "execution_count": 226,
     "metadata": {},
     "output_type": "execute_result"
    }
   ],
   "source": [
    "# make main dataframe\n",
    "df = pandas.DataFrame(summary)\n",
    "df.index = df.no\n",
    "df['average_all'] = df.average\n",
    "df = df.drop(columns=['no', 'average'], axis=0)\n",
    "df.date = pandas.to_datetime(df.date)\n",
    "df.head()"
   ]
  },
  {
   "cell_type": "markdown",
   "metadata": {},
   "outputs": [],
   "source": [
    "#### works.json"
   ]
  },
  {
   "cell_type": "code",
   "execution_count": 227,
   "metadata": {},
   "outputs": [],
   "source": [
    "WORKS_PATH = './works.json'\n",
    "with open(WORKS_PATH, encoding='utf8') as works_file:\n",
    "    works = json.load(works_file)"
   ]
  },
  {
   "cell_type": "code",
   "execution_count": 228,
   "metadata": {},
   "outputs": [
    {
     "data": {
      "text/html": "<div>\n<style scoped>\n    .dataframe tbody tr th:only-of-type {\n        vertical-align: middle;\n    }\n\n    .dataframe tbody tr th {\n        vertical-align: top;\n    }\n\n    .dataframe thead th {\n        text-align: right;\n    }\n</style>\n<table border=\"1\" class=\"dataframe\">\n  <thead>\n    <tr style=\"text-align: right;\">\n      <th></th>\n      <th>title</th>\n      <th>kind</th>\n      <th>date</th>\n    </tr>\n  </thead>\n  <tbody>\n    <tr>\n      <th>0</th>\n      <td>SOME GIRLS -REBEL STREEL IV</td>\n      <td>OT</td>\n      <td>1997-04-25</td>\n    </tr>\n    <tr>\n      <th>1</th>\n      <td>幻想庭園</td>\n      <td>OA</td>\n      <td>1988-01-25</td>\n    </tr>\n    <tr>\n      <th>2</th>\n      <td>フラワーチャイルド</td>\n      <td>S</td>\n      <td>1988-07-25</td>\n    </tr>\n    <tr>\n      <th>3</th>\n      <td>恋せよ乙女 -Love story of ZIPANG-</td>\n      <td>S</td>\n      <td>1992-07-07</td>\n    </tr>\n    <tr>\n      <th>4</th>\n      <td>月下の一群</td>\n      <td>OA</td>\n      <td>1992-12-09</td>\n    </tr>\n  </tbody>\n</table>\n</div>",
      "text/plain": "                          title kind       date\n0   SOME GIRLS -REBEL STREEL IV   OT 1997-04-25\n1                          幻想庭園   OA 1988-01-25\n2                     フラワーチャイルド    S 1988-07-25\n3  恋せよ乙女 -Love story of ZIPANG-    S 1992-07-07\n4                         月下の一群   OA 1992-12-09"
     },
     "execution_count": 228,
     "metadata": {},
     "output_type": "execute_result"
    }
   ],
   "source": [
    "dfw = pandas.DataFrame(works)\n",
    "dfw.date = pandas.to_datetime(dfw.date)\n",
    "dfw.head()"
   ]
  },
  {
   "cell_type": "markdown",
   "metadata": {},
   "outputs": [],
   "source": [
    "#### info.json"
   ]
  },
  {
   "cell_type": "code",
   "execution_count": 229,
   "metadata": {},
   "outputs": [],
   "source": [
    "INFO_PATH = './json/info.json'\n",
    "with open(INFO_PATH, encoding='utf8') as info_file:\n",
    "    info = json.load(info_file)\n",
    "\n",
    "lowest = info['max']"
   ]
  },
  {
   "cell_type": "markdown",
   "metadata": {},
   "outputs": [],
   "source": [
    "* average  \n",
    "平均順位  \n",
    "注) データが揃っている2007年以降\n",
    "* average_exclude_debut  \n",
    "デビュー年以外の平均順位\n",
    "* highest  \n",
    "最高順位\n",
    "* highest_exclude_debut  \n",
    "デビュー年以外の最高順位\n",
    "* over30  \n",
    "30位を超えた回数\n",
    "* over50  \n",
    "50位を超えた回数\n",
    "* over100  \n",
    "100位を超えた回数\n",
    "* over200  \n",
    "200いを超えた回数\n",
    "* count_all  \n",
    "登場回数\n",
    "* count  \n",
    "データが揃っている登場回数"
   ]
  },
  {
   "cell_type": "code",
   "execution_count": 230,
   "metadata": {},
   "outputs": [
    {
     "data": {
      "text/html": "<div>\n<style scoped>\n    .dataframe tbody tr th:only-of-type {\n        vertical-align: middle;\n    }\n\n    .dataframe tbody tr th {\n        vertical-align: top;\n    }\n\n    .dataframe thead th {\n        text-align: right;\n    }\n</style>\n<table border=\"1\" class=\"dataframe\">\n  <thead>\n    <tr style=\"text-align: right;\">\n      <th></th>\n      <th>title</th>\n      <th>ruby</th>\n      <th>inst</th>\n      <th>hall_of_fame</th>\n      <th>works</th>\n      <th>debut</th>\n      <th>date</th>\n      <th>r2019u</th>\n      <th>initial</th>\n      <th>kind</th>\n      <th>...</th>\n      <th>highest</th>\n      <th>highest_exclude_debut</th>\n      <th>lowest</th>\n      <th>over30</th>\n      <th>over50</th>\n      <th>over100</th>\n      <th>over200</th>\n      <th>count_all</th>\n      <th>count</th>\n      <th>latest_work</th>\n    </tr>\n    <tr>\n      <th>no</th>\n      <th></th>\n      <th></th>\n      <th></th>\n      <th></th>\n      <th></th>\n      <th></th>\n      <th></th>\n      <th></th>\n      <th></th>\n      <th></th>\n      <th></th>\n      <th></th>\n      <th></th>\n      <th></th>\n      <th></th>\n      <th></th>\n      <th></th>\n      <th></th>\n      <th></th>\n      <th></th>\n      <th></th>\n    </tr>\n  </thead>\n  <tbody>\n    <tr>\n      <th>1</th>\n      <td>桜の花は狂い咲き</td>\n      <td>None</td>\n      <td>False</td>\n      <td>False</td>\n      <td>[SOME GIRLS -REBEL STREEL IV, CLASSICS, 月光嗜好症]</td>\n      <td>SOME GIRLS -REBEL STREEL IV</td>\n      <td>1997-04-25</td>\n      <td>64.0</td>\n      <td>r2005</td>\n      <td>[SA, OA, OT]</td>\n      <td>...</td>\n      <td>68.0</td>\n      <td>68.0</td>\n      <td>169.0</td>\n      <td>13</td>\n      <td>13</td>\n      <td>9</td>\n      <td>0</td>\n      <td>16</td>\n      <td>13</td>\n      <td>月光嗜好症</td>\n    </tr>\n    <tr>\n      <th>2</th>\n      <td>青蛾月</td>\n      <td>None</td>\n      <td>False</td>\n      <td>False</td>\n      <td>[幻想庭園, étoiles]</td>\n      <td>幻想庭園</td>\n      <td>1988-01-25</td>\n      <td>22.0</td>\n      <td>r2005</td>\n      <td>[SA, OA]</td>\n      <td>...</td>\n      <td>54.0</td>\n      <td>54.0</td>\n      <td>146.0</td>\n      <td>13</td>\n      <td>13</td>\n      <td>2</td>\n      <td>0</td>\n      <td>16</td>\n      <td>13</td>\n      <td>étoiles</td>\n    </tr>\n    <tr>\n      <th>3</th>\n      <td>マリーゴールド・ガーデン</td>\n      <td>None</td>\n      <td>False</td>\n      <td>False</td>\n      <td>[幻想庭園, フラワーチャイルド, 神々の黄昏]</td>\n      <td>幻想庭園</td>\n      <td>1988-01-25</td>\n      <td>128.0</td>\n      <td>r2005</td>\n      <td>[SA, OA, S-2]</td>\n      <td>...</td>\n      <td>141.0</td>\n      <td>141.0</td>\n      <td>238.0</td>\n      <td>13</td>\n      <td>13</td>\n      <td>13</td>\n      <td>3</td>\n      <td>16</td>\n      <td>13</td>\n      <td>神々の黄昏</td>\n    </tr>\n    <tr>\n      <th>4</th>\n      <td>鏡面界 im Juni</td>\n      <td>きょうめんかい・イン・ジュニ</td>\n      <td>False</td>\n      <td>False</td>\n      <td>[幻想庭園]</td>\n      <td>幻想庭園</td>\n      <td>1988-01-25</td>\n      <td>150.0</td>\n      <td>r2005</td>\n      <td>[OA]</td>\n      <td>...</td>\n      <td>131.0</td>\n      <td>131.0</td>\n      <td>260.0</td>\n      <td>13</td>\n      <td>13</td>\n      <td>13</td>\n      <td>6</td>\n      <td>16</td>\n      <td>13</td>\n      <td>幻想庭園</td>\n    </tr>\n    <tr>\n      <th>5</th>\n      <td>アンジェ・ノワールの祭戯</td>\n      <td>None</td>\n      <td>False</td>\n      <td>False</td>\n      <td>[幻想庭園, 神々の黄昏]</td>\n      <td>幻想庭園</td>\n      <td>1988-01-25</td>\n      <td>NaN</td>\n      <td>r2005</td>\n      <td>[SA, OA]</td>\n      <td>...</td>\n      <td>63.0</td>\n      <td>63.0</td>\n      <td>244.0</td>\n      <td>13</td>\n      <td>13</td>\n      <td>9</td>\n      <td>1</td>\n      <td>16</td>\n      <td>13</td>\n      <td>神々の黄昏</td>\n    </tr>\n  </tbody>\n</table>\n<p>5 rows × 40 columns</p>\n</div>",
      "text/plain": "           title            ruby   inst  hall_of_fame  \\\nno                                                      \n1       桜の花は狂い咲き            None  False         False   \n2            青蛾月            None  False         False   \n3   マリーゴールド・ガーデン            None  False         False   \n4    鏡面界 im Juni  きょうめんかい・イン・ジュニ  False         False   \n5   アンジェ・ノワールの祭戯            None  False         False   \n\n                                             works  \\\nno                                                   \n1   [SOME GIRLS -REBEL STREEL IV, CLASSICS, 月光嗜好症]   \n2                                  [幻想庭園, étoiles]   \n3                         [幻想庭園, フラワーチャイルド, 神々の黄昏]   \n4                                           [幻想庭園]   \n5                                    [幻想庭園, 神々の黄昏]   \n\n                          debut       date  r2019u initial           kind  \\\nno                                                                          \n1   SOME GIRLS -REBEL STREEL IV 1997-04-25    64.0   r2005   [SA, OA, OT]   \n2                          幻想庭園 1988-01-25    22.0   r2005       [SA, OA]   \n3                          幻想庭園 1988-01-25   128.0   r2005  [SA, OA, S-2]   \n4                          幻想庭園 1988-01-25   150.0   r2005           [OA]   \n5                          幻想庭園 1988-01-25     NaN   r2005       [SA, OA]   \n\n    ... highest  highest_exclude_debut  lowest  over30  over50  over100  \\\nno  ...                                                                   \n1   ...    68.0                   68.0   169.0      13      13        9   \n2   ...    54.0                   54.0   146.0      13      13        2   \n3   ...   141.0                  141.0   238.0      13      13       13   \n4   ...   131.0                  131.0   260.0      13      13       13   \n5   ...    63.0                   63.0   244.0      13      13        9   \n\n    over200  count_all  count  latest_work  \nno                                          \n1         0         16     13        月光嗜好症  \n2         0         16     13      étoiles  \n3         3         16     13        神々の黄昏  \n4         6         16     13         幻想庭園  \n5         1         16     13        神々の黄昏  \n\n[5 rows x 40 columns]"
     },
     "execution_count": 230,
     "metadata": {},
     "output_type": "execute_result"
    }
   ],
   "source": [
    "df = df.assign(**{key: 0. for key in ['average', 'average_exclude_debut', 'highest', 'highest_exclude_debut', 'lowest']}) \\\n",
    "       .assign(**{key: 0 for key in ['over30', 'over50', 'over100', 'over200', 'count_all', 'count']}) \\\n",
    "       .assign(latest_work=df.works.apply(lambda l: l[-1]))\n",
    "\n",
    "for no in df.index:\n",
    "    song = df.loc[no]\n",
    "    to_mean = list(filter(lambda y: year_filter(y, song.initial, RANK), RANK))\n",
    "    to_mean_exclude_debut = list(filter(lambda y: year_filter(y, song.initial, RANK, 'gt'), RANK))\n",
    "    df.average.at[no] = song[to_mean].mean()\n",
    "    df.average_exclude_debut.at[no] = song[to_mean_exclude_debut].mean()\n",
    "    df.highest_exclude_debut.at[no] = song[to_mean_exclude_debut].min()\n",
    "    to_mean_all = list(filter(lambda y: year_filter(y, song.initial, RANK_ALL), RANK_ALL))\n",
    "    df.highest.at[no] = song[to_mean_all].min()\n",
    "    df.lowest.at[no] = song[to_mean_all].max()\n",
    "    df.over30.at[no] = len(list(filter(lambda s: s > 30, song[to_mean_all].values)))\n",
    "    df.over50.at[no] = len(list(filter(lambda s: s > 50, song[to_mean_all].values)))\n",
    "    df.over100.at[no] = len(list(filter(lambda s: s > 100, song[to_mean_all].values)))\n",
    "    df.over200.at[no] = len(list(filter(lambda s: s > 200, song[to_mean_all].values)))\n",
    "    df.count_all.at[no] = len(to_mean_all)\n",
    "    df.at[no, 'count'] = len(to_mean)\n",
    "    # latest work\n",
    "\n",
    "\n",
    "df.head()\n",
    "# df.iloc[145]"
   ]
  },
  {
   "cell_type": "markdown",
   "metadata": {},
   "outputs": [],
   "source": [
    "## Hall of Fame"
   ]
  },
  {
   "cell_type": "code",
   "execution_count": 231,
   "metadata": {},
   "outputs": [
    {
     "data": {
      "text/html": "<div>\n<style scoped>\n    .dataframe tbody tr th:only-of-type {\n        vertical-align: middle;\n    }\n\n    .dataframe tbody tr th {\n        vertical-align: top;\n    }\n\n    .dataframe thead th {\n        text-align: right;\n    }\n</style>\n<table border=\"1\" class=\"dataframe\">\n  <thead>\n    <tr style=\"text-align: right;\">\n      <th></th>\n      <th>title</th>\n      <th>r2005</th>\n      <th>r2006#1</th>\n      <th>r2006#2</th>\n      <th>r2007</th>\n      <th>r2008</th>\n      <th>r2009</th>\n      <th>r2010</th>\n      <th>r2011</th>\n      <th>r2012</th>\n      <th>r2013</th>\n      <th>r2014</th>\n      <th>r2015</th>\n      <th>r2016</th>\n      <th>r2017</th>\n      <th>r2018</th>\n      <th>r2019</th>\n    </tr>\n    <tr>\n      <th>no</th>\n      <th></th>\n      <th></th>\n      <th></th>\n      <th></th>\n      <th></th>\n      <th></th>\n      <th></th>\n      <th></th>\n      <th></th>\n      <th></th>\n      <th></th>\n      <th></th>\n      <th></th>\n      <th></th>\n      <th></th>\n      <th></th>\n      <th></th>\n    </tr>\n  </thead>\n  <tbody>\n    <tr>\n      <th>125</th>\n      <td>愛と誠</td>\n      <td>4.0</td>\n      <td>5.0</td>\n      <td>8.0</td>\n      <td>5.0</td>\n      <td>6.0</td>\n      <td>4.0</td>\n      <td>2.0</td>\n      <td>1.0</td>\n      <td>1.0</td>\n      <td>1.0</td>\n      <td>NaN</td>\n      <td>NaN</td>\n      <td>NaN</td>\n      <td>NaN</td>\n      <td>NaN</td>\n      <td>NaN</td>\n    </tr>\n    <tr>\n      <th>143</th>\n      <td>亡國覚醒カタルシス</td>\n      <td>NaN</td>\n      <td>NaN</td>\n      <td>3.0</td>\n      <td>2.0</td>\n      <td>1.0</td>\n      <td>1.0</td>\n      <td>1.0</td>\n      <td>NaN</td>\n      <td>NaN</td>\n      <td>NaN</td>\n      <td>NaN</td>\n      <td>NaN</td>\n      <td>NaN</td>\n      <td>NaN</td>\n      <td>NaN</td>\n      <td>NaN</td>\n    </tr>\n    <tr>\n      <th>279</th>\n      <td>リュウコウセカイ</td>\n      <td>NaN</td>\n      <td>NaN</td>\n      <td>NaN</td>\n      <td>NaN</td>\n      <td>NaN</td>\n      <td>NaN</td>\n      <td>NaN</td>\n      <td>NaN</td>\n      <td>NaN</td>\n      <td>NaN</td>\n      <td>1.0</td>\n      <td>1.0</td>\n      <td>1.0</td>\n      <td>NaN</td>\n      <td>NaN</td>\n      <td>NaN</td>\n    </tr>\n  </tbody>\n</table>\n</div>",
      "text/plain": "         title  r2005  r2006#1  r2006#2  r2007  r2008  r2009  r2010  r2011  \\\nno                                                                           \n125        愛と誠    4.0      5.0      8.0    5.0    6.0    4.0    2.0    1.0   \n143  亡國覚醒カタルシス    NaN      NaN      3.0    2.0    1.0    1.0    1.0    NaN   \n279   リュウコウセカイ    NaN      NaN      NaN    NaN    NaN    NaN    NaN    NaN   \n\n     r2012  r2013  r2014  r2015  r2016  r2017  r2018  r2019  \nno                                                           \n125    1.0    1.0    NaN    NaN    NaN    NaN    NaN    NaN  \n143    NaN    NaN    NaN    NaN    NaN    NaN    NaN    NaN  \n279    NaN    NaN    1.0    1.0    1.0    NaN    NaN    NaN  "
     },
     "execution_count": 231,
     "metadata": {},
     "output_type": "execute_result"
    }
   ],
   "source": [
    "df.query('hall_of_fame')[['title', *RANK_ALL]]"
   ]
  },
  {
   "cell_type": "code",
   "execution_count": 232,
   "metadata": {},
   "outputs": [
    {
     "data": {
      "text/html": "<div>\n<style scoped>\n    .dataframe tbody tr th:only-of-type {\n        vertical-align: middle;\n    }\n\n    .dataframe tbody tr th {\n        vertical-align: top;\n    }\n\n    .dataframe thead th {\n        text-align: right;\n    }\n</style>\n<table border=\"1\" class=\"dataframe\">\n  <thead>\n    <tr style=\"text-align: right;\">\n      <th></th>\n      <th>title</th>\n      <th>date</th>\n      <th>r2005</th>\n      <th>r2006#1</th>\n      <th>r2006#2</th>\n      <th>r2007</th>\n      <th>r2008</th>\n      <th>r2009</th>\n      <th>r2010</th>\n      <th>r2011</th>\n      <th>r2012</th>\n      <th>r2013</th>\n      <th>r2014</th>\n      <th>r2015</th>\n      <th>r2016</th>\n      <th>r2017</th>\n      <th>r2018</th>\n      <th>r2019</th>\n      <th>count</th>\n    </tr>\n    <tr>\n      <th>no</th>\n      <th></th>\n      <th></th>\n      <th></th>\n      <th></th>\n      <th></th>\n      <th></th>\n      <th></th>\n      <th></th>\n      <th></th>\n      <th></th>\n      <th></th>\n      <th></th>\n      <th></th>\n      <th></th>\n      <th></th>\n      <th></th>\n      <th></th>\n      <th></th>\n      <th></th>\n    </tr>\n  </thead>\n  <tbody>\n    <tr>\n      <th>99</th>\n      <td>戦争と平和</td>\n      <td>2002-07-24</td>\n      <td>1.0</td>\n      <td>1.0</td>\n      <td>10.0</td>\n      <td>10.0</td>\n      <td>7.0</td>\n      <td>11.0</td>\n      <td>12.0</td>\n      <td>12.0</td>\n      <td>7.0</td>\n      <td>12.0</td>\n      <td>14.0</td>\n      <td>25.0</td>\n      <td>16.0</td>\n      <td>15.0</td>\n      <td>45.0</td>\n      <td>37.0</td>\n      <td>2</td>\n    </tr>\n    <tr>\n      <th>132</th>\n      <td>北京LOVERS</td>\n      <td>2005-06-22</td>\n      <td>NaN</td>\n      <td>11.0</td>\n      <td>18.0</td>\n      <td>16.0</td>\n      <td>24.0</td>\n      <td>17.0</td>\n      <td>20.0</td>\n      <td>11.0</td>\n      <td>11.0</td>\n      <td>9.0</td>\n      <td>6.0</td>\n      <td>8.0</td>\n      <td>11.0</td>\n      <td>1.0</td>\n      <td>13.0</td>\n      <td>7.0</td>\n      <td>1</td>\n    </tr>\n    <tr>\n      <th>135</th>\n      <td>聖少女領域</td>\n      <td>2005-10-26</td>\n      <td>NaN</td>\n      <td>4.0</td>\n      <td>4.0</td>\n      <td>1.0</td>\n      <td>2.0</td>\n      <td>7.0</td>\n      <td>6.0</td>\n      <td>3.0</td>\n      <td>5.0</td>\n      <td>2.0</td>\n      <td>3.0</td>\n      <td>3.0</td>\n      <td>3.0</td>\n      <td>10.0</td>\n      <td>2.0</td>\n      <td>4.0</td>\n      <td>1</td>\n    </tr>\n    <tr>\n      <th>152</th>\n      <td>勇侠青春謳</td>\n      <td>2006-10-25</td>\n      <td>NaN</td>\n      <td>NaN</td>\n      <td>1.0</td>\n      <td>3.0</td>\n      <td>4.0</td>\n      <td>10.0</td>\n      <td>8.0</td>\n      <td>7.0</td>\n      <td>28.0</td>\n      <td>20.0</td>\n      <td>24.0</td>\n      <td>24.0</td>\n      <td>24.0</td>\n      <td>18.0</td>\n      <td>39.0</td>\n      <td>12.0</td>\n      <td>1</td>\n    </tr>\n    <tr>\n      <th>326</th>\n      <td>芸術変態論</td>\n      <td>2018-07-25</td>\n      <td>NaN</td>\n      <td>NaN</td>\n      <td>NaN</td>\n      <td>NaN</td>\n      <td>NaN</td>\n      <td>NaN</td>\n      <td>NaN</td>\n      <td>NaN</td>\n      <td>NaN</td>\n      <td>NaN</td>\n      <td>NaN</td>\n      <td>NaN</td>\n      <td>NaN</td>\n      <td>NaN</td>\n      <td>1.0</td>\n      <td>6.0</td>\n      <td>1</td>\n    </tr>\n  </tbody>\n</table>\n</div>",
      "text/plain": "        title       date  r2005  r2006#1  r2006#2  r2007  r2008  r2009  r2010  \\\nno                                                                              \n99      戦争と平和 2002-07-24    1.0      1.0     10.0   10.0    7.0   11.0   12.0   \n132  北京LOVERS 2005-06-22    NaN     11.0     18.0   16.0   24.0   17.0   20.0   \n135     聖少女領域 2005-10-26    NaN      4.0      4.0    1.0    2.0    7.0    6.0   \n152     勇侠青春謳 2006-10-25    NaN      NaN      1.0    3.0    4.0   10.0    8.0   \n326     芸術変態論 2018-07-25    NaN      NaN      NaN    NaN    NaN    NaN    NaN   \n\n     r2011  r2012  r2013  r2014  r2015  r2016  r2017  r2018  r2019  count  \nno                                                                         \n99    12.0    7.0   12.0   14.0   25.0   16.0   15.0   45.0   37.0      2  \n132   11.0   11.0    9.0    6.0    8.0   11.0    1.0   13.0    7.0      1  \n135    3.0    5.0    2.0    3.0    3.0    3.0   10.0    2.0    4.0      1  \n152    7.0   28.0   20.0   24.0   24.0   24.0   18.0   39.0   12.0      1  \n326    NaN    NaN    NaN    NaN    NaN    NaN    NaN    1.0    6.0      1  "
     },
     "execution_count": 232,
     "metadata": {},
     "output_type": "execute_result"
    }
   ],
   "source": [
    "almost = df.query('highest == 1 & ~hall_of_fame & initial != @RECENT')[['title', 'date', *RANK_ALL]]\n",
    "almost = almost.assign(count=(almost == 1).sum(1))\n",
    "almost"
   ]
  },
  {
   "cell_type": "code",
   "execution_count": 233,
   "metadata": {},
   "outputs": [
    {
     "name": "stdout",
     "output_type": "stream",
     "text": "曲名|発表年|回数|獲得\n---|---:|---:|---\n戦争と平和|2002|2|\n北京LOVERS|2005|1|\n聖少女領域|2005|1|\n勇侠青春謳|2006|1|\n芸術変態論|2018|1|\n"
    }
   ],
   "source": [
    "print('曲名|発表年|回数|獲得')\n",
    "print('---|---:|---:|---')\n",
    "for no in almost.index:\n",
    "    print(f'{almost.title.at[no]}|{almost.date.at[no].year}|{almost.at[no, \"count\"]}|')"
   ]
  },
  {
   "cell_type": "markdown",
   "metadata": {},
   "outputs": [],
   "source": [
    "# MAIN ranking"
   ]
  },
  {
   "cell_type": "code",
   "execution_count": 234,
   "metadata": {},
   "outputs": [
    {
     "data": {
      "text/html": "<div>\n<style scoped>\n    .dataframe tbody tr th:only-of-type {\n        vertical-align: middle;\n    }\n\n    .dataframe tbody tr th {\n        vertical-align: top;\n    }\n\n    .dataframe thead th {\n        text-align: right;\n    }\n</style>\n<table border=\"1\" class=\"dataframe\">\n  <thead>\n    <tr style=\"text-align: right;\">\n      <th></th>\n      <th>title</th>\n      <th>ruby</th>\n      <th>inst</th>\n      <th>hall_of_fame</th>\n      <th>works</th>\n      <th>debut</th>\n      <th>date</th>\n      <th>r2019u</th>\n      <th>initial</th>\n      <th>kind</th>\n      <th>...</th>\n      <th>over50</th>\n      <th>over100</th>\n      <th>over200</th>\n      <th>count_all</th>\n      <th>count</th>\n      <th>latest_work</th>\n      <th>rank_average</th>\n      <th>rank_average_exclude_debut</th>\n      <th>rank_highest</th>\n      <th>rank_highest_exclude_debut</th>\n    </tr>\n    <tr>\n      <th>no</th>\n      <th></th>\n      <th></th>\n      <th></th>\n      <th></th>\n      <th></th>\n      <th></th>\n      <th></th>\n      <th></th>\n      <th></th>\n      <th></th>\n      <th></th>\n      <th></th>\n      <th></th>\n      <th></th>\n      <th></th>\n      <th></th>\n      <th></th>\n      <th></th>\n      <th></th>\n      <th></th>\n      <th></th>\n    </tr>\n  </thead>\n  <tbody>\n    <tr>\n      <th>1</th>\n      <td>桜の花は狂い咲き</td>\n      <td>None</td>\n      <td>False</td>\n      <td>False</td>\n      <td>[SOME GIRLS -REBEL STREEL IV, CLASSICS, 月光嗜好症]</td>\n      <td>SOME GIRLS -REBEL STREEL IV</td>\n      <td>1997-04-25</td>\n      <td>64.0</td>\n      <td>r2005</td>\n      <td>[SA, OA, OT]</td>\n      <td>...</td>\n      <td>13</td>\n      <td>9</td>\n      <td>0</td>\n      <td>16</td>\n      <td>13</td>\n      <td>月光嗜好症</td>\n      <td>155.0</td>\n      <td>133.0</td>\n      <td>193.0</td>\n      <td>148.0</td>\n    </tr>\n    <tr>\n      <th>2</th>\n      <td>青蛾月</td>\n      <td>None</td>\n      <td>False</td>\n      <td>False</td>\n      <td>[幻想庭園, étoiles]</td>\n      <td>幻想庭園</td>\n      <td>1988-01-25</td>\n      <td>22.0</td>\n      <td>r2005</td>\n      <td>[SA, OA]</td>\n      <td>...</td>\n      <td>13</td>\n      <td>2</td>\n      <td>0</td>\n      <td>16</td>\n      <td>13</td>\n      <td>étoiles</td>\n      <td>98.0</td>\n      <td>77.0</td>\n      <td>168.0</td>\n      <td>120.0</td>\n    </tr>\n    <tr>\n      <th>3</th>\n      <td>マリーゴールド・ガーデン</td>\n      <td>None</td>\n      <td>False</td>\n      <td>False</td>\n      <td>[幻想庭園, フラワーチャイルド, 神々の黄昏]</td>\n      <td>幻想庭園</td>\n      <td>1988-01-25</td>\n      <td>128.0</td>\n      <td>r2005</td>\n      <td>[SA, OA, S-2]</td>\n      <td>...</td>\n      <td>13</td>\n      <td>13</td>\n      <td>3</td>\n      <td>16</td>\n      <td>13</td>\n      <td>神々の黄昏</td>\n      <td>226.0</td>\n      <td>210.0</td>\n      <td>283.0</td>\n      <td>254.0</td>\n    </tr>\n    <tr>\n      <th>4</th>\n      <td>鏡面界 im Juni</td>\n      <td>きょうめんかい・イン・ジュニ</td>\n      <td>False</td>\n      <td>False</td>\n      <td>[幻想庭園]</td>\n      <td>幻想庭園</td>\n      <td>1988-01-25</td>\n      <td>150.0</td>\n      <td>r2005</td>\n      <td>[OA]</td>\n      <td>...</td>\n      <td>13</td>\n      <td>13</td>\n      <td>6</td>\n      <td>16</td>\n      <td>13</td>\n      <td>幻想庭園</td>\n      <td>276.0</td>\n      <td>252.0</td>\n      <td>269.0</td>\n      <td>242.0</td>\n    </tr>\n    <tr>\n      <th>5</th>\n      <td>アンジェ・ノワールの祭戯</td>\n      <td>None</td>\n      <td>False</td>\n      <td>False</td>\n      <td>[幻想庭園, 神々の黄昏]</td>\n      <td>幻想庭園</td>\n      <td>1988-01-25</td>\n      <td>NaN</td>\n      <td>r2005</td>\n      <td>[SA, OA]</td>\n      <td>...</td>\n      <td>13</td>\n      <td>9</td>\n      <td>1</td>\n      <td>16</td>\n      <td>13</td>\n      <td>神々の黄昏</td>\n      <td>163.0</td>\n      <td>140.0</td>\n      <td>183.0</td>\n      <td>137.0</td>\n    </tr>\n  </tbody>\n</table>\n<p>5 rows × 44 columns</p>\n</div>",
      "text/plain": "           title            ruby   inst  hall_of_fame  \\\nno                                                      \n1       桜の花は狂い咲き            None  False         False   \n2            青蛾月            None  False         False   \n3   マリーゴールド・ガーデン            None  False         False   \n4    鏡面界 im Juni  きょうめんかい・イン・ジュニ  False         False   \n5   アンジェ・ノワールの祭戯            None  False         False   \n\n                                             works  \\\nno                                                   \n1   [SOME GIRLS -REBEL STREEL IV, CLASSICS, 月光嗜好症]   \n2                                  [幻想庭園, étoiles]   \n3                         [幻想庭園, フラワーチャイルド, 神々の黄昏]   \n4                                           [幻想庭園]   \n5                                    [幻想庭園, 神々の黄昏]   \n\n                          debut       date  r2019u initial           kind  \\\nno                                                                          \n1   SOME GIRLS -REBEL STREEL IV 1997-04-25    64.0   r2005   [SA, OA, OT]   \n2                          幻想庭園 1988-01-25    22.0   r2005       [SA, OA]   \n3                          幻想庭園 1988-01-25   128.0   r2005  [SA, OA, S-2]   \n4                          幻想庭園 1988-01-25   150.0   r2005           [OA]   \n5                          幻想庭園 1988-01-25     NaN   r2005       [SA, OA]   \n\n    ... over50  over100  over200  count_all  count  latest_work  rank_average  \\\nno  ...                                                                         \n1   ...     13        9        0         16     13        月光嗜好症         155.0   \n2   ...     13        2        0         16     13      étoiles          98.0   \n3   ...     13       13        3         16     13        神々の黄昏         226.0   \n4   ...     13       13        6         16     13         幻想庭園         276.0   \n5   ...     13        9        1         16     13        神々の黄昏         163.0   \n\n    rank_average_exclude_debut  rank_highest  rank_highest_exclude_debut  \nno                                                                        \n1                        133.0         193.0                       148.0  \n2                         77.0         168.0                       120.0  \n3                        210.0         283.0                       254.0  \n4                        252.0         269.0                       242.0  \n5                        140.0         183.0                       137.0  \n\n[5 rows x 44 columns]"
     },
     "execution_count": 234,
     "metadata": {},
     "output_type": "execute_result"
    }
   ],
   "source": [
    "# target: exclude hall of fame and instrumentals\n",
    "target = df.query('~hall_of_fame & ~inst').loc[:]\n",
    "target = target.assign(**{\n",
    "    'rank_average': target.average.rank(method='min', na_option='bottom'),\n",
    "    'rank_average_exclude_debut': target.average_exclude_debut.rank(method='min', na_option='bottom'),\n",
    "    'rank_highest': target.highest.rank(method='min', na_option='bottom'),\n",
    "    'rank_highest_exclude_debut': target.highest_exclude_debut.rank(method='min', na_option='bottom')\n",
    "})\n",
    "\n",
    "target_rank = target[RANK]\n",
    "target_rank_all = target[RANK_ALL]\n",
    "target_recent = target[RECENT]\n",
    "target.head()"
   ]
  },
  {
   "cell_type": "code",
   "execution_count": 235,
   "metadata": {},
   "outputs": [
    {
     "data": {
      "text/html": "<div>\n<style scoped>\n    .dataframe tbody tr th:only-of-type {\n        vertical-align: middle;\n    }\n\n    .dataframe tbody tr th {\n        vertical-align: top;\n    }\n\n    .dataframe thead th {\n        text-align: right;\n    }\n</style>\n<table border=\"1\" class=\"dataframe\">\n  <thead>\n    <tr style=\"text-align: right;\">\n      <th></th>\n      <th>title</th>\n      <th>kind</th>\n      <th>date</th>\n      <th>r2005_highest</th>\n      <th>r2006#1_highest</th>\n      <th>r2006#2_highest</th>\n      <th>r2007_average</th>\n      <th>r2007_highest</th>\n      <th>r2008_average</th>\n      <th>r2008_highest</th>\n      <th>...</th>\n      <th>r2015_average</th>\n      <th>r2015_highest</th>\n      <th>r2016_average</th>\n      <th>r2016_highest</th>\n      <th>r2017_average</th>\n      <th>r2017_highest</th>\n      <th>r2018_average</th>\n      <th>r2018_highest</th>\n      <th>r2019_average</th>\n      <th>r2019_highest</th>\n    </tr>\n  </thead>\n  <tbody>\n    <tr>\n      <th>0</th>\n      <td>SOME GIRLS -REBEL STREEL IV</td>\n      <td>OT</td>\n      <td>1997-04-25</td>\n      <td>NaN</td>\n      <td>NaN</td>\n      <td>NaN</td>\n      <td>86.000000</td>\n      <td>86.0</td>\n      <td>126.000000</td>\n      <td>126.0</td>\n      <td>...</td>\n      <td>165.0</td>\n      <td>165.0</td>\n      <td>100.0</td>\n      <td>100.0</td>\n      <td>134.0</td>\n      <td>134.0</td>\n      <td>164.0</td>\n      <td>164.0</td>\n      <td>123.0</td>\n      <td>123.0</td>\n    </tr>\n    <tr>\n      <th>1</th>\n      <td>幻想庭園</td>\n      <td>OA</td>\n      <td>1988-01-25</td>\n      <td>NaN</td>\n      <td>NaN</td>\n      <td>NaN</td>\n      <td>146.090909</td>\n      <td>84.0</td>\n      <td>150.181818</td>\n      <td>77.0</td>\n      <td>...</td>\n      <td>178.2</td>\n      <td>81.0</td>\n      <td>184.6</td>\n      <td>59.0</td>\n      <td>182.9</td>\n      <td>130.0</td>\n      <td>157.4</td>\n      <td>56.0</td>\n      <td>185.7</td>\n      <td>54.0</td>\n    </tr>\n    <tr>\n      <th>2</th>\n      <td>フラワーチャイルド</td>\n      <td>S</td>\n      <td>1988-07-25</td>\n      <td>NaN</td>\n      <td>NaN</td>\n      <td>NaN</td>\n      <td>164.000000</td>\n      <td>141.0</td>\n      <td>179.500000</td>\n      <td>162.0</td>\n      <td>...</td>\n      <td>245.5</td>\n      <td>238.0</td>\n      <td>217.0</td>\n      <td>190.0</td>\n      <td>196.0</td>\n      <td>155.0</td>\n      <td>160.0</td>\n      <td>156.0</td>\n      <td>238.0</td>\n      <td>216.0</td>\n    </tr>\n    <tr>\n      <th>3</th>\n      <td>恋せよ乙女 -Love story of ZIPANG-</td>\n      <td>S</td>\n      <td>1992-07-07</td>\n      <td>13.0</td>\n      <td>13.0</td>\n      <td>NaN</td>\n      <td>37.000000</td>\n      <td>36.0</td>\n      <td>48.500000</td>\n      <td>48.0</td>\n      <td>...</td>\n      <td>62.0</td>\n      <td>31.0</td>\n      <td>138.5</td>\n      <td>52.0</td>\n      <td>66.5</td>\n      <td>20.0</td>\n      <td>41.0</td>\n      <td>24.0</td>\n      <td>88.0</td>\n      <td>44.0</td>\n    </tr>\n    <tr>\n      <th>4</th>\n      <td>月下の一群</td>\n      <td>OA</td>\n      <td>1992-12-09</td>\n      <td>19.0</td>\n      <td>13.0</td>\n      <td>NaN</td>\n      <td>104.000000</td>\n      <td>36.0</td>\n      <td>111.300000</td>\n      <td>48.0</td>\n      <td>...</td>\n      <td>166.6</td>\n      <td>34.0</td>\n      <td>187.1</td>\n      <td>104.0</td>\n      <td>162.8</td>\n      <td>54.0</td>\n      <td>177.7</td>\n      <td>43.0</td>\n      <td>150.1</td>\n      <td>52.0</td>\n    </tr>\n  </tbody>\n</table>\n<p>5 rows × 32 columns</p>\n</div>",
      "text/plain": "                          title kind       date  r2005_highest  \\\n0   SOME GIRLS -REBEL STREEL IV   OT 1997-04-25            NaN   \n1                          幻想庭園   OA 1988-01-25            NaN   \n2                     フラワーチャイルド    S 1988-07-25            NaN   \n3  恋せよ乙女 -Love story of ZIPANG-    S 1992-07-07           13.0   \n4                         月下の一群   OA 1992-12-09           19.0   \n\n   r2006#1_highest  r2006#2_highest  r2007_average  r2007_highest  \\\n0              NaN              NaN      86.000000           86.0   \n1              NaN              NaN     146.090909           84.0   \n2              NaN              NaN     164.000000          141.0   \n3             13.0              NaN      37.000000           36.0   \n4             13.0              NaN     104.000000           36.0   \n\n   r2008_average  r2008_highest  ...  r2015_average  r2015_highest  \\\n0     126.000000          126.0  ...          165.0          165.0   \n1     150.181818           77.0  ...          178.2           81.0   \n2     179.500000          162.0  ...          245.5          238.0   \n3      48.500000           48.0  ...           62.0           31.0   \n4     111.300000           48.0  ...          166.6           34.0   \n\n   r2016_average  r2016_highest  r2017_average  r2017_highest  r2018_average  \\\n0          100.0          100.0          134.0          134.0          164.0   \n1          184.6           59.0          182.9          130.0          157.4   \n2          217.0          190.0          196.0          155.0          160.0   \n3          138.5           52.0           66.5           20.0           41.0   \n4          187.1          104.0          162.8           54.0          177.7   \n\n   r2018_highest  r2019_average  r2019_highest  \n0          164.0          123.0          123.0  \n1           56.0          185.7           54.0  \n2          156.0          238.0          216.0  \n3           24.0           88.0           44.0  \n4           43.0          150.1           52.0  \n\n[5 rows x 32 columns]"
     },
     "execution_count": 235,
     "metadata": {},
     "output_type": "execute_result"
    }
   ],
   "source": [
    "# dfw: works\n",
    "for y in RANK_ALL:\n",
    "    if y in RANK:\n",
    "        dfw[f'{y}_average'] = 0.\n",
    "    dfw[f'{y}_highest'] = 0.\n",
    "\n",
    "for idx in dfw.index:\n",
    "    df_tmp = df[df.works.apply(lambda ws: dfw.at[idx, 'title'] in ws)][RANK_ALL]\n",
    "    mean = df_tmp.mean()\n",
    "    for i in mean.index:\n",
    "        if i not in RANK:\n",
    "            continue\n",
    "        dfw.at[idx, f'{i}_average'] = mean.at[i]\n",
    "    high = df_tmp.min()\n",
    "    for i in high.index:\n",
    "        dfw.at[idx, f'{i}_highest'] = high.at[i]\n",
    "\n",
    "dfw.head()"
   ]
  },
  {
   "cell_type": "markdown",
   "metadata": {},
   "outputs": [],
   "source": [
    "## recent"
   ]
  },
  {
   "cell_type": "code",
   "execution_count": 236,
   "metadata": {},
   "outputs": [
    {
     "data": {
      "text/html": "<div>\n<style scoped>\n    .dataframe tbody tr th:only-of-type {\n        vertical-align: middle;\n    }\n\n    .dataframe tbody tr th {\n        vertical-align: top;\n    }\n\n    .dataframe thead th {\n        text-align: right;\n    }\n</style>\n<table border=\"1\" class=\"dataframe\">\n  <thead>\n    <tr style=\"text-align: right;\">\n      <th></th>\n      <th>title</th>\n      <th>works</th>\n      <th>debut</th>\n      <th>date</th>\n      <th>initial</th>\n      <th>kind</th>\n      <th>r2019</th>\n      <th>average_all</th>\n      <th>average</th>\n      <th>average_exclude_debut</th>\n      <th>highest</th>\n      <th>highest_exclude_debut</th>\n      <th>over30</th>\n      <th>over50</th>\n      <th>over100</th>\n      <th>over200</th>\n      <th>count_all</th>\n      <th>count</th>\n    </tr>\n    <tr>\n      <th>no</th>\n      <th></th>\n      <th></th>\n      <th></th>\n      <th></th>\n      <th></th>\n      <th></th>\n      <th></th>\n      <th></th>\n      <th></th>\n      <th></th>\n      <th></th>\n      <th></th>\n      <th></th>\n      <th></th>\n      <th></th>\n      <th></th>\n      <th></th>\n      <th></th>\n    </tr>\n  </thead>\n  <tbody>\n    <tr>\n      <th>338</th>\n      <td>BArADiPArADicA</td>\n      <td>[Fantasia]</td>\n      <td>Fantasia</td>\n      <td>2019-08-28</td>\n      <td>r2019</td>\n      <td>[OA]</td>\n      <td>1</td>\n      <td>1.000</td>\n      <td>1.000000</td>\n      <td>NaN</td>\n      <td>1.0</td>\n      <td>NaN</td>\n      <td>0</td>\n      <td>0</td>\n      <td>0</td>\n      <td>0</td>\n      <td>1</td>\n      <td>1</td>\n    </tr>\n    <tr>\n      <th>343</th>\n      <td>自由戀愛</td>\n      <td>[Fantasia]</td>\n      <td>Fantasia</td>\n      <td>2019-08-28</td>\n      <td>r2019</td>\n      <td>[OA]</td>\n      <td>2</td>\n      <td>2.000</td>\n      <td>2.000000</td>\n      <td>NaN</td>\n      <td>2.0</td>\n      <td>NaN</td>\n      <td>0</td>\n      <td>0</td>\n      <td>0</td>\n      <td>0</td>\n      <td>1</td>\n      <td>1</td>\n    </tr>\n    <tr>\n      <th>282</th>\n      <td>Lolicate</td>\n      <td>[流行世界, 血と蜜 ～Anthology of Gothic Lolita＆Horror]</td>\n      <td>流行世界</td>\n      <td>2014-08-27</td>\n      <td>r2014</td>\n      <td>[OA, CA]</td>\n      <td>3</td>\n      <td>6.833</td>\n      <td>6.833333</td>\n      <td>7.800000</td>\n      <td>2.0</td>\n      <td>3.0</td>\n      <td>0</td>\n      <td>0</td>\n      <td>0</td>\n      <td>0</td>\n      <td>6</td>\n      <td>6</td>\n    </tr>\n    <tr>\n      <th>135</th>\n      <td>聖少女領域</td>\n      <td>[聖少女領域, ローゼンメイデン・トロイメント オリジナルサウンドトラック, ローゼンメイデ...</td>\n      <td>聖少女領域</td>\n      <td>2005-10-26</td>\n      <td>r2006#1</td>\n      <td>[S-1, OT, ST, CA]</td>\n      <td>4</td>\n      <td>3.933</td>\n      <td>3.923077</td>\n      <td>3.923077</td>\n      <td>1.0</td>\n      <td>1.0</td>\n      <td>0</td>\n      <td>0</td>\n      <td>0</td>\n      <td>0</td>\n      <td>15</td>\n      <td>13</td>\n    </tr>\n    <tr>\n      <th>107</th>\n      <td>月蝕グランギニョル</td>\n      <td>[月蝕グランギニョル, Avenger O.S.T., COLLECTION SIMPLE ...</td>\n      <td>月蝕グランギニョル</td>\n      <td>2003-11-05</td>\n      <td>r2005</td>\n      <td>[S-1, SA, ST, CA]</td>\n      <td>5</td>\n      <td>4.750</td>\n      <td>4.846154</td>\n      <td>4.846154</td>\n      <td>2.0</td>\n      <td>2.0</td>\n      <td>0</td>\n      <td>0</td>\n      <td>0</td>\n      <td>0</td>\n      <td>16</td>\n      <td>13</td>\n    </tr>\n  </tbody>\n</table>\n</div>",
      "text/plain": "              title                                              works  \\\nno                                                                       \n338  BArADiPArADicA                                         [Fantasia]   \n343            自由戀愛                                         [Fantasia]   \n282        Lolicate     [流行世界, 血と蜜 ～Anthology of Gothic Lolita＆Horror]   \n135           聖少女領域  [聖少女領域, ローゼンメイデン・トロイメント オリジナルサウンドトラック, ローゼンメイデ...   \n107       月蝕グランギニョル  [月蝕グランギニョル, Avenger O.S.T., COLLECTION SIMPLE ...   \n\n         debut       date  initial               kind  r2019 average_all  \\\nno                                                                         \n338   Fantasia 2019-08-28    r2019               [OA]      1       1.000   \n343   Fantasia 2019-08-28    r2019               [OA]      2       2.000   \n282       流行世界 2014-08-27    r2014           [OA, CA]      3       6.833   \n135      聖少女領域 2005-10-26  r2006#1  [S-1, OT, ST, CA]      4       3.933   \n107  月蝕グランギニョル 2003-11-05    r2005  [S-1, SA, ST, CA]      5       4.750   \n\n      average  average_exclude_debut  highest  highest_exclude_debut  over30  \\\nno                                                                             \n338  1.000000                    NaN      1.0                    NaN       0   \n343  2.000000                    NaN      2.0                    NaN       0   \n282  6.833333               7.800000      2.0                    3.0       0   \n135  3.923077               3.923077      1.0                    1.0       0   \n107  4.846154               4.846154      2.0                    2.0       0   \n\n     over50  over100  over200  count_all  count  \nno                                               \n338       0        0        0          1      1  \n343       0        0        0          1      1  \n282       0        0        0          6      6  \n135       0        0        0         15     13  \n107       0        0        0         16     13  "
     },
     "execution_count": 236,
     "metadata": {},
     "output_type": "execute_result"
    }
   ],
   "source": [
    "target_result = target[['title', 'works', 'debut', 'date', 'initial', 'kind', RECENT, *COLUMNS_CALCED]].astype({RECENT: int}).sort_values(RECENT)\n",
    "\n",
    "target_result.head()"
   ]
  },
  {
   "cell_type": "code",
   "execution_count": 237,
   "metadata": {},
   "outputs": [
    {
     "name": "stdout",
     "output_type": "stream",
     "text": "\\#|曲名|発表年\n---:|---|---:\n1|**BArADiPArADicA**|2019\n2|**自由戀愛**|2019\n3|Lolicate|2014\n4|聖少女領域|2005\n5|月蝕グランギニョル|2003\n6|芸術変態論|2018\n7|北京LOVERS|2005\n8|未來のイヴ|2003\n9|雪華懺悔心中|2008\n10|GOD DIVA|2006\n11|**少女のための残酷童話**|2019\n12|勇侠青春謳|2006\n13|今宵、碧い森深く|2006\n14|**リアル×ファンタジー**|2019\n15|**21世紀新青年**|2019\n16|暗黒サイケデリック|2007\n17|凶夢伝染|2012\n18|卑弥呼外伝|2017\n19|青嵐血風録|2007\n20|人生美味礼讃|2005\n"
    }
   ],
   "source": [
    "print('\\\\#|曲名|発表年')\n",
    "print('---:|---|---:')\n",
    "for no in target_result.head(20).index:\n",
    "    mark = '**' if target_result.initial.at[no] == RECENT else ''\n",
    "    print(f'{target_result.r2019.at[no]}|{mark}{target_result.title.at[no]}{mark}|{target_result.date.at[no].year}')"
   ]
  },
  {
   "cell_type": "code",
   "execution_count": 238,
   "metadata": {},
   "outputs": [
    {
     "data": {
      "text/html": "<div>\n<style scoped>\n    .dataframe tbody tr th:only-of-type {\n        vertical-align: middle;\n    }\n\n    .dataframe tbody tr th {\n        vertical-align: top;\n    }\n\n    .dataframe thead th {\n        text-align: right;\n    }\n</style>\n<table border=\"1\" class=\"dataframe\">\n  <thead>\n    <tr style=\"text-align: right;\">\n      <th></th>\n      <th>r2007</th>\n      <th>r2008</th>\n      <th>r2009</th>\n      <th>r2010</th>\n      <th>r2011</th>\n      <th>r2012</th>\n      <th>r2013</th>\n      <th>r2014</th>\n      <th>r2015</th>\n      <th>r2016</th>\n      <th>r2017</th>\n      <th>r2018</th>\n      <th>r2019</th>\n    </tr>\n  </thead>\n  <tbody>\n    <tr>\n      <th>1</th>\n      <td>False</td>\n      <td>False</td>\n      <td>False</td>\n      <td>False</td>\n      <td>False</td>\n      <td>False</td>\n      <td>False</td>\n      <td>True</td>\n      <td>False</td>\n      <td>False</td>\n      <td>False</td>\n      <td>True</td>\n      <td>True</td>\n    </tr>\n    <tr>\n      <th>2</th>\n      <td>False</td>\n      <td>False</td>\n      <td>True</td>\n      <td>False</td>\n      <td>True</td>\n      <td>True</td>\n      <td>False</td>\n      <td>True</td>\n      <td>False</td>\n      <td>True</td>\n      <td>False</td>\n      <td>False</td>\n      <td>True</td>\n    </tr>\n    <tr>\n      <th>3</th>\n      <td>False</td>\n      <td>False</td>\n      <td>True</td>\n      <td>False</td>\n      <td>False</td>\n      <td>True</td>\n      <td>True</td>\n      <td>False</td>\n      <td>False</td>\n      <td>False</td>\n      <td>False</td>\n      <td>False</td>\n      <td>False</td>\n    </tr>\n    <tr>\n      <th>4</th>\n      <td>False</td>\n      <td>False</td>\n      <td>False</td>\n      <td>False</td>\n      <td>False</td>\n      <td>False</td>\n      <td>True</td>\n      <td>False</td>\n      <td>False</td>\n      <td>False</td>\n      <td>True</td>\n      <td>False</td>\n      <td>False</td>\n    </tr>\n    <tr>\n      <th>5</th>\n      <td>False</td>\n      <td>False</td>\n      <td>True</td>\n      <td>False</td>\n      <td>False</td>\n      <td>False</td>\n      <td>True</td>\n      <td>True</td>\n      <td>True</td>\n      <td>False</td>\n      <td>False</td>\n      <td>False</td>\n      <td>False</td>\n    </tr>\n    <tr>\n      <th>6</th>\n      <td>False</td>\n      <td>False</td>\n      <td>False</td>\n      <td>False</td>\n      <td>False</td>\n      <td>False</td>\n      <td>True</td>\n      <td>False</td>\n      <td>False</td>\n      <td>True</td>\n      <td>False</td>\n      <td>True</td>\n      <td>False</td>\n    </tr>\n    <tr>\n      <th>7</th>\n      <td>False</td>\n      <td>False</td>\n      <td>False</td>\n      <td>True</td>\n      <td>False</td>\n      <td>False</td>\n      <td>False</td>\n      <td>False</td>\n      <td>True</td>\n      <td>False</td>\n      <td>False</td>\n      <td>False</td>\n      <td>False</td>\n    </tr>\n    <tr>\n      <th>8</th>\n      <td>False</td>\n      <td>True</td>\n      <td>False</td>\n      <td>False</td>\n      <td>True</td>\n      <td>True</td>\n      <td>False</td>\n      <td>False</td>\n      <td>False</td>\n      <td>False</td>\n      <td>False</td>\n      <td>False</td>\n      <td>False</td>\n    </tr>\n    <tr>\n      <th>9</th>\n      <td>False</td>\n      <td>True</td>\n      <td>True</td>\n      <td>False</td>\n      <td>True</td>\n      <td>False</td>\n      <td>False</td>\n      <td>False</td>\n      <td>False</td>\n      <td>False</td>\n      <td>False</td>\n      <td>False</td>\n      <td>False</td>\n    </tr>\n    <tr>\n      <th>10</th>\n      <td>False</td>\n      <td>False</td>\n      <td>False</td>\n      <td>True</td>\n      <td>False</td>\n      <td>False</td>\n      <td>False</td>\n      <td>False</td>\n      <td>False</td>\n      <td>True</td>\n      <td>False</td>\n      <td>True</td>\n      <td>False</td>\n    </tr>\n    <tr>\n      <th>11</th>\n      <td>False</td>\n      <td>False</td>\n      <td>False</td>\n      <td>False</td>\n      <td>False</td>\n      <td>False</td>\n      <td>False</td>\n      <td>False</td>\n      <td>False</td>\n      <td>False</td>\n      <td>False</td>\n      <td>True</td>\n      <td>True</td>\n    </tr>\n    <tr>\n      <th>12</th>\n      <td>False</td>\n      <td>True</td>\n      <td>False</td>\n      <td>False</td>\n      <td>False</td>\n      <td>True</td>\n      <td>False</td>\n      <td>False</td>\n      <td>True</td>\n      <td>False</td>\n      <td>False</td>\n      <td>False</td>\n      <td>False</td>\n    </tr>\n    <tr>\n      <th>13</th>\n      <td>False</td>\n      <td>True</td>\n      <td>True</td>\n      <td>True</td>\n      <td>False</td>\n      <td>False</td>\n      <td>True</td>\n      <td>True</td>\n      <td>False</td>\n      <td>True</td>\n      <td>False</td>\n      <td>False</td>\n      <td>False</td>\n    </tr>\n    <tr>\n      <th>14</th>\n      <td>False</td>\n      <td>False</td>\n      <td>False</td>\n      <td>False</td>\n      <td>False</td>\n      <td>False</td>\n      <td>False</td>\n      <td>False</td>\n      <td>False</td>\n      <td>False</td>\n      <td>False</td>\n      <td>False</td>\n      <td>True</td>\n    </tr>\n    <tr>\n      <th>15</th>\n      <td>True</td>\n      <td>True</td>\n      <td>False</td>\n      <td>True</td>\n      <td>False</td>\n      <td>True</td>\n      <td>False</td>\n      <td>False</td>\n      <td>False</td>\n      <td>True</td>\n      <td>False</td>\n      <td>False</td>\n      <td>True</td>\n    </tr>\n    <tr>\n      <th>16</th>\n      <td>False</td>\n      <td>True</td>\n      <td>False</td>\n      <td>False</td>\n      <td>False</td>\n      <td>False</td>\n      <td>False</td>\n      <td>False</td>\n      <td>False</td>\n      <td>False</td>\n      <td>False</td>\n      <td>False</td>\n      <td>False</td>\n    </tr>\n    <tr>\n      <th>17</th>\n      <td>True</td>\n      <td>False</td>\n      <td>False</td>\n      <td>True</td>\n      <td>False</td>\n      <td>False</td>\n      <td>False</td>\n      <td>True</td>\n      <td>False</td>\n      <td>True</td>\n      <td>True</td>\n      <td>False</td>\n      <td>False</td>\n    </tr>\n    <tr>\n      <th>18</th>\n      <td>False</td>\n      <td>True</td>\n      <td>False</td>\n      <td>False</td>\n      <td>False</td>\n      <td>False</td>\n      <td>False</td>\n      <td>False</td>\n      <td>True</td>\n      <td>False</td>\n      <td>False</td>\n      <td>False</td>\n      <td>False</td>\n    </tr>\n    <tr>\n      <th>19</th>\n      <td>False</td>\n      <td>False</td>\n      <td>True</td>\n      <td>False</td>\n      <td>False</td>\n      <td>False</td>\n      <td>False</td>\n      <td>False</td>\n      <td>True</td>\n      <td>False</td>\n      <td>False</td>\n      <td>False</td>\n      <td>False</td>\n    </tr>\n    <tr>\n      <th>20</th>\n      <td>True</td>\n      <td>True</td>\n      <td>False</td>\n      <td>False</td>\n      <td>False</td>\n      <td>True</td>\n      <td>False</td>\n      <td>True</td>\n      <td>False</td>\n      <td>True</td>\n      <td>False</td>\n      <td>True</td>\n      <td>False</td>\n    </tr>\n  </tbody>\n</table>\n</div>",
      "text/plain": "    r2007  r2008  r2009  r2010  r2011  r2012  r2013  r2014  r2015  r2016  \\\n1   False  False  False  False  False  False  False   True  False  False   \n2   False  False   True  False   True   True  False   True  False   True   \n3   False  False   True  False  False   True   True  False  False  False   \n4   False  False  False  False  False  False   True  False  False  False   \n5   False  False   True  False  False  False   True   True   True  False   \n6   False  False  False  False  False  False   True  False  False   True   \n7   False  False  False   True  False  False  False  False   True  False   \n8   False   True  False  False   True   True  False  False  False  False   \n9   False   True   True  False   True  False  False  False  False  False   \n10  False  False  False   True  False  False  False  False  False   True   \n11  False  False  False  False  False  False  False  False  False  False   \n12  False   True  False  False  False   True  False  False   True  False   \n13  False   True   True   True  False  False   True   True  False   True   \n14  False  False  False  False  False  False  False  False  False  False   \n15   True   True  False   True  False   True  False  False  False   True   \n16  False   True  False  False  False  False  False  False  False  False   \n17   True  False  False   True  False  False  False   True  False   True   \n18  False   True  False  False  False  False  False  False   True  False   \n19  False  False   True  False  False  False  False  False   True  False   \n20   True   True  False  False  False   True  False   True  False   True   \n\n    r2017  r2018  r2019  \n1   False   True   True  \n2   False  False   True  \n3   False  False  False  \n4    True  False  False  \n5   False  False  False  \n6   False   True  False  \n7   False  False  False  \n8   False  False  False  \n9   False  False  False  \n10  False   True  False  \n11  False   True   True  \n12  False  False  False  \n13  False  False  False  \n14  False  False   True  \n15  False  False   True  \n16  False  False  False  \n17   True  False  False  \n18  False  False  False  \n19  False  False  False  \n20  False   True  False  "
     },
     "execution_count": 238,
     "metadata": {},
     "output_type": "execute_result"
    }
   ],
   "source": [
    "# 初登場かどうか\n",
    "top20 = pandas.DataFrame({r: [False] * 20 for r in RANK}, index=range(1, 21))\n",
    "for r in RANK:\n",
    "    tmp = df[df[r] <= 20].sort_values(r)[['title', r, 'initial']]\n",
    "    for no in tmp.index:\n",
    "        top20.at[int(tmp.at[no, r]), r] |= tmp.initial.at[no] == r\n",
    "\n",
    "top20\n",
    "# top20.sum()"
   ]
  },
  {
   "cell_type": "code",
   "execution_count": 239,
   "metadata": {},
   "outputs": [
    {
     "data": {
      "text/html": "<div>\n<style scoped>\n    .dataframe tbody tr th:only-of-type {\n        vertical-align: middle;\n    }\n\n    .dataframe tbody tr th {\n        vertical-align: top;\n    }\n\n    .dataframe thead th {\n        text-align: right;\n    }\n</style>\n<table border=\"1\" class=\"dataframe\">\n  <thead>\n    <tr style=\"text-align: right;\">\n      <th></th>\n      <th>title</th>\n      <th>kind</th>\n      <th>date</th>\n      <th>r2019_average</th>\n      <th>r2019_highest</th>\n    </tr>\n  </thead>\n  <tbody>\n    <tr>\n      <th>0</th>\n      <td>SOME GIRLS -REBEL STREEL IV</td>\n      <td>OT</td>\n      <td>1997-04-25</td>\n      <td>123.0</td>\n      <td>123.0</td>\n    </tr>\n    <tr>\n      <th>1</th>\n      <td>幻想庭園</td>\n      <td>OA</td>\n      <td>1988-01-25</td>\n      <td>185.7</td>\n      <td>54.0</td>\n    </tr>\n    <tr>\n      <th>2</th>\n      <td>フラワーチャイルド</td>\n      <td>S</td>\n      <td>1988-07-25</td>\n      <td>238.0</td>\n      <td>216.0</td>\n    </tr>\n    <tr>\n      <th>3</th>\n      <td>恋せよ乙女 -Love story of ZIPANG-</td>\n      <td>S</td>\n      <td>1992-07-07</td>\n      <td>88.0</td>\n      <td>44.0</td>\n    </tr>\n    <tr>\n      <th>4</th>\n      <td>月下の一群</td>\n      <td>OA</td>\n      <td>1992-12-09</td>\n      <td>150.1</td>\n      <td>52.0</td>\n    </tr>\n  </tbody>\n</table>\n</div>",
      "text/plain": "                          title kind       date  r2019_average  r2019_highest\n0   SOME GIRLS -REBEL STREEL IV   OT 1997-04-25          123.0          123.0\n1                          幻想庭園   OA 1988-01-25          185.7           54.0\n2                     フラワーチャイルド    S 1988-07-25          238.0          216.0\n3  恋せよ乙女 -Love story of ZIPANG-    S 1992-07-07           88.0           44.0\n4                         月下の一群   OA 1992-12-09          150.1           52.0"
     },
     "execution_count": 239,
     "metadata": {},
     "output_type": "execute_result"
    }
   ],
   "source": [
    "targetw_recent = dfw[['title', 'kind', 'date', f'{RECENT}_average', f'{RECENT}_highest']]\n",
    "\n",
    "targetw_recent.head()"
   ]
  },
  {
   "cell_type": "markdown",
   "metadata": {},
   "outputs": [],
   "source": [
    "### debut"
   ]
  },
  {
   "cell_type": "code",
   "execution_count": 240,
   "metadata": {},
   "outputs": [
    {
     "data": {
      "text/html": "<div>\n<style scoped>\n    .dataframe tbody tr th:only-of-type {\n        vertical-align: middle;\n    }\n\n    .dataframe tbody tr th {\n        vertical-align: top;\n    }\n\n    .dataframe thead th {\n        text-align: right;\n    }\n</style>\n<table border=\"1\" class=\"dataframe\">\n  <thead>\n    <tr style=\"text-align: right;\">\n      <th></th>\n      <th>title</th>\n      <th>r2019</th>\n      <th>debut</th>\n      <th>date</th>\n    </tr>\n    <tr>\n      <th>no</th>\n      <th></th>\n      <th></th>\n      <th></th>\n      <th></th>\n    </tr>\n  </thead>\n  <tbody>\n    <tr>\n      <th>338</th>\n      <td>BArADiPArADicA</td>\n      <td>1</td>\n      <td>Fantasia</td>\n      <td>2019-08-28</td>\n    </tr>\n    <tr>\n      <th>343</th>\n      <td>自由戀愛</td>\n      <td>2</td>\n      <td>Fantasia</td>\n      <td>2019-08-28</td>\n    </tr>\n    <tr>\n      <th>344</th>\n      <td>少女のための残酷童話</td>\n      <td>11</td>\n      <td>Fantasia</td>\n      <td>2019-08-28</td>\n    </tr>\n    <tr>\n      <th>340</th>\n      <td>リアル×ファンタジー</td>\n      <td>14</td>\n      <td>Fantasia</td>\n      <td>2019-08-28</td>\n    </tr>\n    <tr>\n      <th>339</th>\n      <td>21世紀新青年</td>\n      <td>15</td>\n      <td>Fantasia</td>\n      <td>2019-08-28</td>\n    </tr>\n    <tr>\n      <th>341</th>\n      <td>Maison de Bonbonnière</td>\n      <td>21</td>\n      <td>Fantasia</td>\n      <td>2019-08-28</td>\n    </tr>\n    <tr>\n      <th>348</th>\n      <td>WALTZ FOR DEBBY</td>\n      <td>55</td>\n      <td>Fantasia</td>\n      <td>2019-08-28</td>\n    </tr>\n    <tr>\n      <th>345</th>\n      <td>恐怖の頭脳改革</td>\n      <td>61</td>\n      <td>Fantasia</td>\n      <td>2019-08-28</td>\n    </tr>\n    <tr>\n      <th>337</th>\n      <td>美しき獣たちの為の</td>\n      <td>68</td>\n      <td>『コードギアス 復活のルルーシュ』オリジナルサウンドトラック</td>\n      <td>2019-02-13</td>\n    </tr>\n    <tr>\n      <th>346</th>\n      <td>地球で</td>\n      <td>99</td>\n      <td>Fantasia</td>\n      <td>2019-08-28</td>\n    </tr>\n    <tr>\n      <th>342</th>\n      <td>月下、緑雨幻想</td>\n      <td>140</td>\n      <td>Fantasia</td>\n      <td>2019-08-28</td>\n    </tr>\n  </tbody>\n</table>\n</div>",
      "text/plain": "                     title  r2019                           debut       date\nno                                                                          \n338         BArADiPArADicA      1                        Fantasia 2019-08-28\n343                   自由戀愛      2                        Fantasia 2019-08-28\n344             少女のための残酷童話     11                        Fantasia 2019-08-28\n340             リアル×ファンタジー     14                        Fantasia 2019-08-28\n339                21世紀新青年     15                        Fantasia 2019-08-28\n341  Maison de Bonbonnière     21                        Fantasia 2019-08-28\n348        WALTZ FOR DEBBY     55                        Fantasia 2019-08-28\n345                恐怖の頭脳改革     61                        Fantasia 2019-08-28\n337              美しき獣たちの為の     68  『コードギアス 復活のルルーシュ』オリジナルサウンドトラック 2019-02-13\n346                    地球で     99                        Fantasia 2019-08-28\n342                月下、緑雨幻想    140                        Fantasia 2019-08-28"
     },
     "execution_count": 240,
     "metadata": {},
     "output_type": "execute_result"
    }
   ],
   "source": [
    "debut = target_result.query('initial == @RECENT')[['title', RECENT, 'debut', 'date']]\n",
    "debut"
   ]
  },
  {
   "cell_type": "code",
   "execution_count": 241,
   "metadata": {},
   "outputs": [
    {
     "name": "stdout",
     "output_type": "stream",
     "text": "\\#|曲名|順位\n---:|---|---:\n1|BArADiPArADicA|1\n2|自由戀愛|2\n3|少女のための残酷童話|11\n4|リアル×ファンタジー|14\n5|21世紀新青年|15\n6|Maison de Bonbonnière|21\n7|WALTZ FOR DEBBY|55\n8|恐怖の頭脳改革|61\n9|美しき獣たちの為の|68\n10|地球で|99\n11|月下、緑雨幻想|140\n"
    }
   ],
   "source": [
    "print('\\\\#|曲名|順位')\n",
    "print('---:|---|---:')\n",
    "for idx in range(len(debut)):\n",
    "    print(f'{idx+1}|{debut.iloc[idx].title}|{debut[RECENT].iat[idx]}')"
   ]
  },
  {
   "cell_type": "code",
   "execution_count": 242,
   "metadata": {},
   "outputs": [
    {
     "name": "stdout",
     "output_type": "stream",
     "text": "\\#|lt 20|lt 50|lt 100|over 100\n---:|---:|---:|---:|---:\n2015|5|9|11|9\n2016|7|8|8|1\n2017|2|4|4|0\n2018|5|9|9|1\n2019|5|6|10|1\n"
    }
   ],
   "source": [
    "print('\\\\#|lt 20|lt 50|lt 100|over 100')\n",
    "print('---:|---:|---:|---:|---:')\n",
    "for y in RANK_ALL[-5:]:\n",
    "    tmp = df[['title', 'initial', y]][~df[y].isna()].query('initial == @y').sort_values(y)\n",
    "    print(f'{y[1:]}|{tmp[tmp[y] <= 20].count(0)[y]}|{tmp[tmp[y] <= 50].count(0)[y]}|{tmp[tmp[y] <= 100].count(0)[y]}|{tmp[100 < tmp[y]].count(0)[y]}')\n"
   ]
  },
  {
   "cell_type": "code",
   "execution_count": 243,
   "metadata": {},
   "outputs": [
    {
     "data": {
      "text/html": "<div>\n<style scoped>\n    .dataframe tbody tr th:only-of-type {\n        vertical-align: middle;\n    }\n\n    .dataframe tbody tr th {\n        vertical-align: top;\n    }\n\n    .dataframe thead th {\n        text-align: right;\n    }\n</style>\n<table border=\"1\" class=\"dataframe\">\n  <thead>\n    <tr style=\"text-align: right;\">\n      <th></th>\n      <th>title</th>\n      <th>r2014_average</th>\n      <th>r2015_average</th>\n      <th>r2016_average</th>\n      <th>r2018_average</th>\n      <th>r2019_average</th>\n      <th>r2014_highest</th>\n      <th>r2015_highest</th>\n      <th>r2016_highest</th>\n      <th>r2018_highest</th>\n      <th>r2019_highest</th>\n    </tr>\n  </thead>\n  <tbody>\n    <tr>\n      <th>104</th>\n      <td>流行世界</td>\n      <td>19.333333</td>\n      <td>88.1</td>\n      <td>107.100000</td>\n      <td>115.222222</td>\n      <td>152.777778</td>\n      <td>1.0</td>\n      <td>1.0</td>\n      <td>1.0</td>\n      <td>8.0</td>\n      <td>3.0</td>\n    </tr>\n    <tr>\n      <th>106</th>\n      <td>快楽のススメ</td>\n      <td>NaN</td>\n      <td>44.6</td>\n      <td>102.100000</td>\n      <td>143.400000</td>\n      <td>151.400000</td>\n      <td>NaN</td>\n      <td>5.0</td>\n      <td>26.0</td>\n      <td>63.0</td>\n      <td>53.0</td>\n    </tr>\n    <tr>\n      <th>109</th>\n      <td>A級戒厳令</td>\n      <td>NaN</td>\n      <td>NaN</td>\n      <td>25.777778</td>\n      <td>89.777778</td>\n      <td>113.777778</td>\n      <td>NaN</td>\n      <td>NaN</td>\n      <td>2.0</td>\n      <td>9.0</td>\n      <td>22.0</td>\n    </tr>\n    <tr>\n      <th>114</th>\n      <td>芸術変態論</td>\n      <td>NaN</td>\n      <td>NaN</td>\n      <td>NaN</td>\n      <td>30.100000</td>\n      <td>83.300000</td>\n      <td>NaN</td>\n      <td>NaN</td>\n      <td>NaN</td>\n      <td>1.0</td>\n      <td>6.0</td>\n    </tr>\n    <tr>\n      <th>116</th>\n      <td>Fantasia</td>\n      <td>NaN</td>\n      <td>NaN</td>\n      <td>NaN</td>\n      <td>NaN</td>\n      <td>41.900000</td>\n      <td>NaN</td>\n      <td>NaN</td>\n      <td>NaN</td>\n      <td>NaN</td>\n      <td>1.0</td>\n    </tr>\n  </tbody>\n</table>\n</div>",
      "text/plain": "        title  r2014_average  r2015_average  r2016_average  r2018_average  \\\n104      流行世界      19.333333           88.1     107.100000     115.222222   \n106    快楽のススメ            NaN           44.6     102.100000     143.400000   \n109     A級戒厳令            NaN            NaN      25.777778      89.777778   \n114     芸術変態論            NaN            NaN            NaN      30.100000   \n116  Fantasia            NaN            NaN            NaN            NaN   \n\n     r2019_average  r2014_highest  r2015_highest  r2016_highest  \\\n104     152.777778            1.0            1.0            1.0   \n106     151.400000            NaN            5.0           26.0   \n109     113.777778            NaN            NaN            2.0   \n114      83.300000            NaN            NaN            NaN   \n116      41.900000            NaN            NaN            NaN   \n\n     r2018_highest  r2019_highest  \n104            8.0            3.0  \n106           63.0           53.0  \n109            9.0           22.0  \n114            1.0            6.0  \n116            NaN            1.0  "
     },
     "execution_count": 243,
     "metadata": {},
     "output_type": "execute_result"
    }
   ],
   "source": [
    "# recent 5 originals\n",
    "or5 = dfw.query('kind == \"OA\"').tail(5)\n",
    "or5['initial'] = or5.date.apply(lambda d: d.year)\n",
    "initials = sorted(set(or5.initial.values))\n",
    "col = [*[f'r{y}_average' for y in initials], *[f'r{y}_highest' for y in initials]]\n",
    "or5[['title', *col]]"
   ]
  },
  {
   "cell_type": "code",
   "execution_count": 244,
   "metadata": {},
   "outputs": [
    {
     "data": {
      "text/plain": "initial\nr2005      116\nr2006#1      6\nr2006#2     15\nr2007        4\nr2008       18\nr2009       16\nr2010       22\nr2011       25\nr2012       13\nr2013       13\nr2014        9\nr2015       20\nr2016        9\nr2017        4\nr2018       10\nr2019       11\nName: title, dtype: int64"
     },
     "execution_count": 244,
     "metadata": {},
     "output_type": "execute_result"
    }
   ],
   "source": [
    "target.groupby(by='initial')['title'].count()"
   ]
  },
  {
   "cell_type": "code",
   "execution_count": 245,
   "metadata": {},
   "outputs": [
    {
     "name": "stdout",
     "output_type": "stream",
     "text": "total : 348\ntarget: 311\ndebut :  11\n"
    }
   ],
   "source": [
    "print(f'total : {len(df):>3d}')\n",
    "print(f'target: {len(target):>3d}')\n",
    "print(f'debut : {len(debut):>3d}')"
   ]
  },
  {
   "cell_type": "markdown",
   "metadata": {},
   "outputs": [],
   "source": [
    "## total"
   ]
  },
  {
   "cell_type": "code",
   "execution_count": 246,
   "metadata": {},
   "outputs": [
    {
     "data": {
      "text/html": "<div>\n<style scoped>\n    .dataframe tbody tr th:only-of-type {\n        vertical-align: middle;\n    }\n\n    .dataframe tbody tr th {\n        vertical-align: top;\n    }\n\n    .dataframe thead th {\n        text-align: right;\n    }\n</style>\n<table border=\"1\" class=\"dataframe\">\n  <thead>\n    <tr style=\"text-align: right;\">\n      <th></th>\n      <th>title</th>\n      <th>rank_average_exclude_debut</th>\n      <th>average_exclude_debut</th>\n      <th>date</th>\n    </tr>\n    <tr>\n      <th>no</th>\n      <th></th>\n      <th></th>\n      <th></th>\n      <th></th>\n    </tr>\n  </thead>\n  <tbody>\n    <tr>\n      <th>135</th>\n      <td>聖少女領域</td>\n      <td>1</td>\n      <td>3.923077</td>\n      <td>2005-10-26</td>\n    </tr>\n    <tr>\n      <th>107</th>\n      <td>月蝕グランギニョル</td>\n      <td>2</td>\n      <td>4.846154</td>\n      <td>2003-11-05</td>\n    </tr>\n    <tr>\n      <th>191</th>\n      <td>雪華懺悔心中</td>\n      <td>3</td>\n      <td>5.800000</td>\n      <td>2008-08-27</td>\n    </tr>\n    <tr>\n      <th>326</th>\n      <td>芸術変態論</td>\n      <td>4</td>\n      <td>6.000000</td>\n      <td>2018-07-25</td>\n    </tr>\n    <tr>\n      <th>282</th>\n      <td>Lolicate</td>\n      <td>5</td>\n      <td>7.800000</td>\n      <td>2014-08-27</td>\n    </tr>\n    <tr>\n      <th>108</th>\n      <td>未來のイヴ</td>\n      <td>6</td>\n      <td>11.076923</td>\n      <td>2003-11-05</td>\n    </tr>\n    <tr>\n      <th>132</th>\n      <td>北京LOVERS</td>\n      <td>7</td>\n      <td>11.846154</td>\n      <td>2005-06-22</td>\n    </tr>\n    <tr>\n      <th>319</th>\n      <td>まだら恋椿外道</td>\n      <td>8</td>\n      <td>13.000000</td>\n      <td>2016-08-24</td>\n    </tr>\n    <tr>\n      <th>145</th>\n      <td>GOD DIVA</td>\n      <td>9</td>\n      <td>13.538462</td>\n      <td>2006-06-28</td>\n    </tr>\n    <tr>\n      <th>251</th>\n      <td>凶夢伝染</td>\n      <td>10</td>\n      <td>14.571429</td>\n      <td>2012-01-25</td>\n    </tr>\n    <tr>\n      <th>322</th>\n      <td>卑弥呼外伝</td>\n      <td>11</td>\n      <td>15.000000</td>\n      <td>2017-03-29</td>\n    </tr>\n    <tr>\n      <th>152</th>\n      <td>勇侠青春謳</td>\n      <td>12</td>\n      <td>17.000000</td>\n      <td>2006-10-25</td>\n    </tr>\n    <tr>\n      <th>99</th>\n      <td>戦争と平和</td>\n      <td>13</td>\n      <td>17.153846</td>\n      <td>2002-07-24</td>\n    </tr>\n    <tr>\n      <th>168</th>\n      <td>青嵐血風録</td>\n      <td>14</td>\n      <td>18.272727</td>\n      <td>2007-08-22</td>\n    </tr>\n    <tr>\n      <th>121</th>\n      <td>禁じられた遊び</td>\n      <td>15</td>\n      <td>20.923077</td>\n      <td>2004-10-22</td>\n    </tr>\n    <tr>\n      <th>149</th>\n      <td>KING KNIGHT</td>\n      <td>16</td>\n      <td>21.384615</td>\n      <td>2006-09-21</td>\n    </tr>\n    <tr>\n      <th>183</th>\n      <td>わが﨟たし悪の華</td>\n      <td>17</td>\n      <td>22.300000</td>\n      <td>2008-07-30</td>\n    </tr>\n    <tr>\n      <th>331</th>\n      <td>青空</td>\n      <td>18</td>\n      <td>24.000000</td>\n      <td>2018-07-25</td>\n    </tr>\n    <tr>\n      <th>171</th>\n      <td>胡蝶夢心中</td>\n      <td>19</td>\n      <td>24.818182</td>\n      <td>2007-08-22</td>\n    </tr>\n    <tr>\n      <th>336</th>\n      <td>魅惑劇</td>\n      <td>20</td>\n      <td>25.000000</td>\n      <td>2018-07-25</td>\n    </tr>\n  </tbody>\n</table>\n</div>",
      "text/plain": "           title  rank_average_exclude_debut  average_exclude_debut       date\nno                                                                            \n135        聖少女領域                           1               3.923077 2005-10-26\n107    月蝕グランギニョル                           2               4.846154 2003-11-05\n191       雪華懺悔心中                           3               5.800000 2008-08-27\n326        芸術変態論                           4               6.000000 2018-07-25\n282     Lolicate                           5               7.800000 2014-08-27\n108        未來のイヴ                           6              11.076923 2003-11-05\n132     北京LOVERS                           7              11.846154 2005-06-22\n319      まだら恋椿外道                           8              13.000000 2016-08-24\n145     GOD DIVA                           9              13.538462 2006-06-28\n251         凶夢伝染                          10              14.571429 2012-01-25\n322        卑弥呼外伝                          11              15.000000 2017-03-29\n152        勇侠青春謳                          12              17.000000 2006-10-25\n99         戦争と平和                          13              17.153846 2002-07-24\n168        青嵐血風録                          14              18.272727 2007-08-22\n121      禁じられた遊び                          15              20.923077 2004-10-22\n149  KING KNIGHT                          16              21.384615 2006-09-21\n183     わが﨟たし悪の華                          17              22.300000 2008-07-30\n331           青空                          18              24.000000 2018-07-25\n171        胡蝶夢心中                          19              24.818182 2007-08-22\n336          魅惑劇                          20              25.000000 2018-07-25"
     },
     "execution_count": 246,
     "metadata": {},
     "output_type": "execute_result"
    }
   ],
   "source": [
    "average_top = target.sort_values(['rank_average_exclude_debut', 'date'], ascending=[True, True]) \\\n",
    "                    .query('rank_average_exclude_debut <= 20') \\\n",
    "                    [['title', 'rank_average_exclude_debut', 'average_exclude_debut', 'date']].astype({'rank_average_exclude_debut': int})\n",
    "\n",
    "average_top"
   ]
  },
  {
   "cell_type": "code",
   "execution_count": 247,
   "metadata": {},
   "outputs": [
    {
     "name": "stdout",
     "output_type": "stream",
     "text": "\\#|曲名|発表年|過去平均|前年までの平均\n---:|---|---:|---:|---:\n1|2005|聖少女領域|3.923|3.929\n2|2003|月蝕グランギニョル|4.846|4.733\n3|2008|雪華懺悔心中|5.800|5.200\n4|2018|芸術変態論|6.000|1.000\n5|2014|Lolicate|7.800|7.600\n6|2003|未來のイヴ|11.077|10.933\n7|2005|北京LOVERS|11.846|12.571\n8|2016|まだら恋椿外道|13.000|6.333\n9|2006|GOD DIVA|13.538|13.308\n10|2012|凶夢伝染|14.571|12.429\n11|2017|卑弥呼外伝|15.000|8.000\n12|2006|勇侠青春謳|17.000|16.154\n13|2002|戦争と平和|17.154|13.200\n14|2007|青嵐血風録|18.273|17.727\n15|2004|禁じられた遊び|20.923|17.467\n16|2006|KING KNIGHT|21.385|19.538\n17|2008|わが﨟たし悪の華|22.300|20.200\n18|2018|青空|24.000|6.000\n19|2007|胡蝶夢心中|24.818|24.000\n20|2018|魅惑劇|25.000|11.000\n"
    }
   ],
   "source": [
    "print('\\\\#|曲名|発表年|過去平均|前年までの平均')\n",
    "print('---:|---|---:|---:|---:')\n",
    "for no in average_top.index:\n",
    "    print(f'{average_top.rank_average_exclude_debut.at[no]}|{average_top.date.at[no].year}|{average_top.title.at[no]}|{average_top.average_exclude_debut.at[no]:.3f}|{target[RANK_BEFORE].mean(1).at[no]:.3f}')"
   ]
  },
  {
   "cell_type": "code",
   "execution_count": 248,
   "metadata": {},
   "outputs": [
    {
     "data": {
      "text/html": "<div>\n<style scoped>\n    .dataframe tbody tr th:only-of-type {\n        vertical-align: middle;\n    }\n\n    .dataframe tbody tr th {\n        vertical-align: top;\n    }\n\n    .dataframe thead th {\n        text-align: right;\n    }\n</style>\n<table border=\"1\" class=\"dataframe\">\n  <thead>\n    <tr style=\"text-align: right;\">\n      <th></th>\n      <th>title</th>\n      <th>rank_highest</th>\n      <th>highest</th>\n      <th>date</th>\n    </tr>\n    <tr>\n      <th>no</th>\n      <th></th>\n      <th></th>\n      <th></th>\n      <th></th>\n    </tr>\n  </thead>\n  <tbody>\n    <tr>\n      <th>99</th>\n      <td>戦争と平和</td>\n      <td>1</td>\n      <td>1</td>\n      <td>2002-07-24</td>\n    </tr>\n    <tr>\n      <th>132</th>\n      <td>北京LOVERS</td>\n      <td>1</td>\n      <td>1</td>\n      <td>2005-06-22</td>\n    </tr>\n    <tr>\n      <th>135</th>\n      <td>聖少女領域</td>\n      <td>1</td>\n      <td>1</td>\n      <td>2005-10-26</td>\n    </tr>\n    <tr>\n      <th>152</th>\n      <td>勇侠青春謳</td>\n      <td>1</td>\n      <td>1</td>\n      <td>2006-10-25</td>\n    </tr>\n    <tr>\n      <th>326</th>\n      <td>芸術変態論</td>\n      <td>1</td>\n      <td>1</td>\n      <td>2018-07-25</td>\n    </tr>\n    <tr>\n      <th>338</th>\n      <td>BArADiPArADicA</td>\n      <td>1</td>\n      <td>1</td>\n      <td>2019-08-28</td>\n    </tr>\n    <tr>\n      <th>24</th>\n      <td>嵐ヶ丘</td>\n      <td>7</td>\n      <td>2</td>\n      <td>1993-06-09</td>\n    </tr>\n    <tr>\n      <th>107</th>\n      <td>月蝕グランギニョル</td>\n      <td>7</td>\n      <td>2</td>\n      <td>2003-11-05</td>\n    </tr>\n    <tr>\n      <th>121</th>\n      <td>禁じられた遊び</td>\n      <td>7</td>\n      <td>2</td>\n      <td>2004-10-22</td>\n    </tr>\n    <tr>\n      <th>158</th>\n      <td>薔薇獄乙女</td>\n      <td>7</td>\n      <td>2</td>\n      <td>2006-12-06</td>\n    </tr>\n    <tr>\n      <th>179</th>\n      <td>逢魔ヶ恋</td>\n      <td>7</td>\n      <td>2</td>\n      <td>2007-10-03</td>\n    </tr>\n    <tr>\n      <th>183</th>\n      <td>わが﨟たし悪の華</td>\n      <td>7</td>\n      <td>2</td>\n      <td>2008-07-30</td>\n    </tr>\n    <tr>\n      <th>226</th>\n      <td>刀と鞘</td>\n      <td>7</td>\n      <td>2</td>\n      <td>2010-08-25</td>\n    </tr>\n    <tr>\n      <th>251</th>\n      <td>凶夢伝染</td>\n      <td>7</td>\n      <td>2</td>\n      <td>2012-01-25</td>\n    </tr>\n    <tr>\n      <th>282</th>\n      <td>Lolicate</td>\n      <td>7</td>\n      <td>2</td>\n      <td>2014-08-27</td>\n    </tr>\n    <tr>\n      <th>319</th>\n      <td>まだら恋椿外道</td>\n      <td>7</td>\n      <td>2</td>\n      <td>2016-08-24</td>\n    </tr>\n    <tr>\n      <th>343</th>\n      <td>自由戀愛</td>\n      <td>7</td>\n      <td>2</td>\n      <td>2019-08-28</td>\n    </tr>\n    <tr>\n      <th>123</th>\n      <td>阿修羅姫</td>\n      <td>18</td>\n      <td>3</td>\n      <td>2005-06-08</td>\n    </tr>\n    <tr>\n      <th>145</th>\n      <td>GOD DIVA</td>\n      <td>18</td>\n      <td>3</td>\n      <td>2006-06-28</td>\n    </tr>\n    <tr>\n      <th>191</th>\n      <td>雪華懺悔心中</td>\n      <td>18</td>\n      <td>3</td>\n      <td>2008-08-27</td>\n    </tr>\n    <tr>\n      <th>254</th>\n      <td>贋作師</td>\n      <td>18</td>\n      <td>3</td>\n      <td>2012-07-18</td>\n    </tr>\n    <tr>\n      <th>269</th>\n      <td>ローズ家の双子達</td>\n      <td>18</td>\n      <td>3</td>\n      <td>2013-09-11</td>\n    </tr>\n  </tbody>\n</table>\n</div>",
      "text/plain": "              title  rank_highest  highest       date\nno                                                   \n99            戦争と平和             1        1 2002-07-24\n132        北京LOVERS             1        1 2005-06-22\n135           聖少女領域             1        1 2005-10-26\n152           勇侠青春謳             1        1 2006-10-25\n326           芸術変態論             1        1 2018-07-25\n338  BArADiPArADicA             1        1 2019-08-28\n24              嵐ヶ丘             7        2 1993-06-09\n107       月蝕グランギニョル             7        2 2003-11-05\n121         禁じられた遊び             7        2 2004-10-22\n158           薔薇獄乙女             7        2 2006-12-06\n179            逢魔ヶ恋             7        2 2007-10-03\n183        わが﨟たし悪の華             7        2 2008-07-30\n226             刀と鞘             7        2 2010-08-25\n251            凶夢伝染             7        2 2012-01-25\n282        Lolicate             7        2 2014-08-27\n319         まだら恋椿外道             7        2 2016-08-24\n343            自由戀愛             7        2 2019-08-28\n123            阿修羅姫            18        3 2005-06-08\n145        GOD DIVA            18        3 2006-06-28\n191          雪華懺悔心中            18        3 2008-08-27\n254             贋作師            18        3 2012-07-18\n269        ローズ家の双子達            18        3 2013-09-11"
     },
     "execution_count": 248,
     "metadata": {},
     "output_type": "execute_result"
    }
   ],
   "source": [
    "highest_top = target.sort_values(['rank_highest', 'date'], ascending=[True, True]) \\\n",
    "                    .query('rank_highest <= 20') \\\n",
    "                    [['title', 'rank_highest', 'highest', 'date']].astype({'rank_highest': int, 'highest': int})\n",
    "\n",
    "highest_top"
   ]
  },
  {
   "cell_type": "code",
   "execution_count": 249,
   "metadata": {},
   "outputs": [
    {
     "data": {
      "text/plain": "no\n1      123.0\n2       54.0\n3      216.0\n4      260.0\n5      106.0\n       ...  \n344     11.0\n345     61.0\n346     99.0\n347      NaN\n348     55.0\nName: r2019, Length: 348, dtype: float64"
     },
     "execution_count": 249,
     "metadata": {},
     "output_type": "execute_result"
    }
   ],
   "source": [
    "df.r2019"
   ]
  },
  {
   "cell_type": "code",
   "execution_count": 250,
   "metadata": {},
   "outputs": [
    {
     "data": {
      "text/html": "<div>\n<style scoped>\n    .dataframe tbody tr th:only-of-type {\n        vertical-align: middle;\n    }\n\n    .dataframe tbody tr th {\n        vertical-align: top;\n    }\n\n    .dataframe thead th {\n        text-align: right;\n    }\n</style>\n<table border=\"1\" class=\"dataframe\">\n  <thead>\n    <tr style=\"text-align: right;\">\n      <th></th>\n      <th>title</th>\n      <th>rank_highest_exclude_debut</th>\n      <th>highest_exclude_debut</th>\n      <th>date</th>\n    </tr>\n    <tr>\n      <th>no</th>\n      <th></th>\n      <th></th>\n      <th></th>\n      <th></th>\n    </tr>\n  </thead>\n  <tbody>\n    <tr>\n      <th>132</th>\n      <td>北京LOVERS</td>\n      <td>1</td>\n      <td>1</td>\n      <td>2005-06-22</td>\n    </tr>\n    <tr>\n      <th>135</th>\n      <td>聖少女領域</td>\n      <td>1</td>\n      <td>1</td>\n      <td>2005-10-26</td>\n    </tr>\n    <tr>\n      <th>107</th>\n      <td>月蝕グランギニョル</td>\n      <td>3</td>\n      <td>2</td>\n      <td>2003-11-05</td>\n    </tr>\n    <tr>\n      <th>179</th>\n      <td>逢魔ヶ恋</td>\n      <td>3</td>\n      <td>2</td>\n      <td>2007-10-03</td>\n    </tr>\n    <tr>\n      <th>145</th>\n      <td>GOD DIVA</td>\n      <td>5</td>\n      <td>3</td>\n      <td>2006-06-28</td>\n    </tr>\n    <tr>\n      <th>152</th>\n      <td>勇侠青春謳</td>\n      <td>5</td>\n      <td>3</td>\n      <td>2006-10-25</td>\n    </tr>\n    <tr>\n      <th>183</th>\n      <td>わが﨟たし悪の華</td>\n      <td>5</td>\n      <td>3</td>\n      <td>2008-07-30</td>\n    </tr>\n    <tr>\n      <th>282</th>\n      <td>Lolicate</td>\n      <td>5</td>\n      <td>3</td>\n      <td>2014-08-27</td>\n    </tr>\n    <tr>\n      <th>108</th>\n      <td>未來のイヴ</td>\n      <td>9</td>\n      <td>4</td>\n      <td>2003-11-05</td>\n    </tr>\n    <tr>\n      <th>191</th>\n      <td>雪華懺悔心中</td>\n      <td>9</td>\n      <td>4</td>\n      <td>2008-08-27</td>\n    </tr>\n    <tr>\n      <th>121</th>\n      <td>禁じられた遊び</td>\n      <td>11</td>\n      <td>6</td>\n      <td>2004-10-22</td>\n    </tr>\n    <tr>\n      <th>168</th>\n      <td>青嵐血風録</td>\n      <td>11</td>\n      <td>6</td>\n      <td>2007-08-22</td>\n    </tr>\n    <tr>\n      <th>326</th>\n      <td>芸術変態論</td>\n      <td>11</td>\n      <td>6</td>\n      <td>2018-07-25</td>\n    </tr>\n    <tr>\n      <th>99</th>\n      <td>戦争と平和</td>\n      <td>14</td>\n      <td>7</td>\n      <td>2002-07-24</td>\n    </tr>\n    <tr>\n      <th>149</th>\n      <td>KING KNIGHT</td>\n      <td>14</td>\n      <td>7</td>\n      <td>2006-09-21</td>\n    </tr>\n    <tr>\n      <th>158</th>\n      <td>薔薇獄乙女</td>\n      <td>16</td>\n      <td>8</td>\n      <td>2006-12-06</td>\n    </tr>\n    <tr>\n      <th>319</th>\n      <td>まだら恋椿外道</td>\n      <td>16</td>\n      <td>8</td>\n      <td>2016-08-24</td>\n    </tr>\n    <tr>\n      <th>115</th>\n      <td>春葬</td>\n      <td>18</td>\n      <td>9</td>\n      <td>2004-06-23</td>\n    </tr>\n    <tr>\n      <th>171</th>\n      <td>胡蝶夢心中</td>\n      <td>18</td>\n      <td>9</td>\n      <td>2007-08-22</td>\n    </tr>\n    <tr>\n      <th>261</th>\n      <td>真夏の憂愁夫人</td>\n      <td>18</td>\n      <td>9</td>\n      <td>2012-07-18</td>\n    </tr>\n  </tbody>\n</table>\n</div>",
      "text/plain": "           title  rank_highest_exclude_debut  highest_exclude_debut       date\nno                                                                            \n132     北京LOVERS                           1                      1 2005-06-22\n135        聖少女領域                           1                      1 2005-10-26\n107    月蝕グランギニョル                           3                      2 2003-11-05\n179         逢魔ヶ恋                           3                      2 2007-10-03\n145     GOD DIVA                           5                      3 2006-06-28\n152        勇侠青春謳                           5                      3 2006-10-25\n183     わが﨟たし悪の華                           5                      3 2008-07-30\n282     Lolicate                           5                      3 2014-08-27\n108        未來のイヴ                           9                      4 2003-11-05\n191       雪華懺悔心中                           9                      4 2008-08-27\n121      禁じられた遊び                          11                      6 2004-10-22\n168        青嵐血風録                          11                      6 2007-08-22\n326        芸術変態論                          11                      6 2018-07-25\n99         戦争と平和                          14                      7 2002-07-24\n149  KING KNIGHT                          14                      7 2006-09-21\n158        薔薇獄乙女                          16                      8 2006-12-06\n319      まだら恋椿外道                          16                      8 2016-08-24\n115           春葬                          18                      9 2004-06-23\n171        胡蝶夢心中                          18                      9 2007-08-22\n261      真夏の憂愁夫人                          18                      9 2012-07-18"
     },
     "execution_count": 250,
     "metadata": {},
     "output_type": "execute_result"
    }
   ],
   "source": [
    "highest_top = target.sort_values(['rank_highest_exclude_debut', 'date'], ascending=[True, True]) \\\n",
    "                    .query('rank_highest_exclude_debut <= 20') \\\n",
    "                    [['title', 'rank_highest_exclude_debut', 'highest_exclude_debut', 'date']].astype({'rank_highest_exclude_debut': int, 'highest_exclude_debut': int})\n",
    "\n",
    "highest_top"
   ]
  },
  {
   "cell_type": "markdown",
   "execution_count": null,
   "metadata": {},
   "outputs": [],
   "source": [
    "### under"
   ]
  },
  {
   "cell_type": "code",
   "execution_count": 251,
   "metadata": {},
   "outputs": [],
   "source": [
    "max_rank = target_rank_all.max(1)"
   ]
  },
  {
   "cell_type": "code",
   "execution_count": 252,
   "metadata": {},
   "outputs": [
    {
     "data": {
      "text/html": "<div>\n<style scoped>\n    .dataframe tbody tr th:only-of-type {\n        vertical-align: middle;\n    }\n\n    .dataframe tbody tr th {\n        vertical-align: top;\n    }\n\n    .dataframe thead th {\n        text-align: right;\n    }\n</style>\n<table border=\"1\" class=\"dataframe\">\n  <thead>\n    <tr style=\"text-align: right;\">\n      <th></th>\n      <th>title</th>\n      <th>date</th>\n      <th>under10</th>\n    </tr>\n    <tr>\n      <th>no</th>\n      <th></th>\n      <th></th>\n      <th></th>\n    </tr>\n  </thead>\n  <tbody>\n    <tr>\n      <th>107</th>\n      <td>月蝕グランギニョル</td>\n      <td>2003-11-05</td>\n      <td>16</td>\n    </tr>\n    <tr>\n      <th>135</th>\n      <td>聖少女領域</td>\n      <td>2005-10-26</td>\n      <td>15</td>\n    </tr>\n    <tr>\n      <th>191</th>\n      <td>雪華懺悔心中</td>\n      <td>2008-08-27</td>\n      <td>11</td>\n    </tr>\n    <tr>\n      <th>326</th>\n      <td>芸術変態論</td>\n      <td>2018-07-25</td>\n      <td>2</td>\n    </tr>\n    <tr>\n      <th>338</th>\n      <td>BArADiPArADicA</td>\n      <td>2019-08-28</td>\n      <td>1</td>\n    </tr>\n    <tr>\n      <th>343</th>\n      <td>自由戀愛</td>\n      <td>2019-08-28</td>\n      <td>1</td>\n    </tr>\n  </tbody>\n</table>\n</div>",
      "text/plain": "              title       date  under10\nno                                     \n107       月蝕グランギニョル 2003-11-05       16\n135           聖少女領域 2005-10-26       15\n191          雪華懺悔心中 2008-08-27       11\n326           芸術変態論 2018-07-25        2\n338  BArADiPArADicA 2019-08-28        1\n343            自由戀愛 2019-08-28        1"
     },
     "execution_count": 252,
     "metadata": {},
     "output_type": "execute_result"
    }
   ],
   "source": [
    "target[max_rank <= 10][['title', 'date']].assign(under10=(target_rank_all <= 10).sum(1))"
   ]
  },
  {
   "cell_type": "code",
   "execution_count": 253,
   "metadata": {},
   "outputs": [
    {
     "name": "stdout",
     "output_type": "stream",
     "text": "曲名|発表年|回数\n---|---:|---:\n月蝕グランギニョル|2003|16\n聖少女領域|2005|15\n雪華懺悔心中|2008|11\n芸術変態論|2018|2\nBArADiPArADicA|2019|1\n自由戀愛|2019|1\n"
    }
   ],
   "source": [
    "print('曲名|発表年|回数')\n",
    "print('---|---:|---:')\n",
    "for no in _.index:\n",
    "    print(f'{_.title.at[no]}|{_.date.at[no].year}|{_.under10.at[no]}')"
   ]
  },
  {
   "cell_type": "code",
   "execution_count": 254,
   "metadata": {},
   "outputs": [
    {
     "name": "stdout",
     "output_type": "stream",
     "text": "19\n"
    },
    {
     "data": {
      "text/html": "<div>\n<style scoped>\n    .dataframe tbody tr th:only-of-type {\n        vertical-align: middle;\n    }\n\n    .dataframe tbody tr th {\n        vertical-align: top;\n    }\n\n    .dataframe thead th {\n        text-align: right;\n    }\n</style>\n<table border=\"1\" class=\"dataframe\">\n  <thead>\n    <tr style=\"text-align: right;\">\n      <th></th>\n      <th>title</th>\n      <th>r2005</th>\n      <th>r2006#1</th>\n      <th>r2006#2</th>\n      <th>r2007</th>\n      <th>r2008</th>\n      <th>r2009</th>\n      <th>r2010</th>\n      <th>r2011</th>\n      <th>r2012</th>\n      <th>r2013</th>\n      <th>r2014</th>\n      <th>r2015</th>\n      <th>r2016</th>\n      <th>r2017</th>\n      <th>r2018</th>\n      <th>r2019</th>\n    </tr>\n    <tr>\n      <th>no</th>\n      <th></th>\n      <th></th>\n      <th></th>\n      <th></th>\n      <th></th>\n      <th></th>\n      <th></th>\n      <th></th>\n      <th></th>\n      <th></th>\n      <th></th>\n      <th></th>\n      <th></th>\n      <th></th>\n      <th></th>\n      <th></th>\n      <th></th>\n    </tr>\n  </thead>\n  <tbody>\n    <tr>\n      <th>99</th>\n      <td>戦争と平和</td>\n      <td>1.0</td>\n      <td>1.0</td>\n      <td>10.0</td>\n      <td>10.0</td>\n      <td>7.0</td>\n      <td>11.0</td>\n      <td>12.0</td>\n      <td>12.0</td>\n      <td>7.0</td>\n      <td>12.0</td>\n      <td>14.0</td>\n      <td>25.0</td>\n      <td>16.0</td>\n      <td>15.0</td>\n      <td>45.0</td>\n      <td>37.0</td>\n    </tr>\n    <tr>\n      <th>107</th>\n      <td>月蝕グランギニョル</td>\n      <td>5.0</td>\n      <td>3.0</td>\n      <td>5.0</td>\n      <td>4.0</td>\n      <td>5.0</td>\n      <td>8.0</td>\n      <td>4.0</td>\n      <td>5.0</td>\n      <td>6.0</td>\n      <td>7.0</td>\n      <td>4.0</td>\n      <td>6.0</td>\n      <td>4.0</td>\n      <td>2.0</td>\n      <td>3.0</td>\n      <td>5.0</td>\n    </tr>\n    <tr>\n      <th>108</th>\n      <td>未來のイヴ</td>\n      <td>9.0</td>\n      <td>7.0</td>\n      <td>12.0</td>\n      <td>14.0</td>\n      <td>19.0</td>\n      <td>12.0</td>\n      <td>11.0</td>\n      <td>13.0</td>\n      <td>13.0</td>\n      <td>8.0</td>\n      <td>8.0</td>\n      <td>10.0</td>\n      <td>8.0</td>\n      <td>16.0</td>\n      <td>4.0</td>\n      <td>8.0</td>\n    </tr>\n    <tr>\n      <th>112</th>\n      <td>地獄の季節</td>\n      <td>6.0</td>\n      <td>9.0</td>\n      <td>11.0</td>\n      <td>13.0</td>\n      <td>21.0</td>\n      <td>22.0</td>\n      <td>37.0</td>\n      <td>29.0</td>\n      <td>32.0</td>\n      <td>17.0</td>\n      <td>28.0</td>\n      <td>23.0</td>\n      <td>25.0</td>\n      <td>31.0</td>\n      <td>29.0</td>\n      <td>26.0</td>\n    </tr>\n    <tr>\n      <th>121</th>\n      <td>禁じられた遊び</td>\n      <td>2.0</td>\n      <td>6.0</td>\n      <td>9.0</td>\n      <td>6.0</td>\n      <td>11.0</td>\n      <td>23.0</td>\n      <td>27.0</td>\n      <td>36.0</td>\n      <td>10.0</td>\n      <td>21.0</td>\n      <td>20.0</td>\n      <td>32.0</td>\n      <td>19.0</td>\n      <td>13.0</td>\n      <td>27.0</td>\n      <td>27.0</td>\n    </tr>\n    <tr>\n      <th>123</th>\n      <td>阿修羅姫</td>\n      <td>3.0</td>\n      <td>10.0</td>\n      <td>14.0</td>\n      <td>11.0</td>\n      <td>25.0</td>\n      <td>29.0</td>\n      <td>41.0</td>\n      <td>42.0</td>\n      <td>73.0</td>\n      <td>136.0</td>\n      <td>79.0</td>\n      <td>94.0</td>\n      <td>48.0</td>\n      <td>48.0</td>\n      <td>28.0</td>\n      <td>67.0</td>\n    </tr>\n    <tr>\n      <th>125</th>\n      <td>愛と誠</td>\n      <td>4.0</td>\n      <td>5.0</td>\n      <td>8.0</td>\n      <td>5.0</td>\n      <td>6.0</td>\n      <td>4.0</td>\n      <td>2.0</td>\n      <td>1.0</td>\n      <td>1.0</td>\n      <td>1.0</td>\n      <td>NaN</td>\n      <td>NaN</td>\n      <td>NaN</td>\n      <td>NaN</td>\n      <td>NaN</td>\n      <td>NaN</td>\n    </tr>\n    <tr>\n      <th>135</th>\n      <td>聖少女領域</td>\n      <td>NaN</td>\n      <td>4.0</td>\n      <td>4.0</td>\n      <td>1.0</td>\n      <td>2.0</td>\n      <td>7.0</td>\n      <td>6.0</td>\n      <td>3.0</td>\n      <td>5.0</td>\n      <td>2.0</td>\n      <td>3.0</td>\n      <td>3.0</td>\n      <td>3.0</td>\n      <td>10.0</td>\n      <td>2.0</td>\n      <td>4.0</td>\n    </tr>\n    <tr>\n      <th>143</th>\n      <td>亡國覚醒カタルシス</td>\n      <td>NaN</td>\n      <td>NaN</td>\n      <td>3.0</td>\n      <td>2.0</td>\n      <td>1.0</td>\n      <td>1.0</td>\n      <td>1.0</td>\n      <td>NaN</td>\n      <td>NaN</td>\n      <td>NaN</td>\n      <td>NaN</td>\n      <td>NaN</td>\n      <td>NaN</td>\n      <td>NaN</td>\n      <td>NaN</td>\n      <td>NaN</td>\n    </tr>\n    <tr>\n      <th>145</th>\n      <td>GOD DIVA</td>\n      <td>NaN</td>\n      <td>NaN</td>\n      <td>7.0</td>\n      <td>7.0</td>\n      <td>3.0</td>\n      <td>6.0</td>\n      <td>9.0</td>\n      <td>10.0</td>\n      <td>29.0</td>\n      <td>15.0</td>\n      <td>45.0</td>\n      <td>14.0</td>\n      <td>7.0</td>\n      <td>14.0</td>\n      <td>7.0</td>\n      <td>10.0</td>\n    </tr>\n    <tr>\n      <th>149</th>\n      <td>KING KNIGHT</td>\n      <td>NaN</td>\n      <td>NaN</td>\n      <td>6.0</td>\n      <td>9.0</td>\n      <td>14.0</td>\n      <td>14.0</td>\n      <td>18.0</td>\n      <td>19.0</td>\n      <td>27.0</td>\n      <td>19.0</td>\n      <td>18.0</td>\n      <td>36.0</td>\n      <td>34.0</td>\n      <td>7.0</td>\n      <td>33.0</td>\n      <td>30.0</td>\n    </tr>\n    <tr>\n      <th>152</th>\n      <td>勇侠青春謳</td>\n      <td>NaN</td>\n      <td>NaN</td>\n      <td>1.0</td>\n      <td>3.0</td>\n      <td>4.0</td>\n      <td>10.0</td>\n      <td>8.0</td>\n      <td>7.0</td>\n      <td>28.0</td>\n      <td>20.0</td>\n      <td>24.0</td>\n      <td>24.0</td>\n      <td>24.0</td>\n      <td>18.0</td>\n      <td>39.0</td>\n      <td>12.0</td>\n    </tr>\n    <tr>\n      <th>158</th>\n      <td>薔薇獄乙女</td>\n      <td>NaN</td>\n      <td>NaN</td>\n      <td>2.0</td>\n      <td>8.0</td>\n      <td>17.0</td>\n      <td>31.0</td>\n      <td>33.0</td>\n      <td>33.0</td>\n      <td>22.0</td>\n      <td>52.0</td>\n      <td>76.0</td>\n      <td>37.0</td>\n      <td>41.0</td>\n      <td>34.0</td>\n      <td>61.0</td>\n      <td>35.0</td>\n    </tr>\n    <tr>\n      <th>183</th>\n      <td>わが﨟たし悪の華</td>\n      <td>NaN</td>\n      <td>NaN</td>\n      <td>NaN</td>\n      <td>NaN</td>\n      <td>NaN</td>\n      <td>2.0</td>\n      <td>3.0</td>\n      <td>6.0</td>\n      <td>9.0</td>\n      <td>22.0</td>\n      <td>53.0</td>\n      <td>26.0</td>\n      <td>31.0</td>\n      <td>29.0</td>\n      <td>21.0</td>\n      <td>23.0</td>\n    </tr>\n    <tr>\n      <th>191</th>\n      <td>雪華懺悔心中</td>\n      <td>NaN</td>\n      <td>NaN</td>\n      <td>NaN</td>\n      <td>NaN</td>\n      <td>NaN</td>\n      <td>3.0</td>\n      <td>5.0</td>\n      <td>4.0</td>\n      <td>4.0</td>\n      <td>10.0</td>\n      <td>7.0</td>\n      <td>4.0</td>\n      <td>5.0</td>\n      <td>5.0</td>\n      <td>5.0</td>\n      <td>9.0</td>\n    </tr>\n    <tr>\n      <th>274</th>\n      <td>黒百合隠密カゲキダン</td>\n      <td>NaN</td>\n      <td>NaN</td>\n      <td>NaN</td>\n      <td>NaN</td>\n      <td>NaN</td>\n      <td>NaN</td>\n      <td>NaN</td>\n      <td>NaN</td>\n      <td>NaN</td>\n      <td>4.0</td>\n      <td>10.0</td>\n      <td>42.0</td>\n      <td>63.0</td>\n      <td>103.0</td>\n      <td>85.0</td>\n      <td>116.0</td>\n    </tr>\n    <tr>\n      <th>279</th>\n      <td>リュウコウセカイ</td>\n      <td>NaN</td>\n      <td>NaN</td>\n      <td>NaN</td>\n      <td>NaN</td>\n      <td>NaN</td>\n      <td>NaN</td>\n      <td>NaN</td>\n      <td>NaN</td>\n      <td>NaN</td>\n      <td>NaN</td>\n      <td>1.0</td>\n      <td>1.0</td>\n      <td>1.0</td>\n      <td>NaN</td>\n      <td>NaN</td>\n      <td>NaN</td>\n    </tr>\n    <tr>\n      <th>319</th>\n      <td>まだら恋椿外道</td>\n      <td>NaN</td>\n      <td>NaN</td>\n      <td>NaN</td>\n      <td>NaN</td>\n      <td>NaN</td>\n      <td>NaN</td>\n      <td>NaN</td>\n      <td>NaN</td>\n      <td>NaN</td>\n      <td>NaN</td>\n      <td>NaN</td>\n      <td>NaN</td>\n      <td>2.0</td>\n      <td>8.0</td>\n      <td>9.0</td>\n      <td>22.0</td>\n    </tr>\n    <tr>\n      <th>326</th>\n      <td>芸術変態論</td>\n      <td>NaN</td>\n      <td>NaN</td>\n      <td>NaN</td>\n      <td>NaN</td>\n      <td>NaN</td>\n      <td>NaN</td>\n      <td>NaN</td>\n      <td>NaN</td>\n      <td>NaN</td>\n      <td>NaN</td>\n      <td>NaN</td>\n      <td>NaN</td>\n      <td>NaN</td>\n      <td>NaN</td>\n      <td>1.0</td>\n      <td>6.0</td>\n    </tr>\n  </tbody>\n</table>\n</div>",
      "text/plain": "           title  r2005  r2006#1  r2006#2  r2007  r2008  r2009  r2010  r2011  \\\nno                                                                             \n99         戦争と平和    1.0      1.0     10.0   10.0    7.0   11.0   12.0   12.0   \n107    月蝕グランギニョル    5.0      3.0      5.0    4.0    5.0    8.0    4.0    5.0   \n108        未來のイヴ    9.0      7.0     12.0   14.0   19.0   12.0   11.0   13.0   \n112        地獄の季節    6.0      9.0     11.0   13.0   21.0   22.0   37.0   29.0   \n121      禁じられた遊び    2.0      6.0      9.0    6.0   11.0   23.0   27.0   36.0   \n123         阿修羅姫    3.0     10.0     14.0   11.0   25.0   29.0   41.0   42.0   \n125          愛と誠    4.0      5.0      8.0    5.0    6.0    4.0    2.0    1.0   \n135        聖少女領域    NaN      4.0      4.0    1.0    2.0    7.0    6.0    3.0   \n143    亡國覚醒カタルシス    NaN      NaN      3.0    2.0    1.0    1.0    1.0    NaN   \n145     GOD DIVA    NaN      NaN      7.0    7.0    3.0    6.0    9.0   10.0   \n149  KING KNIGHT    NaN      NaN      6.0    9.0   14.0   14.0   18.0   19.0   \n152        勇侠青春謳    NaN      NaN      1.0    3.0    4.0   10.0    8.0    7.0   \n158        薔薇獄乙女    NaN      NaN      2.0    8.0   17.0   31.0   33.0   33.0   \n183     わが﨟たし悪の華    NaN      NaN      NaN    NaN    NaN    2.0    3.0    6.0   \n191       雪華懺悔心中    NaN      NaN      NaN    NaN    NaN    3.0    5.0    4.0   \n274   黒百合隠密カゲキダン    NaN      NaN      NaN    NaN    NaN    NaN    NaN    NaN   \n279     リュウコウセカイ    NaN      NaN      NaN    NaN    NaN    NaN    NaN    NaN   \n319      まだら恋椿外道    NaN      NaN      NaN    NaN    NaN    NaN    NaN    NaN   \n326        芸術変態論    NaN      NaN      NaN    NaN    NaN    NaN    NaN    NaN   \n\n     r2012  r2013  r2014  r2015  r2016  r2017  r2018  r2019  \nno                                                           \n99     7.0   12.0   14.0   25.0   16.0   15.0   45.0   37.0  \n107    6.0    7.0    4.0    6.0    4.0    2.0    3.0    5.0  \n108   13.0    8.0    8.0   10.0    8.0   16.0    4.0    8.0  \n112   32.0   17.0   28.0   23.0   25.0   31.0   29.0   26.0  \n121   10.0   21.0   20.0   32.0   19.0   13.0   27.0   27.0  \n123   73.0  136.0   79.0   94.0   48.0   48.0   28.0   67.0  \n125    1.0    1.0    NaN    NaN    NaN    NaN    NaN    NaN  \n135    5.0    2.0    3.0    3.0    3.0   10.0    2.0    4.0  \n143    NaN    NaN    NaN    NaN    NaN    NaN    NaN    NaN  \n145   29.0   15.0   45.0   14.0    7.0   14.0    7.0   10.0  \n149   27.0   19.0   18.0   36.0   34.0    7.0   33.0   30.0  \n152   28.0   20.0   24.0   24.0   24.0   18.0   39.0   12.0  \n158   22.0   52.0   76.0   37.0   41.0   34.0   61.0   35.0  \n183    9.0   22.0   53.0   26.0   31.0   29.0   21.0   23.0  \n191    4.0   10.0    7.0    4.0    5.0    5.0    5.0    9.0  \n274    NaN    4.0   10.0   42.0   63.0  103.0   85.0  116.0  \n279    NaN    NaN    1.0    1.0    1.0    NaN    NaN    NaN  \n319    NaN    NaN    NaN    NaN    2.0    8.0    9.0   22.0  \n326    NaN    NaN    NaN    NaN    NaN    NaN    1.0    6.0  "
     },
     "execution_count": 254,
     "metadata": {},
     "output_type": "execute_result"
    }
   ],
   "source": [
    "# 初登場から続けてtop 10にいる\n",
    "N = 2\n",
    "t = []\n",
    "len_col = len(df.columns)\n",
    "for no in df.index:\n",
    "    idx = df.columns.to_list().index(df.initial.at[no])\n",
    "    cond = df.at[no, df.initial.at[no]] <= 10\n",
    "    for i in range(1, N):\n",
    "        if len_col <= idx + i or df.columns[idx + i] not in RANK_ALL:\n",
    "            cond = False\n",
    "            continue\n",
    "        cond &= df.loc[no].iat[idx + i] <= 10\n",
    "    if cond:\n",
    "        t += [df.title.at[no]]\n",
    "continuous10 = df.query('title in @t')[['title', *RANK_ALL]]\n",
    "print(len(continuous10))\n",
    "continuous10"
   ]
  },
  {
   "cell_type": "code",
   "execution_count": 255,
   "metadata": {},
   "outputs": [
    {
     "data": {
      "text/html": "<div>\n<style scoped>\n    .dataframe tbody tr th:only-of-type {\n        vertical-align: middle;\n    }\n\n    .dataframe tbody tr th {\n        vertical-align: top;\n    }\n\n    .dataframe thead th {\n        text-align: right;\n    }\n</style>\n<table border=\"1\" class=\"dataframe\">\n  <thead>\n    <tr style=\"text-align: right;\">\n      <th></th>\n      <th>title</th>\n      <th>date</th>\n      <th>under20</th>\n    </tr>\n    <tr>\n      <th>no</th>\n      <th></th>\n      <th></th>\n      <th></th>\n    </tr>\n  </thead>\n  <tbody>\n    <tr>\n      <th>108</th>\n      <td>未來のイヴ</td>\n      <td>2003-11-05</td>\n      <td>16</td>\n    </tr>\n    <tr>\n      <th>282</th>\n      <td>Lolicate</td>\n      <td>2014-08-27</td>\n      <td>6</td>\n    </tr>\n    <tr>\n      <th>322</th>\n      <td>卑弥呼外伝</td>\n      <td>2017-03-29</td>\n      <td>3</td>\n    </tr>\n    <tr>\n      <th>339</th>\n      <td>21世紀新青年</td>\n      <td>2019-08-28</td>\n      <td>1</td>\n    </tr>\n    <tr>\n      <th>340</th>\n      <td>リアル×ファンタジー</td>\n      <td>2019-08-28</td>\n      <td>1</td>\n    </tr>\n    <tr>\n      <th>344</th>\n      <td>少女のための残酷童話</td>\n      <td>2019-08-28</td>\n      <td>1</td>\n    </tr>\n  </tbody>\n</table>\n</div>",
      "text/plain": "          title       date  under20\nno                                 \n108       未來のイヴ 2003-11-05       16\n282    Lolicate 2014-08-27        6\n322       卑弥呼外伝 2017-03-29        3\n339     21世紀新青年 2019-08-28        1\n340  リアル×ファンタジー 2019-08-28        1\n344  少女のための残酷童話 2019-08-28        1"
     },
     "execution_count": 255,
     "metadata": {},
     "output_type": "execute_result"
    }
   ],
   "source": [
    "target[(10 < max_rank) & (max_rank <= 20)][['title', 'date']].assign(under20=(target_rank_all <= 20).sum(1))"
   ]
  },
  {
   "cell_type": "code",
   "execution_count": 256,
   "metadata": {},
   "outputs": [
    {
     "name": "stdout",
     "output_type": "stream",
     "text": "曲名|発表年|回数\n---|---:|---:\n未來のイヴ|2003|16\nLolicate|2014|6\n卑弥呼外伝|2017|3\n21世紀新青年|2019|1\nリアル×ファンタジー|2019|1\n少女のための残酷童話|2019|1\n"
    }
   ],
   "source": [
    "print('曲名|発表年|回数')\n",
    "print('---|---:|---:')\n",
    "for no in _.index:\n",
    "    print(f'{_.title.at[no]}|{_.date.at[no].year}|{_.under20.at[no]}')"
   ]
  },
  {
   "cell_type": "code",
   "execution_count": 257,
   "metadata": {},
   "outputs": [
    {
     "name": "stdout",
     "output_type": "stream",
     "text": "2\n"
    },
    {
     "data": {
      "text/html": "<div>\n<style scoped>\n    .dataframe tbody tr th:only-of-type {\n        vertical-align: middle;\n    }\n\n    .dataframe tbody tr th {\n        vertical-align: top;\n    }\n\n    .dataframe thead th {\n        text-align: right;\n    }\n</style>\n<table border=\"1\" class=\"dataframe\">\n  <thead>\n    <tr style=\"text-align: right;\">\n      <th></th>\n      <th>title</th>\n      <th>r2005</th>\n      <th>r2006#1</th>\n      <th>r2006#2</th>\n      <th>r2007</th>\n      <th>r2008</th>\n      <th>r2009</th>\n      <th>r2010</th>\n      <th>r2011</th>\n      <th>r2012</th>\n      <th>r2013</th>\n      <th>r2014</th>\n      <th>r2015</th>\n      <th>r2016</th>\n      <th>r2017</th>\n      <th>r2018</th>\n      <th>r2019</th>\n    </tr>\n    <tr>\n      <th>no</th>\n      <th></th>\n      <th></th>\n      <th></th>\n      <th></th>\n      <th></th>\n      <th></th>\n      <th></th>\n      <th></th>\n      <th></th>\n      <th></th>\n      <th></th>\n      <th></th>\n      <th></th>\n      <th></th>\n      <th></th>\n      <th></th>\n      <th></th>\n    </tr>\n  </thead>\n  <tbody>\n    <tr>\n      <th>107</th>\n      <td>月蝕グランギニョル</td>\n      <td>5.0</td>\n      <td>3.0</td>\n      <td>5.0</td>\n      <td>4.0</td>\n      <td>5.0</td>\n      <td>8.0</td>\n      <td>4.0</td>\n      <td>5.0</td>\n      <td>6.0</td>\n      <td>7.0</td>\n      <td>4.0</td>\n      <td>6.0</td>\n      <td>4.0</td>\n      <td>2.0</td>\n      <td>3.0</td>\n      <td>5.0</td>\n    </tr>\n    <tr>\n      <th>108</th>\n      <td>未來のイヴ</td>\n      <td>9.0</td>\n      <td>7.0</td>\n      <td>12.0</td>\n      <td>14.0</td>\n      <td>19.0</td>\n      <td>12.0</td>\n      <td>11.0</td>\n      <td>13.0</td>\n      <td>13.0</td>\n      <td>8.0</td>\n      <td>8.0</td>\n      <td>10.0</td>\n      <td>8.0</td>\n      <td>16.0</td>\n      <td>4.0</td>\n      <td>8.0</td>\n    </tr>\n  </tbody>\n</table>\n</div>",
      "text/plain": "         title  r2005  r2006#1  r2006#2  r2007  r2008  r2009  r2010  r2011  \\\nno                                                                           \n107  月蝕グランギニョル    5.0      3.0      5.0    4.0    5.0    8.0    4.0    5.0   \n108      未來のイヴ    9.0      7.0     12.0   14.0   19.0   12.0   11.0   13.0   \n\n     r2012  r2013  r2014  r2015  r2016  r2017  r2018  r2019  \nno                                                           \n107    6.0    7.0    4.0    6.0    4.0    2.0    3.0    5.0  \n108   13.0    8.0    8.0   10.0    8.0   16.0    4.0    8.0  "
     },
     "execution_count": 257,
     "metadata": {},
     "output_type": "execute_result"
    }
   ],
   "source": [
    "# 初登場から続けてtop 20にいる\n",
    "N = 16\n",
    "t = []\n",
    "len_col = len(df.columns)\n",
    "for no in df.index:\n",
    "    idx = df.columns.to_list().index(df.initial.at[no])\n",
    "    cond = df.at[no, df.initial.at[no]] <= 20\n",
    "    for i in range(1, N):\n",
    "        if len_col <= idx + i or df.columns[idx + i] not in RANK_ALL:\n",
    "            cond = False\n",
    "            continue\n",
    "        cond &= df.loc[no].iat[idx + i] <= 20\n",
    "    if cond:\n",
    "        t += [df.title.at[no]]\n",
    "continuous20 = df.query('title in @t')[['title', *RANK_ALL]]\n",
    "print(len(continuous20))\n",
    "continuous20"
   ]
  },
  {
   "cell_type": "code",
   "execution_count": 258,
   "metadata": {},
   "outputs": [
    {
     "data": {
      "text/html": "<div>\n<style scoped>\n    .dataframe tbody tr th:only-of-type {\n        vertical-align: middle;\n    }\n\n    .dataframe tbody tr th {\n        vertical-align: top;\n    }\n\n    .dataframe thead th {\n        text-align: right;\n    }\n</style>\n<table border=\"1\" class=\"dataframe\">\n  <thead>\n    <tr style=\"text-align: right;\">\n      <th></th>\n      <th>title</th>\n      <th>date</th>\n      <th>under30</th>\n    </tr>\n    <tr>\n      <th>no</th>\n      <th></th>\n      <th></th>\n      <th></th>\n    </tr>\n  </thead>\n  <tbody>\n    <tr>\n      <th>132</th>\n      <td>北京LOVERS</td>\n      <td>2005-06-22</td>\n      <td>15</td>\n    </tr>\n    <tr>\n      <th>251</th>\n      <td>凶夢伝染</td>\n      <td>2012-01-25</td>\n      <td>8</td>\n    </tr>\n    <tr>\n      <th>319</th>\n      <td>まだら恋椿外道</td>\n      <td>2016-08-24</td>\n      <td>4</td>\n    </tr>\n    <tr>\n      <th>331</th>\n      <td>青空</td>\n      <td>2018-07-25</td>\n      <td>2</td>\n    </tr>\n    <tr>\n      <th>336</th>\n      <td>魅惑劇</td>\n      <td>2018-07-25</td>\n      <td>2</td>\n    </tr>\n    <tr>\n      <th>341</th>\n      <td>Maison de Bonbonnière</td>\n      <td>2019-08-28</td>\n      <td>1</td>\n    </tr>\n  </tbody>\n</table>\n</div>",
      "text/plain": "                     title       date  under30\nno                                            \n132               北京LOVERS 2005-06-22       15\n251                   凶夢伝染 2012-01-25        8\n319                まだら恋椿外道 2016-08-24        4\n331                     青空 2018-07-25        2\n336                    魅惑劇 2018-07-25        2\n341  Maison de Bonbonnière 2019-08-28        1"
     },
     "execution_count": 258,
     "metadata": {},
     "output_type": "execute_result"
    }
   ],
   "source": [
    "target[(20 < max_rank) & (max_rank <= 30)][['title', 'date']].assign(under30=(target_rank_all <= 30).sum(1))"
   ]
  },
  {
   "cell_type": "code",
   "execution_count": 259,
   "metadata": {},
   "outputs": [
    {
     "name": "stdout",
     "output_type": "stream",
     "text": "曲名|発表年|回数\n---|---:|---:\n北京LOVERS|2005|15\n凶夢伝染|2012|8\nまだら恋椿外道|2016|4\n青空|2018|2\n魅惑劇|2018|2\nMaison de Bonbonnière|2019|1\n"
    }
   ],
   "source": [
    "print('曲名|発表年|回数')\n",
    "print('---|---:|---:')\n",
    "for no in _.index:\n",
    "    print(f'{_.title.at[no]}|{_.date.at[no].year}|{_.under30.at[no]}')"
   ]
  },
  {
   "cell_type": "code",
   "execution_count": 260,
   "metadata": {},
   "outputs": [
    {
     "name": "stdout",
     "output_type": "stream",
     "text": "177\n"
    },
    {
     "data": {
      "text/html": "<div>\n<style scoped>\n    .dataframe tbody tr th:only-of-type {\n        vertical-align: middle;\n    }\n\n    .dataframe tbody tr th {\n        vertical-align: top;\n    }\n\n    .dataframe thead th {\n        text-align: right;\n    }\n</style>\n<table border=\"1\" class=\"dataframe\">\n  <thead>\n    <tr style=\"text-align: right;\">\n      <th></th>\n      <th>title</th>\n      <th>r2005</th>\n      <th>r2006#1</th>\n      <th>r2006#2</th>\n      <th>r2007</th>\n      <th>r2008</th>\n      <th>r2009</th>\n      <th>r2010</th>\n      <th>r2011</th>\n      <th>r2012</th>\n      <th>r2013</th>\n      <th>r2014</th>\n      <th>r2015</th>\n      <th>r2016</th>\n      <th>r2017</th>\n      <th>r2018</th>\n      <th>r2019</th>\n    </tr>\n    <tr>\n      <th>no</th>\n      <th></th>\n      <th></th>\n      <th></th>\n      <th></th>\n      <th></th>\n      <th></th>\n      <th></th>\n      <th></th>\n      <th></th>\n      <th></th>\n      <th></th>\n      <th></th>\n      <th></th>\n      <th></th>\n      <th></th>\n      <th></th>\n      <th></th>\n    </tr>\n  </thead>\n  <tbody>\n    <tr>\n      <th>1</th>\n      <td>桜の花は狂い咲き</td>\n      <td>NaN</td>\n      <td>NaN</td>\n      <td>NaN</td>\n      <td>86.0</td>\n      <td>126.0</td>\n      <td>116.0</td>\n      <td>109.0</td>\n      <td>96.0</td>\n      <td>123.0</td>\n      <td>68.0</td>\n      <td>169.0</td>\n      <td>165.0</td>\n      <td>100.0</td>\n      <td>134.0</td>\n      <td>164.0</td>\n      <td>123.0</td>\n    </tr>\n    <tr>\n      <th>2</th>\n      <td>青蛾月</td>\n      <td>NaN</td>\n      <td>NaN</td>\n      <td>NaN</td>\n      <td>84.0</td>\n      <td>77.0</td>\n      <td>73.0</td>\n      <td>82.0</td>\n      <td>72.0</td>\n      <td>57.0</td>\n      <td>54.0</td>\n      <td>87.0</td>\n      <td>81.0</td>\n      <td>59.0</td>\n      <td>146.0</td>\n      <td>126.0</td>\n      <td>54.0</td>\n    </tr>\n    <tr>\n      <th>3</th>\n      <td>マリーゴールド・ガーデン</td>\n      <td>NaN</td>\n      <td>NaN</td>\n      <td>NaN</td>\n      <td>141.0</td>\n      <td>162.0</td>\n      <td>142.0</td>\n      <td>150.0</td>\n      <td>175.0</td>\n      <td>141.0</td>\n      <td>218.0</td>\n      <td>141.0</td>\n      <td>238.0</td>\n      <td>190.0</td>\n      <td>155.0</td>\n      <td>164.0</td>\n      <td>216.0</td>\n    </tr>\n    <tr>\n      <th>4</th>\n      <td>鏡面界 im Juni</td>\n      <td>NaN</td>\n      <td>NaN</td>\n      <td>NaN</td>\n      <td>165.0</td>\n      <td>185.0</td>\n      <td>181.0</td>\n      <td>171.0</td>\n      <td>204.0</td>\n      <td>131.0</td>\n      <td>174.0</td>\n      <td>194.0</td>\n      <td>253.0</td>\n      <td>244.0</td>\n      <td>202.0</td>\n      <td>250.0</td>\n      <td>260.0</td>\n    </tr>\n    <tr>\n      <th>5</th>\n      <td>アンジェ・ノワールの祭戯</td>\n      <td>NaN</td>\n      <td>NaN</td>\n      <td>NaN</td>\n      <td>109.0</td>\n      <td>131.0</td>\n      <td>111.0</td>\n      <td>93.0</td>\n      <td>81.0</td>\n      <td>96.0</td>\n      <td>150.0</td>\n      <td>106.0</td>\n      <td>156.0</td>\n      <td>244.0</td>\n      <td>187.0</td>\n      <td>63.0</td>\n      <td>106.0</td>\n    </tr>\n    <tr>\n      <th>...</th>\n      <td>...</td>\n      <td>...</td>\n      <td>...</td>\n      <td>...</td>\n      <td>...</td>\n      <td>...</td>\n      <td>...</td>\n      <td>...</td>\n      <td>...</td>\n      <td>...</td>\n      <td>...</td>\n      <td>...</td>\n      <td>...</td>\n      <td>...</td>\n      <td>...</td>\n      <td>...</td>\n      <td>...</td>\n    </tr>\n    <tr>\n      <th>319</th>\n      <td>まだら恋椿外道</td>\n      <td>NaN</td>\n      <td>NaN</td>\n      <td>NaN</td>\n      <td>NaN</td>\n      <td>NaN</td>\n      <td>NaN</td>\n      <td>NaN</td>\n      <td>NaN</td>\n      <td>NaN</td>\n      <td>NaN</td>\n      <td>NaN</td>\n      <td>NaN</td>\n      <td>2.0</td>\n      <td>8.0</td>\n      <td>9.0</td>\n      <td>22.0</td>\n    </tr>\n    <tr>\n      <th>322</th>\n      <td>卑弥呼外伝</td>\n      <td>NaN</td>\n      <td>NaN</td>\n      <td>NaN</td>\n      <td>NaN</td>\n      <td>NaN</td>\n      <td>NaN</td>\n      <td>NaN</td>\n      <td>NaN</td>\n      <td>NaN</td>\n      <td>NaN</td>\n      <td>NaN</td>\n      <td>NaN</td>\n      <td>NaN</td>\n      <td>4.0</td>\n      <td>12.0</td>\n      <td>18.0</td>\n    </tr>\n    <tr>\n      <th>326</th>\n      <td>芸術変態論</td>\n      <td>NaN</td>\n      <td>NaN</td>\n      <td>NaN</td>\n      <td>NaN</td>\n      <td>NaN</td>\n      <td>NaN</td>\n      <td>NaN</td>\n      <td>NaN</td>\n      <td>NaN</td>\n      <td>NaN</td>\n      <td>NaN</td>\n      <td>NaN</td>\n      <td>NaN</td>\n      <td>NaN</td>\n      <td>1.0</td>\n      <td>6.0</td>\n    </tr>\n    <tr>\n      <th>331</th>\n      <td>青空</td>\n      <td>NaN</td>\n      <td>NaN</td>\n      <td>NaN</td>\n      <td>NaN</td>\n      <td>NaN</td>\n      <td>NaN</td>\n      <td>NaN</td>\n      <td>NaN</td>\n      <td>NaN</td>\n      <td>NaN</td>\n      <td>NaN</td>\n      <td>NaN</td>\n      <td>NaN</td>\n      <td>NaN</td>\n      <td>6.0</td>\n      <td>24.0</td>\n    </tr>\n    <tr>\n      <th>336</th>\n      <td>魅惑劇</td>\n      <td>NaN</td>\n      <td>NaN</td>\n      <td>NaN</td>\n      <td>NaN</td>\n      <td>NaN</td>\n      <td>NaN</td>\n      <td>NaN</td>\n      <td>NaN</td>\n      <td>NaN</td>\n      <td>NaN</td>\n      <td>NaN</td>\n      <td>NaN</td>\n      <td>NaN</td>\n      <td>NaN</td>\n      <td>11.0</td>\n      <td>25.0</td>\n    </tr>\n  </tbody>\n</table>\n<p>177 rows × 17 columns</p>\n</div>",
      "text/plain": "            title  r2005  r2006#1  r2006#2  r2007  r2008  r2009  r2010  r2011  \\\nno                                                                              \n1        桜の花は狂い咲き    NaN      NaN      NaN   86.0  126.0  116.0  109.0   96.0   \n2             青蛾月    NaN      NaN      NaN   84.0   77.0   73.0   82.0   72.0   \n3    マリーゴールド・ガーデン    NaN      NaN      NaN  141.0  162.0  142.0  150.0  175.0   \n4     鏡面界 im Juni    NaN      NaN      NaN  165.0  185.0  181.0  171.0  204.0   \n5    アンジェ・ノワールの祭戯    NaN      NaN      NaN  109.0  131.0  111.0   93.0   81.0   \n..            ...    ...      ...      ...    ...    ...    ...    ...    ...   \n319       まだら恋椿外道    NaN      NaN      NaN    NaN    NaN    NaN    NaN    NaN   \n322         卑弥呼外伝    NaN      NaN      NaN    NaN    NaN    NaN    NaN    NaN   \n326         芸術変態論    NaN      NaN      NaN    NaN    NaN    NaN    NaN    NaN   \n331            青空    NaN      NaN      NaN    NaN    NaN    NaN    NaN    NaN   \n336           魅惑劇    NaN      NaN      NaN    NaN    NaN    NaN    NaN    NaN   \n\n     r2012  r2013  r2014  r2015  r2016  r2017  r2018  r2019  \nno                                                           \n1    123.0   68.0  169.0  165.0  100.0  134.0  164.0  123.0  \n2     57.0   54.0   87.0   81.0   59.0  146.0  126.0   54.0  \n3    141.0  218.0  141.0  238.0  190.0  155.0  164.0  216.0  \n4    131.0  174.0  194.0  253.0  244.0  202.0  250.0  260.0  \n5     96.0  150.0  106.0  156.0  244.0  187.0   63.0  106.0  \n..     ...    ...    ...    ...    ...    ...    ...    ...  \n319    NaN    NaN    NaN    NaN    2.0    8.0    9.0   22.0  \n322    NaN    NaN    NaN    NaN    NaN    4.0   12.0   18.0  \n326    NaN    NaN    NaN    NaN    NaN    NaN    1.0    6.0  \n331    NaN    NaN    NaN    NaN    NaN    NaN    6.0   24.0  \n336    NaN    NaN    NaN    NaN    NaN    NaN   11.0   25.0  \n\n[177 rows x 17 columns]"
     },
     "execution_count": 260,
     "metadata": {},
     "output_type": "execute_result"
    }
   ],
   "source": [
    "# 初登場から続けてtop 30にいる\n",
    "N = 2\n",
    "t = []\n",
    "len_col = len(df.columns)\n",
    "for no in df.index:\n",
    "    initial = df.initial.at[no]\n",
    "    initial_val = df.at[no, initial]\n",
    "    idx = df.columns.to_list().index(initial)\n",
    "    cond = initial_val <= 30 or pandas.isna(initial_val) if initial in RANK_INCOMPLETE else initial_val <= 30\n",
    "    for i in range(1, N):\n",
    "        if len_col <= idx + i or df.columns[idx + i] not in RANK_ALL:\n",
    "            cond = False\n",
    "            continue\n",
    "        this_col = df.columns[idx + i]\n",
    "        this_col_val = df.at[no, this_col]\n",
    "        cond &= this_col_val <= 30 or pandas.isna(this_col_val) if this_col in RANK_INCOMPLETE else this_col_val <= 30\n",
    "    if cond:\n",
    "        t += [df.title.at[no]]\n",
    "continuous30 = df.query('title in @t')[['title', *RANK_ALL]]\n",
    "print(len(continuous30))\n",
    "continuous30"
   ]
  },
  {
   "cell_type": "code",
   "execution_count": 261,
   "metadata": {},
   "outputs": [
    {
     "data": {
      "text/html": "<div>\n<style scoped>\n    .dataframe tbody tr th:only-of-type {\n        vertical-align: middle;\n    }\n\n    .dataframe tbody tr th {\n        vertical-align: top;\n    }\n\n    .dataframe thead th {\n        text-align: right;\n    }\n</style>\n<table border=\"1\" class=\"dataframe\">\n  <thead>\n    <tr style=\"text-align: right;\">\n      <th></th>\n      <th>title</th>\n      <th>date</th>\n      <th>under50</th>\n    </tr>\n    <tr>\n      <th>no</th>\n      <th></th>\n      <th></th>\n      <th></th>\n    </tr>\n  </thead>\n  <tbody>\n    <tr>\n      <th>99</th>\n      <td>戦争と平和</td>\n      <td>2002-07-24</td>\n      <td>16</td>\n    </tr>\n    <tr>\n      <th>112</th>\n      <td>地獄の季節</td>\n      <td>2003-12-03</td>\n      <td>16</td>\n    </tr>\n    <tr>\n      <th>121</th>\n      <td>禁じられた遊び</td>\n      <td>2004-10-22</td>\n      <td>16</td>\n    </tr>\n    <tr>\n      <th>145</th>\n      <td>GOD DIVA</td>\n      <td>2006-06-28</td>\n      <td>14</td>\n    </tr>\n    <tr>\n      <th>149</th>\n      <td>KING KNIGHT</td>\n      <td>2006-09-21</td>\n      <td>14</td>\n    </tr>\n    <tr>\n      <th>152</th>\n      <td>勇侠青春謳</td>\n      <td>2006-10-25</td>\n      <td>14</td>\n    </tr>\n    <tr>\n      <th>157</th>\n      <td>今宵、碧い森深く</td>\n      <td>2006-12-06</td>\n      <td>13</td>\n    </tr>\n    <tr>\n      <th>168</th>\n      <td>青嵐血風録</td>\n      <td>2007-08-22</td>\n      <td>12</td>\n    </tr>\n    <tr>\n      <th>320</th>\n      <td>悪しき進化</td>\n      <td>2016-08-24</td>\n      <td>4</td>\n    </tr>\n    <tr>\n      <th>333</th>\n      <td>或る修道士の告解</td>\n      <td>2018-07-25</td>\n      <td>2</td>\n    </tr>\n  </tbody>\n</table>\n</div>",
      "text/plain": "           title       date  under50\nno                                  \n99         戦争と平和 2002-07-24       16\n112        地獄の季節 2003-12-03       16\n121      禁じられた遊び 2004-10-22       16\n145     GOD DIVA 2006-06-28       14\n149  KING KNIGHT 2006-09-21       14\n152        勇侠青春謳 2006-10-25       14\n157     今宵、碧い森深く 2006-12-06       13\n168        青嵐血風録 2007-08-22       12\n320        悪しき進化 2016-08-24        4\n333     或る修道士の告解 2018-07-25        2"
     },
     "execution_count": 261,
     "metadata": {},
     "output_type": "execute_result"
    }
   ],
   "source": [
    "target[(30 < max_rank) & (max_rank <= 50)][['title', 'date']].assign(under50=(target_rank_all <= 50).sum(1))"
   ]
  },
  {
   "cell_type": "code",
   "execution_count": 262,
   "metadata": {},
   "outputs": [
    {
     "name": "stdout",
     "output_type": "stream",
     "text": "曲名|発表年|回数\n---|---:|---:\n戦争と平和|2002|16\n地獄の季節|2003|16\n禁じられた遊び|2004|16\nGOD DIVA|2006|14\nKING KNIGHT|2006|14\n勇侠青春謳|2006|14\n今宵、碧い森深く|2006|13\n青嵐血風録|2007|12\n悪しき進化|2016|4\n或る修道士の告解|2018|2\n"
    }
   ],
   "source": [
    "print('曲名|発表年|回数')\n",
    "print('---|---:|---:')\n",
    "for no in _.index:\n",
    "    print(f'{_.title.at[no]}|{_.date.at[no].year}|{_.under50.at[no]}')"
   ]
  },
  {
   "cell_type": "code",
   "execution_count": 315,
   "metadata": {},
   "outputs": [
    {
     "name": "stdout",
     "output_type": "stream",
     "text": "208\n"
    },
    {
     "data": {
      "text/html": "<div>\n<style scoped>\n    .dataframe tbody tr th:only-of-type {\n        vertical-align: middle;\n    }\n\n    .dataframe tbody tr th {\n        vertical-align: top;\n    }\n\n    .dataframe thead th {\n        text-align: right;\n    }\n</style>\n<table border=\"1\" class=\"dataframe\">\n  <thead>\n    <tr style=\"text-align: right;\">\n      <th></th>\n      <th>title</th>\n      <th>r2005</th>\n      <th>r2006#1</th>\n      <th>r2006#2</th>\n      <th>r2007</th>\n      <th>r2008</th>\n      <th>r2009</th>\n      <th>r2010</th>\n      <th>r2011</th>\n      <th>r2012</th>\n      <th>r2013</th>\n      <th>r2014</th>\n      <th>r2015</th>\n      <th>r2016</th>\n      <th>r2017</th>\n      <th>r2018</th>\n      <th>r2019</th>\n    </tr>\n    <tr>\n      <th>no</th>\n      <th></th>\n      <th></th>\n      <th></th>\n      <th></th>\n      <th></th>\n      <th></th>\n      <th></th>\n      <th></th>\n      <th></th>\n      <th></th>\n      <th></th>\n      <th></th>\n      <th></th>\n      <th></th>\n      <th></th>\n      <th></th>\n      <th></th>\n    </tr>\n  </thead>\n  <tbody>\n    <tr>\n      <th>264</th>\n      <td>快恠奇奇</td>\n      <td>NaN</td>\n      <td>NaN</td>\n      <td>NaN</td>\n      <td>NaN</td>\n      <td>NaN</td>\n      <td>NaN</td>\n      <td>NaN</td>\n      <td>NaN</td>\n      <td>NaN</td>\n      <td>13.0</td>\n      <td>33.0</td>\n      <td>53.0</td>\n      <td>42.0</td>\n      <td>68.0</td>\n      <td>52.0</td>\n      <td>151.0</td>\n    </tr>\n    <tr>\n      <th>265</th>\n      <td>私の薔薇を喰みなさい</td>\n      <td>NaN</td>\n      <td>NaN</td>\n      <td>NaN</td>\n      <td>NaN</td>\n      <td>NaN</td>\n      <td>NaN</td>\n      <td>NaN</td>\n      <td>NaN</td>\n      <td>NaN</td>\n      <td>5.0</td>\n      <td>39.0</td>\n      <td>129.0</td>\n      <td>53.0</td>\n      <td>62.0</td>\n      <td>60.0</td>\n      <td>83.0</td>\n    </tr>\n    <tr>\n      <th>268</th>\n      <td>令嬢薔薇図鑑</td>\n      <td>NaN</td>\n      <td>NaN</td>\n      <td>NaN</td>\n      <td>NaN</td>\n      <td>NaN</td>\n      <td>NaN</td>\n      <td>NaN</td>\n      <td>NaN</td>\n      <td>NaN</td>\n      <td>6.0</td>\n      <td>35.0</td>\n      <td>57.0</td>\n      <td>77.0</td>\n      <td>25.0</td>\n      <td>44.0</td>\n      <td>117.0</td>\n    </tr>\n    <tr>\n      <th>269</th>\n      <td>ローズ家の双子達</td>\n      <td>NaN</td>\n      <td>NaN</td>\n      <td>NaN</td>\n      <td>NaN</td>\n      <td>NaN</td>\n      <td>NaN</td>\n      <td>NaN</td>\n      <td>NaN</td>\n      <td>NaN</td>\n      <td>3.0</td>\n      <td>12.0</td>\n      <td>47.0</td>\n      <td>45.0</td>\n      <td>26.0</td>\n      <td>78.0</td>\n      <td>106.0</td>\n    </tr>\n    <tr>\n      <th>273</th>\n      <td>少女と水蜜桃</td>\n      <td>NaN</td>\n      <td>NaN</td>\n      <td>NaN</td>\n      <td>NaN</td>\n      <td>NaN</td>\n      <td>NaN</td>\n      <td>NaN</td>\n      <td>NaN</td>\n      <td>NaN</td>\n      <td>31.0</td>\n      <td>23.0</td>\n      <td>52.0</td>\n      <td>46.0</td>\n      <td>28.0</td>\n      <td>70.0</td>\n      <td>90.0</td>\n    </tr>\n    <tr>\n      <th>274</th>\n      <td>黒百合隠密カゲキダン</td>\n      <td>NaN</td>\n      <td>NaN</td>\n      <td>NaN</td>\n      <td>NaN</td>\n      <td>NaN</td>\n      <td>NaN</td>\n      <td>NaN</td>\n      <td>NaN</td>\n      <td>NaN</td>\n      <td>4.0</td>\n      <td>10.0</td>\n      <td>42.0</td>\n      <td>63.0</td>\n      <td>103.0</td>\n      <td>85.0</td>\n      <td>116.0</td>\n    </tr>\n    <tr>\n      <th>279</th>\n      <td>リュウコウセカイ</td>\n      <td>NaN</td>\n      <td>NaN</td>\n      <td>NaN</td>\n      <td>NaN</td>\n      <td>NaN</td>\n      <td>NaN</td>\n      <td>NaN</td>\n      <td>NaN</td>\n      <td>NaN</td>\n      <td>NaN</td>\n      <td>1.0</td>\n      <td>1.0</td>\n      <td>1.0</td>\n      <td>NaN</td>\n      <td>NaN</td>\n      <td>NaN</td>\n    </tr>\n    <tr>\n      <th>282</th>\n      <td>Lolicate</td>\n      <td>NaN</td>\n      <td>NaN</td>\n      <td>NaN</td>\n      <td>NaN</td>\n      <td>NaN</td>\n      <td>NaN</td>\n      <td>NaN</td>\n      <td>NaN</td>\n      <td>NaN</td>\n      <td>NaN</td>\n      <td>2.0</td>\n      <td>13.0</td>\n      <td>12.0</td>\n      <td>3.0</td>\n      <td>8.0</td>\n      <td>3.0</td>\n    </tr>\n    <tr>\n      <th>295</th>\n      <td>Tico Tico no Fubá</td>\n      <td>NaN</td>\n      <td>NaN</td>\n      <td>NaN</td>\n      <td>NaN</td>\n      <td>NaN</td>\n      <td>NaN</td>\n      <td>NaN</td>\n      <td>NaN</td>\n      <td>NaN</td>\n      <td>NaN</td>\n      <td>NaN</td>\n      <td>21.0</td>\n      <td>50.0</td>\n      <td>61.0</td>\n      <td>120.0</td>\n      <td>179.0</td>\n    </tr>\n    <tr>\n      <th>301</th>\n      <td>快楽のススメ</td>\n      <td>NaN</td>\n      <td>NaN</td>\n      <td>NaN</td>\n      <td>NaN</td>\n      <td>NaN</td>\n      <td>NaN</td>\n      <td>NaN</td>\n      <td>NaN</td>\n      <td>NaN</td>\n      <td>NaN</td>\n      <td>NaN</td>\n      <td>7.0</td>\n      <td>26.0</td>\n      <td>161.0</td>\n      <td>170.0</td>\n      <td>115.0</td>\n    </tr>\n    <tr>\n      <th>302</th>\n      <td>放蕩娘と無慈悲な遊戯</td>\n      <td>NaN</td>\n      <td>NaN</td>\n      <td>NaN</td>\n      <td>NaN</td>\n      <td>NaN</td>\n      <td>NaN</td>\n      <td>NaN</td>\n      <td>NaN</td>\n      <td>NaN</td>\n      <td>NaN</td>\n      <td>NaN</td>\n      <td>19.0</td>\n      <td>43.0</td>\n      <td>60.0</td>\n      <td>63.0</td>\n      <td>59.0</td>\n    </tr>\n    <tr>\n      <th>317</th>\n      <td>昭和B級下手喰い道</td>\n      <td>NaN</td>\n      <td>NaN</td>\n      <td>NaN</td>\n      <td>NaN</td>\n      <td>NaN</td>\n      <td>NaN</td>\n      <td>NaN</td>\n      <td>NaN</td>\n      <td>NaN</td>\n      <td>NaN</td>\n      <td>NaN</td>\n      <td>NaN</td>\n      <td>6.0</td>\n      <td>43.0</td>\n      <td>55.0</td>\n      <td>137.0</td>\n    </tr>\n    <tr>\n      <th>318</th>\n      <td>女化生舞楽図</td>\n      <td>NaN</td>\n      <td>NaN</td>\n      <td>NaN</td>\n      <td>NaN</td>\n      <td>NaN</td>\n      <td>NaN</td>\n      <td>NaN</td>\n      <td>NaN</td>\n      <td>NaN</td>\n      <td>NaN</td>\n      <td>NaN</td>\n      <td>NaN</td>\n      <td>17.0</td>\n      <td>47.0</td>\n      <td>63.0</td>\n      <td>141.0</td>\n    </tr>\n    <tr>\n      <th>319</th>\n      <td>まだら恋椿外道</td>\n      <td>NaN</td>\n      <td>NaN</td>\n      <td>NaN</td>\n      <td>NaN</td>\n      <td>NaN</td>\n      <td>NaN</td>\n      <td>NaN</td>\n      <td>NaN</td>\n      <td>NaN</td>\n      <td>NaN</td>\n      <td>NaN</td>\n      <td>NaN</td>\n      <td>2.0</td>\n      <td>8.0</td>\n      <td>9.0</td>\n      <td>22.0</td>\n    </tr>\n    <tr>\n      <th>320</th>\n      <td>悪しき進化</td>\n      <td>NaN</td>\n      <td>NaN</td>\n      <td>NaN</td>\n      <td>NaN</td>\n      <td>NaN</td>\n      <td>NaN</td>\n      <td>NaN</td>\n      <td>NaN</td>\n      <td>NaN</td>\n      <td>NaN</td>\n      <td>NaN</td>\n      <td>NaN</td>\n      <td>15.0</td>\n      <td>35.0</td>\n      <td>22.0</td>\n      <td>34.0</td>\n    </tr>\n    <tr>\n      <th>322</th>\n      <td>卑弥呼外伝</td>\n      <td>NaN</td>\n      <td>NaN</td>\n      <td>NaN</td>\n      <td>NaN</td>\n      <td>NaN</td>\n      <td>NaN</td>\n      <td>NaN</td>\n      <td>NaN</td>\n      <td>NaN</td>\n      <td>NaN</td>\n      <td>NaN</td>\n      <td>NaN</td>\n      <td>NaN</td>\n      <td>4.0</td>\n      <td>12.0</td>\n      <td>18.0</td>\n    </tr>\n    <tr>\n      <th>326</th>\n      <td>芸術変態論</td>\n      <td>NaN</td>\n      <td>NaN</td>\n      <td>NaN</td>\n      <td>NaN</td>\n      <td>NaN</td>\n      <td>NaN</td>\n      <td>NaN</td>\n      <td>NaN</td>\n      <td>NaN</td>\n      <td>NaN</td>\n      <td>NaN</td>\n      <td>NaN</td>\n      <td>NaN</td>\n      <td>NaN</td>\n      <td>1.0</td>\n      <td>6.0</td>\n    </tr>\n    <tr>\n      <th>331</th>\n      <td>青空</td>\n      <td>NaN</td>\n      <td>NaN</td>\n      <td>NaN</td>\n      <td>NaN</td>\n      <td>NaN</td>\n      <td>NaN</td>\n      <td>NaN</td>\n      <td>NaN</td>\n      <td>NaN</td>\n      <td>NaN</td>\n      <td>NaN</td>\n      <td>NaN</td>\n      <td>NaN</td>\n      <td>NaN</td>\n      <td>6.0</td>\n      <td>24.0</td>\n    </tr>\n    <tr>\n      <th>333</th>\n      <td>或る修道士の告解</td>\n      <td>NaN</td>\n      <td>NaN</td>\n      <td>NaN</td>\n      <td>NaN</td>\n      <td>NaN</td>\n      <td>NaN</td>\n      <td>NaN</td>\n      <td>NaN</td>\n      <td>NaN</td>\n      <td>NaN</td>\n      <td>NaN</td>\n      <td>NaN</td>\n      <td>NaN</td>\n      <td>NaN</td>\n      <td>20.0</td>\n      <td>32.0</td>\n    </tr>\n    <tr>\n      <th>336</th>\n      <td>魅惑劇</td>\n      <td>NaN</td>\n      <td>NaN</td>\n      <td>NaN</td>\n      <td>NaN</td>\n      <td>NaN</td>\n      <td>NaN</td>\n      <td>NaN</td>\n      <td>NaN</td>\n      <td>NaN</td>\n      <td>NaN</td>\n      <td>NaN</td>\n      <td>NaN</td>\n      <td>NaN</td>\n      <td>NaN</td>\n      <td>11.0</td>\n      <td>25.0</td>\n    </tr>\n  </tbody>\n</table>\n</div>",
      "text/plain": "                 title  r2005  r2006#1  r2006#2  r2007  r2008  r2009  r2010  \\\nno                                                                            \n264               快恠奇奇    NaN      NaN      NaN    NaN    NaN    NaN    NaN   \n265         私の薔薇を喰みなさい    NaN      NaN      NaN    NaN    NaN    NaN    NaN   \n268             令嬢薔薇図鑑    NaN      NaN      NaN    NaN    NaN    NaN    NaN   \n269           ローズ家の双子達    NaN      NaN      NaN    NaN    NaN    NaN    NaN   \n273             少女と水蜜桃    NaN      NaN      NaN    NaN    NaN    NaN    NaN   \n274         黒百合隠密カゲキダン    NaN      NaN      NaN    NaN    NaN    NaN    NaN   \n279           リュウコウセカイ    NaN      NaN      NaN    NaN    NaN    NaN    NaN   \n282           Lolicate    NaN      NaN      NaN    NaN    NaN    NaN    NaN   \n295  Tico Tico no Fubá    NaN      NaN      NaN    NaN    NaN    NaN    NaN   \n301             快楽のススメ    NaN      NaN      NaN    NaN    NaN    NaN    NaN   \n302         放蕩娘と無慈悲な遊戯    NaN      NaN      NaN    NaN    NaN    NaN    NaN   \n317          昭和B級下手喰い道    NaN      NaN      NaN    NaN    NaN    NaN    NaN   \n318             女化生舞楽図    NaN      NaN      NaN    NaN    NaN    NaN    NaN   \n319            まだら恋椿外道    NaN      NaN      NaN    NaN    NaN    NaN    NaN   \n320              悪しき進化    NaN      NaN      NaN    NaN    NaN    NaN    NaN   \n322              卑弥呼外伝    NaN      NaN      NaN    NaN    NaN    NaN    NaN   \n326              芸術変態論    NaN      NaN      NaN    NaN    NaN    NaN    NaN   \n331                 青空    NaN      NaN      NaN    NaN    NaN    NaN    NaN   \n333           或る修道士の告解    NaN      NaN      NaN    NaN    NaN    NaN    NaN   \n336                魅惑劇    NaN      NaN      NaN    NaN    NaN    NaN    NaN   \n\n     r2011  r2012  r2013  r2014  r2015  r2016  r2017  r2018  r2019  \nno                                                                  \n264    NaN    NaN   13.0   33.0   53.0   42.0   68.0   52.0  151.0  \n265    NaN    NaN    5.0   39.0  129.0   53.0   62.0   60.0   83.0  \n268    NaN    NaN    6.0   35.0   57.0   77.0   25.0   44.0  117.0  \n269    NaN    NaN    3.0   12.0   47.0   45.0   26.0   78.0  106.0  \n273    NaN    NaN   31.0   23.0   52.0   46.0   28.0   70.0   90.0  \n274    NaN    NaN    4.0   10.0   42.0   63.0  103.0   85.0  116.0  \n279    NaN    NaN    NaN    1.0    1.0    1.0    NaN    NaN    NaN  \n282    NaN    NaN    NaN    2.0   13.0   12.0    3.0    8.0    3.0  \n295    NaN    NaN    NaN    NaN   21.0   50.0   61.0  120.0  179.0  \n301    NaN    NaN    NaN    NaN    7.0   26.0  161.0  170.0  115.0  \n302    NaN    NaN    NaN    NaN   19.0   43.0   60.0   63.0   59.0  \n317    NaN    NaN    NaN    NaN    NaN    6.0   43.0   55.0  137.0  \n318    NaN    NaN    NaN    NaN    NaN   17.0   47.0   63.0  141.0  \n319    NaN    NaN    NaN    NaN    NaN    2.0    8.0    9.0   22.0  \n320    NaN    NaN    NaN    NaN    NaN   15.0   35.0   22.0   34.0  \n322    NaN    NaN    NaN    NaN    NaN    NaN    4.0   12.0   18.0  \n326    NaN    NaN    NaN    NaN    NaN    NaN    NaN    1.0    6.0  \n331    NaN    NaN    NaN    NaN    NaN    NaN    NaN    6.0   24.0  \n333    NaN    NaN    NaN    NaN    NaN    NaN    NaN   20.0   32.0  \n336    NaN    NaN    NaN    NaN    NaN    NaN    NaN   11.0   25.0  "
     },
     "execution_count": 315,
     "metadata": {},
     "output_type": "execute_result"
    }
   ],
   "source": [
    "# 初登場から続けてtop 50にいる\n",
    "N = 2\n",
    "t = []\n",
    "len_col = len(df.columns)\n",
    "for no in df.index:\n",
    "    initial = df.initial.at[no]\n",
    "    initial_val = df.at[no, initial]\n",
    "    idx = df.columns.to_list().index(initial)\n",
    "    cond = initial_val <= 50 or pandas.isna(initial_val) if initial in RANK_INCOMPLETE else initial_val <= 50\n",
    "    for i in range(1, N):\n",
    "        if len_col <= idx + i or df.columns[idx + i] not in RANK_ALL:\n",
    "            cond = False\n",
    "            continue\n",
    "        this_col = df.columns[idx + i]\n",
    "        this_col_val = df.at[no, this_col]\n",
    "        cond &= this_col_val <= 50 or pandas.isna(this_col_val) if this_col in RANK_INCOMPLETE else this_col_val <= 50\n",
    "    if cond:\n",
    "        t += [df.title.at[no]]\n",
    "continuous50 = df.query('title in @t')[['title', *RANK_ALL]]\n",
    "print(len(continuous50))\n",
    "continuous50.tail(20)"
   ]
  },
  {
   "cell_type": "code",
   "execution_count": 264,
   "metadata": {},
   "outputs": [
    {
     "data": {
      "text/html": "<div>\n<style scoped>\n    .dataframe tbody tr th:only-of-type {\n        vertical-align: middle;\n    }\n\n    .dataframe tbody tr th {\n        vertical-align: top;\n    }\n\n    .dataframe thead th {\n        text-align: right;\n    }\n</style>\n<table border=\"1\" class=\"dataframe\">\n  <thead>\n    <tr style=\"text-align: right;\">\n      <th></th>\n      <th>title</th>\n      <th>date</th>\n      <th>under100</th>\n    </tr>\n    <tr>\n      <th>no</th>\n      <th></th>\n      <th></th>\n      <th></th>\n    </tr>\n  </thead>\n  <tbody>\n    <tr>\n      <th>14</th>\n      <td>共月亭で逢いましょう</td>\n      <td>1992-07-07</td>\n      <td>14</td>\n    </tr>\n    <tr>\n      <th>24</th>\n      <td>嵐ヶ丘</td>\n      <td>1993-06-09</td>\n      <td>16</td>\n    </tr>\n    <tr>\n      <th>72</th>\n      <td>コッペリアの柩</td>\n      <td>1999-12-24</td>\n      <td>16</td>\n    </tr>\n    <tr>\n      <th>115</th>\n      <td>春葬</td>\n      <td>2004-06-23</td>\n      <td>14</td>\n    </tr>\n    <tr>\n      <th>126</th>\n      <td>人生美味礼讃</td>\n      <td>2005-06-22</td>\n      <td>16</td>\n    </tr>\n    <tr>\n      <th>129</th>\n      <td>ディレッタントの秘かな愉しみ</td>\n      <td>2005-06-22</td>\n      <td>14</td>\n    </tr>\n    <tr>\n      <th>158</th>\n      <td>薔薇獄乙女</td>\n      <td>2006-12-06</td>\n      <td>14</td>\n    </tr>\n    <tr>\n      <th>166</th>\n      <td>跪いて足をお嘗め</td>\n      <td>2007-06-13</td>\n      <td>12</td>\n    </tr>\n    <tr>\n      <th>169</th>\n      <td>暗黒サイケデリック</td>\n      <td>2007-08-22</td>\n      <td>12</td>\n    </tr>\n    <tr>\n      <th>171</th>\n      <td>胡蝶夢心中</td>\n      <td>2007-08-22</td>\n      <td>12</td>\n    </tr>\n    <tr>\n      <th>173</th>\n      <td>欲望</td>\n      <td>2007-08-22</td>\n      <td>12</td>\n    </tr>\n    <tr>\n      <th>174</th>\n      <td>暴夜layla幻談</td>\n      <td>2007-08-22</td>\n      <td>12</td>\n    </tr>\n    <tr>\n      <th>179</th>\n      <td>逢魔ヶ恋</td>\n      <td>2007-10-03</td>\n      <td>12</td>\n    </tr>\n    <tr>\n      <th>183</th>\n      <td>わが﨟たし悪の華</td>\n      <td>2008-07-30</td>\n      <td>11</td>\n    </tr>\n    <tr>\n      <th>204</th>\n      <td>Poisoner</td>\n      <td>2009-08-26</td>\n      <td>10</td>\n    </tr>\n    <tr>\n      <th>226</th>\n      <td>刀と鞘</td>\n      <td>2010-08-25</td>\n      <td>9</td>\n    </tr>\n    <tr>\n      <th>263</th>\n      <td>RED WALTZ</td>\n      <td>2012-07-18</td>\n      <td>8</td>\n    </tr>\n    <tr>\n      <th>273</th>\n      <td>少女と水蜜桃</td>\n      <td>2013-09-11</td>\n      <td>7</td>\n    </tr>\n    <tr>\n      <th>293</th>\n      <td>L’Amour Looks Something Like You</td>\n      <td>2015-01-21</td>\n      <td>5</td>\n    </tr>\n    <tr>\n      <th>302</th>\n      <td>放蕩娘と無慈悲な遊戯</td>\n      <td>2015-09-09</td>\n      <td>5</td>\n    </tr>\n    <tr>\n      <th>314</th>\n      <td>薔薇美と百合寧の不思議なホテル</td>\n      <td>2016-08-24</td>\n      <td>4</td>\n    </tr>\n    <tr>\n      <th>315</th>\n      <td>絶叫哲学</td>\n      <td>2016-08-24</td>\n      <td>4</td>\n    </tr>\n    <tr>\n      <th>324</th>\n      <td>少女蜜葬 ～Le sang et le miel</td>\n      <td>2017-06-21</td>\n      <td>3</td>\n    </tr>\n    <tr>\n      <th>329</th>\n      <td>少女昆蟲記</td>\n      <td>2018-07-25</td>\n      <td>2</td>\n    </tr>\n    <tr>\n      <th>332</th>\n      <td>極まれリ</td>\n      <td>2018-07-25</td>\n      <td>2</td>\n    </tr>\n    <tr>\n      <th>337</th>\n      <td>美しき獣たちの為の</td>\n      <td>2019-02-13</td>\n      <td>1</td>\n    </tr>\n    <tr>\n      <th>345</th>\n      <td>恐怖の頭脳改革</td>\n      <td>2019-08-28</td>\n      <td>1</td>\n    </tr>\n    <tr>\n      <th>346</th>\n      <td>地球で</td>\n      <td>2019-08-28</td>\n      <td>1</td>\n    </tr>\n    <tr>\n      <th>348</th>\n      <td>WALTZ FOR DEBBY</td>\n      <td>2019-08-28</td>\n      <td>1</td>\n    </tr>\n  </tbody>\n</table>\n</div>",
      "text/plain": "                                title       date  under100\nno                                                        \n14                         共月亭で逢いましょう 1992-07-07        14\n24                                嵐ヶ丘 1993-06-09        16\n72                            コッペリアの柩 1999-12-24        16\n115                                春葬 2004-06-23        14\n126                            人生美味礼讃 2005-06-22        16\n129                    ディレッタントの秘かな愉しみ 2005-06-22        14\n158                             薔薇獄乙女 2006-12-06        14\n166                          跪いて足をお嘗め 2007-06-13        12\n169                         暗黒サイケデリック 2007-08-22        12\n171                             胡蝶夢心中 2007-08-22        12\n173                                欲望 2007-08-22        12\n174                         暴夜layla幻談 2007-08-22        12\n179                              逢魔ヶ恋 2007-10-03        12\n183                          わが﨟たし悪の華 2008-07-30        11\n204                          Poisoner 2009-08-26        10\n226                               刀と鞘 2010-08-25         9\n263                         RED WALTZ 2012-07-18         8\n273                            少女と水蜜桃 2013-09-11         7\n293  L’Amour Looks Something Like You 2015-01-21         5\n302                        放蕩娘と無慈悲な遊戯 2015-09-09         5\n314                   薔薇美と百合寧の不思議なホテル 2016-08-24         4\n315                              絶叫哲学 2016-08-24         4\n324          少女蜜葬 ～Le sang et le miel 2017-06-21         3\n329                             少女昆蟲記 2018-07-25         2\n332                              極まれリ 2018-07-25         2\n337                         美しき獣たちの為の 2019-02-13         1\n345                           恐怖の頭脳改革 2019-08-28         1\n346                               地球で 2019-08-28         1\n348                   WALTZ FOR DEBBY 2019-08-28         1"
     },
     "execution_count": 264,
     "metadata": {},
     "output_type": "execute_result"
    }
   ],
   "source": [
    "target[(50 < max_rank) & (max_rank <= 100)][['title', 'date']].assign(under100=(target_rank_all <= 100).sum(1))"
   ]
  },
  {
   "cell_type": "code",
   "execution_count": 265,
   "metadata": {},
   "outputs": [
    {
     "name": "stdout",
     "output_type": "stream",
     "text": "曲名|発表年|回数|曲名|発表年|回数\n---|---:|---:|---|---:|---:\n共月亭で逢いましょう|1992|14|刀と鞘|2010|9\n嵐ヶ丘|1993|16|RED WALTZ|2012|8\nコッペリアの柩|1999|16|少女と水蜜桃|2013|7\n春葬|2004|14|L’Amour Looks Something Like You|2015|5\n人生美味礼讃|2005|16|放蕩娘と無慈悲な遊戯|2015|5\nディレッタントの秘かな愉しみ|2005|14|薔薇美と百合寧の不思議なホテル|2016|4\n薔薇獄乙女|2006|14|絶叫哲学|2016|4\n跪いて足をお嘗め|2007|12|少女蜜葬 ～Le sang et le miel|2017|3\n暗黒サイケデリック|2007|12|少女昆蟲記|2018|2\n胡蝶夢心中|2007|12|極まれリ|2018|2\n欲望|2007|12|美しき獣たちの為の|2019|1\n暴夜layla幻談|2007|12|恐怖の頭脳改革|2019|1\n逢魔ヶ恋|2007|12|地球で|2019|1\nわが﨟たし悪の華|2008|11|WALTZ FOR DEBBY|2019|1\nPoisoner|2009|10\n"
    }
   ],
   "source": [
    "col = 2\n",
    "print('|'.join(['曲名|発表年|回数'] * col))\n",
    "print('|'.join(['---|---:|---:'] * col))\n",
    "size = int(pandas.np.ceil(len(_) / col))\n",
    "l = [[] for __ in range(size)]\n",
    "for idx in range(len(_)):\n",
    "    l[idx % size] += [f'{_.title.iat[idx]}|{_.date.iat[idx].year}|{_.under100.iat[idx]}']\n",
    "for line in l:\n",
    "    print('|'.join(line))"
   ]
  },
  {
   "cell_type": "code",
   "execution_count": 327,
   "metadata": {},
   "outputs": [
    {
     "name": "stdout",
     "output_type": "stream",
     "text": "29\n"
    },
    {
     "data": {
      "text/html": "<div>\n<style scoped>\n    .dataframe tbody tr th:only-of-type {\n        vertical-align: middle;\n    }\n\n    .dataframe tbody tr th {\n        vertical-align: top;\n    }\n\n    .dataframe thead th {\n        text-align: right;\n    }\n</style>\n<table border=\"1\" class=\"dataframe\">\n  <thead>\n    <tr style=\"text-align: right;\">\n      <th></th>\n      <th>title</th>\n      <th>r2005</th>\n      <th>r2006#1</th>\n      <th>r2006#2</th>\n      <th>r2007</th>\n      <th>r2008</th>\n      <th>r2009</th>\n      <th>r2010</th>\n      <th>r2011</th>\n      <th>r2012</th>\n      <th>r2013</th>\n      <th>r2014</th>\n      <th>r2015</th>\n      <th>r2016</th>\n      <th>r2017</th>\n      <th>r2018</th>\n      <th>r2019</th>\n    </tr>\n    <tr>\n      <th>no</th>\n      <th></th>\n      <th></th>\n      <th></th>\n      <th></th>\n      <th></th>\n      <th></th>\n      <th></th>\n      <th></th>\n      <th></th>\n      <th></th>\n      <th></th>\n      <th></th>\n      <th></th>\n      <th></th>\n      <th></th>\n      <th></th>\n      <th></th>\n    </tr>\n  </thead>\n  <tbody>\n    <tr>\n      <th>112</th>\n      <td>地獄の季節</td>\n      <td>6.0</td>\n      <td>9.0</td>\n      <td>11.0</td>\n      <td>13.0</td>\n      <td>21.0</td>\n      <td>22.0</td>\n      <td>37.0</td>\n      <td>29.0</td>\n      <td>32.0</td>\n      <td>17.0</td>\n      <td>28.0</td>\n      <td>23.0</td>\n      <td>25.0</td>\n      <td>31.0</td>\n      <td>29.0</td>\n      <td>26.0</td>\n    </tr>\n    <tr>\n      <th>115</th>\n      <td>春葬</td>\n      <td>10.0</td>\n      <td>NaN</td>\n      <td>NaN</td>\n      <td>48.0</td>\n      <td>60.0</td>\n      <td>62.0</td>\n      <td>39.0</td>\n      <td>56.0</td>\n      <td>44.0</td>\n      <td>55.0</td>\n      <td>52.0</td>\n      <td>50.0</td>\n      <td>49.0</td>\n      <td>9.0</td>\n      <td>15.0</td>\n      <td>39.0</td>\n    </tr>\n    <tr>\n      <th>121</th>\n      <td>禁じられた遊び</td>\n      <td>2.0</td>\n      <td>6.0</td>\n      <td>9.0</td>\n      <td>6.0</td>\n      <td>11.0</td>\n      <td>23.0</td>\n      <td>27.0</td>\n      <td>36.0</td>\n      <td>10.0</td>\n      <td>21.0</td>\n      <td>20.0</td>\n      <td>32.0</td>\n      <td>19.0</td>\n      <td>13.0</td>\n      <td>27.0</td>\n      <td>27.0</td>\n    </tr>\n    <tr>\n      <th>126</th>\n      <td>人生美味礼讃</td>\n      <td>18.0</td>\n      <td>8.0</td>\n      <td>15.0</td>\n      <td>12.0</td>\n      <td>10.0</td>\n      <td>21.0</td>\n      <td>28.0</td>\n      <td>22.0</td>\n      <td>26.0</td>\n      <td>23.0</td>\n      <td>48.0</td>\n      <td>17.0</td>\n      <td>61.0</td>\n      <td>40.0</td>\n      <td>36.0</td>\n      <td>20.0</td>\n    </tr>\n    <tr>\n      <th>129</th>\n      <td>ディレッタントの秘かな愉しみ</td>\n      <td>20.0</td>\n      <td>NaN</td>\n      <td>NaN</td>\n      <td>33.0</td>\n      <td>42.0</td>\n      <td>60.0</td>\n      <td>62.0</td>\n      <td>66.0</td>\n      <td>46.0</td>\n      <td>30.0</td>\n      <td>57.0</td>\n      <td>66.0</td>\n      <td>47.0</td>\n      <td>45.0</td>\n      <td>31.0</td>\n      <td>33.0</td>\n    </tr>\n    <tr>\n      <th>130</th>\n      <td>昭和恋々幻燈館</td>\n      <td>NaN</td>\n      <td>NaN</td>\n      <td>NaN</td>\n      <td>37.0</td>\n      <td>41.0</td>\n      <td>63.0</td>\n      <td>67.0</td>\n      <td>56.0</td>\n      <td>52.0</td>\n      <td>75.0</td>\n      <td>95.0</td>\n      <td>51.0</td>\n      <td>69.0</td>\n      <td>41.0</td>\n      <td>51.0</td>\n      <td>117.0</td>\n    </tr>\n    <tr>\n      <th>132</th>\n      <td>北京LOVERS</td>\n      <td>NaN</td>\n      <td>11.0</td>\n      <td>18.0</td>\n      <td>16.0</td>\n      <td>24.0</td>\n      <td>17.0</td>\n      <td>20.0</td>\n      <td>11.0</td>\n      <td>11.0</td>\n      <td>9.0</td>\n      <td>6.0</td>\n      <td>8.0</td>\n      <td>11.0</td>\n      <td>1.0</td>\n      <td>13.0</td>\n      <td>7.0</td>\n    </tr>\n    <tr>\n      <th>135</th>\n      <td>聖少女領域</td>\n      <td>NaN</td>\n      <td>4.0</td>\n      <td>4.0</td>\n      <td>1.0</td>\n      <td>2.0</td>\n      <td>7.0</td>\n      <td>6.0</td>\n      <td>3.0</td>\n      <td>5.0</td>\n      <td>2.0</td>\n      <td>3.0</td>\n      <td>3.0</td>\n      <td>3.0</td>\n      <td>10.0</td>\n      <td>2.0</td>\n      <td>4.0</td>\n    </tr>\n    <tr>\n      <th>145</th>\n      <td>GOD DIVA</td>\n      <td>NaN</td>\n      <td>NaN</td>\n      <td>7.0</td>\n      <td>7.0</td>\n      <td>3.0</td>\n      <td>6.0</td>\n      <td>9.0</td>\n      <td>10.0</td>\n      <td>29.0</td>\n      <td>15.0</td>\n      <td>45.0</td>\n      <td>14.0</td>\n      <td>7.0</td>\n      <td>14.0</td>\n      <td>7.0</td>\n      <td>10.0</td>\n    </tr>\n    <tr>\n      <th>149</th>\n      <td>KING KNIGHT</td>\n      <td>NaN</td>\n      <td>NaN</td>\n      <td>6.0</td>\n      <td>9.0</td>\n      <td>14.0</td>\n      <td>14.0</td>\n      <td>18.0</td>\n      <td>19.0</td>\n      <td>27.0</td>\n      <td>19.0</td>\n      <td>18.0</td>\n      <td>36.0</td>\n      <td>34.0</td>\n      <td>7.0</td>\n      <td>33.0</td>\n      <td>30.0</td>\n    </tr>\n    <tr>\n      <th>152</th>\n      <td>勇侠青春謳</td>\n      <td>NaN</td>\n      <td>NaN</td>\n      <td>1.0</td>\n      <td>3.0</td>\n      <td>4.0</td>\n      <td>10.0</td>\n      <td>8.0</td>\n      <td>7.0</td>\n      <td>28.0</td>\n      <td>20.0</td>\n      <td>24.0</td>\n      <td>24.0</td>\n      <td>24.0</td>\n      <td>18.0</td>\n      <td>39.0</td>\n      <td>12.0</td>\n    </tr>\n    <tr>\n      <th>157</th>\n      <td>今宵、碧い森深く</td>\n      <td>NaN</td>\n      <td>NaN</td>\n      <td>NaN</td>\n      <td>23.0</td>\n      <td>23.0</td>\n      <td>27.0</td>\n      <td>30.0</td>\n      <td>20.0</td>\n      <td>38.0</td>\n      <td>32.0</td>\n      <td>32.0</td>\n      <td>30.0</td>\n      <td>27.0</td>\n      <td>29.0</td>\n      <td>16.0</td>\n      <td>13.0</td>\n    </tr>\n    <tr>\n      <th>158</th>\n      <td>薔薇獄乙女</td>\n      <td>NaN</td>\n      <td>NaN</td>\n      <td>2.0</td>\n      <td>8.0</td>\n      <td>17.0</td>\n      <td>31.0</td>\n      <td>33.0</td>\n      <td>33.0</td>\n      <td>22.0</td>\n      <td>52.0</td>\n      <td>76.0</td>\n      <td>37.0</td>\n      <td>41.0</td>\n      <td>34.0</td>\n      <td>61.0</td>\n      <td>35.0</td>\n    </tr>\n    <tr>\n      <th>166</th>\n      <td>跪いて足をお嘗め</td>\n      <td>NaN</td>\n      <td>NaN</td>\n      <td>NaN</td>\n      <td>NaN</td>\n      <td>9.0</td>\n      <td>16.0</td>\n      <td>14.0</td>\n      <td>26.0</td>\n      <td>41.0</td>\n      <td>57.0</td>\n      <td>59.0</td>\n      <td>56.0</td>\n      <td>30.0</td>\n      <td>49.0</td>\n      <td>30.0</td>\n      <td>38.0</td>\n    </tr>\n    <tr>\n      <th>168</th>\n      <td>青嵐血風録</td>\n      <td>NaN</td>\n      <td>NaN</td>\n      <td>NaN</td>\n      <td>NaN</td>\n      <td>13.0</td>\n      <td>15.0</td>\n      <td>16.0</td>\n      <td>14.0</td>\n      <td>21.0</td>\n      <td>14.0</td>\n      <td>15.0</td>\n      <td>28.0</td>\n      <td>36.0</td>\n      <td>6.0</td>\n      <td>17.0</td>\n      <td>19.0</td>\n    </tr>\n    <tr>\n      <th>169</th>\n      <td>暗黒サイケデリック</td>\n      <td>NaN</td>\n      <td>NaN</td>\n      <td>NaN</td>\n      <td>NaN</td>\n      <td>16.0</td>\n      <td>18.0</td>\n      <td>19.0</td>\n      <td>25.0</td>\n      <td>14.0</td>\n      <td>24.0</td>\n      <td>22.0</td>\n      <td>22.0</td>\n      <td>28.0</td>\n      <td>88.0</td>\n      <td>19.0</td>\n      <td>16.0</td>\n    </tr>\n    <tr>\n      <th>171</th>\n      <td>胡蝶夢心中</td>\n      <td>NaN</td>\n      <td>NaN</td>\n      <td>NaN</td>\n      <td>NaN</td>\n      <td>34.0</td>\n      <td>51.0</td>\n      <td>42.0</td>\n      <td>17.0</td>\n      <td>25.0</td>\n      <td>27.0</td>\n      <td>9.0</td>\n      <td>20.0</td>\n      <td>9.0</td>\n      <td>12.0</td>\n      <td>18.0</td>\n      <td>43.0</td>\n    </tr>\n    <tr>\n      <th>173</th>\n      <td>欲望</td>\n      <td>NaN</td>\n      <td>NaN</td>\n      <td>NaN</td>\n      <td>NaN</td>\n      <td>35.0</td>\n      <td>50.0</td>\n      <td>52.0</td>\n      <td>58.0</td>\n      <td>43.0</td>\n      <td>47.0</td>\n      <td>34.0</td>\n      <td>11.0</td>\n      <td>22.0</td>\n      <td>38.0</td>\n      <td>82.0</td>\n      <td>50.0</td>\n    </tr>\n    <tr>\n      <th>174</th>\n      <td>暴夜layla幻談</td>\n      <td>NaN</td>\n      <td>NaN</td>\n      <td>NaN</td>\n      <td>NaN</td>\n      <td>15.0</td>\n      <td>28.0</td>\n      <td>37.0</td>\n      <td>34.0</td>\n      <td>75.0</td>\n      <td>69.0</td>\n      <td>41.0</td>\n      <td>40.0</td>\n      <td>35.0</td>\n      <td>56.0</td>\n      <td>37.0</td>\n      <td>41.0</td>\n    </tr>\n    <tr>\n      <th>179</th>\n      <td>逢魔ヶ恋</td>\n      <td>NaN</td>\n      <td>NaN</td>\n      <td>NaN</td>\n      <td>NaN</td>\n      <td>36.0</td>\n      <td>70.0</td>\n      <td>47.0</td>\n      <td>48.0</td>\n      <td>16.0</td>\n      <td>66.0</td>\n      <td>30.0</td>\n      <td>2.0</td>\n      <td>21.0</td>\n      <td>36.0</td>\n      <td>25.0</td>\n      <td>40.0</td>\n    </tr>\n  </tbody>\n</table>\n</div>",
      "text/plain": "              title  r2005  r2006#1  r2006#2  r2007  r2008  r2009  r2010  \\\nno                                                                         \n112           地獄の季節    6.0      9.0     11.0   13.0   21.0   22.0   37.0   \n115              春葬   10.0      NaN      NaN   48.0   60.0   62.0   39.0   \n121         禁じられた遊び    2.0      6.0      9.0    6.0   11.0   23.0   27.0   \n126          人生美味礼讃   18.0      8.0     15.0   12.0   10.0   21.0   28.0   \n129  ディレッタントの秘かな愉しみ   20.0      NaN      NaN   33.0   42.0   60.0   62.0   \n130         昭和恋々幻燈館    NaN      NaN      NaN   37.0   41.0   63.0   67.0   \n132        北京LOVERS    NaN     11.0     18.0   16.0   24.0   17.0   20.0   \n135           聖少女領域    NaN      4.0      4.0    1.0    2.0    7.0    6.0   \n145        GOD DIVA    NaN      NaN      7.0    7.0    3.0    6.0    9.0   \n149     KING KNIGHT    NaN      NaN      6.0    9.0   14.0   14.0   18.0   \n152           勇侠青春謳    NaN      NaN      1.0    3.0    4.0   10.0    8.0   \n157        今宵、碧い森深く    NaN      NaN      NaN   23.0   23.0   27.0   30.0   \n158           薔薇獄乙女    NaN      NaN      2.0    8.0   17.0   31.0   33.0   \n166        跪いて足をお嘗め    NaN      NaN      NaN    NaN    9.0   16.0   14.0   \n168           青嵐血風録    NaN      NaN      NaN    NaN   13.0   15.0   16.0   \n169       暗黒サイケデリック    NaN      NaN      NaN    NaN   16.0   18.0   19.0   \n171           胡蝶夢心中    NaN      NaN      NaN    NaN   34.0   51.0   42.0   \n173              欲望    NaN      NaN      NaN    NaN   35.0   50.0   52.0   \n174       暴夜layla幻談    NaN      NaN      NaN    NaN   15.0   28.0   37.0   \n179            逢魔ヶ恋    NaN      NaN      NaN    NaN   36.0   70.0   47.0   \n\n     r2011  r2012  r2013  r2014  r2015  r2016  r2017  r2018  r2019  \nno                                                                  \n112   29.0   32.0   17.0   28.0   23.0   25.0   31.0   29.0   26.0  \n115   56.0   44.0   55.0   52.0   50.0   49.0    9.0   15.0   39.0  \n121   36.0   10.0   21.0   20.0   32.0   19.0   13.0   27.0   27.0  \n126   22.0   26.0   23.0   48.0   17.0   61.0   40.0   36.0   20.0  \n129   66.0   46.0   30.0   57.0   66.0   47.0   45.0   31.0   33.0  \n130   56.0   52.0   75.0   95.0   51.0   69.0   41.0   51.0  117.0  \n132   11.0   11.0    9.0    6.0    8.0   11.0    1.0   13.0    7.0  \n135    3.0    5.0    2.0    3.0    3.0    3.0   10.0    2.0    4.0  \n145   10.0   29.0   15.0   45.0   14.0    7.0   14.0    7.0   10.0  \n149   19.0   27.0   19.0   18.0   36.0   34.0    7.0   33.0   30.0  \n152    7.0   28.0   20.0   24.0   24.0   24.0   18.0   39.0   12.0  \n157   20.0   38.0   32.0   32.0   30.0   27.0   29.0   16.0   13.0  \n158   33.0   22.0   52.0   76.0   37.0   41.0   34.0   61.0   35.0  \n166   26.0   41.0   57.0   59.0   56.0   30.0   49.0   30.0   38.0  \n168   14.0   21.0   14.0   15.0   28.0   36.0    6.0   17.0   19.0  \n169   25.0   14.0   24.0   22.0   22.0   28.0   88.0   19.0   16.0  \n171   17.0   25.0   27.0    9.0   20.0    9.0   12.0   18.0   43.0  \n173   58.0   43.0   47.0   34.0   11.0   22.0   38.0   82.0   50.0  \n174   34.0   75.0   69.0   41.0   40.0   35.0   56.0   37.0   41.0  \n179   48.0   16.0   66.0   30.0    2.0   21.0   36.0   25.0   40.0  "
     },
     "execution_count": 327,
     "metadata": {},
     "output_type": "execute_result"
    }
   ],
   "source": [
    "# 初登場から続けてtop 100にいる\n",
    "N = 12\n",
    "t = []\n",
    "len_col = len(df.columns)\n",
    "for no in df.index:\n",
    "    initial = df.initial.at[no]\n",
    "    initial_val = df.at[no, initial]\n",
    "    idx = df.columns.to_list().index(initial)\n",
    "    cond = initial_val <= 100 or pandas.isna(initial_val) if initial in RANK_INCOMPLETE else initial_val <= 100\n",
    "    for i in range(1, N):\n",
    "        if len_col <= idx + i or df.columns[idx + i] not in RANK_ALL:\n",
    "            cond = False\n",
    "            continue\n",
    "        this_col = df.columns[idx + i]\n",
    "        this_col_val = df.at[no, this_col]\n",
    "        cond &= this_col_val <= 100 or pandas.isna(this_col_val) if this_col in RANK_INCOMPLETE else this_col_val <= 100\n",
    "    if cond:\n",
    "        t += [df.title.at[no]]\n",
    "continuous100 = df.query('title in @t')[['title', *RANK_ALL]]\n",
    "print(len(continuous100))\n",
    "continuous100.tail(20)"
   ]
  },
  {
   "cell_type": "code",
   "execution_count": 326,
   "metadata": {},
   "outputs": [
    {
     "data": {
      "text/html": "<div>\n<style scoped>\n    .dataframe tbody tr th:only-of-type {\n        vertical-align: middle;\n    }\n\n    .dataframe tbody tr th {\n        vertical-align: top;\n    }\n\n    .dataframe thead th {\n        text-align: right;\n    }\n</style>\n<table border=\"1\" class=\"dataframe\">\n  <thead>\n    <tr style=\"text-align: right;\">\n      <th></th>\n      <th>title</th>\n      <th>date</th>\n      <th>under100</th>\n    </tr>\n    <tr>\n      <th>no</th>\n      <th></th>\n      <th></th>\n      <th></th>\n    </tr>\n  </thead>\n  <tbody>\n    <tr>\n      <th>168</th>\n      <td>青嵐血風録</td>\n      <td>2007-08-22</td>\n      <td>12</td>\n    </tr>\n    <tr>\n      <th>169</th>\n      <td>暗黒サイケデリック</td>\n      <td>2007-08-22</td>\n      <td>12</td>\n    </tr>\n    <tr>\n      <th>171</th>\n      <td>胡蝶夢心中</td>\n      <td>2007-08-22</td>\n      <td>12</td>\n    </tr>\n    <tr>\n      <th>173</th>\n      <td>欲望</td>\n      <td>2007-08-22</td>\n      <td>12</td>\n    </tr>\n    <tr>\n      <th>174</th>\n      <td>暴夜layla幻談</td>\n      <td>2007-08-22</td>\n      <td>12</td>\n    </tr>\n  </tbody>\n</table>\n</div>",
      "text/plain": "         title       date  under100\nno                                 \n168      青嵐血風録 2007-08-22        12\n169  暗黒サイケデリック 2007-08-22        12\n171      胡蝶夢心中 2007-08-22        12\n173         欲望 2007-08-22        12\n174  暴夜layla幻談 2007-08-22        12"
     },
     "execution_count": 326,
     "metadata": {},
     "output_type": "execute_result"
    }
   ],
   "source": [
    "target[(max_rank <= 100) & (target.works.apply(lambda l: 'Psychedelic Insanity' in l))][['title', 'date']].assign(under100=(target_rank_all <= 100).sum(1))"
   ]
  },
  {
   "cell_type": "markdown",
   "metadata": {},
   "outputs": [],
   "source": [
    "#### first \"over30\""
   ]
  },
  {
   "cell_type": "code",
   "execution_count": 266,
   "metadata": {},
   "outputs": [],
   "source": [
    "# lowest ever\n",
    "le = []"
   ]
  },
  {
   "cell_type": "code",
   "execution_count": 267,
   "metadata": {},
   "outputs": [
    {
     "data": {
      "text/html": "<div>\n<style scoped>\n    .dataframe tbody tr th:only-of-type {\n        vertical-align: middle;\n    }\n\n    .dataframe tbody tr th {\n        vertical-align: top;\n    }\n\n    .dataframe thead th {\n        text-align: right;\n    }\n</style>\n<table border=\"1\" class=\"dataframe\">\n  <thead>\n    <tr style=\"text-align: right;\">\n      <th></th>\n      <th>title</th>\n      <th>ruby</th>\n      <th>inst</th>\n      <th>hall_of_fame</th>\n      <th>works</th>\n      <th>debut</th>\n      <th>date</th>\n      <th>r2019u</th>\n      <th>initial</th>\n      <th>kind</th>\n      <th>...</th>\n      <th>over50</th>\n      <th>over100</th>\n      <th>over200</th>\n      <th>count_all</th>\n      <th>count</th>\n      <th>latest_work</th>\n      <th>rank_average</th>\n      <th>rank_average_exclude_debut</th>\n      <th>rank_highest</th>\n      <th>rank_highest_exclude_debut</th>\n    </tr>\n    <tr>\n      <th>no</th>\n      <th></th>\n      <th></th>\n      <th></th>\n      <th></th>\n      <th></th>\n      <th></th>\n      <th></th>\n      <th></th>\n      <th></th>\n      <th></th>\n      <th></th>\n      <th></th>\n      <th></th>\n      <th></th>\n      <th></th>\n      <th></th>\n      <th></th>\n      <th></th>\n      <th></th>\n      <th></th>\n      <th></th>\n    </tr>\n  </thead>\n  <tbody>\n    <tr>\n      <th>333</th>\n      <td>或る修道士の告解</td>\n      <td>None</td>\n      <td>False</td>\n      <td>False</td>\n      <td>[芸術変態論]</td>\n      <td>芸術変態論</td>\n      <td>2018-07-25</td>\n      <td>NaN</td>\n      <td>r2018</td>\n      <td>[OA]</td>\n      <td>...</td>\n      <td>0</td>\n      <td>0</td>\n      <td>0</td>\n      <td>2</td>\n      <td>2</td>\n      <td>芸術変態論</td>\n      <td>29.0</td>\n      <td>26.0</td>\n      <td>97.0</td>\n      <td>72.0</td>\n    </tr>\n  </tbody>\n</table>\n<p>1 rows × 44 columns</p>\n</div>",
      "text/plain": "        title  ruby   inst  hall_of_fame    works  debut       date  r2019u  \\\nno                                                                            \n333  或る修道士の告解  None  False         False  [芸術変態論]  芸術変態論 2018-07-25     NaN   \n\n    initial  kind  ... over50  over100  over200  count_all  count  \\\nno                 ...                                              \n333   r2018  [OA]  ...      0        0        0          2      2   \n\n     latest_work  rank_average  rank_average_exclude_debut  rank_highest  \\\nno                                                                         \n333        芸術変態論          29.0                        26.0          97.0   \n\n     rank_highest_exclude_debut  \nno                               \n333                        72.0  \n\n[1 rows x 44 columns]"
     },
     "execution_count": 267,
     "metadata": {},
     "output_type": "execute_result"
    }
   ],
   "source": [
    "target[(30 < target_recent) & (target_recent <= 50)].query('over30 == 1')"
   ]
  },
  {
   "cell_type": "code",
   "execution_count": 268,
   "metadata": {},
   "outputs": [
    {
     "name": "stdout",
     "output_type": "stream",
     "text": "曲名|発表年|順位|過去最低\n---|---:|---:|---:\n或る修道士の告解|2018|32|20\n"
    }
   ],
   "source": [
    "print('曲名|発表年|順位|過去最低')\n",
    "print('---|---:|---:|---:')\n",
    "for no in _.index:\n",
    "    le += [_.title.at[no]]\n",
    "    last_val = _[RANK_BEFORE].max(1).at[no]\n",
    "    last = 'NEW' if pandas.isna(last_val) else int(last_val)\n",
    "    this_val = int(_[RECENT].at[no])\n",
    "    this = this_val if lowest[RECENT] > this_val else f\"{this_val} (圏外)\"\n",
    "    print(f'{_.title.at[no]}|{_.date.at[no].year}|{this}|{last}')"
   ]
  },
  {
   "cell_type": "markdown",
   "metadata": {},
   "outputs": [],
   "source": [
    "#### first \"over50\""
   ]
  },
  {
   "cell_type": "code",
   "execution_count": 269,
   "metadata": {},
   "outputs": [
    {
     "data": {
      "text/html": "<div>\n<style scoped>\n    .dataframe tbody tr th:only-of-type {\n        vertical-align: middle;\n    }\n\n    .dataframe tbody tr th {\n        vertical-align: top;\n    }\n\n    .dataframe thead th {\n        text-align: right;\n    }\n</style>\n<table border=\"1\" class=\"dataframe\">\n  <thead>\n    <tr style=\"text-align: right;\">\n      <th></th>\n      <th>title</th>\n      <th>ruby</th>\n      <th>inst</th>\n      <th>hall_of_fame</th>\n      <th>works</th>\n      <th>debut</th>\n      <th>date</th>\n      <th>r2019u</th>\n      <th>initial</th>\n      <th>kind</th>\n      <th>...</th>\n      <th>over50</th>\n      <th>over100</th>\n      <th>over200</th>\n      <th>count_all</th>\n      <th>count</th>\n      <th>latest_work</th>\n      <th>rank_average</th>\n      <th>rank_average_exclude_debut</th>\n      <th>rank_highest</th>\n      <th>rank_highest_exclude_debut</th>\n    </tr>\n    <tr>\n      <th>no</th>\n      <th></th>\n      <th></th>\n      <th></th>\n      <th></th>\n      <th></th>\n      <th></th>\n      <th></th>\n      <th></th>\n      <th></th>\n      <th></th>\n      <th></th>\n      <th></th>\n      <th></th>\n      <th></th>\n      <th></th>\n      <th></th>\n      <th></th>\n      <th></th>\n      <th></th>\n      <th></th>\n      <th></th>\n    </tr>\n  </thead>\n  <tbody>\n    <tr>\n      <th>329</th>\n      <td>少女昆蟲記</td>\n      <td>None</td>\n      <td>False</td>\n      <td>False</td>\n      <td>[芸術変態論]</td>\n      <td>芸術変態論</td>\n      <td>2018-07-25</td>\n      <td>NaN</td>\n      <td>r2018</td>\n      <td>[OA]</td>\n      <td>...</td>\n      <td>1</td>\n      <td>0</td>\n      <td>0</td>\n      <td>2</td>\n      <td>2</td>\n      <td>芸術変態論</td>\n      <td>44.0</td>\n      <td>42.0</td>\n      <td>138.0</td>\n      <td>113.0</td>\n    </tr>\n    <tr>\n      <th>332</th>\n      <td>極まれリ</td>\n      <td>None</td>\n      <td>False</td>\n      <td>False</td>\n      <td>[芸術変態論]</td>\n      <td>芸術変態論</td>\n      <td>2018-07-25</td>\n      <td>NaN</td>\n      <td>r2018</td>\n      <td>[OA]</td>\n      <td>...</td>\n      <td>1</td>\n      <td>0</td>\n      <td>0</td>\n      <td>2</td>\n      <td>2</td>\n      <td>芸術変態論</td>\n      <td>50.0</td>\n      <td>85.0</td>\n      <td>50.0</td>\n      <td>183.0</td>\n    </tr>\n    <tr>\n      <th>337</th>\n      <td>美しき獣たちの為の</td>\n      <td>None</td>\n      <td>False</td>\n      <td>False</td>\n      <td>[『コードギアス 復活のルルーシュ』オリジナルサウンドトラック]</td>\n      <td>『コードギアス 復活のルルーシュ』オリジナルサウンドトラック</td>\n      <td>2019-02-13</td>\n      <td>NaN</td>\n      <td>r2019</td>\n      <td>[ST]</td>\n      <td>...</td>\n      <td>1</td>\n      <td>0</td>\n      <td>0</td>\n      <td>1</td>\n      <td>1</td>\n      <td>『コードギアス 復活のルルーシュ』オリジナルサウンドトラック</td>\n      <td>81.0</td>\n      <td>301.0</td>\n      <td>193.0</td>\n      <td>301.0</td>\n    </tr>\n    <tr>\n      <th>345</th>\n      <td>恐怖の頭脳改革</td>\n      <td>None</td>\n      <td>False</td>\n      <td>False</td>\n      <td>[Fantasia]</td>\n      <td>Fantasia</td>\n      <td>2019-08-28</td>\n      <td>NaN</td>\n      <td>r2019</td>\n      <td>[OA]</td>\n      <td>...</td>\n      <td>1</td>\n      <td>0</td>\n      <td>0</td>\n      <td>1</td>\n      <td>1</td>\n      <td>Fantasia</td>\n      <td>69.0</td>\n      <td>301.0</td>\n      <td>178.0</td>\n      <td>301.0</td>\n    </tr>\n    <tr>\n      <th>346</th>\n      <td>地球で</td>\n      <td>テラで</td>\n      <td>False</td>\n      <td>False</td>\n      <td>[Fantasia]</td>\n      <td>Fantasia</td>\n      <td>2019-08-28</td>\n      <td>NaN</td>\n      <td>r2019</td>\n      <td>[OA]</td>\n      <td>...</td>\n      <td>1</td>\n      <td>0</td>\n      <td>0</td>\n      <td>1</td>\n      <td>1</td>\n      <td>Fantasia</td>\n      <td>126.0</td>\n      <td>301.0</td>\n      <td>233.0</td>\n      <td>301.0</td>\n    </tr>\n    <tr>\n      <th>348</th>\n      <td>WALTZ FOR DEBBY</td>\n      <td>None</td>\n      <td>False</td>\n      <td>False</td>\n      <td>[Fantasia]</td>\n      <td>Fantasia</td>\n      <td>2019-08-28</td>\n      <td>NaN</td>\n      <td>r2019</td>\n      <td>[OA]</td>\n      <td>...</td>\n      <td>1</td>\n      <td>0</td>\n      <td>0</td>\n      <td>1</td>\n      <td>1</td>\n      <td>Fantasia</td>\n      <td>55.0</td>\n      <td>301.0</td>\n      <td>171.0</td>\n      <td>301.0</td>\n    </tr>\n  </tbody>\n</table>\n<p>6 rows × 44 columns</p>\n</div>",
      "text/plain": "               title  ruby   inst  hall_of_fame  \\\nno                                                \n329            少女昆蟲記  None  False         False   \n332             極まれリ  None  False         False   \n337        美しき獣たちの為の  None  False         False   \n345          恐怖の頭脳改革  None  False         False   \n346              地球で   テラで  False         False   \n348  WALTZ FOR DEBBY  None  False         False   \n\n                                works                           debut  \\\nno                                                                      \n329                           [芸術変態論]                           芸術変態論   \n332                           [芸術変態論]                           芸術変態論   \n337  [『コードギアス 復活のルルーシュ』オリジナルサウンドトラック]  『コードギアス 復活のルルーシュ』オリジナルサウンドトラック   \n345                        [Fantasia]                        Fantasia   \n346                        [Fantasia]                        Fantasia   \n348                        [Fantasia]                        Fantasia   \n\n          date  r2019u initial  kind  ... over50  over100  over200  count_all  \\\nno                                    ...                                       \n329 2018-07-25     NaN   r2018  [OA]  ...      1        0        0          2   \n332 2018-07-25     NaN   r2018  [OA]  ...      1        0        0          2   \n337 2019-02-13     NaN   r2019  [ST]  ...      1        0        0          1   \n345 2019-08-28     NaN   r2019  [OA]  ...      1        0        0          1   \n346 2019-08-28     NaN   r2019  [OA]  ...      1        0        0          1   \n348 2019-08-28     NaN   r2019  [OA]  ...      1        0        0          1   \n\n     count                     latest_work  rank_average  \\\nno                                                         \n329      2                           芸術変態論          44.0   \n332      2                           芸術変態論          50.0   \n337      1  『コードギアス 復活のルルーシュ』オリジナルサウンドトラック          81.0   \n345      1                        Fantasia          69.0   \n346      1                        Fantasia         126.0   \n348      1                        Fantasia          55.0   \n\n     rank_average_exclude_debut  rank_highest  rank_highest_exclude_debut  \nno                                                                         \n329                        42.0         138.0                       113.0  \n332                        85.0          50.0                       183.0  \n337                       301.0         193.0                       301.0  \n345                       301.0         178.0                       301.0  \n346                       301.0         233.0                       301.0  \n348                       301.0         171.0                       301.0  \n\n[6 rows x 44 columns]"
     },
     "execution_count": 269,
     "metadata": {},
     "output_type": "execute_result"
    }
   ],
   "source": [
    "target[(50 < target_recent) & (target_recent <= 100)].query('over50 == 1')"
   ]
  },
  {
   "cell_type": "code",
   "execution_count": 270,
   "metadata": {},
   "outputs": [
    {
     "name": "stdout",
     "output_type": "stream",
     "text": "曲名|発表年|順位|過去最低\n---|---:|---:|---:\n少女昆蟲記|2018|51|38\n極まれリ|2018|86|10\n美しき獣たちの為の|2019|68|NEW\n恐怖の頭脳改革|2019|61|NEW\n地球で|2019|99|NEW\nWALTZ FOR DEBBY|2019|55|NEW\n"
    }
   ],
   "source": [
    "print('曲名|発表年|順位|過去最低')\n",
    "print('---|---:|---:|---:')\n",
    "for no in _.index:\n",
    "    le += [_.title.at[no]]\n",
    "    last_val = _[RANK_BEFORE].max(1).at[no]\n",
    "    last = 'NEW' if pandas.isna(last_val) else int(last_val)\n",
    "    this_val = int(_[RECENT].at[no])\n",
    "    this = this_val if lowest[RECENT] > this_val else f\"{this_val} (圏外)\"\n",
    "    print(f'{_.title.at[no]}|{_.date.at[no].year}|{this}|{last}')"
   ]
  },
  {
   "cell_type": "markdown",
   "metadata": {},
   "outputs": [],
   "source": [
    "#### first \"over100\""
   ]
  },
  {
   "cell_type": "code",
   "execution_count": 271,
   "metadata": {},
   "outputs": [
    {
     "data": {
      "text/html": "<div>\n<style scoped>\n    .dataframe tbody tr th:only-of-type {\n        vertical-align: middle;\n    }\n\n    .dataframe tbody tr th {\n        vertical-align: top;\n    }\n\n    .dataframe thead th {\n        text-align: right;\n    }\n</style>\n<table border=\"1\" class=\"dataframe\">\n  <thead>\n    <tr style=\"text-align: right;\">\n      <th></th>\n      <th>title</th>\n      <th>ruby</th>\n      <th>inst</th>\n      <th>hall_of_fame</th>\n      <th>works</th>\n      <th>debut</th>\n      <th>date</th>\n      <th>r2019u</th>\n      <th>initial</th>\n      <th>kind</th>\n      <th>...</th>\n      <th>over50</th>\n      <th>over100</th>\n      <th>over200</th>\n      <th>count_all</th>\n      <th>count</th>\n      <th>latest_work</th>\n      <th>rank_average</th>\n      <th>rank_average_exclude_debut</th>\n      <th>rank_highest</th>\n      <th>rank_highest_exclude_debut</th>\n    </tr>\n    <tr>\n      <th>no</th>\n      <th></th>\n      <th></th>\n      <th></th>\n      <th></th>\n      <th></th>\n      <th></th>\n      <th></th>\n      <th></th>\n      <th></th>\n      <th></th>\n      <th></th>\n      <th></th>\n      <th></th>\n      <th></th>\n      <th></th>\n      <th></th>\n      <th></th>\n      <th></th>\n      <th></th>\n      <th></th>\n      <th></th>\n    </tr>\n  </thead>\n  <tbody>\n    <tr>\n      <th>130</th>\n      <td>昭和恋々幻燈館</td>\n      <td>None</td>\n      <td>False</td>\n      <td>False</td>\n      <td>[Dilettante]</td>\n      <td>Dilettante</td>\n      <td>2005-06-22</td>\n      <td>NaN</td>\n      <td>r2005</td>\n      <td>[OA]</td>\n      <td>...</td>\n      <td>10</td>\n      <td>1</td>\n      <td>0</td>\n      <td>16</td>\n      <td>13</td>\n      <td>Dilettante</td>\n      <td>72.0</td>\n      <td>53.0</td>\n      <td>136.0</td>\n      <td>87.0</td>\n    </tr>\n    <tr>\n      <th>185</th>\n      <td>神風</td>\n      <td>None</td>\n      <td>False</td>\n      <td>False</td>\n      <td>[禁書, 愛と誠 ～YAMATO＆LOVE×××]</td>\n      <td>禁書</td>\n      <td>2008-08-27</td>\n      <td>NaN</td>\n      <td>r2009</td>\n      <td>[OA, CA]</td>\n      <td>...</td>\n      <td>1</td>\n      <td>1</td>\n      <td>0</td>\n      <td>11</td>\n      <td>11</td>\n      <td>愛と誠 ～YAMATO＆LOVE×××</td>\n      <td>37.0</td>\n      <td>31.0</td>\n      <td>61.0</td>\n      <td>30.0</td>\n    </tr>\n    <tr>\n      <th>261</th>\n      <td>真夏の憂愁夫人</td>\n      <td>None</td>\n      <td>False</td>\n      <td>False</td>\n      <td>[贋作師, 愛と誠 ～YAMATO＆LOVE×××]</td>\n      <td>贋作師</td>\n      <td>2012-07-18</td>\n      <td>NaN</td>\n      <td>r2012</td>\n      <td>[OA, CA]</td>\n      <td>...</td>\n      <td>2</td>\n      <td>1</td>\n      <td>0</td>\n      <td>8</td>\n      <td>8</td>\n      <td>愛と誠 ～YAMATO＆LOVE×××</td>\n      <td>42.0</td>\n      <td>37.0</td>\n      <td>44.0</td>\n      <td>18.0</td>\n    </tr>\n    <tr>\n      <th>264</th>\n      <td>快恠奇奇</td>\n      <td>None</td>\n      <td>False</td>\n      <td>False</td>\n      <td>[快恠奇奇 ALI PROJECT Ventennale Music, Art Exhibi...</td>\n      <td>快恠奇奇 ALI PROJECT Ventennale Music, Art Exhibition</td>\n      <td>2013-02-20</td>\n      <td>NaN</td>\n      <td>r2013</td>\n      <td>[CA]</td>\n      <td>...</td>\n      <td>4</td>\n      <td>1</td>\n      <td>0</td>\n      <td>7</td>\n      <td>7</td>\n      <td>快恠奇奇 ALI PROJECT Ventennale Music, Art Exhibition</td>\n      <td>63.0</td>\n      <td>58.0</td>\n      <td>61.0</td>\n      <td>76.0</td>\n    </tr>\n    <tr>\n      <th>268</th>\n      <td>令嬢薔薇図鑑</td>\n      <td>None</td>\n      <td>False</td>\n      <td>False</td>\n      <td>[令嬢薔薇図鑑, 血と蜜 ～Anthology of Gothic Lolita＆Horror]</td>\n      <td>令嬢薔薇図鑑</td>\n      <td>2013-09-11</td>\n      <td>NaN</td>\n      <td>r2013</td>\n      <td>[OA, CA]</td>\n      <td>...</td>\n      <td>3</td>\n      <td>1</td>\n      <td>0</td>\n      <td>7</td>\n      <td>7</td>\n      <td>血と蜜 ～Anthology of Gothic Lolita＆Horror</td>\n      <td>54.0</td>\n      <td>50.0</td>\n      <td>30.0</td>\n      <td>56.0</td>\n    </tr>\n    <tr>\n      <th>269</th>\n      <td>ローズ家の双子達</td>\n      <td>None</td>\n      <td>False</td>\n      <td>False</td>\n      <td>[令嬢薔薇図鑑, 血と蜜 ～Anthology of Gothic Lolita＆Horror]</td>\n      <td>令嬢薔薇図鑑</td>\n      <td>2013-09-11</td>\n      <td>NaN</td>\n      <td>r2013</td>\n      <td>[OA, CA]</td>\n      <td>...</td>\n      <td>2</td>\n      <td>1</td>\n      <td>0</td>\n      <td>7</td>\n      <td>7</td>\n      <td>血と蜜 ～Anthology of Gothic Lolita＆Horror</td>\n      <td>45.0</td>\n      <td>45.0</td>\n      <td>18.0</td>\n      <td>26.0</td>\n    </tr>\n    <tr>\n      <th>317</th>\n      <td>昭和B級下手喰い道</td>\n      <td>None</td>\n      <td>False</td>\n      <td>False</td>\n      <td>[A級戒厳令]</td>\n      <td>A級戒厳令</td>\n      <td>2016-08-24</td>\n      <td>NaN</td>\n      <td>r2016</td>\n      <td>[OA]</td>\n      <td>...</td>\n      <td>2</td>\n      <td>1</td>\n      <td>0</td>\n      <td>4</td>\n      <td>4</td>\n      <td>A級戒厳令</td>\n      <td>66.0</td>\n      <td>74.0</td>\n      <td>30.0</td>\n      <td>94.0</td>\n    </tr>\n    <tr>\n      <th>318</th>\n      <td>女化生舞楽図</td>\n      <td>おんなけしょうぶがくず</td>\n      <td>False</td>\n      <td>False</td>\n      <td>[A級戒厳令, 血と蜜 ～Anthology of Gothic Lolita＆Horror]</td>\n      <td>A級戒厳令</td>\n      <td>2016-08-24</td>\n      <td>NaN</td>\n      <td>r2016</td>\n      <td>[OA, CA]</td>\n      <td>...</td>\n      <td>2</td>\n      <td>1</td>\n      <td>0</td>\n      <td>4</td>\n      <td>4</td>\n      <td>血と蜜 ～Anthology of Gothic Lolita＆Horror</td>\n      <td>80.0</td>\n      <td>82.0</td>\n      <td>82.0</td>\n      <td>101.0</td>\n    </tr>\n    <tr>\n      <th>323</th>\n      <td>Royal Academy of Gothic Lolita</td>\n      <td>None</td>\n      <td>False</td>\n      <td>False</td>\n      <td>[血と蜜 ～Anthology of Gothic Lolita＆Horror]</td>\n      <td>血と蜜 ～Anthology of Gothic Lolita＆Horror</td>\n      <td>2017-06-21</td>\n      <td>NaN</td>\n      <td>r2017</td>\n      <td>[CA]</td>\n      <td>...</td>\n      <td>2</td>\n      <td>1</td>\n      <td>0</td>\n      <td>3</td>\n      <td>3</td>\n      <td>血と蜜 ～Anthology of Gothic Lolita＆Horror</td>\n      <td>108.0</td>\n      <td>139.0</td>\n      <td>82.0</td>\n      <td>168.0</td>\n    </tr>\n    <tr>\n      <th>325</th>\n      <td>花と龍</td>\n      <td>None</td>\n      <td>False</td>\n      <td>False</td>\n      <td>[愛と誠 ～YAMATO＆LOVE×××]</td>\n      <td>愛と誠 ～YAMATO＆LOVE×××</td>\n      <td>2017-09-27</td>\n      <td>NaN</td>\n      <td>r2017</td>\n      <td>[CA]</td>\n      <td>...</td>\n      <td>2</td>\n      <td>1</td>\n      <td>0</td>\n      <td>3</td>\n      <td>3</td>\n      <td>愛と誠 ～YAMATO＆LOVE×××</td>\n      <td>129.0</td>\n      <td>160.0</td>\n      <td>109.0</td>\n      <td>185.0</td>\n    </tr>\n    <tr>\n      <th>327</th>\n      <td>Taolor Tの変身譚</td>\n      <td>None</td>\n      <td>False</td>\n      <td>False</td>\n      <td>[芸術変態論]</td>\n      <td>芸術変態論</td>\n      <td>2018-07-25</td>\n      <td>NaN</td>\n      <td>r2018</td>\n      <td>[OA]</td>\n      <td>...</td>\n      <td>1</td>\n      <td>1</td>\n      <td>0</td>\n      <td>2</td>\n      <td>2</td>\n      <td>芸術変態論</td>\n      <td>113.0</td>\n      <td>153.0</td>\n      <td>152.0</td>\n      <td>249.0</td>\n    </tr>\n    <tr>\n      <th>328</th>\n      <td>ヤマトイズム</td>\n      <td>None</td>\n      <td>False</td>\n      <td>False</td>\n      <td>[芸術変態論]</td>\n      <td>芸術変態論</td>\n      <td>2018-07-25</td>\n      <td>NaN</td>\n      <td>r2018</td>\n      <td>[OA]</td>\n      <td>...</td>\n      <td>1</td>\n      <td>1</td>\n      <td>0</td>\n      <td>2</td>\n      <td>2</td>\n      <td>芸術変態論</td>\n      <td>124.0</td>\n      <td>204.0</td>\n      <td>116.0</td>\n      <td>280.0</td>\n    </tr>\n    <tr>\n      <th>334</th>\n      <td>タンゴ ダタ</td>\n      <td>None</td>\n      <td>False</td>\n      <td>False</td>\n      <td>[芸術変態論]</td>\n      <td>芸術変態論</td>\n      <td>2018-07-25</td>\n      <td>NaN</td>\n      <td>r2018</td>\n      <td>[OA]</td>\n      <td>...</td>\n      <td>1</td>\n      <td>1</td>\n      <td>0</td>\n      <td>2</td>\n      <td>2</td>\n      <td>芸術変態論</td>\n      <td>102.0</td>\n      <td>146.0</td>\n      <td>132.0</td>\n      <td>243.0</td>\n    </tr>\n    <tr>\n      <th>342</th>\n      <td>月下、緑雨幻想</td>\n      <td>None</td>\n      <td>False</td>\n      <td>False</td>\n      <td>[Fantasia]</td>\n      <td>Fantasia</td>\n      <td>2019-08-28</td>\n      <td>NaN</td>\n      <td>r2019</td>\n      <td>[OA]</td>\n      <td>...</td>\n      <td>1</td>\n      <td>1</td>\n      <td>0</td>\n      <td>1</td>\n      <td>1</td>\n      <td>Fantasia</td>\n      <td>183.0</td>\n      <td>301.0</td>\n      <td>281.0</td>\n      <td>301.0</td>\n    </tr>\n  </tbody>\n</table>\n<p>14 rows × 44 columns</p>\n</div>",
      "text/plain": "                              title         ruby   inst  hall_of_fame  \\\nno                                                                      \n130                         昭和恋々幻燈館         None  False         False   \n185                              神風         None  False         False   \n261                         真夏の憂愁夫人         None  False         False   \n264                            快恠奇奇         None  False         False   \n268                          令嬢薔薇図鑑         None  False         False   \n269                        ローズ家の双子達         None  False         False   \n317                       昭和B級下手喰い道         None  False         False   \n318                          女化生舞楽図  おんなけしょうぶがくず  False         False   \n323  Royal Academy of Gothic Lolita         None  False         False   \n325                             花と龍         None  False         False   \n327                    Taolor Tの変身譚         None  False         False   \n328                          ヤマトイズム         None  False         False   \n334                          タンゴ ダタ         None  False         False   \n342                         月下、緑雨幻想         None  False         False   \n\n                                                 works  \\\nno                                                       \n130                                       [Dilettante]   \n185                          [禁書, 愛と誠 ～YAMATO＆LOVE×××]   \n261                         [贋作師, 愛と誠 ～YAMATO＆LOVE×××]   \n264  [快恠奇奇 ALI PROJECT Ventennale Music, Art Exhibi...   \n268   [令嬢薔薇図鑑, 血と蜜 ～Anthology of Gothic Lolita＆Horror]   \n269   [令嬢薔薇図鑑, 血と蜜 ～Anthology of Gothic Lolita＆Horror]   \n317                                            [A級戒厳令]   \n318    [A級戒厳令, 血と蜜 ～Anthology of Gothic Lolita＆Horror]   \n323           [血と蜜 ～Anthology of Gothic Lolita＆Horror]   \n325                              [愛と誠 ～YAMATO＆LOVE×××]   \n327                                            [芸術変態論]   \n328                                            [芸術変態論]   \n334                                            [芸術変態論]   \n342                                         [Fantasia]   \n\n                                                 debut       date  r2019u  \\\nno                                                                          \n130                                         Dilettante 2005-06-22     NaN   \n185                                                 禁書 2008-08-27     NaN   \n261                                                贋作師 2012-07-18     NaN   \n264  快恠奇奇 ALI PROJECT Ventennale Music, Art Exhibition 2013-02-20     NaN   \n268                                             令嬢薔薇図鑑 2013-09-11     NaN   \n269                                             令嬢薔薇図鑑 2013-09-11     NaN   \n317                                              A級戒厳令 2016-08-24     NaN   \n318                                              A級戒厳令 2016-08-24     NaN   \n323             血と蜜 ～Anthology of Gothic Lolita＆Horror 2017-06-21     NaN   \n325                                愛と誠 ～YAMATO＆LOVE××× 2017-09-27     NaN   \n327                                              芸術変態論 2018-07-25     NaN   \n328                                              芸術変態論 2018-07-25     NaN   \n334                                              芸術変態論 2018-07-25     NaN   \n342                                           Fantasia 2019-08-28     NaN   \n\n    initial      kind  ... over50  over100  over200  count_all  count  \\\nno                     ...                                              \n130   r2005      [OA]  ...     10        1        0         16     13   \n185   r2009  [OA, CA]  ...      1        1        0         11     11   \n261   r2012  [OA, CA]  ...      2        1        0          8      8   \n264   r2013      [CA]  ...      4        1        0          7      7   \n268   r2013  [OA, CA]  ...      3        1        0          7      7   \n269   r2013  [OA, CA]  ...      2        1        0          7      7   \n317   r2016      [OA]  ...      2        1        0          4      4   \n318   r2016  [OA, CA]  ...      2        1        0          4      4   \n323   r2017      [CA]  ...      2        1        0          3      3   \n325   r2017      [CA]  ...      2        1        0          3      3   \n327   r2018      [OA]  ...      1        1        0          2      2   \n328   r2018      [OA]  ...      1        1        0          2      2   \n334   r2018      [OA]  ...      1        1        0          2      2   \n342   r2019      [OA]  ...      1        1        0          1      1   \n\n                                           latest_work  rank_average  \\\nno                                                                     \n130                                         Dilettante          72.0   \n185                                愛と誠 ～YAMATO＆LOVE×××          37.0   \n261                                愛と誠 ～YAMATO＆LOVE×××          42.0   \n264  快恠奇奇 ALI PROJECT Ventennale Music, Art Exhibition          63.0   \n268             血と蜜 ～Anthology of Gothic Lolita＆Horror          54.0   \n269             血と蜜 ～Anthology of Gothic Lolita＆Horror          45.0   \n317                                              A級戒厳令          66.0   \n318             血と蜜 ～Anthology of Gothic Lolita＆Horror          80.0   \n323             血と蜜 ～Anthology of Gothic Lolita＆Horror         108.0   \n325                                愛と誠 ～YAMATO＆LOVE×××         129.0   \n327                                              芸術変態論         113.0   \n328                                              芸術変態論         124.0   \n334                                              芸術変態論         102.0   \n342                                           Fantasia         183.0   \n\n     rank_average_exclude_debut  rank_highest  rank_highest_exclude_debut  \nno                                                                         \n130                        53.0         136.0                        87.0  \n185                        31.0          61.0                        30.0  \n261                        37.0          44.0                        18.0  \n264                        58.0          61.0                        76.0  \n268                        50.0          30.0                        56.0  \n269                        45.0          18.0                        26.0  \n317                        74.0          30.0                        94.0  \n318                        82.0          82.0                       101.0  \n323                       139.0          82.0                       168.0  \n325                       160.0         109.0                       185.0  \n327                       153.0         152.0                       249.0  \n328                       204.0         116.0                       280.0  \n334                       146.0         132.0                       243.0  \n342                       301.0         281.0                       301.0  \n\n[14 rows x 44 columns]"
     },
     "execution_count": 271,
     "metadata": {},
     "output_type": "execute_result"
    }
   ],
   "source": [
    "target[(100 < target_recent) & (target_recent <= 200)].query('over100 == 1')"
   ]
  },
  {
   "cell_type": "code",
   "execution_count": 272,
   "metadata": {},
   "outputs": [
    {
     "name": "stdout",
     "output_type": "stream",
     "text": "曲名|発表年|順位|過去最低\n---|---:|---:|---:\n昭和恋々幻燈館|2005|117|95\n神風|2008|145|44\n真夏の憂愁夫人|2012|101|56\n快恠奇奇|2013|151|68\n令嬢薔薇図鑑|2013|117|77\nローズ家の双子達|2013|106|78\n昭和B級下手喰い道|2016|137|55\n女化生舞楽図|2016|141|63\nRoyal Academy of Gothic Lolita|2017|174|77\n花と龍|2017|192|87\nTaolor Tの変身譚|2018|136|47\nヤマトイズム|2018|170|26\nタンゴ ダタ|2018|133|35\n月下、緑雨幻想|2019|140|NEW\n"
    }
   ],
   "source": [
    "print('曲名|発表年|順位|過去最低')\n",
    "print('---|---:|---:|---:')\n",
    "for no in _.index:\n",
    "    le += [_.title.at[no]]\n",
    "    last_val = _[RANK_BEFORE].max(1).at[no]\n",
    "    last = 'NEW' if pandas.isna(last_val) else int(last_val)\n",
    "    this_val = int(_[RECENT].at[no])\n",
    "    this = this_val if lowest[RECENT] > this_val else f\"{this_val} (圏外)\"\n",
    "    print(f'{_.title.at[no]}|{_.date.at[no].year}|{this}|{last}')"
   ]
  },
  {
   "cell_type": "markdown",
   "metadata": {},
   "outputs": [],
   "source": [
    "#### first \"over200\""
   ]
  },
  {
   "cell_type": "code",
   "execution_count": 273,
   "metadata": {},
   "outputs": [
    {
     "data": {
      "text/html": "<div>\n<style scoped>\n    .dataframe tbody tr th:only-of-type {\n        vertical-align: middle;\n    }\n\n    .dataframe tbody tr th {\n        vertical-align: top;\n    }\n\n    .dataframe thead th {\n        text-align: right;\n    }\n</style>\n<table border=\"1\" class=\"dataframe\">\n  <thead>\n    <tr style=\"text-align: right;\">\n      <th></th>\n      <th>title</th>\n      <th>ruby</th>\n      <th>inst</th>\n      <th>hall_of_fame</th>\n      <th>works</th>\n      <th>debut</th>\n      <th>date</th>\n      <th>r2019u</th>\n      <th>initial</th>\n      <th>kind</th>\n      <th>...</th>\n      <th>over50</th>\n      <th>over100</th>\n      <th>over200</th>\n      <th>count_all</th>\n      <th>count</th>\n      <th>latest_work</th>\n      <th>rank_average</th>\n      <th>rank_average_exclude_debut</th>\n      <th>rank_highest</th>\n      <th>rank_highest_exclude_debut</th>\n    </tr>\n    <tr>\n      <th>no</th>\n      <th></th>\n      <th></th>\n      <th></th>\n      <th></th>\n      <th></th>\n      <th></th>\n      <th></th>\n      <th></th>\n      <th></th>\n      <th></th>\n      <th></th>\n      <th></th>\n      <th></th>\n      <th></th>\n      <th></th>\n      <th></th>\n      <th></th>\n      <th></th>\n      <th></th>\n      <th></th>\n      <th></th>\n    </tr>\n  </thead>\n  <tbody>\n    <tr>\n      <th>8</th>\n      <td>パラソルのある風景</td>\n      <td>None</td>\n      <td>False</td>\n      <td>False</td>\n      <td>[幻想庭園]</td>\n      <td>幻想庭園</td>\n      <td>1988-01-25</td>\n      <td>109.0</td>\n      <td>r2005</td>\n      <td>[OA]</td>\n      <td>...</td>\n      <td>13</td>\n      <td>13</td>\n      <td>1</td>\n      <td>16</td>\n      <td>13</td>\n      <td>幻想庭園</td>\n      <td>236.0</td>\n      <td>219.0</td>\n      <td>268.0</td>\n      <td>241.0</td>\n    </tr>\n    <tr>\n      <th>38</th>\n      <td>冬物語</td>\n      <td>None</td>\n      <td>False</td>\n      <td>False</td>\n      <td>[星と月のソナタ]</td>\n      <td>星と月のソナタ</td>\n      <td>1995-12-06</td>\n      <td>86.0</td>\n      <td>r2005</td>\n      <td>[OA]</td>\n      <td>...</td>\n      <td>13</td>\n      <td>12</td>\n      <td>1</td>\n      <td>16</td>\n      <td>13</td>\n      <td>星と月のソナタ</td>\n      <td>187.0</td>\n      <td>169.0</td>\n      <td>216.0</td>\n      <td>179.0</td>\n    </tr>\n    <tr>\n      <th>40</th>\n      <td>ストロベリーパイをお食べ</td>\n      <td>None</td>\n      <td>False</td>\n      <td>False</td>\n      <td>[緑山高校甲子園編 オリジナルサウンドトラック盤, jamais vu]</td>\n      <td>緑山高校甲子園編 オリジナルサウンドトラック盤</td>\n      <td>1995-12-06</td>\n      <td>63.0</td>\n      <td>r2005</td>\n      <td>[ST, CA]</td>\n      <td>...</td>\n      <td>13</td>\n      <td>7</td>\n      <td>1</td>\n      <td>16</td>\n      <td>13</td>\n      <td>jamais vu</td>\n      <td>143.0</td>\n      <td>123.0</td>\n      <td>183.0</td>\n      <td>137.0</td>\n    </tr>\n    <tr>\n      <th>96</th>\n      <td>schism</td>\n      <td>None</td>\n      <td>False</td>\n      <td>False</td>\n      <td>[EROTIC &amp; HERETIC]</td>\n      <td>EROTIC &amp; HERETIC</td>\n      <td>2002-07-24</td>\n      <td>NaN</td>\n      <td>r2005</td>\n      <td>[OA]</td>\n      <td>...</td>\n      <td>12</td>\n      <td>5</td>\n      <td>1</td>\n      <td>16</td>\n      <td>13</td>\n      <td>EROTIC &amp; HERETIC</td>\n      <td>130.0</td>\n      <td>105.0</td>\n      <td>151.0</td>\n      <td>100.0</td>\n    </tr>\n    <tr>\n      <th>181</th>\n      <td>コトダマ</td>\n      <td>None</td>\n      <td>False</td>\n      <td>False</td>\n      <td>[コトダマ, シゴフミ オリジナルサウンドトラック, La Vita Romantica, ...</td>\n      <td>コトダマ</td>\n      <td>2008-01-23</td>\n      <td>NaN</td>\n      <td>r2008</td>\n      <td>[S-1, ST, CA]</td>\n      <td>...</td>\n      <td>7</td>\n      <td>1</td>\n      <td>1</td>\n      <td>12</td>\n      <td>12</td>\n      <td>快恠奇奇 ALI PROJECT Ventennale Music, Art Exhibition</td>\n      <td>71.0</td>\n      <td>60.0</td>\n      <td>39.0</td>\n      <td>72.0</td>\n    </tr>\n    <tr>\n      <th>189</th>\n      <td>血の断章</td>\n      <td>None</td>\n      <td>False</td>\n      <td>False</td>\n      <td>[禁書, 血と蜜 ～Anthology of Gothic Lolita＆Horror]</td>\n      <td>禁書</td>\n      <td>2008-08-27</td>\n      <td>73.0</td>\n      <td>r2009</td>\n      <td>[OA, CA]</td>\n      <td>...</td>\n      <td>11</td>\n      <td>9</td>\n      <td>1</td>\n      <td>11</td>\n      <td>11</td>\n      <td>血と蜜 ～Anthology of Gothic Lolita＆Horror</td>\n      <td>205.0</td>\n      <td>189.0</td>\n      <td>226.0</td>\n      <td>194.0</td>\n    </tr>\n    <tr>\n      <th>202</th>\n      <td>戦慄の子供たち</td>\n      <td>None</td>\n      <td>False</td>\n      <td>False</td>\n      <td>[戦慄の子供たち, Phantom ～Requiem for the Phantom～ O....</td>\n      <td>戦慄の子供たち</td>\n      <td>2009-08-19</td>\n      <td>59.0</td>\n      <td>r2010</td>\n      <td>[S-1, ST, CA]</td>\n      <td>...</td>\n      <td>9</td>\n      <td>4</td>\n      <td>1</td>\n      <td>10</td>\n      <td>10</td>\n      <td>快恠奇奇 ALI PROJECT Ventennale Music, Art Exhibition</td>\n      <td>120.0</td>\n      <td>110.0</td>\n      <td>113.0</td>\n      <td>122.0</td>\n    </tr>\n    <tr>\n      <th>209</th>\n      <td>Animals on the Earth</td>\n      <td>None</td>\n      <td>False</td>\n      <td>False</td>\n      <td>[Poison]</td>\n      <td>Poison</td>\n      <td>2009-08-26</td>\n      <td>50.0</td>\n      <td>r2010</td>\n      <td>[OA]</td>\n      <td>...</td>\n      <td>8</td>\n      <td>5</td>\n      <td>1</td>\n      <td>10</td>\n      <td>10</td>\n      <td>Poison</td>\n      <td>146.0</td>\n      <td>136.0</td>\n      <td>132.0</td>\n      <td>97.0</td>\n    </tr>\n    <tr>\n      <th>252</th>\n      <td>夜見のたそがれの、うつろなる蒼き瞳の。</td>\n      <td>None</td>\n      <td>False</td>\n      <td>False</td>\n      <td>[凶夢伝染, 血と蜜 ～Anthology of Gothic Lolita＆Horror]</td>\n      <td>凶夢伝染</td>\n      <td>2012-01-25</td>\n      <td>51.0</td>\n      <td>r2012</td>\n      <td>[S-2, CA]</td>\n      <td>...</td>\n      <td>8</td>\n      <td>4</td>\n      <td>1</td>\n      <td>8</td>\n      <td>8</td>\n      <td>血と蜜 ～Anthology of Gothic Lolita＆Horror</td>\n      <td>159.0</td>\n      <td>142.0</td>\n      <td>200.0</td>\n      <td>157.0</td>\n    </tr>\n    <tr>\n      <th>276</th>\n      <td>見ぬ友へ</td>\n      <td>None</td>\n      <td>False</td>\n      <td>False</td>\n      <td>[令嬢薔薇図鑑, 愛と誠 ～YAMATO＆LOVE×××]</td>\n      <td>令嬢薔薇図鑑</td>\n      <td>2013-09-11</td>\n      <td>36.0</td>\n      <td>r2013</td>\n      <td>[OA, CA]</td>\n      <td>...</td>\n      <td>5</td>\n      <td>4</td>\n      <td>1</td>\n      <td>7</td>\n      <td>7</td>\n      <td>愛と誠 ～YAMATO＆LOVE×××</td>\n      <td>131.0</td>\n      <td>125.0</td>\n      <td>138.0</td>\n      <td>91.0</td>\n    </tr>\n    <tr>\n      <th>284</th>\n      <td>Femme Fatale</td>\n      <td>None</td>\n      <td>False</td>\n      <td>False</td>\n      <td>[流行世界]</td>\n      <td>流行世界</td>\n      <td>2014-08-27</td>\n      <td>81.0</td>\n      <td>r2014</td>\n      <td>[OA]</td>\n      <td>...</td>\n      <td>5</td>\n      <td>4</td>\n      <td>1</td>\n      <td>6</td>\n      <td>6</td>\n      <td>流行世界</td>\n      <td>161.0</td>\n      <td>167.0</td>\n      <td>136.0</td>\n      <td>162.0</td>\n    </tr>\n    <tr>\n      <th>289</th>\n      <td>極楽鳥歌</td>\n      <td>None</td>\n      <td>False</td>\n      <td>False</td>\n      <td>[流行世界]</td>\n      <td>流行世界</td>\n      <td>2014-08-27</td>\n      <td>98.0</td>\n      <td>r2014</td>\n      <td>[OA]</td>\n      <td>...</td>\n      <td>5</td>\n      <td>5</td>\n      <td>1</td>\n      <td>6</td>\n      <td>6</td>\n      <td>流行世界</td>\n      <td>189.0</td>\n      <td>170.0</td>\n      <td>252.0</td>\n      <td>220.0</td>\n    </tr>\n    <tr>\n      <th>304</th>\n      <td>禁忌 TABOO</td>\n      <td>タブー</td>\n      <td>False</td>\n      <td>False</td>\n      <td>[快楽のススメ]</td>\n      <td>快楽のススメ</td>\n      <td>2015-09-09</td>\n      <td>68.0</td>\n      <td>r2015</td>\n      <td>[OA]</td>\n      <td>...</td>\n      <td>4</td>\n      <td>3</td>\n      <td>1</td>\n      <td>5</td>\n      <td>5</td>\n      <td>快楽のススメ</td>\n      <td>145.0</td>\n      <td>155.0</td>\n      <td>118.0</td>\n      <td>179.0</td>\n    </tr>\n    <tr>\n      <th>305</th>\n      <td>狩猟令嬢ジビエ日誌</td>\n      <td>None</td>\n      <td>False</td>\n      <td>False</td>\n      <td>[快楽のススメ]</td>\n      <td>快楽のススメ</td>\n      <td>2015-09-09</td>\n      <td>124.0</td>\n      <td>r2015</td>\n      <td>[OA]</td>\n      <td>...</td>\n      <td>5</td>\n      <td>3</td>\n      <td>1</td>\n      <td>5</td>\n      <td>5</td>\n      <td>快楽のススメ</td>\n      <td>164.0</td>\n      <td>164.0</td>\n      <td>183.0</td>\n      <td>166.0</td>\n    </tr>\n    <tr>\n      <th>306</th>\n      <td>アタラクシア、そして対峙する自己</td>\n      <td>None</td>\n      <td>False</td>\n      <td>False</td>\n      <td>[快楽のススメ]</td>\n      <td>快楽のススメ</td>\n      <td>2015-09-09</td>\n      <td>141.0</td>\n      <td>r2015</td>\n      <td>[OA]</td>\n      <td>...</td>\n      <td>5</td>\n      <td>4</td>\n      <td>1</td>\n      <td>5</td>\n      <td>5</td>\n      <td>快楽のススメ</td>\n      <td>213.0</td>\n      <td>226.0</td>\n      <td>187.0</td>\n      <td>277.0</td>\n    </tr>\n    <tr>\n      <th>310</th>\n      <td>波羅蜜蓮華</td>\n      <td>None</td>\n      <td>False</td>\n      <td>False</td>\n      <td>[波羅蜜蓮華, 落第騎士の英雄譚 O.S.T.]</td>\n      <td>波羅蜜蓮華</td>\n      <td>2015-10-21</td>\n      <td>141.0</td>\n      <td>r2015</td>\n      <td>[S-1, ST]</td>\n      <td>...</td>\n      <td>4</td>\n      <td>2</td>\n      <td>1</td>\n      <td>5</td>\n      <td>5</td>\n      <td>落第騎士の英雄譚 O.S.T.</td>\n      <td>142.0</td>\n      <td>157.0</td>\n      <td>57.0</td>\n      <td>157.0</td>\n    </tr>\n    <tr>\n      <th>312</th>\n      <td>永久戒厳令</td>\n      <td>None</td>\n      <td>False</td>\n      <td>False</td>\n      <td>[A級戒厳令, 愛と誠 ～YAMATO＆LOVE×××]</td>\n      <td>A級戒厳令</td>\n      <td>2016-08-24</td>\n      <td>31.0</td>\n      <td>r2016</td>\n      <td>[OA, CA]</td>\n      <td>...</td>\n      <td>3</td>\n      <td>2</td>\n      <td>1</td>\n      <td>4</td>\n      <td>4</td>\n      <td>愛と誠 ～YAMATO＆LOVE×××</td>\n      <td>165.0</td>\n      <td>187.0</td>\n      <td>138.0</td>\n      <td>191.0</td>\n    </tr>\n    <tr>\n      <th>316</th>\n      <td>最後の美術館</td>\n      <td>None</td>\n      <td>False</td>\n      <td>False</td>\n      <td>[A級戒厳令]</td>\n      <td>A級戒厳令</td>\n      <td>2016-08-24</td>\n      <td>90.0</td>\n      <td>r2016</td>\n      <td>[OA]</td>\n      <td>...</td>\n      <td>4</td>\n      <td>4</td>\n      <td>1</td>\n      <td>4</td>\n      <td>4</td>\n      <td>A級戒厳令</td>\n      <td>221.0</td>\n      <td>227.0</td>\n      <td>248.0</td>\n      <td>245.0</td>\n    </tr>\n  </tbody>\n</table>\n<p>18 rows × 44 columns</p>\n</div>",
      "text/plain": "                    title  ruby   inst  hall_of_fame  \\\nno                                                     \n8               パラソルのある風景  None  False         False   \n38                    冬物語  None  False         False   \n40           ストロベリーパイをお食べ  None  False         False   \n96                 schism  None  False         False   \n181                  コトダマ  None  False         False   \n189                  血の断章  None  False         False   \n202               戦慄の子供たち  None  False         False   \n209  Animals on the Earth  None  False         False   \n252   夜見のたそがれの、うつろなる蒼き瞳の。  None  False         False   \n276                  見ぬ友へ  None  False         False   \n284          Femme Fatale  None  False         False   \n289                  極楽鳥歌  None  False         False   \n304              禁忌 TABOO   タブー  False         False   \n305             狩猟令嬢ジビエ日誌  None  False         False   \n306      アタラクシア、そして対峙する自己  None  False         False   \n310                 波羅蜜蓮華  None  False         False   \n312                 永久戒厳令  None  False         False   \n316                最後の美術館  None  False         False   \n\n                                                 works  \\\nno                                                       \n8                                               [幻想庭園]   \n38                                           [星と月のソナタ]   \n40                [緑山高校甲子園編 オリジナルサウンドトラック盤, jamais vu]   \n96                                  [EROTIC & HERETIC]   \n181  [コトダマ, シゴフミ オリジナルサウンドトラック, La Vita Romantica, ...   \n189       [禁書, 血と蜜 ～Anthology of Gothic Lolita＆Horror]   \n202  [戦慄の子供たち, Phantom ～Requiem for the Phantom～ O....   \n209                                           [Poison]   \n252     [凶夢伝染, 血と蜜 ～Anthology of Gothic Lolita＆Horror]   \n276                      [令嬢薔薇図鑑, 愛と誠 ～YAMATO＆LOVE×××]   \n284                                             [流行世界]   \n289                                             [流行世界]   \n304                                           [快楽のススメ]   \n305                                           [快楽のススメ]   \n306                                           [快楽のススメ]   \n310                           [波羅蜜蓮華, 落第騎士の英雄譚 O.S.T.]   \n312                       [A級戒厳令, 愛と誠 ～YAMATO＆LOVE×××]   \n316                                            [A級戒厳令]   \n\n                       debut       date  r2019u initial           kind  ...  \\\nno                                                                      ...   \n8                       幻想庭園 1988-01-25   109.0   r2005           [OA]  ...   \n38                   星と月のソナタ 1995-12-06    86.0   r2005           [OA]  ...   \n40   緑山高校甲子園編 オリジナルサウンドトラック盤 1995-12-06    63.0   r2005       [ST, CA]  ...   \n96          EROTIC & HERETIC 2002-07-24     NaN   r2005           [OA]  ...   \n181                     コトダマ 2008-01-23     NaN   r2008  [S-1, ST, CA]  ...   \n189                       禁書 2008-08-27    73.0   r2009       [OA, CA]  ...   \n202                  戦慄の子供たち 2009-08-19    59.0   r2010  [S-1, ST, CA]  ...   \n209                   Poison 2009-08-26    50.0   r2010           [OA]  ...   \n252                     凶夢伝染 2012-01-25    51.0   r2012      [S-2, CA]  ...   \n276                   令嬢薔薇図鑑 2013-09-11    36.0   r2013       [OA, CA]  ...   \n284                     流行世界 2014-08-27    81.0   r2014           [OA]  ...   \n289                     流行世界 2014-08-27    98.0   r2014           [OA]  ...   \n304                   快楽のススメ 2015-09-09    68.0   r2015           [OA]  ...   \n305                   快楽のススメ 2015-09-09   124.0   r2015           [OA]  ...   \n306                   快楽のススメ 2015-09-09   141.0   r2015           [OA]  ...   \n310                    波羅蜜蓮華 2015-10-21   141.0   r2015      [S-1, ST]  ...   \n312                    A級戒厳令 2016-08-24    31.0   r2016       [OA, CA]  ...   \n316                    A級戒厳令 2016-08-24    90.0   r2016           [OA]  ...   \n\n    over50  over100  over200  count_all  count  \\\nno                                               \n8       13       13        1         16     13   \n38      13       12        1         16     13   \n40      13        7        1         16     13   \n96      12        5        1         16     13   \n181      7        1        1         12     12   \n189     11        9        1         11     11   \n202      9        4        1         10     10   \n209      8        5        1         10     10   \n252      8        4        1          8      8   \n276      5        4        1          7      7   \n284      5        4        1          6      6   \n289      5        5        1          6      6   \n304      4        3        1          5      5   \n305      5        3        1          5      5   \n306      5        4        1          5      5   \n310      4        2        1          5      5   \n312      3        2        1          4      4   \n316      4        4        1          4      4   \n\n                                           latest_work  rank_average  \\\nno                                                                     \n8                                                 幻想庭園         236.0   \n38                                             星と月のソナタ         187.0   \n40                                           jamais vu         143.0   \n96                                    EROTIC & HERETIC         130.0   \n181  快恠奇奇 ALI PROJECT Ventennale Music, Art Exhibition          71.0   \n189             血と蜜 ～Anthology of Gothic Lolita＆Horror         205.0   \n202  快恠奇奇 ALI PROJECT Ventennale Music, Art Exhibition         120.0   \n209                                             Poison         146.0   \n252             血と蜜 ～Anthology of Gothic Lolita＆Horror         159.0   \n276                                愛と誠 ～YAMATO＆LOVE×××         131.0   \n284                                               流行世界         161.0   \n289                                               流行世界         189.0   \n304                                             快楽のススメ         145.0   \n305                                             快楽のススメ         164.0   \n306                                             快楽のススメ         213.0   \n310                                    落第騎士の英雄譚 O.S.T.         142.0   \n312                                愛と誠 ～YAMATO＆LOVE×××         165.0   \n316                                              A級戒厳令         221.0   \n\n     rank_average_exclude_debut  rank_highest  rank_highest_exclude_debut  \nno                                                                         \n8                         219.0         268.0                       241.0  \n38                        169.0         216.0                       179.0  \n40                        123.0         183.0                       137.0  \n96                        105.0         151.0                       100.0  \n181                        60.0          39.0                        72.0  \n189                       189.0         226.0                       194.0  \n202                       110.0         113.0                       122.0  \n209                       136.0         132.0                        97.0  \n252                       142.0         200.0                       157.0  \n276                       125.0         138.0                        91.0  \n284                       167.0         136.0                       162.0  \n289                       170.0         252.0                       220.0  \n304                       155.0         118.0                       179.0  \n305                       164.0         183.0                       166.0  \n306                       226.0         187.0                       277.0  \n310                       157.0          57.0                       157.0  \n312                       187.0         138.0                       191.0  \n316                       227.0         248.0                       245.0  \n\n[18 rows x 44 columns]"
     },
     "execution_count": 273,
     "metadata": {},
     "output_type": "execute_result"
    }
   ],
   "source": [
    "target[target_recent > 200].query('over200 == 1')"
   ]
  },
  {
   "cell_type": "code",
   "execution_count": 274,
   "metadata": {},
   "outputs": [
    {
     "name": "stdout",
     "output_type": "stream",
     "text": "曲名|発表年|順位|過去最低\n---|---:|---:|---:\nパラソルのある風景|1988|260 (圏外)|200\n冬物語|1995|226|200\nストロベリーパイをお食べ|1995|226|151\nschism|2002|226|189\nコトダマ|2008|211|83\n血の断章|2008|260 (圏外)|190\n戦慄の子供たち|2009|201|156\nAnimals on the Earth|2009|226|175\n夜見のたそがれの、うつろなる蒼き瞳の。|2012|211|158\n見ぬ友へ|2013|201|138\nFemme Fatale|2014|226|154\n極楽鳥歌|2014|226|133\n禁忌 TABOO|2015|201|142\n狩猟令嬢ジビエ日誌|2015|226|164\nアタラクシア、そして対峙する自己|2015|211|186\n波羅蜜蓮華|2015|226|170\n永久戒厳令|2016|226|152\n最後の美術館|2016|226|192\n"
    }
   ],
   "source": [
    "print('曲名|発表年|順位|過去最低')\n",
    "print('---|---:|---:|---:')\n",
    "for no in _.index:\n",
    "    le += [_.title.at[no]]\n",
    "    last_val = _[RANK_BEFORE].max(1).at[no]\n",
    "    last = 'NEW' if pandas.isna(last_val) else int(last_val)\n",
    "    this_val = int(_[RECENT].at[no])\n",
    "    this = this_val if lowest[RECENT] > this_val else f\"{this_val} (圏外)\"\n",
    "    print(f'{_.title.at[no]}|{_.date.at[no].year}|{this}|{last}')"
   ]
  },
  {
   "cell_type": "markdown",
   "metadata": {},
   "outputs": [],
   "source": [
    "### no voted\n",
    "#### last year"
   ]
  },
  {
   "cell_type": "code",
   "execution_count": 275,
   "metadata": {},
   "outputs": [
    {
     "data": {
      "text/html": "<div>\n<style scoped>\n    .dataframe tbody tr th:only-of-type {\n        vertical-align: middle;\n    }\n\n    .dataframe tbody tr th {\n        vertical-align: top;\n    }\n\n    .dataframe thead th {\n        text-align: right;\n    }\n</style>\n<table border=\"1\" class=\"dataframe\">\n  <thead>\n    <tr style=\"text-align: right;\">\n      <th></th>\n      <th>title</th>\n      <th>ruby</th>\n      <th>inst</th>\n      <th>hall_of_fame</th>\n      <th>works</th>\n      <th>debut</th>\n      <th>date</th>\n      <th>r2019u</th>\n      <th>initial</th>\n      <th>kind</th>\n      <th>...</th>\n      <th>over50</th>\n      <th>over100</th>\n      <th>over200</th>\n      <th>count_all</th>\n      <th>count</th>\n      <th>latest_work</th>\n      <th>rank_average</th>\n      <th>rank_average_exclude_debut</th>\n      <th>rank_highest</th>\n      <th>rank_highest_exclude_debut</th>\n    </tr>\n    <tr>\n      <th>no</th>\n      <th></th>\n      <th></th>\n      <th></th>\n      <th></th>\n      <th></th>\n      <th></th>\n      <th></th>\n      <th></th>\n      <th></th>\n      <th></th>\n      <th></th>\n      <th></th>\n      <th></th>\n      <th></th>\n      <th></th>\n      <th></th>\n      <th></th>\n      <th></th>\n      <th></th>\n      <th></th>\n      <th></th>\n    </tr>\n  </thead>\n  <tbody>\n    <tr>\n      <th>4</th>\n      <td>鏡面界 im Juni</td>\n      <td>きょうめんかい・イン・ジュニ</td>\n      <td>False</td>\n      <td>False</td>\n      <td>[幻想庭園]</td>\n      <td>幻想庭園</td>\n      <td>1988-01-25</td>\n      <td>150.0</td>\n      <td>r2005</td>\n      <td>[OA]</td>\n      <td>...</td>\n      <td>13</td>\n      <td>13</td>\n      <td>6</td>\n      <td>16</td>\n      <td>13</td>\n      <td>幻想庭園</td>\n      <td>276.0</td>\n      <td>252.0</td>\n      <td>269.0</td>\n      <td>242.0</td>\n    </tr>\n    <tr>\n      <th>20</th>\n      <td>木洩れ陽のワルツ</td>\n      <td>None</td>\n      <td>False</td>\n      <td>False</td>\n      <td>[月下の一群]</td>\n      <td>月下の一群</td>\n      <td>1992-12-09</td>\n      <td>131.0</td>\n      <td>r2005</td>\n      <td>[OA]</td>\n      <td>...</td>\n      <td>13</td>\n      <td>13</td>\n      <td>8</td>\n      <td>16</td>\n      <td>13</td>\n      <td>月下の一群</td>\n      <td>290.0</td>\n      <td>272.0</td>\n      <td>301.0</td>\n      <td>278.0</td>\n    </tr>\n    <tr>\n      <th>22</th>\n      <td>月光浴</td>\n      <td>None</td>\n      <td>False</td>\n      <td>False</td>\n      <td>[月下の一群, 星と月のソナタ, Déjà Vu ～THE ORIGINAL BEST 19...</td>\n      <td>月下の一群</td>\n      <td>1992-12-09</td>\n      <td>179.0</td>\n      <td>r2005</td>\n      <td>[OA, CA]</td>\n      <td>...</td>\n      <td>13</td>\n      <td>13</td>\n      <td>3</td>\n      <td>16</td>\n      <td>13</td>\n      <td>Déjà Vu ～THE ORIGINAL BEST 1992-1995～</td>\n      <td>243.0</td>\n      <td>224.0</td>\n      <td>257.0</td>\n      <td>229.0</td>\n    </tr>\n    <tr>\n      <th>23</th>\n      <td>楽園喪失 -Paradise Lost-</td>\n      <td>None</td>\n      <td>False</td>\n      <td>False</td>\n      <td>[月下の一群, Romance]</td>\n      <td>月下の一群</td>\n      <td>1992-12-09</td>\n      <td>128.0</td>\n      <td>r2005</td>\n      <td>[SA, OA]</td>\n      <td>...</td>\n      <td>13</td>\n      <td>13</td>\n      <td>6</td>\n      <td>16</td>\n      <td>13</td>\n      <td>Romance</td>\n      <td>260.0</td>\n      <td>240.0</td>\n      <td>252.0</td>\n      <td>220.0</td>\n    </tr>\n    <tr>\n      <th>32</th>\n      <td>小夜啼鳥</td>\n      <td>ナイチンゲール</td>\n      <td>False</td>\n      <td>False</td>\n      <td>[DALI]</td>\n      <td>DALI</td>\n      <td>1994-02-16</td>\n      <td>174.0</td>\n      <td>r2005</td>\n      <td>[OA]</td>\n      <td>...</td>\n      <td>13</td>\n      <td>13</td>\n      <td>9</td>\n      <td>16</td>\n      <td>13</td>\n      <td>DALI</td>\n      <td>282.0</td>\n      <td>264.0</td>\n      <td>265.0</td>\n      <td>238.0</td>\n    </tr>\n    <tr>\n      <th>45</th>\n      <td>エンジェル・エッグの作り方</td>\n      <td>None</td>\n      <td>False</td>\n      <td>False</td>\n      <td>[music tracks from Wish]</td>\n      <td>music tracks from Wish</td>\n      <td>1997-02-05</td>\n      <td>132.0</td>\n      <td>r2005</td>\n      <td>[ST]</td>\n      <td>...</td>\n      <td>13</td>\n      <td>13</td>\n      <td>4</td>\n      <td>16</td>\n      <td>13</td>\n      <td>music tracks from Wish</td>\n      <td>266.0</td>\n      <td>246.0</td>\n      <td>284.0</td>\n      <td>256.0</td>\n    </tr>\n    <tr>\n      <th>46</th>\n      <td>Chu Chu</td>\n      <td>None</td>\n      <td>False</td>\n      <td>False</td>\n      <td>[music tracks from Wish]</td>\n      <td>music tracks from Wish</td>\n      <td>1997-02-05</td>\n      <td>150.0</td>\n      <td>r2005</td>\n      <td>[ST]</td>\n      <td>...</td>\n      <td>13</td>\n      <td>13</td>\n      <td>11</td>\n      <td>16</td>\n      <td>13</td>\n      <td>music tracks from Wish</td>\n      <td>304.0</td>\n      <td>289.0</td>\n      <td>278.0</td>\n      <td>249.0</td>\n    </tr>\n    <tr>\n      <th>47</th>\n      <td>Sanctuary</td>\n      <td>None</td>\n      <td>False</td>\n      <td>False</td>\n      <td>[music tracks from Wish]</td>\n      <td>music tracks from Wish</td>\n      <td>1997-02-05</td>\n      <td>181.0</td>\n      <td>r2005</td>\n      <td>[ST]</td>\n      <td>...</td>\n      <td>13</td>\n      <td>13</td>\n      <td>11</td>\n      <td>16</td>\n      <td>13</td>\n      <td>music tracks from Wish</td>\n      <td>309.0</td>\n      <td>292.0</td>\n      <td>310.0</td>\n      <td>293.0</td>\n    </tr>\n    <tr>\n      <th>50</th>\n      <td>Water Drop</td>\n      <td>None</td>\n      <td>False</td>\n      <td>False</td>\n      <td>[CLAMP学園探偵団 O.S.T 1, CLAMP学園探偵団 Vocal Collecti...</td>\n      <td>CLAMP学園探偵団 O.S.T 1</td>\n      <td>1997-06-21</td>\n      <td>194.0</td>\n      <td>r2005</td>\n      <td>[ST, OT]</td>\n      <td>...</td>\n      <td>13</td>\n      <td>13</td>\n      <td>8</td>\n      <td>16</td>\n      <td>13</td>\n      <td>CLAMPAZAR ～クランパザール～</td>\n      <td>296.0</td>\n      <td>276.0</td>\n      <td>288.0</td>\n      <td>266.0</td>\n    </tr>\n    <tr>\n      <th>51</th>\n      <td>ぶくぶく空が…</td>\n      <td>None</td>\n      <td>False</td>\n      <td>False</td>\n      <td>[CLAMP学園探偵団 O.S.T 2, CLAMP学園探偵団 Vocal Collection]</td>\n      <td>CLAMP学園探偵団 O.S.T 2</td>\n      <td>1997-10-22</td>\n      <td>194.0</td>\n      <td>r2005</td>\n      <td>[ST]</td>\n      <td>...</td>\n      <td>13</td>\n      <td>13</td>\n      <td>9</td>\n      <td>16</td>\n      <td>13</td>\n      <td>CLAMP学園探偵団 Vocal Collection</td>\n      <td>299.0</td>\n      <td>284.0</td>\n      <td>305.0</td>\n      <td>283.0</td>\n    </tr>\n    <tr>\n      <th>52</th>\n      <td>カフェテラスでお茶をどうぞ</td>\n      <td>None</td>\n      <td>False</td>\n      <td>False</td>\n      <td>[CLAMP学園探偵団 O.S.T 2, CLAMP学園探偵団 Vocal Collection]</td>\n      <td>CLAMP学園探偵団 O.S.T 2</td>\n      <td>1997-10-22</td>\n      <td>93.0</td>\n      <td>r2005</td>\n      <td>[ST]</td>\n      <td>...</td>\n      <td>13</td>\n      <td>11</td>\n      <td>5</td>\n      <td>16</td>\n      <td>13</td>\n      <td>CLAMP学園探偵団 Vocal Collection</td>\n      <td>224.0</td>\n      <td>202.0</td>\n      <td>217.0</td>\n      <td>181.0</td>\n    </tr>\n    <tr>\n      <th>53</th>\n      <td>L'eternite</td>\n      <td>None</td>\n      <td>False</td>\n      <td>False</td>\n      <td>[CLAMP学園探偵団 O.S.T 2, CLAMP学園探偵団 Vocal Collection]</td>\n      <td>CLAMP学園探偵団 O.S.T 2</td>\n      <td>1997-10-22</td>\n      <td>179.0</td>\n      <td>r2005</td>\n      <td>[ST]</td>\n      <td>...</td>\n      <td>13</td>\n      <td>13</td>\n      <td>8</td>\n      <td>16</td>\n      <td>13</td>\n      <td>CLAMP学園探偵団 Vocal Collection</td>\n      <td>301.0</td>\n      <td>286.0</td>\n      <td>307.0</td>\n      <td>288.0</td>\n    </tr>\n    <tr>\n      <th>55</th>\n      <td>日曜日のシエスタ</td>\n      <td>None</td>\n      <td>False</td>\n      <td>False</td>\n      <td>[CLAMP学園探偵団 Vocal Collection, étoiles]</td>\n      <td>CLAMP学園探偵団 Vocal Collection</td>\n      <td>1997-12-17</td>\n      <td>159.0</td>\n      <td>r2005</td>\n      <td>[SA, ST]</td>\n      <td>...</td>\n      <td>13</td>\n      <td>13</td>\n      <td>6</td>\n      <td>16</td>\n      <td>13</td>\n      <td>étoiles</td>\n      <td>256.0</td>\n      <td>236.0</td>\n      <td>265.0</td>\n      <td>238.0</td>\n    </tr>\n    <tr>\n      <th>57</th>\n      <td>Anniversary of Angel</td>\n      <td>None</td>\n      <td>False</td>\n      <td>False</td>\n      <td>[Anniversary of Angel, CLAMPAZAR ～クランパザール～, CO...</td>\n      <td>Anniversary of Angel</td>\n      <td>1997-12-17</td>\n      <td>83.0</td>\n      <td>r2005</td>\n      <td>[S-1, OT, CA]</td>\n      <td>...</td>\n      <td>13</td>\n      <td>8</td>\n      <td>2</td>\n      <td>16</td>\n      <td>13</td>\n      <td>快恠奇奇 ALI PROJECT Ventennale Music, Art Exhibition</td>\n      <td>178.0</td>\n      <td>156.0</td>\n      <td>168.0</td>\n      <td>120.0</td>\n    </tr>\n    <tr>\n      <th>58</th>\n      <td>天使に寄す</td>\n      <td>None</td>\n      <td>False</td>\n      <td>False</td>\n      <td>[Anniversary of Angel, COLLECTION SIMPLE PLUS]</td>\n      <td>Anniversary of Angel</td>\n      <td>1997-12-17</td>\n      <td>167.0</td>\n      <td>r2005</td>\n      <td>[S-2, CA]</td>\n      <td>...</td>\n      <td>13</td>\n      <td>13</td>\n      <td>5</td>\n      <td>16</td>\n      <td>13</td>\n      <td>COLLECTION SIMPLE PLUS</td>\n      <td>268.0</td>\n      <td>247.0</td>\n      <td>257.0</td>\n      <td>229.0</td>\n    </tr>\n    <tr>\n      <th>65</th>\n      <td>堕落論</td>\n      <td>None</td>\n      <td>False</td>\n      <td>False</td>\n      <td>[Noblerot]</td>\n      <td>Noblerot</td>\n      <td>1998-11-21</td>\n      <td>96.0</td>\n      <td>r2005</td>\n      <td>[OA]</td>\n      <td>...</td>\n      <td>13</td>\n      <td>11</td>\n      <td>3</td>\n      <td>16</td>\n      <td>13</td>\n      <td>Noblerot</td>\n      <td>214.0</td>\n      <td>192.0</td>\n      <td>207.0</td>\n      <td>165.0</td>\n    </tr>\n    <tr>\n      <th>68</th>\n      <td>deep forest</td>\n      <td>None</td>\n      <td>False</td>\n      <td>False</td>\n      <td>[Noblerot]</td>\n      <td>Noblerot</td>\n      <td>1998-11-21</td>\n      <td>169.0</td>\n      <td>r2005</td>\n      <td>[OA]</td>\n      <td>...</td>\n      <td>13</td>\n      <td>13</td>\n      <td>8</td>\n      <td>16</td>\n      <td>13</td>\n      <td>Noblerot</td>\n      <td>300.0</td>\n      <td>285.0</td>\n      <td>288.0</td>\n      <td>266.0</td>\n    </tr>\n    <tr>\n      <th>69</th>\n      <td>LOST CHILD</td>\n      <td>None</td>\n      <td>False</td>\n      <td>False</td>\n      <td>[Noblerot, 聖ルミナス女学院2 O.S.T]</td>\n      <td>Noblerot</td>\n      <td>1998-11-21</td>\n      <td>194.0</td>\n      <td>r2005</td>\n      <td>[OA, ST]</td>\n      <td>...</td>\n      <td>13</td>\n      <td>13</td>\n      <td>8</td>\n      <td>16</td>\n      <td>13</td>\n      <td>聖ルミナス女学院2 O.S.T</td>\n      <td>287.0</td>\n      <td>270.0</td>\n      <td>295.0</td>\n      <td>272.0</td>\n    </tr>\n    <tr>\n      <th>75</th>\n      <td>Sacrifice</td>\n      <td>None</td>\n      <td>False</td>\n      <td>False</td>\n      <td>[jamais vu, Aristocracy]</td>\n      <td>jamais vu</td>\n      <td>2000-08-04</td>\n      <td>148.0</td>\n      <td>r2005</td>\n      <td>[OA, CA]</td>\n      <td>...</td>\n      <td>13</td>\n      <td>12</td>\n      <td>3</td>\n      <td>16</td>\n      <td>13</td>\n      <td>Aristocracy</td>\n      <td>230.0</td>\n      <td>212.0</td>\n      <td>229.0</td>\n      <td>198.0</td>\n    </tr>\n    <tr>\n      <th>91</th>\n      <td>La vie en rose</td>\n      <td>None</td>\n      <td>False</td>\n      <td>False</td>\n      <td>[CLASSICS]</td>\n      <td>CLASSICS</td>\n      <td>2001-07-25</td>\n      <td>174.0</td>\n      <td>r2005</td>\n      <td>[OA]</td>\n      <td>...</td>\n      <td>13</td>\n      <td>13</td>\n      <td>9</td>\n      <td>16</td>\n      <td>13</td>\n      <td>CLASSICS</td>\n      <td>297.0</td>\n      <td>282.0</td>\n      <td>291.0</td>\n      <td>268.0</td>\n    </tr>\n    <tr>\n      <th>110</th>\n      <td>繭</td>\n      <td>None</td>\n      <td>False</td>\n      <td>False</td>\n      <td>[Avenger O.S.T.]</td>\n      <td>Avenger O.S.T.</td>\n      <td>2003-12-03</td>\n      <td>152.0</td>\n      <td>r2005</td>\n      <td>[ST]</td>\n      <td>...</td>\n      <td>13</td>\n      <td>13</td>\n      <td>4</td>\n      <td>16</td>\n      <td>13</td>\n      <td>Avenger O.S.T.</td>\n      <td>255.0</td>\n      <td>235.0</td>\n      <td>252.0</td>\n      <td>220.0</td>\n    </tr>\n    <tr>\n      <th>114</th>\n      <td>Je te veux</td>\n      <td>None</td>\n      <td>False</td>\n      <td>False</td>\n      <td>[étoiles]</td>\n      <td>étoiles</td>\n      <td>2004-06-23</td>\n      <td>166.0</td>\n      <td>r2005</td>\n      <td>[SA]</td>\n      <td>...</td>\n      <td>13</td>\n      <td>13</td>\n      <td>9</td>\n      <td>16</td>\n      <td>13</td>\n      <td>étoiles</td>\n      <td>285.0</td>\n      <td>269.0</td>\n      <td>263.0</td>\n      <td>234.0</td>\n    </tr>\n    <tr>\n      <th>116</th>\n      <td>Après un rêve</td>\n      <td>None</td>\n      <td>False</td>\n      <td>False</td>\n      <td>[étoiles]</td>\n      <td>étoiles</td>\n      <td>2004-06-23</td>\n      <td>194.0</td>\n      <td>r2005</td>\n      <td>[SA]</td>\n      <td>...</td>\n      <td>13</td>\n      <td>13</td>\n      <td>10</td>\n      <td>16</td>\n      <td>13</td>\n      <td>étoiles</td>\n      <td>302.0</td>\n      <td>287.0</td>\n      <td>295.0</td>\n      <td>272.0</td>\n    </tr>\n    <tr>\n      <th>118</th>\n      <td>わが恋は月光に散りぬ</td>\n      <td>None</td>\n      <td>False</td>\n      <td>False</td>\n      <td>[étoiles]</td>\n      <td>étoiles</td>\n      <td>2004-06-23</td>\n      <td>184.0</td>\n      <td>r2005</td>\n      <td>[SA]</td>\n      <td>...</td>\n      <td>13</td>\n      <td>13</td>\n      <td>9</td>\n      <td>16</td>\n      <td>13</td>\n      <td>étoiles</td>\n      <td>293.0</td>\n      <td>274.0</td>\n      <td>286.0</td>\n      <td>263.0</td>\n    </tr>\n    <tr>\n      <th>142</th>\n      <td>JE TE VEUX</td>\n      <td>None</td>\n      <td>False</td>\n      <td>False</td>\n      <td>[神々の黄昏]</td>\n      <td>神々の黄昏</td>\n      <td>2005-12-07</td>\n      <td>158.0</td>\n      <td>r2006#1</td>\n      <td>[SA]</td>\n      <td>...</td>\n      <td>10</td>\n      <td>10</td>\n      <td>5</td>\n      <td>15</td>\n      <td>13</td>\n      <td>神々の黄昏</td>\n      <td>281.0</td>\n      <td>261.0</td>\n      <td>291.0</td>\n      <td>268.0</td>\n    </tr>\n    <tr>\n      <th>150</th>\n      <td>埋葬の森の黄昏坂</td>\n      <td>None</td>\n      <td>False</td>\n      <td>False</td>\n      <td>[.hack//Roots O.S.T. 2]</td>\n      <td>.hack//Roots O.S.T. 2</td>\n      <td>2006-09-21</td>\n      <td>141.0</td>\n      <td>r2006#2</td>\n      <td>[ST]</td>\n      <td>...</td>\n      <td>13</td>\n      <td>12</td>\n      <td>6</td>\n      <td>14</td>\n      <td>13</td>\n      <td>.hack//Roots O.S.T. 2</td>\n      <td>245.0</td>\n      <td>228.0</td>\n      <td>220.0</td>\n      <td>188.0</td>\n    </tr>\n    <tr>\n      <th>165</th>\n      <td>桃色天国</td>\n      <td>None</td>\n      <td>False</td>\n      <td>False</td>\n      <td>[暗黒天国, La Vita Romantica]</td>\n      <td>暗黒天国</td>\n      <td>2007-05-23</td>\n      <td>141.0</td>\n      <td>r2008</td>\n      <td>[S-2, CA]</td>\n      <td>...</td>\n      <td>12</td>\n      <td>11</td>\n      <td>3</td>\n      <td>12</td>\n      <td>12</td>\n      <td>La Vita Romantica</td>\n      <td>223.0</td>\n      <td>216.0</td>\n      <td>187.0</td>\n      <td>206.0</td>\n    </tr>\n    <tr>\n      <th>172</th>\n      <td>纏われし者ら</td>\n      <td>None</td>\n      <td>False</td>\n      <td>False</td>\n      <td>[Psychedelic Insanity]</td>\n      <td>Psychedelic Insanity</td>\n      <td>2007-08-22</td>\n      <td>169.0</td>\n      <td>r2008</td>\n      <td>[OA]</td>\n      <td>...</td>\n      <td>12</td>\n      <td>11</td>\n      <td>3</td>\n      <td>12</td>\n      <td>12</td>\n      <td>Psychedelic Insanity</td>\n      <td>237.0</td>\n      <td>230.0</td>\n      <td>227.0</td>\n      <td>237.0</td>\n    </tr>\n    <tr>\n      <th>176</th>\n      <td>若い死者からのレクイエム</td>\n      <td>None</td>\n      <td>False</td>\n      <td>False</td>\n      <td>[Psychedelic Insanity]</td>\n      <td>Psychedelic Insanity</td>\n      <td>2007-08-22</td>\n      <td>103.0</td>\n      <td>r2008</td>\n      <td>[OA]</td>\n      <td>...</td>\n      <td>12</td>\n      <td>10</td>\n      <td>2</td>\n      <td>12</td>\n      <td>12</td>\n      <td>Psychedelic Insanity</td>\n      <td>203.0</td>\n      <td>191.0</td>\n      <td>198.0</td>\n      <td>194.0</td>\n    </tr>\n    <tr>\n      <th>180</th>\n      <td>Nocturnal</td>\n      <td>None</td>\n      <td>False</td>\n      <td>False</td>\n      <td>[Grand Finale]</td>\n      <td>Grand Finale</td>\n      <td>2007-12-12</td>\n      <td>194.0</td>\n      <td>r2008</td>\n      <td>[SA]</td>\n      <td>...</td>\n      <td>12</td>\n      <td>12</td>\n      <td>10</td>\n      <td>12</td>\n      <td>12</td>\n      <td>Grand Finale</td>\n      <td>305.0</td>\n      <td>294.0</td>\n      <td>288.0</td>\n      <td>294.0</td>\n    </tr>\n    <tr>\n      <th>216</th>\n      <td>寶島</td>\n      <td>None</td>\n      <td>False</td>\n      <td>False</td>\n      <td>[堕天國宣戦, QUEENDOM]</td>\n      <td>堕天國宣戦</td>\n      <td>2009-10-21</td>\n      <td>191.0</td>\n      <td>r2010</td>\n      <td>[S-2, CA]</td>\n      <td>...</td>\n      <td>10</td>\n      <td>10</td>\n      <td>6</td>\n      <td>10</td>\n      <td>10</td>\n      <td>QUEENDOM</td>\n      <td>288.0</td>\n      <td>288.0</td>\n      <td>244.0</td>\n      <td>260.0</td>\n    </tr>\n    <tr>\n      <th>232</th>\n      <td>SENGOKU GIRL</td>\n      <td>None</td>\n      <td>False</td>\n      <td>False</td>\n      <td>[汎新日本主義]</td>\n      <td>汎新日本主義</td>\n      <td>2010-09-26</td>\n      <td>162.0</td>\n      <td>r2011</td>\n      <td>[OA]</td>\n      <td>...</td>\n      <td>9</td>\n      <td>8</td>\n      <td>5</td>\n      <td>9</td>\n      <td>9</td>\n      <td>汎新日本主義</td>\n      <td>262.0</td>\n      <td>267.0</td>\n      <td>193.0</td>\n      <td>217.0</td>\n    </tr>\n    <tr>\n      <th>233</th>\n      <td>帝都乙女決死隊</td>\n      <td>None</td>\n      <td>False</td>\n      <td>False</td>\n      <td>[汎新日本主義]</td>\n      <td>汎新日本主義</td>\n      <td>2010-09-26</td>\n      <td>89.0</td>\n      <td>r2011</td>\n      <td>[OA]</td>\n      <td>...</td>\n      <td>9</td>\n      <td>8</td>\n      <td>5</td>\n      <td>9</td>\n      <td>9</td>\n      <td>汎新日本主義</td>\n      <td>252.0</td>\n      <td>263.0</td>\n      <td>166.0</td>\n      <td>264.0</td>\n    </tr>\n    <tr>\n      <th>237</th>\n      <td>平和の因子</td>\n      <td>None</td>\n      <td>False</td>\n      <td>False</td>\n      <td>[汎新日本主義]</td>\n      <td>汎新日本主義</td>\n      <td>2010-09-26</td>\n      <td>191.0</td>\n      <td>r2011</td>\n      <td>[OA]</td>\n      <td>...</td>\n      <td>9</td>\n      <td>9</td>\n      <td>6</td>\n      <td>9</td>\n      <td>9</td>\n      <td>汎新日本主義</td>\n      <td>308.0</td>\n      <td>295.0</td>\n      <td>308.0</td>\n      <td>291.0</td>\n    </tr>\n    <tr>\n      <th>239</th>\n      <td>雪ノ女</td>\n      <td>None</td>\n      <td>False</td>\n      <td>False</td>\n      <td>[刀語 歌曲集 其ノ壱, QUEENDOM]</td>\n      <td>刀語 歌曲集 其ノ壱</td>\n      <td>2011-03-02</td>\n      <td>137.0</td>\n      <td>r2011</td>\n      <td>[ST, CA]</td>\n      <td>...</td>\n      <td>9</td>\n      <td>9</td>\n      <td>8</td>\n      <td>9</td>\n      <td>9</td>\n      <td>QUEENDOM</td>\n      <td>303.0</td>\n      <td>296.0</td>\n      <td>269.0</td>\n      <td>298.0</td>\n    </tr>\n    <tr>\n      <th>241</th>\n      <td>亡き王女のための…</td>\n      <td>None</td>\n      <td>False</td>\n      <td>False</td>\n      <td>[QUEENDOM]</td>\n      <td>QUEENDOM</td>\n      <td>2011-05-25</td>\n      <td>191.0</td>\n      <td>r2011</td>\n      <td>[CA]</td>\n      <td>...</td>\n      <td>9</td>\n      <td>9</td>\n      <td>8</td>\n      <td>9</td>\n      <td>9</td>\n      <td>QUEENDOM</td>\n      <td>307.0</td>\n      <td>299.0</td>\n      <td>274.0</td>\n      <td>298.0</td>\n    </tr>\n    <tr>\n      <th>249</th>\n      <td>君の名を</td>\n      <td>None</td>\n      <td>False</td>\n      <td>False</td>\n      <td>[Les Papillons]</td>\n      <td>Les Papillons</td>\n      <td>2011-06-29</td>\n      <td>184.0</td>\n      <td>r2011</td>\n      <td>[SA]</td>\n      <td>...</td>\n      <td>9</td>\n      <td>9</td>\n      <td>8</td>\n      <td>9</td>\n      <td>9</td>\n      <td>Les Papillons</td>\n      <td>306.0</td>\n      <td>296.0</td>\n      <td>306.0</td>\n      <td>296.0</td>\n    </tr>\n    <tr>\n      <th>253</th>\n      <td>胎内ヒトガタ遊戯</td>\n      <td>None</td>\n      <td>False</td>\n      <td>False</td>\n      <td>[凶夢伝染]</td>\n      <td>凶夢伝染</td>\n      <td>2012-01-25</td>\n      <td>134.0</td>\n      <td>r2012</td>\n      <td>[S-2]</td>\n      <td>...</td>\n      <td>8</td>\n      <td>7</td>\n      <td>3</td>\n      <td>8</td>\n      <td>8</td>\n      <td>凶夢伝染</td>\n      <td>235.0</td>\n      <td>232.0</td>\n      <td>230.0</td>\n      <td>234.0</td>\n    </tr>\n    <tr>\n      <th>262</th>\n      <td>天譴と超克</td>\n      <td>None</td>\n      <td>False</td>\n      <td>False</td>\n      <td>[贋作師]</td>\n      <td>贋作師</td>\n      <td>2012-07-18</td>\n      <td>56.0</td>\n      <td>r2012</td>\n      <td>[OA]</td>\n      <td>...</td>\n      <td>7</td>\n      <td>5</td>\n      <td>1</td>\n      <td>8</td>\n      <td>8</td>\n      <td>贋作師</td>\n      <td>156.0</td>\n      <td>150.0</td>\n      <td>125.0</td>\n      <td>148.0</td>\n    </tr>\n    <tr>\n      <th>267</th>\n      <td>乙女の贖い</td>\n      <td>None</td>\n      <td>False</td>\n      <td>False</td>\n      <td>[私の薔薇を喰みなさい, 血と蜜 ～Anthology of Gothic Lolita＆H...</td>\n      <td>私の薔薇を喰みなさい</td>\n      <td>2013-07-24</td>\n      <td>80.0</td>\n      <td>r2013</td>\n      <td>[S-2, CA]</td>\n      <td>...</td>\n      <td>6</td>\n      <td>4</td>\n      <td>1</td>\n      <td>7</td>\n      <td>7</td>\n      <td>血と蜜 ～Anthology of Gothic Lolita＆Horror</td>\n      <td>172.0</td>\n      <td>174.0</td>\n      <td>155.0</td>\n      <td>103.0</td>\n    </tr>\n    <tr>\n      <th>270</th>\n      <td>隼の白バラ</td>\n      <td>None</td>\n      <td>False</td>\n      <td>False</td>\n      <td>[令嬢薔薇図鑑, 愛と誠 ～YAMATO＆LOVE×××]</td>\n      <td>令嬢薔薇図鑑</td>\n      <td>2013-09-11</td>\n      <td>32.0</td>\n      <td>r2013</td>\n      <td>[OA, CA]</td>\n      <td>...</td>\n      <td>6</td>\n      <td>6</td>\n      <td>1</td>\n      <td>7</td>\n      <td>7</td>\n      <td>愛と誠 ～YAMATO＆LOVE×××</td>\n      <td>174.0</td>\n      <td>178.0</td>\n      <td>145.0</td>\n      <td>215.0</td>\n    </tr>\n    <tr>\n      <th>291</th>\n      <td>恋は芸術気質</td>\n      <td>こいはげいじゅつかたぎ</td>\n      <td>False</td>\n      <td>False</td>\n      <td>[Violetta Operetta]</td>\n      <td>Violetta Operetta</td>\n      <td>2015-01-21</td>\n      <td>119.0</td>\n      <td>r2015</td>\n      <td>[SA]</td>\n      <td>...</td>\n      <td>5</td>\n      <td>5</td>\n      <td>3</td>\n      <td>5</td>\n      <td>5</td>\n      <td>Violetta Operetta</td>\n      <td>273.0</td>\n      <td>273.0</td>\n      <td>273.0</td>\n      <td>245.0</td>\n    </tr>\n    <tr>\n      <th>294</th>\n      <td>すみれの花咲くころ</td>\n      <td>None</td>\n      <td>False</td>\n      <td>False</td>\n      <td>[Violetta Operetta, ロマンティック花ソング2]</td>\n      <td>Violetta Operetta</td>\n      <td>2015-01-21</td>\n      <td>174.0</td>\n      <td>r2015</td>\n      <td>[SA, OM]</td>\n      <td>...</td>\n      <td>5</td>\n      <td>5</td>\n      <td>5</td>\n      <td>5</td>\n      <td>5</td>\n      <td>ロマンティック花ソング2</td>\n      <td>310.0</td>\n      <td>298.0</td>\n      <td>311.0</td>\n      <td>296.0</td>\n    </tr>\n    <tr>\n      <th>296</th>\n      <td>小夜すみれ ～ある夜の森の小さなお話</td>\n      <td>None</td>\n      <td>False</td>\n      <td>False</td>\n      <td>[Violetta Operetta]</td>\n      <td>Violetta Operetta</td>\n      <td>2015-01-21</td>\n      <td>194.0</td>\n      <td>r2015</td>\n      <td>[SA]</td>\n      <td>...</td>\n      <td>5</td>\n      <td>5</td>\n      <td>3</td>\n      <td>5</td>\n      <td>5</td>\n      <td>Violetta Operetta</td>\n      <td>292.0</td>\n      <td>281.0</td>\n      <td>287.0</td>\n      <td>264.0</td>\n    </tr>\n    <tr>\n      <th>297</th>\n      <td>Das Veilchen</td>\n      <td>ダス・ファイルヒェン</td>\n      <td>False</td>\n      <td>False</td>\n      <td>[Violetta Operetta]</td>\n      <td>Violetta Operetta</td>\n      <td>2015-01-21</td>\n      <td>122.0</td>\n      <td>r2015</td>\n      <td>[SA]</td>\n      <td>...</td>\n      <td>5</td>\n      <td>5</td>\n      <td>3</td>\n      <td>5</td>\n      <td>5</td>\n      <td>Violetta Operetta</td>\n      <td>294.0</td>\n      <td>293.0</td>\n      <td>295.0</td>\n      <td>284.0</td>\n    </tr>\n    <tr>\n      <th>311</th>\n      <td>魂ノ代</td>\n      <td>たまのよ</td>\n      <td>False</td>\n      <td>False</td>\n      <td>[波羅蜜蓮華]</td>\n      <td>波羅蜜蓮華</td>\n      <td>2015-10-21</td>\n      <td>194.0</td>\n      <td>r2015</td>\n      <td>[S-2]</td>\n      <td>...</td>\n      <td>5</td>\n      <td>5</td>\n      <td>4</td>\n      <td>5</td>\n      <td>5</td>\n      <td>波羅蜜蓮華</td>\n      <td>311.0</td>\n      <td>300.0</td>\n      <td>304.0</td>\n      <td>300.0</td>\n    </tr>\n  </tbody>\n</table>\n<p>46 rows × 44 columns</p>\n</div>",
      "text/plain": "                    title            ruby   inst  hall_of_fame  \\\nno                                                               \n4             鏡面界 im Juni  きょうめんかい・イン・ジュニ  False         False   \n20               木洩れ陽のワルツ            None  False         False   \n22                    月光浴            None  False         False   \n23   楽園喪失 -Paradise Lost-            None  False         False   \n32                   小夜啼鳥         ナイチンゲール  False         False   \n45          エンジェル・エッグの作り方            None  False         False   \n46                Chu Chu            None  False         False   \n47              Sanctuary            None  False         False   \n50             Water Drop            None  False         False   \n51                ぶくぶく空が…            None  False         False   \n52          カフェテラスでお茶をどうぞ            None  False         False   \n53             L'eternite            None  False         False   \n55               日曜日のシエスタ            None  False         False   \n57   Anniversary of Angel            None  False         False   \n58                  天使に寄す            None  False         False   \n65                    堕落論            None  False         False   \n68            deep forest            None  False         False   \n69             LOST CHILD            None  False         False   \n75              Sacrifice            None  False         False   \n91         La vie en rose            None  False         False   \n110                     繭            None  False         False   \n114            Je te veux            None  False         False   \n116         Après un rêve            None  False         False   \n118            わが恋は月光に散りぬ            None  False         False   \n142            JE TE VEUX            None  False         False   \n150              埋葬の森の黄昏坂            None  False         False   \n165                  桃色天国            None  False         False   \n172                纏われし者ら            None  False         False   \n176          若い死者からのレクイエム            None  False         False   \n180             Nocturnal            None  False         False   \n216                    寶島            None  False         False   \n232          SENGOKU GIRL            None  False         False   \n233               帝都乙女決死隊            None  False         False   \n237                 平和の因子            None  False         False   \n239                   雪ノ女            None  False         False   \n241             亡き王女のための…            None  False         False   \n249                  君の名を            None  False         False   \n253              胎内ヒトガタ遊戯            None  False         False   \n262                 天譴と超克            None  False         False   \n267                 乙女の贖い            None  False         False   \n270                 隼の白バラ            None  False         False   \n291                恋は芸術気質     こいはげいじゅつかたぎ  False         False   \n294             すみれの花咲くころ            None  False         False   \n296    小夜すみれ ～ある夜の森の小さなお話            None  False         False   \n297          Das Veilchen      ダス・ファイルヒェン  False         False   \n311                   魂ノ代            たまのよ  False         False   \n\n                                                 works  \\\nno                                                       \n4                                               [幻想庭園]   \n20                                             [月下の一群]   \n22   [月下の一群, 星と月のソナタ, Déjà Vu ～THE ORIGINAL BEST 19...   \n23                                    [月下の一群, Romance]   \n32                                              [DALI]   \n45                            [music tracks from Wish]   \n46                            [music tracks from Wish]   \n47                            [music tracks from Wish]   \n50   [CLAMP学園探偵団 O.S.T 1, CLAMP学園探偵団 Vocal Collecti...   \n51   [CLAMP学園探偵団 O.S.T 2, CLAMP学園探偵団 Vocal Collection]   \n52   [CLAMP学園探偵団 O.S.T 2, CLAMP学園探偵団 Vocal Collection]   \n53   [CLAMP学園探偵団 O.S.T 2, CLAMP学園探偵団 Vocal Collection]   \n55              [CLAMP学園探偵団 Vocal Collection, étoiles]   \n57   [Anniversary of Angel, CLAMPAZAR ～クランパザール～, CO...   \n58      [Anniversary of Angel, COLLECTION SIMPLE PLUS]   \n65                                          [Noblerot]   \n68                                          [Noblerot]   \n69                         [Noblerot, 聖ルミナス女学院2 O.S.T]   \n75                            [jamais vu, Aristocracy]   \n91                                          [CLASSICS]   \n110                                   [Avenger O.S.T.]   \n114                                          [étoiles]   \n116                                          [étoiles]   \n118                                          [étoiles]   \n142                                            [神々の黄昏]   \n150                            [.hack//Roots O.S.T. 2]   \n165                          [暗黒天国, La Vita Romantica]   \n172                             [Psychedelic Insanity]   \n176                             [Psychedelic Insanity]   \n180                                     [Grand Finale]   \n216                                  [堕天國宣戦, QUEENDOM]   \n232                                           [汎新日本主義]   \n233                                           [汎新日本主義]   \n237                                           [汎新日本主義]   \n239                             [刀語 歌曲集 其ノ壱, QUEENDOM]   \n241                                         [QUEENDOM]   \n249                                    [Les Papillons]   \n253                                             [凶夢伝染]   \n262                                              [贋作師]   \n267  [私の薔薇を喰みなさい, 血と蜜 ～Anthology of Gothic Lolita＆H...   \n270                      [令嬢薔薇図鑑, 愛と誠 ～YAMATO＆LOVE×××]   \n291                                [Violetta Operetta]   \n294                  [Violetta Operetta, ロマンティック花ソング2]   \n296                                [Violetta Operetta]   \n297                                [Violetta Operetta]   \n311                                            [波羅蜜蓮華]   \n\n                           debut       date  r2019u  initial           kind  \\\nno                                                                            \n4                           幻想庭園 1988-01-25   150.0    r2005           [OA]   \n20                         月下の一群 1992-12-09   131.0    r2005           [OA]   \n22                         月下の一群 1992-12-09   179.0    r2005       [OA, CA]   \n23                         月下の一群 1992-12-09   128.0    r2005       [SA, OA]   \n32                          DALI 1994-02-16   174.0    r2005           [OA]   \n45        music tracks from Wish 1997-02-05   132.0    r2005           [ST]   \n46        music tracks from Wish 1997-02-05   150.0    r2005           [ST]   \n47        music tracks from Wish 1997-02-05   181.0    r2005           [ST]   \n50            CLAMP学園探偵団 O.S.T 1 1997-06-21   194.0    r2005       [ST, OT]   \n51            CLAMP学園探偵団 O.S.T 2 1997-10-22   194.0    r2005           [ST]   \n52            CLAMP学園探偵団 O.S.T 2 1997-10-22    93.0    r2005           [ST]   \n53            CLAMP学園探偵団 O.S.T 2 1997-10-22   179.0    r2005           [ST]   \n55   CLAMP学園探偵団 Vocal Collection 1997-12-17   159.0    r2005       [SA, ST]   \n57          Anniversary of Angel 1997-12-17    83.0    r2005  [S-1, OT, CA]   \n58          Anniversary of Angel 1997-12-17   167.0    r2005      [S-2, CA]   \n65                      Noblerot 1998-11-21    96.0    r2005           [OA]   \n68                      Noblerot 1998-11-21   169.0    r2005           [OA]   \n69                      Noblerot 1998-11-21   194.0    r2005       [OA, ST]   \n75                     jamais vu 2000-08-04   148.0    r2005       [OA, CA]   \n91                      CLASSICS 2001-07-25   174.0    r2005           [OA]   \n110               Avenger O.S.T. 2003-12-03   152.0    r2005           [ST]   \n114                      étoiles 2004-06-23   166.0    r2005           [SA]   \n116                      étoiles 2004-06-23   194.0    r2005           [SA]   \n118                      étoiles 2004-06-23   184.0    r2005           [SA]   \n142                        神々の黄昏 2005-12-07   158.0  r2006#1           [SA]   \n150        .hack//Roots O.S.T. 2 2006-09-21   141.0  r2006#2           [ST]   \n165                         暗黒天国 2007-05-23   141.0    r2008      [S-2, CA]   \n172         Psychedelic Insanity 2007-08-22   169.0    r2008           [OA]   \n176         Psychedelic Insanity 2007-08-22   103.0    r2008           [OA]   \n180                 Grand Finale 2007-12-12   194.0    r2008           [SA]   \n216                        堕天國宣戦 2009-10-21   191.0    r2010      [S-2, CA]   \n232                       汎新日本主義 2010-09-26   162.0    r2011           [OA]   \n233                       汎新日本主義 2010-09-26    89.0    r2011           [OA]   \n237                       汎新日本主義 2010-09-26   191.0    r2011           [OA]   \n239                   刀語 歌曲集 其ノ壱 2011-03-02   137.0    r2011       [ST, CA]   \n241                     QUEENDOM 2011-05-25   191.0    r2011           [CA]   \n249                Les Papillons 2011-06-29   184.0    r2011           [SA]   \n253                         凶夢伝染 2012-01-25   134.0    r2012          [S-2]   \n262                          贋作師 2012-07-18    56.0    r2012           [OA]   \n267                   私の薔薇を喰みなさい 2013-07-24    80.0    r2013      [S-2, CA]   \n270                       令嬢薔薇図鑑 2013-09-11    32.0    r2013       [OA, CA]   \n291            Violetta Operetta 2015-01-21   119.0    r2015           [SA]   \n294            Violetta Operetta 2015-01-21   174.0    r2015       [SA, OM]   \n296            Violetta Operetta 2015-01-21   194.0    r2015           [SA]   \n297            Violetta Operetta 2015-01-21   122.0    r2015           [SA]   \n311                        波羅蜜蓮華 2015-10-21   194.0    r2015          [S-2]   \n\n     ... over50  over100  over200  count_all  count  \\\nno   ...                                              \n4    ...     13       13        6         16     13   \n20   ...     13       13        8         16     13   \n22   ...     13       13        3         16     13   \n23   ...     13       13        6         16     13   \n32   ...     13       13        9         16     13   \n45   ...     13       13        4         16     13   \n46   ...     13       13       11         16     13   \n47   ...     13       13       11         16     13   \n50   ...     13       13        8         16     13   \n51   ...     13       13        9         16     13   \n52   ...     13       11        5         16     13   \n53   ...     13       13        8         16     13   \n55   ...     13       13        6         16     13   \n57   ...     13        8        2         16     13   \n58   ...     13       13        5         16     13   \n65   ...     13       11        3         16     13   \n68   ...     13       13        8         16     13   \n69   ...     13       13        8         16     13   \n75   ...     13       12        3         16     13   \n91   ...     13       13        9         16     13   \n110  ...     13       13        4         16     13   \n114  ...     13       13        9         16     13   \n116  ...     13       13       10         16     13   \n118  ...     13       13        9         16     13   \n142  ...     10       10        5         15     13   \n150  ...     13       12        6         14     13   \n165  ...     12       11        3         12     12   \n172  ...     12       11        3         12     12   \n176  ...     12       10        2         12     12   \n180  ...     12       12       10         12     12   \n216  ...     10       10        6         10     10   \n232  ...      9        8        5          9      9   \n233  ...      9        8        5          9      9   \n237  ...      9        9        6          9      9   \n239  ...      9        9        8          9      9   \n241  ...      9        9        8          9      9   \n249  ...      9        9        8          9      9   \n253  ...      8        7        3          8      8   \n262  ...      7        5        1          8      8   \n267  ...      6        4        1          7      7   \n270  ...      6        6        1          7      7   \n291  ...      5        5        3          5      5   \n294  ...      5        5        5          5      5   \n296  ...      5        5        3          5      5   \n297  ...      5        5        3          5      5   \n311  ...      5        5        4          5      5   \n\n                                           latest_work  rank_average  \\\nno                                                                     \n4                                                 幻想庭園         276.0   \n20                                               月下の一群         290.0   \n22               Déjà Vu ～THE ORIGINAL BEST 1992-1995～         243.0   \n23                                             Romance         260.0   \n32                                                DALI         282.0   \n45                              music tracks from Wish         266.0   \n46                              music tracks from Wish         304.0   \n47                              music tracks from Wish         309.0   \n50                                 CLAMPAZAR ～クランパザール～         296.0   \n51                         CLAMP学園探偵団 Vocal Collection         299.0   \n52                         CLAMP学園探偵団 Vocal Collection         224.0   \n53                         CLAMP学園探偵団 Vocal Collection         301.0   \n55                                             étoiles         256.0   \n57   快恠奇奇 ALI PROJECT Ventennale Music, Art Exhibition         178.0   \n58                              COLLECTION SIMPLE PLUS         268.0   \n65                                            Noblerot         214.0   \n68                                            Noblerot         300.0   \n69                                     聖ルミナス女学院2 O.S.T         287.0   \n75                                         Aristocracy         230.0   \n91                                            CLASSICS         297.0   \n110                                     Avenger O.S.T.         255.0   \n114                                            étoiles         285.0   \n116                                            étoiles         302.0   \n118                                            étoiles         293.0   \n142                                              神々の黄昏         281.0   \n150                              .hack//Roots O.S.T. 2         245.0   \n165                                  La Vita Romantica         223.0   \n172                               Psychedelic Insanity         237.0   \n176                               Psychedelic Insanity         203.0   \n180                                       Grand Finale         305.0   \n216                                           QUEENDOM         288.0   \n232                                             汎新日本主義         262.0   \n233                                             汎新日本主義         252.0   \n237                                             汎新日本主義         308.0   \n239                                           QUEENDOM         303.0   \n241                                           QUEENDOM         307.0   \n249                                      Les Papillons         306.0   \n253                                               凶夢伝染         235.0   \n262                                                贋作師         156.0   \n267             血と蜜 ～Anthology of Gothic Lolita＆Horror         172.0   \n270                                愛と誠 ～YAMATO＆LOVE×××         174.0   \n291                                  Violetta Operetta         273.0   \n294                                       ロマンティック花ソング2         310.0   \n296                                  Violetta Operetta         292.0   \n297                                  Violetta Operetta         294.0   \n311                                              波羅蜜蓮華         311.0   \n\n     rank_average_exclude_debut  rank_highest  rank_highest_exclude_debut  \nno                                                                         \n4                         252.0         269.0                       242.0  \n20                        272.0         301.0                       278.0  \n22                        224.0         257.0                       229.0  \n23                        240.0         252.0                       220.0  \n32                        264.0         265.0                       238.0  \n45                        246.0         284.0                       256.0  \n46                        289.0         278.0                       249.0  \n47                        292.0         310.0                       293.0  \n50                        276.0         288.0                       266.0  \n51                        284.0         305.0                       283.0  \n52                        202.0         217.0                       181.0  \n53                        286.0         307.0                       288.0  \n55                        236.0         265.0                       238.0  \n57                        156.0         168.0                       120.0  \n58                        247.0         257.0                       229.0  \n65                        192.0         207.0                       165.0  \n68                        285.0         288.0                       266.0  \n69                        270.0         295.0                       272.0  \n75                        212.0         229.0                       198.0  \n91                        282.0         291.0                       268.0  \n110                       235.0         252.0                       220.0  \n114                       269.0         263.0                       234.0  \n116                       287.0         295.0                       272.0  \n118                       274.0         286.0                       263.0  \n142                       261.0         291.0                       268.0  \n150                       228.0         220.0                       188.0  \n165                       216.0         187.0                       206.0  \n172                       230.0         227.0                       237.0  \n176                       191.0         198.0                       194.0  \n180                       294.0         288.0                       294.0  \n216                       288.0         244.0                       260.0  \n232                       267.0         193.0                       217.0  \n233                       263.0         166.0                       264.0  \n237                       295.0         308.0                       291.0  \n239                       296.0         269.0                       298.0  \n241                       299.0         274.0                       298.0  \n249                       296.0         306.0                       296.0  \n253                       232.0         230.0                       234.0  \n262                       150.0         125.0                       148.0  \n267                       174.0         155.0                       103.0  \n270                       178.0         145.0                       215.0  \n291                       273.0         273.0                       245.0  \n294                       298.0         311.0                       296.0  \n296                       281.0         287.0                       264.0  \n297                       293.0         295.0                       284.0  \n311                       300.0         304.0                       300.0  \n\n[46 rows x 44 columns]"
     },
     "execution_count": 275,
     "metadata": {},
     "output_type": "execute_result"
    }
   ],
   "source": [
    "lowest[BEFORE] and target[target[BEFORE] == lowest[BEFORE]]"
   ]
  },
  {
   "cell_type": "markdown",
   "metadata": {},
   "outputs": [],
   "source": [
    "#### this year"
   ]
  },
  {
   "cell_type": "code",
   "execution_count": 276,
   "metadata": {},
   "outputs": [
    {
     "data": {
      "text/html": "<div>\n<style scoped>\n    .dataframe tbody tr th:only-of-type {\n        vertical-align: middle;\n    }\n\n    .dataframe tbody tr th {\n        vertical-align: top;\n    }\n\n    .dataframe thead th {\n        text-align: right;\n    }\n</style>\n<table border=\"1\" class=\"dataframe\">\n  <thead>\n    <tr style=\"text-align: right;\">\n      <th></th>\n      <th>title</th>\n      <th>ruby</th>\n      <th>inst</th>\n      <th>hall_of_fame</th>\n      <th>works</th>\n      <th>debut</th>\n      <th>date</th>\n      <th>r2019u</th>\n      <th>initial</th>\n      <th>kind</th>\n      <th>...</th>\n      <th>over50</th>\n      <th>over100</th>\n      <th>over200</th>\n      <th>count_all</th>\n      <th>count</th>\n      <th>latest_work</th>\n      <th>rank_average</th>\n      <th>rank_average_exclude_debut</th>\n      <th>rank_highest</th>\n      <th>rank_highest_exclude_debut</th>\n    </tr>\n    <tr>\n      <th>no</th>\n      <th></th>\n      <th></th>\n      <th></th>\n      <th></th>\n      <th></th>\n      <th></th>\n      <th></th>\n      <th></th>\n      <th></th>\n      <th></th>\n      <th></th>\n      <th></th>\n      <th></th>\n      <th></th>\n      <th></th>\n      <th></th>\n      <th></th>\n      <th></th>\n      <th></th>\n      <th></th>\n      <th></th>\n    </tr>\n  </thead>\n  <tbody>\n    <tr>\n      <th>4</th>\n      <td>鏡面界 im Juni</td>\n      <td>きょうめんかい・イン・ジュニ</td>\n      <td>False</td>\n      <td>False</td>\n      <td>[幻想庭園]</td>\n      <td>幻想庭園</td>\n      <td>1988-01-25</td>\n      <td>150.0</td>\n      <td>r2005</td>\n      <td>[OA]</td>\n      <td>...</td>\n      <td>13</td>\n      <td>13</td>\n      <td>6</td>\n      <td>16</td>\n      <td>13</td>\n      <td>幻想庭園</td>\n      <td>276.0</td>\n      <td>252.0</td>\n      <td>269.0</td>\n      <td>242.0</td>\n    </tr>\n    <tr>\n      <th>8</th>\n      <td>パラソルのある風景</td>\n      <td>None</td>\n      <td>False</td>\n      <td>False</td>\n      <td>[幻想庭園]</td>\n      <td>幻想庭園</td>\n      <td>1988-01-25</td>\n      <td>109.0</td>\n      <td>r2005</td>\n      <td>[OA]</td>\n      <td>...</td>\n      <td>13</td>\n      <td>13</td>\n      <td>1</td>\n      <td>16</td>\n      <td>13</td>\n      <td>幻想庭園</td>\n      <td>236.0</td>\n      <td>219.0</td>\n      <td>268.0</td>\n      <td>241.0</td>\n    </tr>\n    <tr>\n      <th>12</th>\n      <td>フラワーチャイルド</td>\n      <td>None</td>\n      <td>False</td>\n      <td>False</td>\n      <td>[フラワーチャイルド, 幻想庭園, 快恠奇奇 ALI PROJECT Ventennale ...</td>\n      <td>フラワーチャイルド</td>\n      <td>1988-07-25</td>\n      <td>165.0</td>\n      <td>r2005</td>\n      <td>[OA, S-1, CA]</td>\n      <td>...</td>\n      <td>13</td>\n      <td>13</td>\n      <td>8</td>\n      <td>16</td>\n      <td>13</td>\n      <td>快恠奇奇 ALI PROJECT Ventennale Music, Art Exhibition</td>\n      <td>283.0</td>\n      <td>265.0</td>\n      <td>272.0</td>\n      <td>243.0</td>\n    </tr>\n    <tr>\n      <th>20</th>\n      <td>木洩れ陽のワルツ</td>\n      <td>None</td>\n      <td>False</td>\n      <td>False</td>\n      <td>[月下の一群]</td>\n      <td>月下の一群</td>\n      <td>1992-12-09</td>\n      <td>131.0</td>\n      <td>r2005</td>\n      <td>[OA]</td>\n      <td>...</td>\n      <td>13</td>\n      <td>13</td>\n      <td>8</td>\n      <td>16</td>\n      <td>13</td>\n      <td>月下の一群</td>\n      <td>290.0</td>\n      <td>272.0</td>\n      <td>301.0</td>\n      <td>278.0</td>\n    </tr>\n    <tr>\n      <th>23</th>\n      <td>楽園喪失 -Paradise Lost-</td>\n      <td>None</td>\n      <td>False</td>\n      <td>False</td>\n      <td>[月下の一群, Romance]</td>\n      <td>月下の一群</td>\n      <td>1992-12-09</td>\n      <td>128.0</td>\n      <td>r2005</td>\n      <td>[SA, OA]</td>\n      <td>...</td>\n      <td>13</td>\n      <td>13</td>\n      <td>6</td>\n      <td>16</td>\n      <td>13</td>\n      <td>Romance</td>\n      <td>260.0</td>\n      <td>240.0</td>\n      <td>252.0</td>\n      <td>220.0</td>\n    </tr>\n    <tr>\n      <th>31</th>\n      <td>Virtual Fantasy</td>\n      <td>None</td>\n      <td>False</td>\n      <td>False</td>\n      <td>[DALI]</td>\n      <td>DALI</td>\n      <td>1994-02-16</td>\n      <td>148.0</td>\n      <td>r2005</td>\n      <td>[OA]</td>\n      <td>...</td>\n      <td>13</td>\n      <td>13</td>\n      <td>5</td>\n      <td>16</td>\n      <td>13</td>\n      <td>DALI</td>\n      <td>257.0</td>\n      <td>237.0</td>\n      <td>259.0</td>\n      <td>231.0</td>\n    </tr>\n    <tr>\n      <th>44</th>\n      <td>夢のあとに ～après un rêve～</td>\n      <td>None</td>\n      <td>False</td>\n      <td>False</td>\n      <td>[Wish, music tracks from Wish, CLAMPAZAR ～クランパ...</td>\n      <td>Wish</td>\n      <td>1996-12-24</td>\n      <td>162.0</td>\n      <td>r2005</td>\n      <td>[S-2, ST, OT, CA]</td>\n      <td>...</td>\n      <td>13</td>\n      <td>13</td>\n      <td>7</td>\n      <td>16</td>\n      <td>13</td>\n      <td>COLLECTION SIMPLE PLUS</td>\n      <td>284.0</td>\n      <td>268.0</td>\n      <td>300.0</td>\n      <td>276.0</td>\n    </tr>\n    <tr>\n      <th>45</th>\n      <td>エンジェル・エッグの作り方</td>\n      <td>None</td>\n      <td>False</td>\n      <td>False</td>\n      <td>[music tracks from Wish]</td>\n      <td>music tracks from Wish</td>\n      <td>1997-02-05</td>\n      <td>132.0</td>\n      <td>r2005</td>\n      <td>[ST]</td>\n      <td>...</td>\n      <td>13</td>\n      <td>13</td>\n      <td>4</td>\n      <td>16</td>\n      <td>13</td>\n      <td>music tracks from Wish</td>\n      <td>266.0</td>\n      <td>246.0</td>\n      <td>284.0</td>\n      <td>256.0</td>\n    </tr>\n    <tr>\n      <th>46</th>\n      <td>Chu Chu</td>\n      <td>None</td>\n      <td>False</td>\n      <td>False</td>\n      <td>[music tracks from Wish]</td>\n      <td>music tracks from Wish</td>\n      <td>1997-02-05</td>\n      <td>150.0</td>\n      <td>r2005</td>\n      <td>[ST]</td>\n      <td>...</td>\n      <td>13</td>\n      <td>13</td>\n      <td>11</td>\n      <td>16</td>\n      <td>13</td>\n      <td>music tracks from Wish</td>\n      <td>304.0</td>\n      <td>289.0</td>\n      <td>278.0</td>\n      <td>249.0</td>\n    </tr>\n    <tr>\n      <th>47</th>\n      <td>Sanctuary</td>\n      <td>None</td>\n      <td>False</td>\n      <td>False</td>\n      <td>[music tracks from Wish]</td>\n      <td>music tracks from Wish</td>\n      <td>1997-02-05</td>\n      <td>181.0</td>\n      <td>r2005</td>\n      <td>[ST]</td>\n      <td>...</td>\n      <td>13</td>\n      <td>13</td>\n      <td>11</td>\n      <td>16</td>\n      <td>13</td>\n      <td>music tracks from Wish</td>\n      <td>309.0</td>\n      <td>292.0</td>\n      <td>310.0</td>\n      <td>293.0</td>\n    </tr>\n    <tr>\n      <th>50</th>\n      <td>Water Drop</td>\n      <td>None</td>\n      <td>False</td>\n      <td>False</td>\n      <td>[CLAMP学園探偵団 O.S.T 1, CLAMP学園探偵団 Vocal Collecti...</td>\n      <td>CLAMP学園探偵団 O.S.T 1</td>\n      <td>1997-06-21</td>\n      <td>194.0</td>\n      <td>r2005</td>\n      <td>[ST, OT]</td>\n      <td>...</td>\n      <td>13</td>\n      <td>13</td>\n      <td>8</td>\n      <td>16</td>\n      <td>13</td>\n      <td>CLAMPAZAR ～クランパザール～</td>\n      <td>296.0</td>\n      <td>276.0</td>\n      <td>288.0</td>\n      <td>266.0</td>\n    </tr>\n    <tr>\n      <th>53</th>\n      <td>L'eternite</td>\n      <td>None</td>\n      <td>False</td>\n      <td>False</td>\n      <td>[CLAMP学園探偵団 O.S.T 2, CLAMP学園探偵団 Vocal Collection]</td>\n      <td>CLAMP学園探偵団 O.S.T 2</td>\n      <td>1997-10-22</td>\n      <td>179.0</td>\n      <td>r2005</td>\n      <td>[ST]</td>\n      <td>...</td>\n      <td>13</td>\n      <td>13</td>\n      <td>8</td>\n      <td>16</td>\n      <td>13</td>\n      <td>CLAMP学園探偵団 Vocal Collection</td>\n      <td>301.0</td>\n      <td>286.0</td>\n      <td>307.0</td>\n      <td>288.0</td>\n    </tr>\n    <tr>\n      <th>58</th>\n      <td>天使に寄す</td>\n      <td>None</td>\n      <td>False</td>\n      <td>False</td>\n      <td>[Anniversary of Angel, COLLECTION SIMPLE PLUS]</td>\n      <td>Anniversary of Angel</td>\n      <td>1997-12-17</td>\n      <td>167.0</td>\n      <td>r2005</td>\n      <td>[S-2, CA]</td>\n      <td>...</td>\n      <td>13</td>\n      <td>13</td>\n      <td>5</td>\n      <td>16</td>\n      <td>13</td>\n      <td>COLLECTION SIMPLE PLUS</td>\n      <td>268.0</td>\n      <td>247.0</td>\n      <td>257.0</td>\n      <td>229.0</td>\n    </tr>\n    <tr>\n      <th>68</th>\n      <td>deep forest</td>\n      <td>None</td>\n      <td>False</td>\n      <td>False</td>\n      <td>[Noblerot]</td>\n      <td>Noblerot</td>\n      <td>1998-11-21</td>\n      <td>169.0</td>\n      <td>r2005</td>\n      <td>[OA]</td>\n      <td>...</td>\n      <td>13</td>\n      <td>13</td>\n      <td>8</td>\n      <td>16</td>\n      <td>13</td>\n      <td>Noblerot</td>\n      <td>300.0</td>\n      <td>285.0</td>\n      <td>288.0</td>\n      <td>266.0</td>\n    </tr>\n    <tr>\n      <th>69</th>\n      <td>LOST CHILD</td>\n      <td>None</td>\n      <td>False</td>\n      <td>False</td>\n      <td>[Noblerot, 聖ルミナス女学院2 O.S.T]</td>\n      <td>Noblerot</td>\n      <td>1998-11-21</td>\n      <td>194.0</td>\n      <td>r2005</td>\n      <td>[OA, ST]</td>\n      <td>...</td>\n      <td>13</td>\n      <td>13</td>\n      <td>8</td>\n      <td>16</td>\n      <td>13</td>\n      <td>聖ルミナス女学院2 O.S.T</td>\n      <td>287.0</td>\n      <td>270.0</td>\n      <td>295.0</td>\n      <td>272.0</td>\n    </tr>\n    <tr>\n      <th>75</th>\n      <td>Sacrifice</td>\n      <td>None</td>\n      <td>False</td>\n      <td>False</td>\n      <td>[jamais vu, Aristocracy]</td>\n      <td>jamais vu</td>\n      <td>2000-08-04</td>\n      <td>148.0</td>\n      <td>r2005</td>\n      <td>[OA, CA]</td>\n      <td>...</td>\n      <td>13</td>\n      <td>12</td>\n      <td>3</td>\n      <td>16</td>\n      <td>13</td>\n      <td>Aristocracy</td>\n      <td>230.0</td>\n      <td>212.0</td>\n      <td>229.0</td>\n      <td>198.0</td>\n    </tr>\n    <tr>\n      <th>89</th>\n      <td>宵待草</td>\n      <td>None</td>\n      <td>False</td>\n      <td>False</td>\n      <td>[CLASSICS]</td>\n      <td>CLASSICS</td>\n      <td>2001-07-25</td>\n      <td>100.0</td>\n      <td>r2005</td>\n      <td>[OA]</td>\n      <td>...</td>\n      <td>13</td>\n      <td>13</td>\n      <td>5</td>\n      <td>16</td>\n      <td>13</td>\n      <td>CLASSICS</td>\n      <td>244.0</td>\n      <td>225.0</td>\n      <td>250.0</td>\n      <td>218.0</td>\n    </tr>\n    <tr>\n      <th>91</th>\n      <td>La vie en rose</td>\n      <td>None</td>\n      <td>False</td>\n      <td>False</td>\n      <td>[CLASSICS]</td>\n      <td>CLASSICS</td>\n      <td>2001-07-25</td>\n      <td>174.0</td>\n      <td>r2005</td>\n      <td>[OA]</td>\n      <td>...</td>\n      <td>13</td>\n      <td>13</td>\n      <td>9</td>\n      <td>16</td>\n      <td>13</td>\n      <td>CLASSICS</td>\n      <td>297.0</td>\n      <td>282.0</td>\n      <td>291.0</td>\n      <td>268.0</td>\n    </tr>\n    <tr>\n      <th>100</th>\n      <td>夢魔の夜、あなたを迎える者がある</td>\n      <td>None</td>\n      <td>False</td>\n      <td>False</td>\n      <td>[EROTIC &amp; HERETIC]</td>\n      <td>EROTIC &amp; HERETIC</td>\n      <td>2002-07-24</td>\n      <td>141.0</td>\n      <td>r2005</td>\n      <td>[OA]</td>\n      <td>...</td>\n      <td>13</td>\n      <td>13</td>\n      <td>7</td>\n      <td>16</td>\n      <td>13</td>\n      <td>EROTIC &amp; HERETIC</td>\n      <td>259.0</td>\n      <td>239.0</td>\n      <td>264.0</td>\n      <td>236.0</td>\n    </tr>\n    <tr>\n      <th>104</th>\n      <td>プラトニック</td>\n      <td>None</td>\n      <td>False</td>\n      <td>False</td>\n      <td>[月光嗜好症]</td>\n      <td>月光嗜好症</td>\n      <td>2003-04-23</td>\n      <td>62.0</td>\n      <td>r2005</td>\n      <td>[SA]</td>\n      <td>...</td>\n      <td>13</td>\n      <td>12</td>\n      <td>2</td>\n      <td>16</td>\n      <td>13</td>\n      <td>月光嗜好症</td>\n      <td>218.0</td>\n      <td>197.0</td>\n      <td>227.0</td>\n      <td>196.0</td>\n    </tr>\n    <tr>\n      <th>109</th>\n      <td>MOTHER</td>\n      <td>None</td>\n      <td>False</td>\n      <td>False</td>\n      <td>[Avenger O.S.T., 桂冠詩人 SINGLE COLLECTION PLUS]</td>\n      <td>Avenger O.S.T.</td>\n      <td>2003-12-03</td>\n      <td>157.0</td>\n      <td>r2005</td>\n      <td>[ST, CA]</td>\n      <td>...</td>\n      <td>13</td>\n      <td>13</td>\n      <td>4</td>\n      <td>16</td>\n      <td>13</td>\n      <td>桂冠詩人 SINGLE COLLECTION PLUS</td>\n      <td>263.0</td>\n      <td>244.0</td>\n      <td>281.0</td>\n      <td>253.0</td>\n    </tr>\n    <tr>\n      <th>110</th>\n      <td>繭</td>\n      <td>None</td>\n      <td>False</td>\n      <td>False</td>\n      <td>[Avenger O.S.T.]</td>\n      <td>Avenger O.S.T.</td>\n      <td>2003-12-03</td>\n      <td>152.0</td>\n      <td>r2005</td>\n      <td>[ST]</td>\n      <td>...</td>\n      <td>13</td>\n      <td>13</td>\n      <td>4</td>\n      <td>16</td>\n      <td>13</td>\n      <td>Avenger O.S.T.</td>\n      <td>255.0</td>\n      <td>235.0</td>\n      <td>252.0</td>\n      <td>220.0</td>\n    </tr>\n    <tr>\n      <th>114</th>\n      <td>Je te veux</td>\n      <td>None</td>\n      <td>False</td>\n      <td>False</td>\n      <td>[étoiles]</td>\n      <td>étoiles</td>\n      <td>2004-06-23</td>\n      <td>166.0</td>\n      <td>r2005</td>\n      <td>[SA]</td>\n      <td>...</td>\n      <td>13</td>\n      <td>13</td>\n      <td>9</td>\n      <td>16</td>\n      <td>13</td>\n      <td>étoiles</td>\n      <td>285.0</td>\n      <td>269.0</td>\n      <td>263.0</td>\n      <td>234.0</td>\n    </tr>\n    <tr>\n      <th>116</th>\n      <td>Après un rêve</td>\n      <td>None</td>\n      <td>False</td>\n      <td>False</td>\n      <td>[étoiles]</td>\n      <td>étoiles</td>\n      <td>2004-06-23</td>\n      <td>194.0</td>\n      <td>r2005</td>\n      <td>[SA]</td>\n      <td>...</td>\n      <td>13</td>\n      <td>13</td>\n      <td>10</td>\n      <td>16</td>\n      <td>13</td>\n      <td>étoiles</td>\n      <td>302.0</td>\n      <td>287.0</td>\n      <td>295.0</td>\n      <td>272.0</td>\n    </tr>\n    <tr>\n      <th>117</th>\n      <td>Daphné</td>\n      <td>None</td>\n      <td>False</td>\n      <td>False</td>\n      <td>[étoiles]</td>\n      <td>étoiles</td>\n      <td>2004-06-23</td>\n      <td>190.0</td>\n      <td>r2005</td>\n      <td>[SA]</td>\n      <td>...</td>\n      <td>13</td>\n      <td>13</td>\n      <td>9</td>\n      <td>16</td>\n      <td>13</td>\n      <td>étoiles</td>\n      <td>298.0</td>\n      <td>283.0</td>\n      <td>309.0</td>\n      <td>292.0</td>\n    </tr>\n    <tr>\n      <th>118</th>\n      <td>わが恋は月光に散りぬ</td>\n      <td>None</td>\n      <td>False</td>\n      <td>False</td>\n      <td>[étoiles]</td>\n      <td>étoiles</td>\n      <td>2004-06-23</td>\n      <td>184.0</td>\n      <td>r2005</td>\n      <td>[SA]</td>\n      <td>...</td>\n      <td>13</td>\n      <td>13</td>\n      <td>9</td>\n      <td>16</td>\n      <td>13</td>\n      <td>étoiles</td>\n      <td>293.0</td>\n      <td>274.0</td>\n      <td>286.0</td>\n      <td>263.0</td>\n    </tr>\n    <tr>\n      <th>136</th>\n      <td>S嬢の秘めやかな悔恨</td>\n      <td>None</td>\n      <td>False</td>\n      <td>False</td>\n      <td>[聖少女領域, 薔薇架刑]</td>\n      <td>聖少女領域</td>\n      <td>2005-10-26</td>\n      <td>85.0</td>\n      <td>r2006#1</td>\n      <td>[S-2, CA]</td>\n      <td>...</td>\n      <td>13</td>\n      <td>11</td>\n      <td>6</td>\n      <td>15</td>\n      <td>13</td>\n      <td>薔薇架刑</td>\n      <td>227.0</td>\n      <td>211.0</td>\n      <td>198.0</td>\n      <td>154.0</td>\n    </tr>\n    <tr>\n      <th>139</th>\n      <td>蜜薔薇庭園</td>\n      <td>None</td>\n      <td>False</td>\n      <td>False</td>\n      <td>[神々の黄昏, 愛と誠 ～YAMATO＆LOVE×××]</td>\n      <td>神々の黄昏</td>\n      <td>2005-12-07</td>\n      <td>130.0</td>\n      <td>r2006#1</td>\n      <td>[SA, CA]</td>\n      <td>...</td>\n      <td>13</td>\n      <td>13</td>\n      <td>7</td>\n      <td>15</td>\n      <td>13</td>\n      <td>愛と誠 ～YAMATO＆LOVE×××</td>\n      <td>246.0</td>\n      <td>229.0</td>\n      <td>237.0</td>\n      <td>204.0</td>\n    </tr>\n    <tr>\n      <th>142</th>\n      <td>JE TE VEUX</td>\n      <td>None</td>\n      <td>False</td>\n      <td>False</td>\n      <td>[神々の黄昏]</td>\n      <td>神々の黄昏</td>\n      <td>2005-12-07</td>\n      <td>158.0</td>\n      <td>r2006#1</td>\n      <td>[SA]</td>\n      <td>...</td>\n      <td>10</td>\n      <td>10</td>\n      <td>5</td>\n      <td>15</td>\n      <td>13</td>\n      <td>神々の黄昏</td>\n      <td>281.0</td>\n      <td>261.0</td>\n      <td>291.0</td>\n      <td>268.0</td>\n    </tr>\n    <tr>\n      <th>150</th>\n      <td>埋葬の森の黄昏坂</td>\n      <td>None</td>\n      <td>False</td>\n      <td>False</td>\n      <td>[.hack//Roots O.S.T. 2]</td>\n      <td>.hack//Roots O.S.T. 2</td>\n      <td>2006-09-21</td>\n      <td>141.0</td>\n      <td>r2006#2</td>\n      <td>[ST]</td>\n      <td>...</td>\n      <td>13</td>\n      <td>12</td>\n      <td>6</td>\n      <td>14</td>\n      <td>13</td>\n      <td>.hack//Roots O.S.T. 2</td>\n      <td>245.0</td>\n      <td>228.0</td>\n      <td>220.0</td>\n      <td>188.0</td>\n    </tr>\n    <tr>\n      <th>156</th>\n      <td>さいごの戀</td>\n      <td>None</td>\n      <td>False</td>\n      <td>False</td>\n      <td>[Romance]</td>\n      <td>Romance</td>\n      <td>2006-12-06</td>\n      <td>159.0</td>\n      <td>r2006#2</td>\n      <td>[SA]</td>\n      <td>...</td>\n      <td>13</td>\n      <td>12</td>\n      <td>5</td>\n      <td>14</td>\n      <td>13</td>\n      <td>Romance</td>\n      <td>254.0</td>\n      <td>234.0</td>\n      <td>221.0</td>\n      <td>189.0</td>\n    </tr>\n    <tr>\n      <th>165</th>\n      <td>桃色天国</td>\n      <td>None</td>\n      <td>False</td>\n      <td>False</td>\n      <td>[暗黒天国, La Vita Romantica]</td>\n      <td>暗黒天国</td>\n      <td>2007-05-23</td>\n      <td>141.0</td>\n      <td>r2008</td>\n      <td>[S-2, CA]</td>\n      <td>...</td>\n      <td>12</td>\n      <td>11</td>\n      <td>3</td>\n      <td>12</td>\n      <td>12</td>\n      <td>La Vita Romantica</td>\n      <td>223.0</td>\n      <td>216.0</td>\n      <td>187.0</td>\n      <td>206.0</td>\n    </tr>\n    <tr>\n      <th>180</th>\n      <td>Nocturnal</td>\n      <td>None</td>\n      <td>False</td>\n      <td>False</td>\n      <td>[Grand Finale]</td>\n      <td>Grand Finale</td>\n      <td>2007-12-12</td>\n      <td>194.0</td>\n      <td>r2008</td>\n      <td>[SA]</td>\n      <td>...</td>\n      <td>12</td>\n      <td>12</td>\n      <td>10</td>\n      <td>12</td>\n      <td>12</td>\n      <td>Grand Finale</td>\n      <td>305.0</td>\n      <td>294.0</td>\n      <td>288.0</td>\n      <td>294.0</td>\n    </tr>\n    <tr>\n      <th>189</th>\n      <td>血の断章</td>\n      <td>None</td>\n      <td>False</td>\n      <td>False</td>\n      <td>[禁書, 血と蜜 ～Anthology of Gothic Lolita＆Horror]</td>\n      <td>禁書</td>\n      <td>2008-08-27</td>\n      <td>73.0</td>\n      <td>r2009</td>\n      <td>[OA, CA]</td>\n      <td>...</td>\n      <td>11</td>\n      <td>9</td>\n      <td>1</td>\n      <td>11</td>\n      <td>11</td>\n      <td>血と蜜 ～Anthology of Gothic Lolita＆Horror</td>\n      <td>205.0</td>\n      <td>189.0</td>\n      <td>226.0</td>\n      <td>194.0</td>\n    </tr>\n    <tr>\n      <th>199</th>\n      <td>騎士乙女</td>\n      <td>None</td>\n      <td>False</td>\n      <td>False</td>\n      <td>[裸々イヴ新世紀, Gothic Opera, QUEENDOM, 愛と誠 ～YAMATO＆...</td>\n      <td>裸々イヴ新世紀</td>\n      <td>2009-01-21</td>\n      <td>91.0</td>\n      <td>r2009</td>\n      <td>[SA, S-2, CA]</td>\n      <td>...</td>\n      <td>10</td>\n      <td>8</td>\n      <td>4</td>\n      <td>11</td>\n      <td>11</td>\n      <td>愛と誠 ～YAMATO＆LOVE×××</td>\n      <td>210.0</td>\n      <td>201.0</td>\n      <td>142.0</td>\n      <td>148.0</td>\n    </tr>\n    <tr>\n      <th>212</th>\n      <td>この國の向こうに</td>\n      <td>None</td>\n      <td>False</td>\n      <td>False</td>\n      <td>[Poison, 愛と誠 ～YAMATO＆LOVE×××]</td>\n      <td>Poison</td>\n      <td>2009-08-26</td>\n      <td>115.0</td>\n      <td>r2010</td>\n      <td>[OA, CA]</td>\n      <td>...</td>\n      <td>10</td>\n      <td>6</td>\n      <td>3</td>\n      <td>10</td>\n      <td>10</td>\n      <td>愛と誠 ～YAMATO＆LOVE×××</td>\n      <td>211.0</td>\n      <td>203.0</td>\n      <td>180.0</td>\n      <td>162.0</td>\n    </tr>\n    <tr>\n      <th>216</th>\n      <td>寶島</td>\n      <td>None</td>\n      <td>False</td>\n      <td>False</td>\n      <td>[堕天國宣戦, QUEENDOM]</td>\n      <td>堕天國宣戦</td>\n      <td>2009-10-21</td>\n      <td>191.0</td>\n      <td>r2010</td>\n      <td>[S-2, CA]</td>\n      <td>...</td>\n      <td>10</td>\n      <td>10</td>\n      <td>6</td>\n      <td>10</td>\n      <td>10</td>\n      <td>QUEENDOM</td>\n      <td>288.0</td>\n      <td>288.0</td>\n      <td>244.0</td>\n      <td>260.0</td>\n    </tr>\n    <tr>\n      <th>217</th>\n      <td>月光オペラの天鵞絨の緞帳は上がり</td>\n      <td>None</td>\n      <td>False</td>\n      <td>False</td>\n      <td>[Gothic Opera]</td>\n      <td>Gothic Opera</td>\n      <td>2010-03-17</td>\n      <td>169.0</td>\n      <td>r2010</td>\n      <td>[SA]</td>\n      <td>...</td>\n      <td>10</td>\n      <td>9</td>\n      <td>7</td>\n      <td>10</td>\n      <td>10</td>\n      <td>Gothic Opera</td>\n      <td>274.0</td>\n      <td>279.0</td>\n      <td>191.0</td>\n      <td>256.0</td>\n    </tr>\n    <tr>\n      <th>219</th>\n      <td>私の心は語る薔薇の御胸を葩の御身を</td>\n      <td>わたしのこころはかたるばらのみむねをはなのおんみを</td>\n      <td>False</td>\n      <td>False</td>\n      <td>[Gothic Opera]</td>\n      <td>Gothic Opera</td>\n      <td>2010-03-17</td>\n      <td>162.0</td>\n      <td>r2010</td>\n      <td>[SA]</td>\n      <td>...</td>\n      <td>10</td>\n      <td>9</td>\n      <td>6</td>\n      <td>10</td>\n      <td>10</td>\n      <td>Gothic Opera</td>\n      <td>264.0</td>\n      <td>257.0</td>\n      <td>230.0</td>\n      <td>220.0</td>\n    </tr>\n    <tr>\n      <th>223</th>\n      <td>Adieu</td>\n      <td>None</td>\n      <td>False</td>\n      <td>False</td>\n      <td>[Gothic Opera, 愛と誠 ～YAMATO＆LOVE×××]</td>\n      <td>Gothic Opera</td>\n      <td>2010-03-17</td>\n      <td>184.0</td>\n      <td>r2010</td>\n      <td>[SA, CA]</td>\n      <td>...</td>\n      <td>10</td>\n      <td>10</td>\n      <td>5</td>\n      <td>10</td>\n      <td>10</td>\n      <td>愛と誠 ～YAMATO＆LOVE×××</td>\n      <td>278.0</td>\n      <td>271.0</td>\n      <td>274.0</td>\n      <td>260.0</td>\n    </tr>\n    <tr>\n      <th>229</th>\n      <td>髑髏ヶ城の巫女達は永久に現世の夢を見る</td>\n      <td>どくろがじょうのみこたちはえいきゅうにげんせのゆめをみる</td>\n      <td>False</td>\n      <td>False</td>\n      <td>[汎新日本主義]</td>\n      <td>汎新日本主義</td>\n      <td>2010-09-26</td>\n      <td>109.0</td>\n      <td>r2011</td>\n      <td>[OA]</td>\n      <td>...</td>\n      <td>9</td>\n      <td>9</td>\n      <td>6</td>\n      <td>9</td>\n      <td>9</td>\n      <td>汎新日本主義</td>\n      <td>295.0</td>\n      <td>291.0</td>\n      <td>269.0</td>\n      <td>275.0</td>\n    </tr>\n    <tr>\n      <th>232</th>\n      <td>SENGOKU GIRL</td>\n      <td>None</td>\n      <td>False</td>\n      <td>False</td>\n      <td>[汎新日本主義]</td>\n      <td>汎新日本主義</td>\n      <td>2010-09-26</td>\n      <td>162.0</td>\n      <td>r2011</td>\n      <td>[OA]</td>\n      <td>...</td>\n      <td>9</td>\n      <td>8</td>\n      <td>5</td>\n      <td>9</td>\n      <td>9</td>\n      <td>汎新日本主義</td>\n      <td>262.0</td>\n      <td>267.0</td>\n      <td>193.0</td>\n      <td>217.0</td>\n    </tr>\n    <tr>\n      <th>237</th>\n      <td>平和の因子</td>\n      <td>None</td>\n      <td>False</td>\n      <td>False</td>\n      <td>[汎新日本主義]</td>\n      <td>汎新日本主義</td>\n      <td>2010-09-26</td>\n      <td>191.0</td>\n      <td>r2011</td>\n      <td>[OA]</td>\n      <td>...</td>\n      <td>9</td>\n      <td>9</td>\n      <td>6</td>\n      <td>9</td>\n      <td>9</td>\n      <td>汎新日本主義</td>\n      <td>308.0</td>\n      <td>295.0</td>\n      <td>308.0</td>\n      <td>291.0</td>\n    </tr>\n    <tr>\n      <th>241</th>\n      <td>亡き王女のための…</td>\n      <td>None</td>\n      <td>False</td>\n      <td>False</td>\n      <td>[QUEENDOM]</td>\n      <td>QUEENDOM</td>\n      <td>2011-05-25</td>\n      <td>191.0</td>\n      <td>r2011</td>\n      <td>[CA]</td>\n      <td>...</td>\n      <td>9</td>\n      <td>9</td>\n      <td>8</td>\n      <td>9</td>\n      <td>9</td>\n      <td>QUEENDOM</td>\n      <td>307.0</td>\n      <td>299.0</td>\n      <td>274.0</td>\n      <td>298.0</td>\n    </tr>\n    <tr>\n      <th>242</th>\n      <td>秘密の花薗</td>\n      <td>None</td>\n      <td>False</td>\n      <td>False</td>\n      <td>[Les Papillons, 血と蜜 ～Anthology of Gothic Lolit...</td>\n      <td>Les Papillons</td>\n      <td>2011-06-29</td>\n      <td>141.0</td>\n      <td>r2011</td>\n      <td>[SA, CA]</td>\n      <td>...</td>\n      <td>9</td>\n      <td>9</td>\n      <td>5</td>\n      <td>9</td>\n      <td>9</td>\n      <td>血と蜜 ～Anthology of Gothic Lolita＆Horror</td>\n      <td>277.0</td>\n      <td>275.0</td>\n      <td>240.0</td>\n      <td>285.0</td>\n    </tr>\n    <tr>\n      <th>245</th>\n      <td>眼帯兎と包帯羊のMärchen</td>\n      <td>None</td>\n      <td>False</td>\n      <td>False</td>\n      <td>[Les Papillons, 血と蜜 ～Anthology of Gothic Lolit...</td>\n      <td>Les Papillons</td>\n      <td>2011-06-29</td>\n      <td>140.0</td>\n      <td>r2011</td>\n      <td>[SA, CA]</td>\n      <td>...</td>\n      <td>9</td>\n      <td>8</td>\n      <td>5</td>\n      <td>9</td>\n      <td>9</td>\n      <td>血と蜜 ～Anthology of Gothic Lolita＆Horror</td>\n      <td>252.0</td>\n      <td>255.0</td>\n      <td>221.0</td>\n      <td>220.0</td>\n    </tr>\n    <tr>\n      <th>246</th>\n      <td>パピヨン輪廻</td>\n      <td>None</td>\n      <td>False</td>\n      <td>False</td>\n      <td>[Les Papillons]</td>\n      <td>Les Papillons</td>\n      <td>2011-06-29</td>\n      <td>106.0</td>\n      <td>r2011</td>\n      <td>[SA]</td>\n      <td>...</td>\n      <td>9</td>\n      <td>8</td>\n      <td>4</td>\n      <td>9</td>\n      <td>9</td>\n      <td>Les Papillons</td>\n      <td>248.0</td>\n      <td>253.0</td>\n      <td>213.0</td>\n      <td>209.0</td>\n    </tr>\n    <tr>\n      <th>249</th>\n      <td>君の名を</td>\n      <td>None</td>\n      <td>False</td>\n      <td>False</td>\n      <td>[Les Papillons]</td>\n      <td>Les Papillons</td>\n      <td>2011-06-29</td>\n      <td>184.0</td>\n      <td>r2011</td>\n      <td>[SA]</td>\n      <td>...</td>\n      <td>9</td>\n      <td>9</td>\n      <td>8</td>\n      <td>9</td>\n      <td>9</td>\n      <td>Les Papillons</td>\n      <td>306.0</td>\n      <td>296.0</td>\n      <td>306.0</td>\n      <td>296.0</td>\n    </tr>\n    <tr>\n      <th>272</th>\n      <td>朗読する女中と小さな令嬢</td>\n      <td>None</td>\n      <td>False</td>\n      <td>False</td>\n      <td>[令嬢薔薇図鑑, 血と蜜 ～Anthology of Gothic Lolita＆Horror]</td>\n      <td>令嬢薔薇図鑑</td>\n      <td>2013-09-11</td>\n      <td>87.0</td>\n      <td>r2013</td>\n      <td>[OA, CA]</td>\n      <td>...</td>\n      <td>7</td>\n      <td>7</td>\n      <td>4</td>\n      <td>7</td>\n      <td>7</td>\n      <td>血と蜜 ～Anthology of Gothic Lolita＆Horror</td>\n      <td>267.0</td>\n      <td>254.0</td>\n      <td>261.0</td>\n      <td>233.0</td>\n    </tr>\n    <tr>\n      <th>294</th>\n      <td>すみれの花咲くころ</td>\n      <td>None</td>\n      <td>False</td>\n      <td>False</td>\n      <td>[Violetta Operetta, ロマンティック花ソング2]</td>\n      <td>Violetta Operetta</td>\n      <td>2015-01-21</td>\n      <td>174.0</td>\n      <td>r2015</td>\n      <td>[SA, OM]</td>\n      <td>...</td>\n      <td>5</td>\n      <td>5</td>\n      <td>5</td>\n      <td>5</td>\n      <td>5</td>\n      <td>ロマンティック花ソング2</td>\n      <td>310.0</td>\n      <td>298.0</td>\n      <td>311.0</td>\n      <td>296.0</td>\n    </tr>\n    <tr>\n      <th>297</th>\n      <td>Das Veilchen</td>\n      <td>ダス・ファイルヒェン</td>\n      <td>False</td>\n      <td>False</td>\n      <td>[Violetta Operetta]</td>\n      <td>Violetta Operetta</td>\n      <td>2015-01-21</td>\n      <td>122.0</td>\n      <td>r2015</td>\n      <td>[SA]</td>\n      <td>...</td>\n      <td>5</td>\n      <td>5</td>\n      <td>3</td>\n      <td>5</td>\n      <td>5</td>\n      <td>Violetta Operetta</td>\n      <td>294.0</td>\n      <td>293.0</td>\n      <td>295.0</td>\n      <td>284.0</td>\n    </tr>\n    <tr>\n      <th>311</th>\n      <td>魂ノ代</td>\n      <td>たまのよ</td>\n      <td>False</td>\n      <td>False</td>\n      <td>[波羅蜜蓮華]</td>\n      <td>波羅蜜蓮華</td>\n      <td>2015-10-21</td>\n      <td>194.0</td>\n      <td>r2015</td>\n      <td>[S-2]</td>\n      <td>...</td>\n      <td>5</td>\n      <td>5</td>\n      <td>4</td>\n      <td>5</td>\n      <td>5</td>\n      <td>波羅蜜蓮華</td>\n      <td>311.0</td>\n      <td>300.0</td>\n      <td>304.0</td>\n      <td>300.0</td>\n    </tr>\n  </tbody>\n</table>\n<p>52 rows × 44 columns</p>\n</div>",
      "text/plain": "                 None  False         False   \n180              Nocturnal                          None  False         False   \n189                   血の断章                          None  False         False   \n199                   騎士乙女                          None  False         False   \n212               この國の向こうに                          None  False         False   \n216                     寶島                          None  False         False   \n217       月光オペラの天鵞絨の緞帳は上がり                          None  False         False   \n219      私の心は語る薔薇の御胸を葩の御身を     わたしのこころはかたるばらのみむねをはなのおんみを  False         False   \n223                  Adieu                          None  False         False   \n229    髑髏ヶ城の巫女達は永久に現世の夢を見る  どくろがじょうのみこたちはえいきゅうにげんせのゆめをみる  False         False   \n232           SENGOKU GIRL                          None  False         False   \n237                  平和の因子                          None  False         False   \n241              亡き王女のための…                          None  False         False   \n242                  秘密の花薗                          None  False         False   \n245        眼帯兎と包帯羊のMärchen                          None  False         False   \n246                 パピヨン輪廻                          None  False         False   \n249                   君の名を                          None  False         False   \n272           朗読する女中と小さな令嬢                          None  False         False   \n294              すみれの花咲くころ                          None  False         False   \n297           Das Veilchen                    ダス・ファイルヒェン  False         False   \n311                    魂ノ代                          たまのよ  False         False   \n\n                                                 works  \\\nno                                                       \n4                                               [幻想庭園]   \n8                                               [幻想庭園]   \n12   [フラワーチャイルド, 幻想庭園, 快恠奇奇 ALI PROJECT Ventennale ...   \n20                                             [月下の一群]   \n23                                    [月下の一群, Romance]   \n31                                              [DALI]   \n44   [Wish, music tracks from Wish, CLAMPAZAR ～クランパ...   \n45                            [music tracks from Wish]   \n46                            [music tracks from Wish]   \n47                            [music tracks from Wish]   \n50   [CLAMP学園探偵団 O.S.T 1, CLAMP学園探偵団 Vocal Collecti...   \n53   [CLAMP学園探偵団 O.S.T 2, CLAMP学園探偵団 Vocal Collection]   \n58      [Anniversary of Angel, COLLECTION SIMPLE PLUS]   \n68                                          [Noblerot]   \n69                         [Noblerot, 聖ルミナス女学院2 O.S.T]   \n75                            [jamais vu, Aristocracy]   \n89                                          [CLASSICS]   \n91                                          [CLASSICS]   \n100                                 [EROTIC & HERETIC]   \n104                                            [月光嗜好症]   \n109      [Avenger O.S.T., 桂冠詩人 SINGLE COLLECTION PLUS]   \n110                                   [Avenger O.S.T.]   \n114                                          [étoiles]   \n116                                          [étoiles]   \n117                                          [étoiles]   \n118                                          [étoiles]   \n136                                      [聖少女領域, 薔薇架刑]   \n139                       [神々の黄昏, 愛と誠 ～YAMATO＆LOVE×××]   \n142                                            [神々の黄昏]   \n150                            [.hack//Roots O.S.T. 2]   \n156                                          [Romance]   \n165                          [暗黒天国, La Vita Romantica]   \n180                                     [Grand Finale]   \n189       [禁書, 血と蜜 ～Anthology of Gothic Lolita＆Horror]   \n199  [裸々イヴ新世紀, Gothic Opera, QUEENDOM, 愛と誠 ～YAMATO＆...   \n212                      [Poison, 愛と誠 ～YAMATO＆LOVE×××]   \n216                                  [堕天國宣戦, QUEENDOM]   \n217                                     [Gothic Opera]   \n219                                     [Gothic Opera]   \n223                [Gothic Opera, 愛と誠 ～YAMATO＆LOVE×××]   \n229                                           [汎新日本主義]   \n232                                           [汎新日本主義]   \n237                                           [汎新日本主義]   \n241                                         [QUEENDOM]   \n242  [Les Papillons, 血と蜜 ～Anthology of Gothic Lolit...   \n245  [Les Papillons, 血と蜜 ～Anthology of Gothic Lolit...   \n246                                    [Les Papillons]   \n249                                    [Les Papillons]   \n272   [令嬢薔薇図鑑, 血と蜜 ～Anthology of Gothic Lolita＆Horror]   \n294                  [Violetta Operetta, ロマンティック花ソング2]   \n297                                [Violetta Operetta]   \n311                                            [波羅蜜蓮華]   \n\n                      debut       date  r2019u  initial               kind  \\\nno                                                                           \n4                      幻想庭園 1988-01-25   150.0    r2005               [OA]   \n8                      幻想庭園 1988-01-25   109.0    r2005               [OA]   \n12                フラワーチャイルド 1988-07-25   165.0    r2005      [OA, S-1, CA]   \n20                    月下の一群 1992-12-09   131.0    r2005               [OA]   \n23                    月下の一群 1992-12-09   128.0    r2005           [SA, OA]   \n31                     DALI 1994-02-16   148.0    r2005               [OA]   \n44                     Wish 1996-12-24   162.0    r2005  [S-2, ST, OT, CA]   \n45   music tracks from Wish 1997-02-05   132.0    r2005               [ST]   \n46   music tracks from Wish 1997-02-05   150.0    r2005               [ST]   \n47   music tracks from Wish 1997-02-05   181.0    r2005               [ST]   \n50       CLAMP学園探偵団 O.S.T 1 1997-06-21   194.0    r2005           [ST, OT]   \n53       CLAMP学園探偵団 O.S.T 2 1997-10-22   179.0    r2005               [ST]   \n58     Anniversary of Angel 1997-12-17   167.0    r2005          [S-2, CA]   \n68                 Noblerot 1998-11-21   169.0    r2005               [OA]   \n69                 Noblerot 1998-11-21   194.0    r2005           [OA, ST]   \n75                jamais vu 2000-08-04   148.0    r2005           [OA, CA]   \n89                 CLASSICS 2001-07-25   100.0    r2005               [OA]   \n91                 CLASSICS 2001-07-25   174.0    r2005               [OA]   \n100        EROTIC & HERETIC 2002-07-24   141.0    r2005               [OA]   \n104                   月光嗜好症 2003-04-23    62.0    r2005               [SA]   \n109          Avenger O.S.T. 2003-12-03   157.0    r2005           [ST, CA]   \n110          Avenger O.S.T. 2003-12-03   152.0    r2005               [ST]   \n114                 étoiles 2004-06-23   166.0    r2005               [SA]   \n116                 étoiles 2004-06-23   194.0    r2005               [SA]   \n117                 étoiles 2004-06-23   190.0    r2005               [SA]   \n118                 étoiles 2004-06-23   184.0    r2005               [SA]   \n136                   聖少女領域 2005-10-26    85.0  r2006#1          [S-2, CA]   \n139                   神々の黄昏 2005-12-07   130.0  r2006#1           [SA, CA]   \n142                   神々の黄昏 2005-12-07   158.0  r2006#1               [SA]   \n150   .hack//Roots O.S.T. 2 2006-09-21   141.0  r2006#2               [ST]   \n156                 Romance 2006-12-06   159.0  r2006#2               [SA]   \n165                    暗黒天国 2007-05-23   141.0    r2008          [S-2, CA]   \n180            Grand Finale 2007-12-12   194.0    r2008               [SA]   \n189                      禁書 2008-08-27    73.0    r2009           [OA, CA]   \n199                 裸々イヴ新世紀 2009-01-21    91.0    r2009      [SA, S-2, CA]   \n212                  Poison 2009-08-26   115.0    r2010           [OA, CA]   \n216                   堕天國宣戦 2009-10-21   191.0    r2010          [S-2, CA]   \n217            Gothic Opera 2010-03-17   169.0    r2010               [SA]   \n219            Gothic Opera 2010-03-17   162.0    r2010               [SA]   \n223            Gothic Opera 2010-03-17   184.0    r2010           [SA, CA]   \n229                  汎新日本主義 2010-09-26   109.0    r2011               [OA]   \n232                  汎新日本主義 2010-09-26   162.0    r2011               [OA]   \n237                  汎新日本主義 2010-09-26   191.0    r2011               [OA]   \n241                QUEENDOM 2011-05-25   191.0    r2011               [CA]   \n242           Les Papillons 2011-06-29   141.0    r2011           [SA, CA]   \n245           Les Papillons 2011-06-29   140.0    r2011           [SA, CA]   \n246           Les Papillons 2011-06-29   106.0    r2011               [SA]   \n249           Les Papillons 2011-06-29   184.0    r2011               [SA]   \n272                  令嬢薔薇図鑑 2013-09-11    87.0    r2013           [OA, CA]   \n294       Violetta Operetta 2015-01-21   174.0    r2015           [SA, OM]   \n297       Violetta Operetta 2015-01-21   122.0    r2015               [SA]   \n311                   波羅蜜蓮華 2015-10-21   194.0    r2015              [S-2]   \n\n     ... over50  over100  over200  count_all  count  \\\nno   ...                                              \n4    ...     13       13        6         16     13   \n8    ...     13       13        1         16     13   \n12   ...     13       13        8         16     13   \n20   ...     13       13        8         16     13   \n23   ...     13       13        6         16     13   \n31   ...     13       13        5         16     13   \n44   ...     13       13        7         16     13   \n45   ...     13       13        4         16     13   \n46   ...     13       13       11         16     13   \n47   ...     13       13       11         16     13   \n50   ...     13       13        8         16     13   \n53   ...     13       13        8         16     13   \n58   ...     13       13        5         16     13   \n68   ...     13       13        8         16     13   \n69   ...     13       13        8         16     13   \n75   ...     13       12        3         16     13   \n89   ...     13       13        5         16     13   \n91   ...     13       13        9         16     13   \n100  ...     13       13        7         16     13   \n104  ...     13       12        2         16     13   \n109  ...     13       13        4         16     13   \n110  ...     13       13        4         16     13   \n114  ...     13       13        9         16     13   \n116  ...     13       13       10         16     13   \n117  ...     13       13        9         16     13   \n118  ...     13       13        9         16     13   \n136  ...     13       11        6         15     13   \n139  ...     13       13        7         15     13   \n142  ...     10       10        5         15     13   \n150  ...     13       12        6         14     13   \n156  ...     13       12        5         14     13   \n165  ...     12       11        3         12     12   \n180  ...     12       12       10         12     12   \n189  ...     11        9        1         11     11   \n199  ...     10        8        4         11     11   \n212  ...     10        6        3         10     10   \n216  ...     10       10        6         10     10   \n217  ...     10        9        7         10     10   \n219  ...     10        9        6         10     10   \n223  ...     10       10        5         10     10   \n229  ...      9        9        6          9      9   \n232  ...      9        8        5          9      9   \n237  ...      9        9        6          9      9   \n241  ...      9        9        8          9      9   \n242  ...      9        9        5          9      9   \n245  ...      9        8        5          9      9   \n246  ...      9        8        4          9      9   \n249  ...      9        9        8          9      9   \n272  ...      7        7        4          7      7   \n294  ...      5        5        5          5      5   \n297  ...      5        5        3          5      5   \n311  ...      5        5        4          5      5   \n\n                                           latest_work  rank_average  \\\nno                                                                     \n4                                                 幻想庭園         276.0   \n8                                                 幻想庭園         236.0   \n12   快恠奇奇 ALI PROJECT Ventennale Music, Art Exhibition         283.0   \n20                                               月下の一群         290.0   \n23                                             Romance         260.0   \n31                                                DALI         257.0   \n44                              COLLECTION SIMPLE PLUS         284.0   \n45                              music tracks from Wish         266.0   \n46                              music tracks from Wish         304.0   \n47                              music tracks from Wish         309.0   \n50                                 CLAMPAZAR ～クランパザール～         296.0   \n53                         CLAMP学園探偵団 Vocal Collection         301.0   \n58                              COLLECTION SIMPLE PLUS         268.0   \n68                                            Noblerot         300.0   \n69                                     聖ルミナス女学院2 O.S.T         287.0   \n75                                         Aristocracy         230.0   \n89                                            CLASSICS         244.0   \n91                                            CLASSICS         297.0   \n100                                   EROTIC & HERETIC         259.0   \n104                                              月光嗜好症         218.0   \n109                        桂冠詩人 SINGLE COLLECTION PLUS         263.0   \n110                                     Avenger O.S.T.         255.0   \n114                                            étoiles         285.0   \n116                                            étoiles         302.0   \n117                                            étoiles         298.0   \n118                                            étoiles         293.0   \n136                                               薔薇架刑         227.0   \n139                                愛と誠 ～YAMATO＆LOVE×××         246.0   \n142                                              神々の黄昏         281.0   \n150                              .hack//Roots O.S.T. 2         245.0   \n156                                            Romance         254.0   \n165                                  La Vita Romantica         223.0   \n180                                       Grand Finale         305.0   \n189             血と蜜 ～Anthology of Gothic Lolita＆Horror         205.0   \n199                                愛と誠 ～YAMATO＆LOVE×××         210.0   \n212                                愛と誠 ～YAMATO＆LOVE×××         211.0   \n216                                           QUEENDOM         288.0   \n217                                       Gothic Opera         274.0   \n219                                       Gothic Opera         264.0   \n223                                愛と誠 ～YAMATO＆LOVE×××         278.0   \n229                                             汎新日本主義         295.0   \n232                                             汎新日本主義         262.0   \n237                                             汎新日本主義         308.0   \n241                                           QUEENDOM         307.0   \n242             血と蜜 ～Anthology of Gothic Lolita＆Horror         277.0   \n245             血と蜜 ～Anthology of Gothic Lolita＆Horror         252.0   \n246                                      Les Papillons         248.0   \n249                                      Les Papillons         306.0   \n272             血と蜜 ～Anthology of Gothic Lolita＆Horror         267.0   \n294                                       ロマンティック花ソング2         310.0   \n297                                  Violetta Operetta         294.0   \n311                                              波羅蜜蓮華         311.0   \n\n     rank_average_exclude_debut  rank_highest  rank_highest_exclude_debut  \nno                                                                         \n4                         252.0         269.0                       242.0  \n8                         219.0         268.0                       241.0  \n12                        265.0         272.0                       243.0  \n20                        272.0         301.0                       278.0  \n23                        240.0         252.0                       220.0  \n31                        237.0         259.0                       231.0  \n44                        268.0         300.0                       276.0  \n45                        246.0         284.0                       256.0  \n46                        289.0         278.0                       249.0  \n47                        292.0         310.0                       293.0  \n50                        276.0         288.0                       266.0  \n53                        286.0         307.0                       288.0  \n58                        247.0         257.0                       229.0  \n68                        285.0         288.0                       266.0  \n69                        270.0         295.0                       272.0  \n75                        212.0         229.0                       198.0  \n89                        225.0         250.0                       218.0  \n91                        282.0         291.0                       268.0  \n100                       239.0         264.0                       236.0  \n104                       197.0         227.0                       196.0  \n109                       244.0         281.0                       253.0  \n110                       235.0         252.0                       220.0  \n114                       269.0         263.0                       234.0  \n116                       287.0         295.0                       272.0  \n117                       283.0         309.0                       292.0  \n118                       274.0         286.0                       263.0  \n136                       211.0         198.0                       154.0  \n139                       229.0         237.0                       204.0  \n142                       261.0         291.0                       268.0  \n150                       228.0         220.0                       188.0  \n156                       234.0         221.0                       189.0  \n165                       216.0         187.0                       206.0  \n180                       294.0         288.0                       294.0  \n189                       189.0         226.0                       194.0  \n199                       201.0         142.0                       148.0  \n212                       203.0         180.0                       162.0  \n216                       288.0         244.0                       260.0  \n217                       279.0         191.0                       256.0  \n219                       257.0         230.0                       220.0  \n223                       271.0         274.0                       260.0  \n229                       291.0         269.0                       275.0  \n232                       267.0         193.0                       217.0  \n237                       295.0         308.0                       291.0  \n241                       299.0         274.0                       298.0  \n242                       275.0         240.0                       285.0  \n245                       255.0         221.0                       220.0  \n246                       253.0         213.0                       209.0  \n249                       296.0         306.0                       296.0  \n272                       254.0         261.0                       233.0  \n294                       298.0         311.0                       296.0  \n297                       293.0         295.0                       284.0  \n311                       300.0         304.0                       300.0  \n\n[52 rows x 44 columns]"
     },
     "execution_count": 276,
     "metadata": {},
     "output_type": "execute_result"
    }
   ],
   "source": [
    "lowest[RECENT] and target[target_recent == lowest[RECENT]]"
   ]
  },
  {
   "cell_type": "markdown",
   "metadata": {},
   "outputs": [],
   "source": [
    "### highest ever\n",
    "(exclude recent year)"
   ]
  },
  {
   "cell_type": "code",
   "execution_count": 277,
   "metadata": {},
   "outputs": [
    {
     "data": {
      "text/html": "<div>\n<style scoped>\n    .dataframe tbody tr th:only-of-type {\n        vertical-align: middle;\n    }\n\n    .dataframe tbody tr th {\n        vertical-align: top;\n    }\n\n    .dataframe thead th {\n        text-align: right;\n    }\n</style>\n<table border=\"1\" class=\"dataframe\">\n  <thead>\n    <tr style=\"text-align: right;\">\n      <th></th>\n      <th>title</th>\n      <th>date</th>\n      <th>r2005</th>\n      <th>r2006#1</th>\n      <th>r2006#2</th>\n      <th>r2007</th>\n      <th>r2008</th>\n      <th>r2009</th>\n      <th>r2010</th>\n      <th>r2011</th>\n      <th>r2012</th>\n      <th>r2013</th>\n      <th>r2014</th>\n      <th>r2015</th>\n      <th>r2016</th>\n      <th>r2017</th>\n      <th>r2018</th>\n      <th>r2019</th>\n    </tr>\n    <tr>\n      <th>no</th>\n      <th></th>\n      <th></th>\n      <th></th>\n      <th></th>\n      <th></th>\n      <th></th>\n      <th></th>\n      <th></th>\n      <th></th>\n      <th></th>\n      <th></th>\n      <th></th>\n      <th></th>\n      <th></th>\n      <th></th>\n      <th></th>\n      <th></th>\n      <th></th>\n    </tr>\n  </thead>\n  <tbody>\n    <tr>\n      <th>2</th>\n      <td>青蛾月</td>\n      <td>1988-01-25</td>\n      <td>NaN</td>\n      <td>NaN</td>\n      <td>NaN</td>\n      <td>84.0</td>\n      <td>77.0</td>\n      <td>73.0</td>\n      <td>82.0</td>\n      <td>72.0</td>\n      <td>57.0</td>\n      <td>54.0</td>\n      <td>87.0</td>\n      <td>81.0</td>\n      <td>59.0</td>\n      <td>146.0</td>\n      <td>126.0</td>\n      <td>54.0</td>\n    </tr>\n    <tr>\n      <th>102</th>\n      <td>Nostalgia</td>\n      <td>2002-07-24</td>\n      <td>NaN</td>\n      <td>NaN</td>\n      <td>NaN</td>\n      <td>151.0</td>\n      <td>145.0</td>\n      <td>114.0</td>\n      <td>135.0</td>\n      <td>128.0</td>\n      <td>134.0</td>\n      <td>110.0</td>\n      <td>142.0</td>\n      <td>172.0</td>\n      <td>131.0</td>\n      <td>199.0</td>\n      <td>133.0</td>\n      <td>77.0</td>\n    </tr>\n    <tr>\n      <th>157</th>\n      <td>今宵、碧い森深く</td>\n      <td>2006-12-06</td>\n      <td>NaN</td>\n      <td>NaN</td>\n      <td>NaN</td>\n      <td>23.0</td>\n      <td>23.0</td>\n      <td>27.0</td>\n      <td>30.0</td>\n      <td>20.0</td>\n      <td>38.0</td>\n      <td>32.0</td>\n      <td>32.0</td>\n      <td>30.0</td>\n      <td>27.0</td>\n      <td>29.0</td>\n      <td>16.0</td>\n      <td>13.0</td>\n    </tr>\n    <tr>\n      <th>292</th>\n      <td>修道院の廃庭にて</td>\n      <td>2015-01-21</td>\n      <td>NaN</td>\n      <td>NaN</td>\n      <td>NaN</td>\n      <td>NaN</td>\n      <td>NaN</td>\n      <td>NaN</td>\n      <td>NaN</td>\n      <td>NaN</td>\n      <td>NaN</td>\n      <td>NaN</td>\n      <td>NaN</td>\n      <td>167.0</td>\n      <td>225.0</td>\n      <td>161.0</td>\n      <td>214.0</td>\n      <td>101.0</td>\n    </tr>\n  </tbody>\n</table>\n</div>",
      "text/plain": "         title       date  r2005  r2006#1  r2006#2  r2007  r2008  r2009  \\\nno                                                                        \n2          青蛾月 1988-01-25    NaN      NaN      NaN   84.0   77.0   73.0   \n102  Nostalgia 2002-07-24    NaN      NaN      NaN  151.0  145.0  114.0   \n157   今宵、碧い森深く 2006-12-06    NaN      NaN      NaN   23.0   23.0   27.0   \n292   修道院の廃庭にて 2015-01-21    NaN      NaN      NaN    NaN    NaN    NaN   \n\n     r2010  r2011  r2012  r2013  r2014  r2015  r2016  r2017  r2018  r2019  \nno                                                                         \n2     82.0   72.0   57.0   54.0   87.0   81.0   59.0  146.0  126.0   54.0  \n102  135.0  128.0  134.0  110.0  142.0  172.0  131.0  199.0  133.0   77.0  \n157   30.0   20.0   38.0   32.0   32.0   30.0   27.0   29.0   16.0   13.0  \n292    NaN    NaN    NaN    NaN    NaN  167.0  225.0  161.0  214.0  101.0  "
     },
     "execution_count": 277,
     "metadata": {},
     "output_type": "execute_result"
    }
   ],
   "source": [
    "target[target.highest == target_recent].query('initial != @RECENT')[['title', 'date', *RANK_ALL]]"
   ]
  },
  {
   "cell_type": "code",
   "execution_count": 278,
   "metadata": {},
   "outputs": [
    {
     "name": "stdout",
     "output_type": "stream",
     "text": "曲名|発表年|順位|過去最高\n---|---:|---:|---:\n青蛾月|1988|54|146\nNostalgia|2002|77|199\n今宵、碧い森深く|2006|13|38\n修道院の廃庭にて|2015|101|225\n"
    }
   ],
   "source": [
    "print('曲名|発表年|順位|過去最高')\n",
    "print('---|---:|---:|---:')\n",
    "for no in _.index:\n",
    "        print(f'{_.title.at[no]}|{_.date.at[no].year}|{int(_.at[no, RECENT])}|{int(_[RANK_BEFORE].max(1).at[no])}')"
   ]
  },
  {
   "cell_type": "markdown",
   "metadata": {},
   "outputs": [],
   "source": [
    "### lowest ever\n",
    "(voted in recent year)"
   ]
  },
  {
   "cell_type": "code",
   "execution_count": 279,
   "metadata": {},
   "outputs": [
    {
     "data": {
      "text/html": "<div>\n<style scoped>\n    .dataframe tbody tr th:only-of-type {\n        vertical-align: middle;\n    }\n\n    .dataframe tbody tr th {\n        vertical-align: top;\n    }\n\n    .dataframe thead th {\n        text-align: right;\n    }\n</style>\n<table border=\"1\" class=\"dataframe\">\n  <thead>\n    <tr style=\"text-align: right;\">\n      <th></th>\n      <th>title</th>\n      <th>date</th>\n      <th>r2005</th>\n      <th>r2006#1</th>\n      <th>r2006#2</th>\n      <th>r2007</th>\n      <th>r2008</th>\n      <th>r2009</th>\n      <th>r2010</th>\n      <th>r2011</th>\n      <th>r2012</th>\n      <th>r2013</th>\n      <th>r2014</th>\n      <th>r2015</th>\n      <th>r2016</th>\n      <th>r2017</th>\n      <th>r2018</th>\n      <th>r2019</th>\n    </tr>\n    <tr>\n      <th>no</th>\n      <th></th>\n      <th></th>\n      <th></th>\n      <th></th>\n      <th></th>\n      <th></th>\n      <th></th>\n      <th></th>\n      <th></th>\n      <th></th>\n      <th></th>\n      <th></th>\n      <th></th>\n      <th></th>\n      <th></th>\n      <th></th>\n      <th></th>\n      <th></th>\n    </tr>\n  </thead>\n  <tbody>\n    <tr>\n      <th>27</th>\n      <td>エスカルゴ嬉遊曲</td>\n      <td>1994-01-19</td>\n      <td>NaN</td>\n      <td>NaN</td>\n      <td>NaN</td>\n      <td>56.0</td>\n      <td>66.0</td>\n      <td>91.0</td>\n      <td>109.0</td>\n      <td>155.0</td>\n      <td>194.0</td>\n      <td>161.0</td>\n      <td>188.0</td>\n      <td>215.0</td>\n      <td>216.0</td>\n      <td>213.0</td>\n      <td>200.0</td>\n      <td>226.0</td>\n    </tr>\n    <tr>\n      <th>38</th>\n      <td>冬物語</td>\n      <td>1995-12-06</td>\n      <td>NaN</td>\n      <td>NaN</td>\n      <td>NaN</td>\n      <td>135.0</td>\n      <td>128.0</td>\n      <td>135.0</td>\n      <td>155.0</td>\n      <td>158.0</td>\n      <td>150.0</td>\n      <td>155.0</td>\n      <td>130.0</td>\n      <td>200.0</td>\n      <td>84.0</td>\n      <td>108.0</td>\n      <td>103.0</td>\n      <td>226.0</td>\n    </tr>\n    <tr>\n      <th>40</th>\n      <td>ストロベリーパイをお食べ</td>\n      <td>1995-12-06</td>\n      <td>NaN</td>\n      <td>NaN</td>\n      <td>NaN</td>\n      <td>68.0</td>\n      <td>63.0</td>\n      <td>74.0</td>\n      <td>81.0</td>\n      <td>89.0</td>\n      <td>127.0</td>\n      <td>82.0</td>\n      <td>150.0</td>\n      <td>115.0</td>\n      <td>136.0</td>\n      <td>118.0</td>\n      <td>151.0</td>\n      <td>226.0</td>\n    </tr>\n    <tr>\n      <th>96</th>\n      <td>schism</td>\n      <td>2002-07-24</td>\n      <td>NaN</td>\n      <td>NaN</td>\n      <td>NaN</td>\n      <td>46.0</td>\n      <td>74.0</td>\n      <td>71.0</td>\n      <td>104.0</td>\n      <td>97.0</td>\n      <td>104.0</td>\n      <td>93.0</td>\n      <td>76.0</td>\n      <td>189.0</td>\n      <td>115.0</td>\n      <td>59.0</td>\n      <td>57.0</td>\n      <td>226.0</td>\n    </tr>\n    <tr>\n      <th>98</th>\n      <td>時の森のソワレ</td>\n      <td>2002-07-24</td>\n      <td>17.0</td>\n      <td>NaN</td>\n      <td>NaN</td>\n      <td>66.0</td>\n      <td>88.0</td>\n      <td>86.0</td>\n      <td>85.0</td>\n      <td>84.0</td>\n      <td>94.0</td>\n      <td>123.0</td>\n      <td>109.0</td>\n      <td>106.0</td>\n      <td>138.0</td>\n      <td>146.0</td>\n      <td>136.0</td>\n      <td>159.0</td>\n    </tr>\n    <tr>\n      <th>...</th>\n      <td>...</td>\n      <td>...</td>\n      <td>...</td>\n      <td>...</td>\n      <td>...</td>\n      <td>...</td>\n      <td>...</td>\n      <td>...</td>\n      <td>...</td>\n      <td>...</td>\n      <td>...</td>\n      <td>...</td>\n      <td>...</td>\n      <td>...</td>\n      <td>...</td>\n      <td>...</td>\n      <td>...</td>\n      <td>...</td>\n    </tr>\n    <tr>\n      <th>331</th>\n      <td>青空</td>\n      <td>2018-07-25</td>\n      <td>NaN</td>\n      <td>NaN</td>\n      <td>NaN</td>\n      <td>NaN</td>\n      <td>NaN</td>\n      <td>NaN</td>\n      <td>NaN</td>\n      <td>NaN</td>\n      <td>NaN</td>\n      <td>NaN</td>\n      <td>NaN</td>\n      <td>NaN</td>\n      <td>NaN</td>\n      <td>NaN</td>\n      <td>6.0</td>\n      <td>24.0</td>\n    </tr>\n    <tr>\n      <th>332</th>\n      <td>極まれリ</td>\n      <td>2018-07-25</td>\n      <td>NaN</td>\n      <td>NaN</td>\n      <td>NaN</td>\n      <td>NaN</td>\n      <td>NaN</td>\n      <td>NaN</td>\n      <td>NaN</td>\n      <td>NaN</td>\n      <td>NaN</td>\n      <td>NaN</td>\n      <td>NaN</td>\n      <td>NaN</td>\n      <td>NaN</td>\n      <td>NaN</td>\n      <td>10.0</td>\n      <td>86.0</td>\n    </tr>\n    <tr>\n      <th>333</th>\n      <td>或る修道士の告解</td>\n      <td>2018-07-25</td>\n      <td>NaN</td>\n      <td>NaN</td>\n      <td>NaN</td>\n      <td>NaN</td>\n      <td>NaN</td>\n      <td>NaN</td>\n      <td>NaN</td>\n      <td>NaN</td>\n      <td>NaN</td>\n      <td>NaN</td>\n      <td>NaN</td>\n      <td>NaN</td>\n      <td>NaN</td>\n      <td>NaN</td>\n      <td>20.0</td>\n      <td>32.0</td>\n    </tr>\n    <tr>\n      <th>334</th>\n      <td>タンゴ ダタ</td>\n      <td>2018-07-25</td>\n      <td>NaN</td>\n      <td>NaN</td>\n      <td>NaN</td>\n      <td>NaN</td>\n      <td>NaN</td>\n      <td>NaN</td>\n      <td>NaN</td>\n      <td>NaN</td>\n      <td>NaN</td>\n      <td>NaN</td>\n      <td>NaN</td>\n      <td>NaN</td>\n      <td>NaN</td>\n      <td>NaN</td>\n      <td>35.0</td>\n      <td>133.0</td>\n    </tr>\n    <tr>\n      <th>336</th>\n      <td>魅惑劇</td>\n      <td>2018-07-25</td>\n      <td>NaN</td>\n      <td>NaN</td>\n      <td>NaN</td>\n      <td>NaN</td>\n      <td>NaN</td>\n      <td>NaN</td>\n      <td>NaN</td>\n      <td>NaN</td>\n      <td>NaN</td>\n      <td>NaN</td>\n      <td>NaN</td>\n      <td>NaN</td>\n      <td>NaN</td>\n      <td>NaN</td>\n      <td>11.0</td>\n      <td>25.0</td>\n    </tr>\n  </tbody>\n</table>\n<p>63 rows × 18 columns</p>\n</div>",
      "text/plain": "            title       date  r2005  r2006#1  r2006#2  r2007  r2008  r2009  \\\nno                                                                           \n27       エスカルゴ嬉遊曲 1994-01-19    NaN      NaN      NaN   56.0   66.0   91.0   \n38            冬物語 1995-12-06    NaN      NaN      NaN  135.0  128.0  135.0   \n40   ストロベリーパイをお食べ 1995-12-06    NaN      NaN      NaN   68.0   63.0   74.0   \n96         schism 2002-07-24    NaN      NaN      NaN   46.0   74.0   71.0   \n98        時の森のソワレ 2002-07-24   17.0      NaN      NaN   66.0   88.0   86.0   \n..            ...        ...    ...      ...      ...    ...    ...    ...   \n331            青空 2018-07-25    NaN      NaN      NaN    NaN    NaN    NaN   \n332          極まれリ 2018-07-25    NaN      NaN      NaN    NaN    NaN    NaN   \n333      或る修道士の告解 2018-07-25    NaN      NaN      NaN    NaN    NaN    NaN   \n334        タンゴ ダタ 2018-07-25    NaN      NaN      NaN    NaN    NaN    NaN   \n336           魅惑劇 2018-07-25    NaN      NaN      NaN    NaN    NaN    NaN   \n\n     r2010  r2011  r2012  r2013  r2014  r2015  r2016  r2017  r2018  r2019  \nno                                                                         \n27   109.0  155.0  194.0  161.0  188.0  215.0  216.0  213.0  200.0  226.0  \n38   155.0  158.0  150.0  155.0  130.0  200.0   84.0  108.0  103.0  226.0  \n40    81.0   89.0  127.0   82.0  150.0  115.0  136.0  118.0  151.0  226.0  \n96   104.0   97.0  104.0   93.0   76.0  189.0  115.0   59.0   57.0  226.0  \n98    85.0   84.0   94.0  123.0  109.0  106.0  138.0  146.0  136.0  159.0  \n..     ...    ...    ...    ...    ...    ...    ...    ...    ...    ...  \n331    NaN    NaN    NaN    NaN    NaN    NaN    NaN    NaN    6.0   24.0  \n332    NaN    NaN    NaN    NaN    NaN    NaN    NaN    NaN   10.0   86.0  \n333    NaN    NaN    NaN    NaN    NaN    NaN    NaN    NaN   20.0   32.0  \n334    NaN    NaN    NaN    NaN    NaN    NaN    NaN    NaN   35.0  133.0  \n336    NaN    NaN    NaN    NaN    NaN    NaN    NaN    NaN   11.0   25.0  \n\n[63 rows x 18 columns]"
     },
     "execution_count": 279,
     "metadata": {},
     "output_type": "execute_result"
    }
   ],
   "source": [
    "target[(target.lowest == target_recent) & (target_recent != lowest[RECENT])].query('initial != @RECENT')[['title', 'date', *RANK_ALL]]"
   ]
  },
  {
   "cell_type": "code",
   "execution_count": 280,
   "metadata": {},
   "outputs": [
    {
     "name": "stdout",
     "output_type": "stream",
     "text": "曲名|発表年|順位|過去最低|曲名|発表年|順位|過去最低\n---|---:|---:|---:|---|---:|---:|---:\nエスカルゴ嬉遊曲|1994|226|216|黒百合隠密カゲキダン|2013|116|103\n時の森のソワレ|2002|159|146|赤い蝋燭と金魚|2014|179|117\n百合と夜鶯|2005|192|175|海賊皇女|2014|226|225\n神の雪|2005|192|144|形而上的な、蝶になる|2014|170|141\nIn The World|2006|226|219|遊蝶花ワルツ|2015|226|221\n名なしの森|2007|226|219|Tico Tico no Fubá|2015|179|120\nCYBER DEVILS|2007|226|218|BAR酔芙蓉へどうぞ|2015|192|167\n鬼帝の剣|2008|125|102|緋ノ糸輪廻ノGEMINI|2015|166|147\n吾君想う故に吾在り生き霊となりて|2009|226|201|まだら恋椿外道|2016|22|9\nHell's Maria|2009|192|179|卑弥呼外伝|2017|18|12\n処女懐胎、あるいは白骨塔より少女達は飛翔する|2009|151|109|少女蜜葬 ～Le sang et le miel|2017|94|76\n百合の日々は追憶の中に潜み薫る|2010|226|202|芸術変態論|2018|6|1\n亂世エロイカ|2010|133|111|眼球ロマン|2018|170|107\n平成日本残酷物語|2010|137|126|青空|2018|24|6\n真偽贋物遊覧会|2012|226|219|魅惑劇|2018|25|11\n少女と水蜜桃|2013|90|70\n"
    }
   ],
   "source": [
    "col = 2\n",
    "tmp = _.query('title not in @le')\n",
    "size = int(pandas.np.ceil(len(tmp) / col))\n",
    "l = [[] for __ in range(size)]\n",
    "for idx in range(len(tmp)):\n",
    "    l[idx % size] += [f'{tmp.title.iat[idx]}|{tmp.date.iat[idx].year}|{int(tmp[RECENT].iat[idx])}|{int(tmp[RANK_BEFORE].max(1).iat[idx])}']\n",
    "\n",
    "print('|'.join(['曲名|発表年|順位|過去最低'] * col))\n",
    "print('|'.join(['---|---:|---:|---:'] * col))\n",
    "for line in l:\n",
    "    print('|'.join(line))"
   ]
  },
  {
   "cell_type": "markdown",
   "metadata": {},
   "outputs": [],
   "source": [
    "### diff"
   ]
  },
  {
   "cell_type": "code",
   "execution_count": 281,
   "metadata": {},
   "outputs": [
    {
     "ename": "NameError",
     "evalue": "name 'diff' is not defined",
     "output_type": "error",
     "traceback": [
      "\u001b[1;31m---------------------------------------------------------------------------\u001b[0m",
      "\u001b[1;31mNameError\u001b[0m                                 Traceback (most recent call last)",
      "\u001b[1;32m<ipython-input-281-7be5b8377d7d>\u001b[0m in \u001b[0;36m<module>\u001b[1;34m\u001b[0m\n\u001b[1;32m----> 1\u001b[1;33m \u001b[0mdiff\u001b[0m \u001b[1;33m=\u001b[0m \u001b[0mtarget\u001b[0m\u001b[1;33m.\u001b[0m\u001b[0mquery\u001b[0m\u001b[1;33m(\u001b[0m\u001b[1;34m'initial != @RECENT'\u001b[0m\u001b[1;33m)\u001b[0m\u001b[1;33m.\u001b[0m\u001b[0massign\u001b[0m\u001b[1;33m(\u001b[0m\u001b[0mdiff\u001b[0m\u001b[1;33m=\u001b[0m\u001b[0mdiff\u001b[0m\u001b[1;33m[\u001b[0m\u001b[0mBEFORE\u001b[0m\u001b[1;33m]\u001b[0m \u001b[1;33m-\u001b[0m \u001b[0mdiff\u001b[0m\u001b[1;33m[\u001b[0m\u001b[0mRECENT\u001b[0m\u001b[1;33m]\u001b[0m\u001b[1;33m)\u001b[0m\u001b[1;33m\u001b[0m\u001b[1;33m\u001b[0m\u001b[0m\n\u001b[0m",
      "\u001b[1;31mNameError\u001b[0m: name 'diff' is not defined"
     ]
    }
   ],
   "source": [
    "diff = target.query('initial != @RECENT').assign(diff=diff[BEFORE] - diff[RECENT])"
   ]
  },
  {
   "cell_type": "markdown",
   "metadata": {},
   "outputs": [],
   "source": [
    "### up"
   ]
  },
  {
   "cell_type": "code",
   "execution_count": 0,
   "metadata": {},
   "outputs": [],
   "source": [
    "diff.sort_values('diff', ascending=False)[['title', 'date', RECENT, 'diff']].head(10)"
   ]
  },
  {
   "cell_type": "code",
   "execution_count": 0,
   "metadata": {},
   "outputs": [],
   "source": [
    "print('曲名|発表年|順位|差')\n",
    "print('---|---:|---:|---:')\n",
    "for no in _.index:\n",
    "    print(f'{_.title.at[no]}|{_.date.at[no].year}|{int(_[RECENT].at[no])}|{int(_.at[no, \"diff\"])}')"
   ]
  },
  {
   "cell_type": "markdown",
   "metadata": {},
   "outputs": [],
   "source": [
    "### down"
   ]
  },
  {
   "cell_type": "code",
   "execution_count": 0,
   "metadata": {},
   "outputs": [],
   "source": [
    "diff.sort_values('diff')[['title', 'date', RECENT, 'diff']].head(10)"
   ]
  },
  {
   "cell_type": "code",
   "execution_count": 0,
   "metadata": {},
   "outputs": [],
   "source": [
    "print('曲名|発表年|順位|差')\n",
    "print('---|---:|---:|---:')\n",
    "for no in _.index:\n",
    "    print(f'{_.title.at[no]}|{_.date.at[no].year}|{int(_[RECENT].at[no])}|{int(_.at[no, \"diff\"])}')"
   ]
  },
  {
   "cell_type": "markdown",
   "metadata": {},
   "outputs": [],
   "source": [
    "### top average works\n",
    "#### S"
   ]
  },
  {
   "cell_type": "code",
   "execution_count": 0,
   "metadata": {},
   "outputs": [],
   "source": [
    "dfw.query('kind == \"S\"').sort_values(f'{RECENT}_average')"
   ]
  },
  {
   "cell_type": "markdown",
   "metadata": {},
   "outputs": [],
   "source": [
    "#### OA, SA, CA"
   ]
  },
  {
   "cell_type": "code",
   "execution_count": 0,
   "metadata": {},
   "outputs": [],
   "source": [
    "dfw.query('kind ==\"OA\"').sort_values(f'{RECENT}_average')[['title', 'date', f'{BEFORE}_average', f'{RECENT}_average']]"
   ]
  },
  {
   "cell_type": "code",
   "execution_count": 0,
   "metadata": {},
   "outputs": [],
   "source": [
    "print('\\\\#|タイトル|発売年|平均|前年平均')\n",
    "print('---:|---|---:|---:|---:')\n",
    "for idx in range(len(_)):\n",
    "    print(f'{idx+1}|{_.title.iat[idx]}|{_.date.iat[idx].year}|{_[f\"{RECENT}_average\"].iat[idx]:.3f}|{_[f\"{BEFORE}_average\"].iat[idx]:.3f}')"
   ]
  },
  {
   "cell_type": "code",
   "execution_count": 0,
   "metadata": {},
   "outputs": [],
   "source": [
    "dfw.query('kind ==\"SA\"').sort_values(f'{RECENT}_average')[['title', 'date', f'{BEFORE}_average', f'{RECENT}_average']]"
   ]
  },
  {
   "cell_type": "code",
   "execution_count": 0,
   "metadata": {},
   "outputs": [],
   "source": [
    "print('\\\\#|タイトル|発売年|平均|前年平均')\n",
    "print('---:|---|---:|---:|---:')\n",
    "for idx in range(len(_)):\n",
    "    print(f'{idx+1}|{_.title.iat[idx]}|{_.date.iat[idx].year}|{_[f\"{RECENT}_average\"].iat[idx]:.3f}|{_[f\"{BEFORE}_average\"].iat[idx]:.3f}')"
   ]
  },
  {
   "cell_type": "code",
   "execution_count": 0,
   "metadata": {},
   "outputs": [],
   "source": [
    "dfw.query('kind ==\"CA\"').sort_values(f'{RECENT}_average')[['title', 'date', f'{BEFORE}_average', f'{RECENT}_average']]"
   ]
  },
  {
   "cell_type": "code",
   "execution_count": 0,
   "metadata": {},
   "outputs": [],
   "source": [
    "print('\\\\#|タイトル|発売年|平均|前年平均')\n",
    "print('---:|---|---:|---:|---:')\n",
    "for idx in range(len(_)):\n",
    "    print(f'{idx+1}|{_.title.iat[idx]}|{_.date.iat[idx].year}|{_[f\"{RECENT}_average\"].iat[idx]:.3f}|{_[f\"{BEFORE}_average\"].iat[idx]:.3f}')"
   ]
  },
  {
   "cell_type": "markdown",
   "metadata": {},
   "outputs": [],
   "source": [
    "#### I voted"
   ]
  },
  {
   "cell_type": "code",
   "execution_count": 0,
   "metadata": {},
   "outputs": [],
   "source": [
    "my = ['ナルシス・ノワール', '月蝕グランギニョル', '少女殉血', '未來のイヴ', '地獄の季節', '熱帯性植物園', '遊月恋歌', '戦争と平和', '暗黒天国', '胡蝶夢心中', '六道輪廻サバイバル', '魅惑劇']\n",
    "voted = target.query('title in @my').assign(pt=1)\n",
    "\n",
    "for no in voted.index:\n",
    "    t = voted.title.at[no]\n",
    "    if my.index(t) == 0:\n",
    "        voted.pt.at[no] = 3\n",
    "    elif my.index(t) in [1, 2, 3]:\n",
    "        voted.pt.at[no] = 2\n",
    "\n",
    "voted"
   ]
  },
  {
   "cell_type": "code",
   "execution_count": 0,
   "metadata": {},
   "outputs": [],
   "source": [
    "print('pt|曲名|発表年|順位|前回')\n",
    "print('---:|---|---:|---:|--:')\n",
    "for no in voted.sort_values('pt', ascending=False).index:\n",
    "    print(f'{voted.pt.at[no]}|{voted.title.at[no]}|{voted.date.at[no].year}|{int(voted.at[no, RECENT])}|{int(voted.at[no, BEFORE])}')"
   ]
  },
  {
   "cell_type": "markdown",
   "metadata": {},
   "outputs": [],
   "source": [
    "# URA ranking"
   ]
  },
  {
   "cell_type": "code",
   "execution_count": 0,
   "metadata": {},
   "outputs": [],
   "source": [
    "# ura ranking\n",
    "ura = df[df[URA] > 100][COLUMNS]\n",
    "ura['rank_average'] = ura.average.rank(method='min', na_option='bottom')\n",
    "ura['rank_average_exclude_debut'] = ura.average_exclude_debut.rank(method='min', na_option='bottom')\n",
    "ura['rank_highest'] = ura.highest.rank(method='min', na_option='bottom')\n",
    "ura['rank_highest_exclude_debut'] = ura.highest_exclude_debut.rank(method='min', na_option='bottom')\n",
    "\n",
    "ura.head()"
   ]
  },
  {
   "cell_type": "code",
   "execution_count": 0,
   "metadata": {},
   "outputs": [],
   "source": [
    "col = 4\n",
    "length = len(ura)\n",
    "row = int(pandas.np.ceil(length/col))\n",
    "\n",
    "a = [[] for _ in range(col)]\n",
    "c = 0\n",
    "for no in ura.index:\n",
    "    a[int(c // row)] += [ura.title.at[no]]\n",
    "    c += 1\n",
    "\n",
    "for i in range(row):\n",
    "    print('|'.join([a[j][i] if j * row + (i + 1) <= length else '' for j in range(col)]))"
   ]
  },
  {
   "cell_type": "code",
   "execution_count": 0,
   "metadata": {},
   "outputs": [],
   "source": [
    "average_top = ura.sort_values(['rank_average_exclude_debut', 'date'], ascending=[True, True]) \\\n",
    "                 .query('average_exclude_debut <= 100') \\\n",
    "                 [['title', 'rank_average_exclude_debut', 'average_exclude_debut', 'date']].astype({'rank_average_exclude_debut': int})\n",
    "\n",
    "average_top"
   ]
  },
  {
   "cell_type": "code",
   "execution_count": 0,
   "metadata": {},
   "outputs": [],
   "source": [
    "for no in average_top.index:\n",
    "    print(f'{average_top.rank_average_exclude_debut.at[no]}|{average_top.title.at[no]}|{average_top.average_exclude_debut.at[no]:.2f}')"
   ]
  },
  {
   "cell_type": "code",
   "execution_count": 0,
   "metadata": {},
   "outputs": [],
   "source": [
    "highest_top = ura.sort_values(['rank_highest_exclude_debut', 'date'], ascending=[True, True]) \\\n",
    "                 .query('highest_exclude_debut <= 50') \\\n",
    "                 [['title', 'rank_highest_exclude_debut', 'highest_exclude_debut', 'highest', 'date']].astype({'rank_highest_exclude_debut': int, 'highest_exclude_debut': int, 'highest': int})\n",
    "\n",
    "highest_top"
   ]
  },
  {
   "cell_type": "code",
   "execution_count": 0,
   "metadata": {},
   "outputs": [],
   "source": [
    "tmp = ura.loc[:, :]\n",
    "tmp['under100_mean'] = tmp.under100 / tmp.count_all\n",
    "tmp.sort_values(['under100_mean', 'date'], ascending=[False, True]) \\\n",
    "   .query('under100_mean >= 0.8') \\\n",
    "   [['title', 'under100', 'under100_mean', 'date']]"
   ]
  },
  {
   "cell_type": "code",
   "execution_count": 0,
   "metadata": {},
   "outputs": [],
   "source": [
    "# 未投票\n",
    "zero = ['日曜日のシエスタ', 'La vie en rose', 'Féliciter', 'Nocturnal', '寶島', '逢魔蛾城の伯爵', '小夜すみれ ～ある夜の森の小さなお話', '魂ノ代']\n",
    "ura.query('title in @zero')"
   ]
  },
  {
   "cell_type": "code",
   "execution_count": 0,
   "metadata": {},
   "outputs": [],
   "source": [
    "ura[ura.kind.apply(lambda k: 'S-1' in k or 'S-2' in k)]"
   ]
  },
  {
   "cell_type": "code",
   "execution_count": 0,
   "metadata": {},
   "outputs": [],
   "source": [
    "# ura_list[(160 <= ura_list[2018]) & (ura_list[2018] <= 210)]"
   ]
  },
  {
   "cell_type": "code",
   "execution_count": 0,
   "metadata": {},
   "outputs": [],
   "source": [
    "# len(_)"
   ]
  },
  {
   "cell_type": "code",
   "execution_count": 0,
   "metadata": {},
   "outputs": [],
   "source": [
    "my_before = ['桜の花は狂い咲き', '乙女の祈り', 'Rose Moon', '少女貴族', '熱帯性植物園', '遊月恋歌', '少女殉血', 'Animals on the Earth', '四神獣飼殺し', 'ALICE同罪イノセント', '陸と海と空と', '緋ノ糸輪廻ノGEMINI']\n",
    "ura.query('title in @my_before')"
   ]
  },
  {
   "cell_type": "code",
   "execution_count": 0,
   "metadata": {},
   "outputs": [],
   "source": [
    "ura.title.values"
   ]
  },
  {
   "cell_type": "code",
   "execution_count": 0,
   "metadata": {},
   "outputs": [],
   "source": [
    "my = ['桜の花は狂い咲き', \"Nous Deux C'est Pour La Vie\", '月夜のピエレット', '神風', 'Animals on the Earth', '絶國TEMPEST', '四神獣飼殺し', 'La vérité', '真夏の憂愁夫人', '令嬢薔薇図鑑', '陸と海と空と', '緋ノ糸輪廻ノGEMINI']\n",
    "ura.query('title in @my')"
   ]
  },
  {
   "cell_type": "code",
   "execution_count": 0,
   "metadata": {},
   "outputs": [],
   "source": [
    "# for idx, i in enumerate(map(lambda line: f'<p>{line}</p>', ura_list.title)):\n",
    "#     print(i, end='')\n",
    "#     if idx % 50 == 49:\n",
    "#         print()"
   ]
  },
  {
   "cell_type": "code",
   "execution_count": 0,
   "metadata": {},
   "outputs": [],
   "source": [
    "# for idx, i in enumerate(map(lambda line: f'<li>{line}</li>', ura_list.title)):\n",
    "#     print(i, end='')\n",
    "#     if idx % 100 == 99:\n",
    "#         print()"
   ]
  }
 ],
 "metadata": {
  "kernelspec": {
   "display_name": "Python 3.7.5 64-bit ('base': conda)",
   "language": "python",
   "name": "python37564bitbaseconda84b908cfa2d046f198be5dde01f2ef3c"
  },
  "language_info": {
   "codemirror_mode": {
    "name": "ipython",
    "version": 3
   },
   "file_extension": ".py",
   "mimetype": "text/x-python",
   "name": "python",
   "nbconvert_exporter": "python",
   "pygments_lexer": "ipython3",
   "version": "3.7.5-final"
  }
 },
 "nbformat": 4,
 "nbformat_minor": 2
}