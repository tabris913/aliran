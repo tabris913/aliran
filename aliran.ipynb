{
 "cells": [
  {
   "cell_type": "code",
   "execution_count": 1,
   "metadata": {},
   "outputs": [],
   "source": [
    "# import \n",
    "import json\n",
    "import sys\n",
    "\n",
    "import pandas"
   ]
  },
  {
   "cell_type": "code",
   "execution_count": 295,
   "metadata": {},
   "outputs": [],
   "source": [
    "# setting\n",
    "## file name\n",
    "FILENAME = './summary.json'\n",
    "COLUMNS = [\n",
    "    'title', 'date', 'initial', 'kind', # '2019u',\n",
    "    '2007', '2008', '2009', '2010', '2011', '2012', '2013', '2014', '2015', '2016', '2017', '2018', '2019',\n",
    "    'average_all', 'average', 'average_exclude_debut', 'highest', 'highest_exclude_debut',\n",
    "    'over30', 'over50', 'over100', 'over200', 'under30', 'under50', 'under100', 'under200', 'count_all', 'count'\n",
    "]\n",
    "URA = '2019'\n",
    "RANK_ALL = ['2005', '2006#1', '2006#2', '2007', '2008', '2009', '2010', '2011', '2012', '2013', '2014', '2015', '2016', '2017', '2018', '2019']\n",
    "RANK = RANK_ALL[3:]\n",
    "\n",
    "def year_filter(value: str, initial: str, array: list, mode: str = 'ge'):\n",
    "    if mode not in ['gt', 'ge']:\n",
    "        raise ValueError(f'invalid mode: {mode}')\n",
    "    if value in array and initial in array:\n",
    "        if mode == 'ge':\n",
    "            return array.index(value) >= array.index(initial)\n",
    "        else:\n",
    "            return array.index(value) > array.index(initial)\n",
    "    elif value in array:\n",
    "        return True\n",
    "    else:\n",
    "        return False"
   ]
  },
  {
   "cell_type": "code",
   "execution_count": 233,
   "metadata": {},
   "outputs": [],
   "source": [
    "# read json\n",
    "with open(FILENAME, encoding='utf8') as summary_file:\n",
    "    summary = json.load(summary_file)"
   ]
  },
  {
   "cell_type": "code",
   "execution_count": 285,
   "metadata": {},
   "outputs": [
    {
     "data": {
      "text/html": "<div>\n<style scoped>\n    .dataframe tbody tr th:only-of-type {\n        vertical-align: middle;\n    }\n\n    .dataframe tbody tr th {\n        vertical-align: top;\n    }\n\n    .dataframe thead th {\n        text-align: right;\n    }\n</style>\n<table border=\"1\" class=\"dataframe\">\n  <thead>\n    <tr style=\"text-align: right;\">\n      <th></th>\n      <th>title</th>\n      <th>ruby</th>\n      <th>inst</th>\n      <th>hall_of_fame</th>\n      <th>works</th>\n      <th>debut</th>\n      <th>date</th>\n      <th>2019u</th>\n      <th>initial</th>\n      <th>kind</th>\n      <th>...</th>\n      <th>2011</th>\n      <th>2012</th>\n      <th>2013</th>\n      <th>2014</th>\n      <th>2015</th>\n      <th>2016</th>\n      <th>2017</th>\n      <th>2018</th>\n      <th>2019</th>\n      <th>average_all</th>\n    </tr>\n    <tr>\n      <th>no</th>\n      <th></th>\n      <th></th>\n      <th></th>\n      <th></th>\n      <th></th>\n      <th></th>\n      <th></th>\n      <th></th>\n      <th></th>\n      <th></th>\n      <th></th>\n      <th></th>\n      <th></th>\n      <th></th>\n      <th></th>\n      <th></th>\n      <th></th>\n      <th></th>\n      <th></th>\n      <th></th>\n      <th></th>\n    </tr>\n  </thead>\n  <tbody>\n    <tr>\n      <th>1</th>\n      <td>桜の花は狂い咲き</td>\n      <td>None</td>\n      <td>False</td>\n      <td>False</td>\n      <td>[SOME GIRLS -REBEL STREEL IV (桜の花は乱れ咲き), CLASS...</td>\n      <td>SOME GIRLS -REBEL STREEL IV</td>\n      <td>1997-04-25</td>\n      <td>64.0</td>\n      <td>2005</td>\n      <td>[SA, OA, OT]</td>\n      <td>...</td>\n      <td>96.0</td>\n      <td>123.0</td>\n      <td>68.0</td>\n      <td>169.0</td>\n      <td>165.0</td>\n      <td>100.0</td>\n      <td>134.0</td>\n      <td>164.0</td>\n      <td>123.0</td>\n      <td>121.462</td>\n    </tr>\n    <tr>\n      <th>2</th>\n      <td>青蛾月</td>\n      <td>None</td>\n      <td>False</td>\n      <td>False</td>\n      <td>[幻想庭園, étoiles (SEIGAGETSU)]</td>\n      <td>幻想庭園</td>\n      <td>1988-01-25</td>\n      <td>22.0</td>\n      <td>2005</td>\n      <td>[SA, OA]</td>\n      <td>...</td>\n      <td>72.0</td>\n      <td>57.0</td>\n      <td>54.0</td>\n      <td>87.0</td>\n      <td>81.0</td>\n      <td>59.0</td>\n      <td>146.0</td>\n      <td>126.0</td>\n      <td>54.0</td>\n      <td>80.923</td>\n    </tr>\n    <tr>\n      <th>3</th>\n      <td>マリーゴールド・ガーデン</td>\n      <td>None</td>\n      <td>False</td>\n      <td>False</td>\n      <td>[幻想庭園, フラワーチャイルド, 神々の黄昏]</td>\n      <td>幻想庭園</td>\n      <td>1988-01-25</td>\n      <td>128.0</td>\n      <td>2005</td>\n      <td>[SA, OA, S-2]</td>\n      <td>...</td>\n      <td>175.0</td>\n      <td>141.0</td>\n      <td>218.0</td>\n      <td>141.0</td>\n      <td>238.0</td>\n      <td>190.0</td>\n      <td>155.0</td>\n      <td>164.0</td>\n      <td>216.0</td>\n      <td>171.769</td>\n    </tr>\n    <tr>\n      <th>4</th>\n      <td>鏡面界 im Juni</td>\n      <td>きょうめんかい・イン・ジュニ</td>\n      <td>False</td>\n      <td>False</td>\n      <td>[幻想庭園]</td>\n      <td>幻想庭園</td>\n      <td>1988-01-25</td>\n      <td>150.0</td>\n      <td>2005</td>\n      <td>[OA]</td>\n      <td>...</td>\n      <td>204.0</td>\n      <td>131.0</td>\n      <td>174.0</td>\n      <td>194.0</td>\n      <td>253.0</td>\n      <td>244.0</td>\n      <td>202.0</td>\n      <td>250.0</td>\n      <td>260.0</td>\n      <td>201.077</td>\n    </tr>\n    <tr>\n      <th>5</th>\n      <td>アンジェ・ノワールの祭戯</td>\n      <td>None</td>\n      <td>False</td>\n      <td>False</td>\n      <td>[幻想庭園, 神々の黄昏]</td>\n      <td>幻想庭園</td>\n      <td>1988-01-25</td>\n      <td>NaN</td>\n      <td>2005</td>\n      <td>[SA, OA]</td>\n      <td>...</td>\n      <td>81.0</td>\n      <td>96.0</td>\n      <td>150.0</td>\n      <td>106.0</td>\n      <td>156.0</td>\n      <td>244.0</td>\n      <td>187.0</td>\n      <td>63.0</td>\n      <td>106.0</td>\n      <td>125.615</td>\n    </tr>\n  </tbody>\n</table>\n<p>5 rows × 27 columns</p>\n</div>",
      "text/plain": "           title            ruby   inst  hall_of_fame  \\\nno                                                      \n1       桜の花は狂い咲き            None  False         False   \n2            青蛾月            None  False         False   \n3   マリーゴールド・ガーデン            None  False         False   \n4    鏡面界 im Juni  きょうめんかい・イン・ジュニ  False         False   \n5   アンジェ・ノワールの祭戯            None  False         False   \n\n                                                works  \\\nno                                                      \n1   [SOME GIRLS -REBEL STREEL IV (桜の花は乱れ咲き), CLASS...   \n2                        [幻想庭園, étoiles (SEIGAGETSU)]   \n3                            [幻想庭園, フラワーチャイルド, 神々の黄昏]   \n4                                              [幻想庭園]   \n5                                       [幻想庭園, 神々の黄昏]   \n\n                          debut       date  2019u initial           kind  ...  \\\nno                                                                        ...   \n1   SOME GIRLS -REBEL STREEL IV 1997-04-25   64.0    2005   [SA, OA, OT]  ...   \n2                          幻想庭園 1988-01-25   22.0    2005       [SA, OA]  ...   \n3                          幻想庭園 1988-01-25  128.0    2005  [SA, OA, S-2]  ...   \n4                          幻想庭園 1988-01-25  150.0    2005           [OA]  ...   \n5                          幻想庭園 1988-01-25    NaN    2005       [SA, OA]  ...   \n\n     2011   2012   2013   2014   2015   2016   2017   2018   2019  average_all  \nno                                                                              \n1    96.0  123.0   68.0  169.0  165.0  100.0  134.0  164.0  123.0      121.462  \n2    72.0   57.0   54.0   87.0   81.0   59.0  146.0  126.0   54.0       80.923  \n3   175.0  141.0  218.0  141.0  238.0  190.0  155.0  164.0  216.0      171.769  \n4   204.0  131.0  174.0  194.0  253.0  244.0  202.0  250.0  260.0      201.077  \n5    81.0   96.0  150.0  106.0  156.0  244.0  187.0   63.0  106.0      125.615  \n\n[5 rows x 27 columns]"
     },
     "execution_count": 285,
     "metadata": {},
     "output_type": "execute_result"
    }
   ],
   "source": [
    "# make main dataframe\n",
    "df = pandas.DataFrame(summary)\n",
    "df.index = df.no\n",
    "df['average_all'] = df.average\n",
    "df = df.drop(columns=['no', 'average'], axis=0)\n",
    "df.date = pandas.to_datetime(df.date)\n",
    "df.head()"
   ]
  },
  {
   "cell_type": "markdown",
   "execution_count": null,
   "metadata": {},
   "outputs": [],
   "source": [
    "* average  \n",
    "平均順位  \n",
    "注) データが揃っている2007年以降\n",
    "* average_exclude_debut  \n",
    "デビュー年以外の平均順位\n",
    "* highest  \n",
    "最高順位\n",
    "* highest_exclude_debut  \n",
    "デビュー年以外の最高順位\n",
    "* over30  \n",
    "30位を超えた回数\n",
    "* over50  \n",
    "50位を超えた回数\n",
    "* over100  \n",
    "100位を超えた回数\n",
    "* over200  \n",
    "200いを超えた回数\n",
    "* count_all  \n",
    "登場回数\n",
    "* count  \n",
    "データが揃っている登場回数"
   ]
  },
  {
   "cell_type": "code",
   "execution_count": 296,
   "metadata": {},
   "outputs": [
    {
     "data": {
      "text/html": "<div>\n<style scoped>\n    .dataframe tbody tr th:only-of-type {\n        vertical-align: middle;\n    }\n\n    .dataframe tbody tr th {\n        vertical-align: top;\n    }\n\n    .dataframe thead th {\n        text-align: right;\n    }\n</style>\n<table border=\"1\" class=\"dataframe\">\n  <thead>\n    <tr style=\"text-align: right;\">\n      <th></th>\n      <th>title</th>\n      <th>ruby</th>\n      <th>inst</th>\n      <th>hall_of_fame</th>\n      <th>works</th>\n      <th>debut</th>\n      <th>date</th>\n      <th>2019u</th>\n      <th>initial</th>\n      <th>kind</th>\n      <th>...</th>\n      <th>over30</th>\n      <th>over50</th>\n      <th>over100</th>\n      <th>over200</th>\n      <th>under30</th>\n      <th>under50</th>\n      <th>under100</th>\n      <th>under200</th>\n      <th>count_all</th>\n      <th>count</th>\n    </tr>\n    <tr>\n      <th>no</th>\n      <th></th>\n      <th></th>\n      <th></th>\n      <th></th>\n      <th></th>\n      <th></th>\n      <th></th>\n      <th></th>\n      <th></th>\n      <th></th>\n      <th></th>\n      <th></th>\n      <th></th>\n      <th></th>\n      <th></th>\n      <th></th>\n      <th></th>\n      <th></th>\n      <th></th>\n      <th></th>\n      <th></th>\n    </tr>\n  </thead>\n  <tbody>\n    <tr>\n      <th>1</th>\n      <td>桜の花は狂い咲き</td>\n      <td>None</td>\n      <td>False</td>\n      <td>False</td>\n      <td>[SOME GIRLS -REBEL STREEL IV (桜の花は乱れ咲き), CLASS...</td>\n      <td>SOME GIRLS -REBEL STREEL IV</td>\n      <td>1997-04-25</td>\n      <td>64.0</td>\n      <td>2005</td>\n      <td>[SA, OA, OT]</td>\n      <td>...</td>\n      <td>13</td>\n      <td>13</td>\n      <td>9</td>\n      <td>0</td>\n      <td>0</td>\n      <td>0</td>\n      <td>4</td>\n      <td>13</td>\n      <td>16</td>\n      <td>13</td>\n    </tr>\n    <tr>\n      <th>2</th>\n      <td>青蛾月</td>\n      <td>None</td>\n      <td>False</td>\n      <td>False</td>\n      <td>[幻想庭園, étoiles (SEIGAGETSU)]</td>\n      <td>幻想庭園</td>\n      <td>1988-01-25</td>\n      <td>22.0</td>\n      <td>2005</td>\n      <td>[SA, OA]</td>\n      <td>...</td>\n      <td>13</td>\n      <td>13</td>\n      <td>2</td>\n      <td>0</td>\n      <td>0</td>\n      <td>0</td>\n      <td>11</td>\n      <td>13</td>\n      <td>16</td>\n      <td>13</td>\n    </tr>\n    <tr>\n      <th>3</th>\n      <td>マリーゴールド・ガーデン</td>\n      <td>None</td>\n      <td>False</td>\n      <td>False</td>\n      <td>[幻想庭園, フラワーチャイルド, 神々の黄昏]</td>\n      <td>幻想庭園</td>\n      <td>1988-01-25</td>\n      <td>128.0</td>\n      <td>2005</td>\n      <td>[SA, OA, S-2]</td>\n      <td>...</td>\n      <td>13</td>\n      <td>13</td>\n      <td>13</td>\n      <td>3</td>\n      <td>0</td>\n      <td>0</td>\n      <td>0</td>\n      <td>10</td>\n      <td>16</td>\n      <td>13</td>\n    </tr>\n    <tr>\n      <th>4</th>\n      <td>鏡面界 im Juni</td>\n      <td>きょうめんかい・イン・ジュニ</td>\n      <td>False</td>\n      <td>False</td>\n      <td>[幻想庭園]</td>\n      <td>幻想庭園</td>\n      <td>1988-01-25</td>\n      <td>150.0</td>\n      <td>2005</td>\n      <td>[OA]</td>\n      <td>...</td>\n      <td>13</td>\n      <td>13</td>\n      <td>13</td>\n      <td>6</td>\n      <td>0</td>\n      <td>0</td>\n      <td>0</td>\n      <td>7</td>\n      <td>16</td>\n      <td>13</td>\n    </tr>\n    <tr>\n      <th>5</th>\n      <td>アンジェ・ノワールの祭戯</td>\n      <td>None</td>\n      <td>False</td>\n      <td>False</td>\n      <td>[幻想庭園, 神々の黄昏]</td>\n      <td>幻想庭園</td>\n      <td>1988-01-25</td>\n      <td>NaN</td>\n      <td>2005</td>\n      <td>[SA, OA]</td>\n      <td>...</td>\n      <td>13</td>\n      <td>13</td>\n      <td>9</td>\n      <td>1</td>\n      <td>0</td>\n      <td>0</td>\n      <td>4</td>\n      <td>12</td>\n      <td>16</td>\n      <td>13</td>\n    </tr>\n  </tbody>\n</table>\n<p>5 rows × 41 columns</p>\n</div>",
      "text/plain": "           title            ruby   inst  hall_of_fame  \\\nno                                                      \n1       桜の花は狂い咲き            None  False         False   \n2            青蛾月            None  False         False   \n3   マリーゴールド・ガーデン            None  False         False   \n4    鏡面界 im Juni  きょうめんかい・イン・ジュニ  False         False   \n5   アンジェ・ノワールの祭戯            None  False         False   \n\n                                                works  \\\nno                                                      \n1   [SOME GIRLS -REBEL STREEL IV (桜の花は乱れ咲き), CLASS...   \n2                        [幻想庭園, étoiles (SEIGAGETSU)]   \n3                            [幻想庭園, フラワーチャイルド, 神々の黄昏]   \n4                                              [幻想庭園]   \n5                                       [幻想庭園, 神々の黄昏]   \n\n                          debut       date  2019u initial           kind  ...  \\\nno                                                                        ...   \n1   SOME GIRLS -REBEL STREEL IV 1997-04-25   64.0    2005   [SA, OA, OT]  ...   \n2                          幻想庭園 1988-01-25   22.0    2005       [SA, OA]  ...   \n3                          幻想庭園 1988-01-25  128.0    2005  [SA, OA, S-2]  ...   \n4                          幻想庭園 1988-01-25  150.0    2005           [OA]  ...   \n5                          幻想庭園 1988-01-25    NaN    2005       [SA, OA]  ...   \n\n    over30  over50  over100  over200  under30  under50  under100  under200  \\\nno                                                                           \n1       13      13        9        0        0        0         4        13   \n2       13      13        2        0        0        0        11        13   \n3       13      13       13        3        0        0         0        10   \n4       13      13       13        6        0        0         0         7   \n5       13      13        9        1        0        0         4        12   \n\n    count_all  count  \nno                    \n1          16     13  \n2          16     13  \n3          16     13  \n4          16     13  \n5          16     13  \n\n[5 rows x 41 columns]"
     },
     "execution_count": 296,
     "metadata": {},
     "output_type": "execute_result"
    }
   ],
   "source": [
    "df['average'] = 0.\n",
    "df['average_exclude_debut'] = 0.\n",
    "df['highest'] = 0.\n",
    "df['highest_exclude_debut'] = 0.\n",
    "df['over30'] = 0\n",
    "df['over50'] = 0\n",
    "df['over100'] = 0\n",
    "df['over200'] = 0\n",
    "df['under30'] = 0\n",
    "df['under50'] = 0\n",
    "df['under100'] = 0\n",
    "df['under200'] = 0\n",
    "df['count_all'] = 0\n",
    "df['count'] = 0\n",
    "\n",
    "for no in df.index:\n",
    "    song = df.loc[no]\n",
    "    to_mean = list(filter(lambda y: year_filter(y, song.initial, RANK), RANK))\n",
    "    to_mean_exclude_debut = list(filter(lambda y: year_filter(y, song.initial, RANK, 'gt'), RANK))\n",
    "    df.at[no, 'average'] = song[to_mean].mean()\n",
    "    df.at[no, 'average_exclude_debut'] = song[to_mean_exclude_debut].mean()\n",
    "    df.at[no, 'highest_exclude_debut'] = song[to_mean_exclude_debut].min()\n",
    "    to_mean_all = list(filter(lambda y: year_filter(y, song.initial, RANK_ALL), RANK_ALL))\n",
    "    df.at[no, 'highest'] = song[to_mean_all].min()\n",
    "    df.at[no, 'over30'] = len(list(filter(lambda s: s > 30, song[to_mean_all].values)))\n",
    "    df.at[no, 'over50'] = len(list(filter(lambda s: s > 50, song[to_mean_all].values)))\n",
    "    df.at[no, 'over100'] = len(list(filter(lambda s: s > 100, song[to_mean_all].values)))\n",
    "    df.at[no, 'over200'] = len(list(filter(lambda s: s > 200, song[to_mean_all].values)))\n",
    "    df.at[no, 'under30'] = len(list(filter(lambda s: s <= 30, song[to_mean_all].values)))\n",
    "    df.at[no, 'under50'] = len(list(filter(lambda s: s <= 50, song[to_mean_all].values)))\n",
    "    df.at[no, 'under100'] = len(list(filter(lambda s: s <= 100, song[to_mean_all].values)))\n",
    "    df.at[no, 'under200'] = len(list(filter(lambda s: s <= 200, song[to_mean_all].values)))\n",
    "    df.at[no, 'count_all'] = len(to_mean_all)\n",
    "    df.at[no, 'count'] = len(to_mean)\n",
    "\n",
    "df.head()\n",
    "# df.iloc[145]"
   ]
  },
  {
   "cell_type": "markdown",
   "execution_count": null,
   "metadata": {},
   "outputs": [],
   "source": [
    "## Hall of Fame"
   ]
  },
  {
   "cell_type": "code",
   "execution_count": 267,
   "metadata": {},
   "outputs": [
    {
     "data": {
      "text/html": "<div>\n<style scoped>\n    .dataframe tbody tr th:only-of-type {\n        vertical-align: middle;\n    }\n\n    .dataframe tbody tr th {\n        vertical-align: top;\n    }\n\n    .dataframe thead th {\n        text-align: right;\n    }\n</style>\n<table border=\"1\" class=\"dataframe\">\n  <thead>\n    <tr style=\"text-align: right;\">\n      <th></th>\n      <th>title</th>\n      <th>ruby</th>\n      <th>inst</th>\n      <th>hall_of_fame</th>\n      <th>works</th>\n      <th>debut</th>\n      <th>date</th>\n      <th>2019u</th>\n      <th>initial</th>\n      <th>kind</th>\n      <th>...</th>\n      <th>over50</th>\n      <th>over100</th>\n      <th>over200</th>\n      <th>under30</th>\n      <th>under50</th>\n      <th>under100</th>\n      <th>under200</th>\n      <th>count_all</th>\n      <th>count</th>\n      <th>highest_all</th>\n    </tr>\n    <tr>\n      <th>no</th>\n      <th></th>\n      <th></th>\n      <th></th>\n      <th></th>\n      <th></th>\n      <th></th>\n      <th></th>\n      <th></th>\n      <th></th>\n      <th></th>\n      <th></th>\n      <th></th>\n      <th></th>\n      <th></th>\n      <th></th>\n      <th></th>\n      <th></th>\n      <th></th>\n      <th></th>\n      <th></th>\n      <th></th>\n    </tr>\n  </thead>\n  <tbody>\n    <tr>\n      <th>125</th>\n      <td>愛と誠</td>\n      <td>None</td>\n      <td>False</td>\n      <td>True</td>\n      <td>[Dilettante, Grand Finale, 愛と誠 ～YAMATO＆LOVE×××]</td>\n      <td>Dilettante</td>\n      <td>2005-06-22</td>\n      <td>NaN</td>\n      <td>2005</td>\n      <td>[SA, OA, CA]</td>\n      <td>...</td>\n      <td>0</td>\n      <td>0</td>\n      <td>0</td>\n      <td>10</td>\n      <td>10</td>\n      <td>10</td>\n      <td>10</td>\n      <td>16</td>\n      <td>13</td>\n      <td>1.0</td>\n    </tr>\n    <tr>\n      <th>143</th>\n      <td>亡國覚醒カタルシス</td>\n      <td>None</td>\n      <td>False</td>\n      <td>True</td>\n      <td>[亡國覚醒カタルシス, .hack//Roots O.S.T. (TV size), COL...</td>\n      <td>亡國覚醒カタルシス</td>\n      <td>2006-05-24</td>\n      <td>NaN</td>\n      <td>2006#2</td>\n      <td>[S-1, OT, ST, CA]</td>\n      <td>...</td>\n      <td>0</td>\n      <td>0</td>\n      <td>0</td>\n      <td>5</td>\n      <td>5</td>\n      <td>5</td>\n      <td>5</td>\n      <td>14</td>\n      <td>13</td>\n      <td>1.0</td>\n    </tr>\n    <tr>\n      <th>279</th>\n      <td>リュウコウセカイ</td>\n      <td>None</td>\n      <td>False</td>\n      <td>True</td>\n      <td>[流行世界]</td>\n      <td>流行世界</td>\n      <td>2014-08-27</td>\n      <td>NaN</td>\n      <td>2014</td>\n      <td>[OA]</td>\n      <td>...</td>\n      <td>0</td>\n      <td>0</td>\n      <td>0</td>\n      <td>3</td>\n      <td>3</td>\n      <td>3</td>\n      <td>3</td>\n      <td>6</td>\n      <td>13</td>\n      <td>1.0</td>\n    </tr>\n  </tbody>\n</table>\n<p>3 rows × 42 columns</p>\n</div>",
      "text/plain": "         title  ruby   inst  hall_of_fame  \\\nno                                          \n125        愛と誠  None  False          True   \n143  亡國覚醒カタルシス  None  False          True   \n279   リュウコウセカイ  None  False          True   \n\n                                                 works       debut       date  \\\nno                                                                              \n125    [Dilettante, Grand Finale, 愛と誠 ～YAMATO＆LOVE×××]  Dilettante 2005-06-22   \n143  [亡國覚醒カタルシス, .hack//Roots O.S.T. (TV size), COL...   亡國覚醒カタルシス 2006-05-24   \n279                                             [流行世界]        流行世界 2014-08-27   \n\n     2019u initial               kind  ...  over50  over100  over200  under30  \\\nno                                     ...                                      \n125    NaN    2005       [SA, OA, CA]  ...       0        0        0       10   \n143    NaN  2006#2  [S-1, OT, ST, CA]  ...       0        0        0        5   \n279    NaN    2014               [OA]  ...       0        0        0        3   \n\n     under50  under100  under200  count_all  count  highest_all  \nno                                                               \n125       10        10        10         16     13          1.0  \n143        5         5         5         14     13          1.0  \n279        3         3         3          6     13          1.0  \n\n[3 rows x 42 columns]"
     },
     "execution_count": 267,
     "metadata": {},
     "output_type": "execute_result"
    }
   ],
   "source": [
    "df.query('hall_of_fame == True')"
   ]
  },
  {
   "cell_type": "code",
   "execution_count": 277,
   "metadata": {},
   "outputs": [
    {
     "data": {
      "text/html": "<div>\n<style scoped>\n    .dataframe tbody tr th:only-of-type {\n        vertical-align: middle;\n    }\n\n    .dataframe tbody tr th {\n        vertical-align: top;\n    }\n\n    .dataframe thead th {\n        text-align: right;\n    }\n</style>\n<table border=\"1\" class=\"dataframe\">\n  <thead>\n    <tr style=\"text-align: right;\">\n      <th></th>\n      <th>title</th>\n      <th>ruby</th>\n      <th>inst</th>\n      <th>hall_of_fame</th>\n      <th>works</th>\n      <th>debut</th>\n      <th>date</th>\n      <th>2019u</th>\n      <th>initial</th>\n      <th>kind</th>\n      <th>...</th>\n      <th>over50</th>\n      <th>over100</th>\n      <th>over200</th>\n      <th>under30</th>\n      <th>under50</th>\n      <th>under100</th>\n      <th>under200</th>\n      <th>count_all</th>\n      <th>count</th>\n      <th>highest_all</th>\n    </tr>\n    <tr>\n      <th>no</th>\n      <th></th>\n      <th></th>\n      <th></th>\n      <th></th>\n      <th></th>\n      <th></th>\n      <th></th>\n      <th></th>\n      <th></th>\n      <th></th>\n      <th></th>\n      <th></th>\n      <th></th>\n      <th></th>\n      <th></th>\n      <th></th>\n      <th></th>\n      <th></th>\n      <th></th>\n      <th></th>\n      <th></th>\n    </tr>\n  </thead>\n  <tbody>\n    <tr>\n      <th>99</th>\n      <td>戦争と平和</td>\n      <td>None</td>\n      <td>False</td>\n      <td>False</td>\n      <td>[EROTIC &amp; HERETIC, Grand Finale, 愛と誠 ～YAMATO＆L...</td>\n      <td>EROTIC &amp; HERETIC</td>\n      <td>2002-07-24</td>\n      <td>NaN</td>\n      <td>2005</td>\n      <td>[SA, OA, CA]</td>\n      <td>...</td>\n      <td>0</td>\n      <td>0</td>\n      <td>0</td>\n      <td>14</td>\n      <td>16</td>\n      <td>16</td>\n      <td>16</td>\n      <td>16</td>\n      <td>13</td>\n      <td>1.0</td>\n    </tr>\n    <tr>\n      <th>132</th>\n      <td>北京LOVERS</td>\n      <td>None</td>\n      <td>False</td>\n      <td>False</td>\n      <td>[Dilettante, 血と蜜 ～Anthology of Gothic Lolita＆H...</td>\n      <td>Dilettante</td>\n      <td>2005-06-22</td>\n      <td>NaN</td>\n      <td>2005</td>\n      <td>[OA, CA]</td>\n      <td>...</td>\n      <td>0</td>\n      <td>0</td>\n      <td>0</td>\n      <td>15</td>\n      <td>15</td>\n      <td>15</td>\n      <td>15</td>\n      <td>16</td>\n      <td>13</td>\n      <td>1.0</td>\n    </tr>\n    <tr>\n      <th>135</th>\n      <td>聖少女領域</td>\n      <td>None</td>\n      <td>False</td>\n      <td>False</td>\n      <td>[聖少女領域, ローゼンメイデン・トロイメント オリジナルサウンドトラック (TV size...</td>\n      <td>聖少女領域</td>\n      <td>2005-10-26</td>\n      <td>NaN</td>\n      <td>2006#1</td>\n      <td>[S-1, OT, ST, CA]</td>\n      <td>...</td>\n      <td>0</td>\n      <td>0</td>\n      <td>0</td>\n      <td>15</td>\n      <td>15</td>\n      <td>15</td>\n      <td>15</td>\n      <td>15</td>\n      <td>13</td>\n      <td>1.0</td>\n    </tr>\n    <tr>\n      <th>152</th>\n      <td>勇侠青春謳</td>\n      <td>None</td>\n      <td>False</td>\n      <td>False</td>\n      <td>[勇侠青春謳, コードギアス 反逆のルルーシュ O.S.T. (TV size), 桂冠詩人...</td>\n      <td>勇侠青春謳</td>\n      <td>2006-10-25</td>\n      <td>NaN</td>\n      <td>2006#2</td>\n      <td>[S-1, OT, OM, ST, CA]</td>\n      <td>...</td>\n      <td>0</td>\n      <td>0</td>\n      <td>0</td>\n      <td>13</td>\n      <td>14</td>\n      <td>14</td>\n      <td>14</td>\n      <td>14</td>\n      <td>13</td>\n      <td>1.0</td>\n    </tr>\n    <tr>\n      <th>326</th>\n      <td>芸術変態論</td>\n      <td>None</td>\n      <td>False</td>\n      <td>False</td>\n      <td>[芸術変態論]</td>\n      <td>芸術変態論</td>\n      <td>2018-07-25</td>\n      <td>NaN</td>\n      <td>2018</td>\n      <td>[OA]</td>\n      <td>...</td>\n      <td>0</td>\n      <td>0</td>\n      <td>0</td>\n      <td>2</td>\n      <td>2</td>\n      <td>2</td>\n      <td>2</td>\n      <td>2</td>\n      <td>13</td>\n      <td>1.0</td>\n    </tr>\n    <tr>\n      <th>338</th>\n      <td>BArADiPArADicA</td>\n      <td>None</td>\n      <td>False</td>\n      <td>False</td>\n      <td>[Fantasia]</td>\n      <td>Fantasia</td>\n      <td>2019-08-28</td>\n      <td>NaN</td>\n      <td>2019</td>\n      <td>[OA]</td>\n      <td>...</td>\n      <td>0</td>\n      <td>0</td>\n      <td>0</td>\n      <td>1</td>\n      <td>1</td>\n      <td>1</td>\n      <td>1</td>\n      <td>1</td>\n      <td>13</td>\n      <td>1.0</td>\n    </tr>\n  </tbody>\n</table>\n<p>6 rows × 42 columns</p>\n</div>",
      "text/plain": "              title  ruby   inst  hall_of_fame  \\\nno                                               \n99            戦争と平和  None  False         False   \n132        北京LOVERS  None  False         False   \n135           聖少女領域  None  False         False   \n152           勇侠青春謳  None  False         False   \n326           芸術変態論  None  False         False   \n338  BArADiPArADicA  None  False         False   \n\n                                                 works             debut  \\\nno                                                                         \n99   [EROTIC & HERETIC, Grand Finale, 愛と誠 ～YAMATO＆L...  EROTIC & HERETIC   \n132  [Dilettante, 血と蜜 ～Anthology of Gothic Lolita＆H...        Dilettante   \n135  [聖少女領域, ローゼンメイデン・トロイメント オリジナルサウンドトラック (TV size...             聖少女領域   \n152  [勇侠青春謳, コードギアス 反逆のルルーシュ O.S.T. (TV size), 桂冠詩人...             勇侠青春謳   \n326                                            [芸術変態論]             芸術変態論   \n338                                         [Fantasia]          Fantasia   \n\n          date  2019u initial                   kind  ...  over50  over100  \\\nno                                                    ...                    \n99  2002-07-24    NaN    2005           [SA, OA, CA]  ...       0        0   \n132 2005-06-22    NaN    2005               [OA, CA]  ...       0        0   \n135 2005-10-26    NaN  2006#1      [S-1, OT, ST, CA]  ...       0        0   \n152 2006-10-25    NaN  2006#2  [S-1, OT, OM, ST, CA]  ...       0        0   \n326 2018-07-25    NaN    2018                   [OA]  ...       0        0   \n338 2019-08-28    NaN    2019                   [OA]  ...       0        0   \n\n     over200  under30  under50  under100  under200  count_all  count  \\\nno                                                                     \n99         0       14       16        16        16         16     13   \n132        0       15       15        15        15         16     13   \n135        0       15       15        15        15         15     13   \n152        0       13       14        14        14         14     13   \n326        0        2        2         2         2          2     13   \n338        0        1        1         1         1          1     13   \n\n     highest_all  \nno                \n99           1.0  \n132          1.0  \n135          1.0  \n152          1.0  \n326          1.0  \n338          1.0  \n\n[6 rows x 42 columns]"
     },
     "execution_count": 277,
     "metadata": {},
     "output_type": "execute_result"
    }
   ],
   "source": [
    "df.query('highest == 1 and hall_of_fame == False')"
   ]
  },
  {
   "cell_type": "markdown",
   "execution_count": 70,
   "metadata": {},
   "outputs": [
    {
     "ename": "SyntaxError",
     "evalue": "invalid syntax (<ipython-input-70-1d4931e68526>, line 5)",
     "output_type": "error",
     "traceback": [
      "\u001b[1;36m  File \u001b[1;32m\"<ipython-input-70-1d4931e68526>\"\u001b[1;36m, line \u001b[1;32m5\u001b[0m\n\u001b[1;33m    注) データが揃っている2007年以降\u001b[0m\n\u001b[1;37m     ^\u001b[0m\n\u001b[1;31mSyntaxError\u001b[0m\u001b[1;31m:\u001b[0m invalid syntax\n"
     ]
    }
   ],
   "source": [
    "# MAIN ranking"
   ]
  },
  {
   "cell_type": "code",
   "execution_count": 297,
   "metadata": {},
   "outputs": [
    {
     "data": {
      "text/html": "<div>\n<style scoped>\n    .dataframe tbody tr th:only-of-type {\n        vertical-align: middle;\n    }\n\n    .dataframe tbody tr th {\n        vertical-align: top;\n    }\n\n    .dataframe thead th {\n        text-align: right;\n    }\n</style>\n<table border=\"1\" class=\"dataframe\">\n  <thead>\n    <tr style=\"text-align: right;\">\n      <th></th>\n      <th>title</th>\n      <th>ruby</th>\n      <th>inst</th>\n      <th>hall_of_fame</th>\n      <th>works</th>\n      <th>debut</th>\n      <th>date</th>\n      <th>2019u</th>\n      <th>initial</th>\n      <th>kind</th>\n      <th>...</th>\n      <th>under30</th>\n      <th>under50</th>\n      <th>under100</th>\n      <th>under200</th>\n      <th>count_all</th>\n      <th>count</th>\n      <th>rank_average</th>\n      <th>rank_average_exclude_debut</th>\n      <th>rank_highest</th>\n      <th>rank_highest_exclude_debut</th>\n    </tr>\n    <tr>\n      <th>no</th>\n      <th></th>\n      <th></th>\n      <th></th>\n      <th></th>\n      <th></th>\n      <th></th>\n      <th></th>\n      <th></th>\n      <th></th>\n      <th></th>\n      <th></th>\n      <th></th>\n      <th></th>\n      <th></th>\n      <th></th>\n      <th></th>\n      <th></th>\n      <th></th>\n      <th></th>\n      <th></th>\n      <th></th>\n    </tr>\n  </thead>\n  <tbody>\n    <tr>\n      <th>1</th>\n      <td>桜の花は狂い咲き</td>\n      <td>None</td>\n      <td>False</td>\n      <td>False</td>\n      <td>[SOME GIRLS -REBEL STREEL IV (桜の花は乱れ咲き), CLASS...</td>\n      <td>SOME GIRLS -REBEL STREEL IV</td>\n      <td>1997-04-25</td>\n      <td>64.0</td>\n      <td>2005</td>\n      <td>[SA, OA, OT]</td>\n      <td>...</td>\n      <td>0</td>\n      <td>0</td>\n      <td>4</td>\n      <td>13</td>\n      <td>16</td>\n      <td>13</td>\n      <td>157.0</td>\n      <td>135.0</td>\n      <td>194.0</td>\n      <td>149.0</td>\n    </tr>\n    <tr>\n      <th>2</th>\n      <td>青蛾月</td>\n      <td>None</td>\n      <td>False</td>\n      <td>False</td>\n      <td>[幻想庭園, étoiles (SEIGAGETSU)]</td>\n      <td>幻想庭園</td>\n      <td>1988-01-25</td>\n      <td>22.0</td>\n      <td>2005</td>\n      <td>[SA, OA]</td>\n      <td>...</td>\n      <td>0</td>\n      <td>0</td>\n      <td>11</td>\n      <td>13</td>\n      <td>16</td>\n      <td>13</td>\n      <td>97.0</td>\n      <td>75.0</td>\n      <td>168.0</td>\n      <td>120.0</td>\n    </tr>\n    <tr>\n      <th>3</th>\n      <td>マリーゴールド・ガーデン</td>\n      <td>None</td>\n      <td>False</td>\n      <td>False</td>\n      <td>[幻想庭園, フラワーチャイルド, 神々の黄昏]</td>\n      <td>幻想庭園</td>\n      <td>1988-01-25</td>\n      <td>128.0</td>\n      <td>2005</td>\n      <td>[SA, OA, S-2]</td>\n      <td>...</td>\n      <td>0</td>\n      <td>0</td>\n      <td>0</td>\n      <td>10</td>\n      <td>16</td>\n      <td>13</td>\n      <td>229.0</td>\n      <td>213.0</td>\n      <td>288.0</td>\n      <td>258.0</td>\n    </tr>\n    <tr>\n      <th>4</th>\n      <td>鏡面界 im Juni</td>\n      <td>きょうめんかい・イン・ジュニ</td>\n      <td>False</td>\n      <td>False</td>\n      <td>[幻想庭園]</td>\n      <td>幻想庭園</td>\n      <td>1988-01-25</td>\n      <td>150.0</td>\n      <td>2005</td>\n      <td>[OA]</td>\n      <td>...</td>\n      <td>0</td>\n      <td>0</td>\n      <td>0</td>\n      <td>7</td>\n      <td>16</td>\n      <td>13</td>\n      <td>286.0</td>\n      <td>262.0</td>\n      <td>274.0</td>\n      <td>245.0</td>\n    </tr>\n    <tr>\n      <th>5</th>\n      <td>アンジェ・ノワールの祭戯</td>\n      <td>None</td>\n      <td>False</td>\n      <td>False</td>\n      <td>[幻想庭園, 神々の黄昏]</td>\n      <td>幻想庭園</td>\n      <td>1988-01-25</td>\n      <td>NaN</td>\n      <td>2005</td>\n      <td>[SA, OA]</td>\n      <td>...</td>\n      <td>0</td>\n      <td>0</td>\n      <td>4</td>\n      <td>12</td>\n      <td>16</td>\n      <td>13</td>\n      <td>165.0</td>\n      <td>142.0</td>\n      <td>183.0</td>\n      <td>137.0</td>\n    </tr>\n  </tbody>\n</table>\n<p>5 rows × 45 columns</p>\n</div>",
      "text/plain": "           title            ruby   inst  hall_of_fame  \\\nno                                                      \n1       桜の花は狂い咲き            None  False         False   \n2            青蛾月            None  False         False   \n3   マリーゴールド・ガーデン            None  False         False   \n4    鏡面界 im Juni  きょうめんかい・イン・ジュニ  False         False   \n5   アンジェ・ノワールの祭戯            None  False         False   \n\n                                                works  \\\nno                                                      \n1   [SOME GIRLS -REBEL STREEL IV (桜の花は乱れ咲き), CLASS...   \n2                        [幻想庭園, étoiles (SEIGAGETSU)]   \n3                            [幻想庭園, フラワーチャイルド, 神々の黄昏]   \n4                                              [幻想庭園]   \n5                                       [幻想庭園, 神々の黄昏]   \n\n                          debut       date  2019u initial           kind  ...  \\\nno                                                                        ...   \n1   SOME GIRLS -REBEL STREEL IV 1997-04-25   64.0    2005   [SA, OA, OT]  ...   \n2                          幻想庭園 1988-01-25   22.0    2005       [SA, OA]  ...   \n3                          幻想庭園 1988-01-25  128.0    2005  [SA, OA, S-2]  ...   \n4                          幻想庭園 1988-01-25  150.0    2005           [OA]  ...   \n5                          幻想庭園 1988-01-25    NaN    2005       [SA, OA]  ...   \n\n    under30  under50  under100  under200  count_all  count  rank_average  \\\nno                                                                         \n1         0        0         4        13         16     13         157.0   \n2         0        0        11        13         16     13          97.0   \n3         0        0         0        10         16     13         229.0   \n4         0        0         0         7         16     13         286.0   \n5         0        0         4        12         16     13         165.0   \n\n    rank_average_exclude_debut  rank_highest  rank_highest_exclude_debut  \nno                                                                        \n1                        135.0         194.0                       149.0  \n2                         75.0         168.0                       120.0  \n3                        213.0         288.0                       258.0  \n4                        262.0         274.0                       245.0  \n5                        142.0         183.0                       137.0  \n\n[5 rows x 45 columns]"
     },
     "execution_count": 297,
     "metadata": {},
     "output_type": "execute_result"
    }
   ],
   "source": [
    "result = df.query('hall_of_fame == False').loc[:]\n",
    "result['rank_average'] = result.average.rank(method='min', na_option='bottom')\n",
    "result['rank_average_exclude_debut'] = result.average_exclude_debut.rank(method='min', na_option='bottom')\n",
    "result['rank_highest'] = result.highest.rank(method='min', na_option='bottom')\n",
    "result['rank_highest_exclude_debut'] = result.highest_exclude_debut.rank(method='min', na_option='bottom')\n",
    "result.head()"
   ]
  },
  {
   "cell_type": "code",
   "execution_count": 269,
   "metadata": {},
   "outputs": [
    {
     "data": {
      "text/html": "<div>\n<style scoped>\n    .dataframe tbody tr th:only-of-type {\n        vertical-align: middle;\n    }\n\n    .dataframe tbody tr th {\n        vertical-align: top;\n    }\n\n    .dataframe thead th {\n        text-align: right;\n    }\n</style>\n<table border=\"1\" class=\"dataframe\">\n  <thead>\n    <tr style=\"text-align: right;\">\n      <th></th>\n      <th>title</th>\n      <th>rank_average_exclude_debut</th>\n      <th>average_exclude_debut</th>\n      <th>date</th>\n    </tr>\n    <tr>\n      <th>no</th>\n      <th></th>\n      <th></th>\n      <th></th>\n      <th></th>\n    </tr>\n  </thead>\n  <tbody>\n    <tr>\n      <th>338</th>\n      <td>BArADiPArADicA</td>\n      <td>1</td>\n      <td>1.000000</td>\n      <td>2019-08-28</td>\n    </tr>\n    <tr>\n      <th>343</th>\n      <td>自由戀愛</td>\n      <td>2</td>\n      <td>2.000000</td>\n      <td>2019-08-28</td>\n    </tr>\n    <tr>\n      <th>326</th>\n      <td>芸術変態論</td>\n      <td>3</td>\n      <td>3.500000</td>\n      <td>2018-07-25</td>\n    </tr>\n    <tr>\n      <th>135</th>\n      <td>聖少女領域</td>\n      <td>4</td>\n      <td>3.923077</td>\n      <td>2005-10-26</td>\n    </tr>\n    <tr>\n      <th>107</th>\n      <td>月蝕グランギニョル</td>\n      <td>5</td>\n      <td>4.846154</td>\n      <td>2003-11-05</td>\n    </tr>\n    <tr>\n      <th>...</th>\n      <td>...</td>\n      <td>...</td>\n      <td>...</td>\n      <td>...</td>\n    </tr>\n    <tr>\n      <th>301</th>\n      <td>快楽のススメ</td>\n      <td>122</td>\n      <td>95.800000</td>\n      <td>2015-09-09</td>\n    </tr>\n    <tr>\n      <th>70</th>\n      <td>月光夜</td>\n      <td>123</td>\n      <td>96.461538</td>\n      <td>1998-11-21</td>\n    </tr>\n    <tr>\n      <th>328</th>\n      <td>ヤマトイズム</td>\n      <td>124</td>\n      <td>98.000000</td>\n      <td>2018-07-25</td>\n    </tr>\n    <tr>\n      <th>235</th>\n      <td>鹿鳴館ブギウギ</td>\n      <td>125</td>\n      <td>98.888889</td>\n      <td>2010-09-26</td>\n    </tr>\n    <tr>\n      <th>346</th>\n      <td>地球で</td>\n      <td>126</td>\n      <td>99.000000</td>\n      <td>2019-08-28</td>\n    </tr>\n  </tbody>\n</table>\n<p>126 rows × 4 columns</p>\n</div>",
      "text/plain": "              title  rank_average_exclude_debut  average_exclude_debut  \\\nno                                                                       \n338  BArADiPArADicA                           1               1.000000   \n343            自由戀愛                           2               2.000000   \n326           芸術変態論                           3               3.500000   \n135           聖少女領域                           4               3.923077   \n107       月蝕グランギニョル                           5               4.846154   \n..              ...                         ...                    ...   \n301          快楽のススメ                         122              95.800000   \n70              月光夜                         123              96.461538   \n328          ヤマトイズム                         124              98.000000   \n235         鹿鳴館ブギウギ                         125              98.888889   \n346             地球で                         126              99.000000   \n\n          date  \nno              \n338 2019-08-28  \n343 2019-08-28  \n326 2018-07-25  \n135 2005-10-26  \n107 2003-11-05  \n..         ...  \n301 2015-09-09  \n70  1998-11-21  \n328 2018-07-25  \n235 2010-09-26  \n346 2019-08-28  \n\n[126 rows x 4 columns]"
     },
     "execution_count": 269,
     "metadata": {},
     "output_type": "execute_result"
    }
   ],
   "source": [
    "average_top = result.sort_values(['rank_average_exclude_debut', 'date'], ascending=[True, True]) \\\n",
    "                    .query('average_exclude_debut <= 100') \\\n",
    "                    [['title', 'rank_average_exclude_debut', 'average_exclude_debut', 'date']].astype({'rank_average_exclude_debut': int})\n",
    "\n",
    "average_top"
   ]
  },
  {
   "cell_type": "code",
   "execution_count": 274,
   "metadata": {},
   "outputs": [
    {
     "data": {
      "text/html": "<div>\n<style scoped>\n    .dataframe tbody tr th:only-of-type {\n        vertical-align: middle;\n    }\n\n    .dataframe tbody tr th {\n        vertical-align: top;\n    }\n\n    .dataframe thead th {\n        text-align: right;\n    }\n</style>\n<table border=\"1\" class=\"dataframe\">\n  <thead>\n    <tr style=\"text-align: right;\">\n      <th></th>\n      <th>title</th>\n      <th>rank_highest</th>\n      <th>highest</th>\n      <th>date</th>\n    </tr>\n    <tr>\n      <th>no</th>\n      <th></th>\n      <th></th>\n      <th></th>\n      <th></th>\n    </tr>\n  </thead>\n  <tbody>\n    <tr>\n      <th>99</th>\n      <td>戦争と平和</td>\n      <td>1</td>\n      <td>1</td>\n      <td>2002-07-24</td>\n    </tr>\n    <tr>\n      <th>132</th>\n      <td>北京LOVERS</td>\n      <td>1</td>\n      <td>1</td>\n      <td>2005-06-22</td>\n    </tr>\n    <tr>\n      <th>135</th>\n      <td>聖少女領域</td>\n      <td>1</td>\n      <td>1</td>\n      <td>2005-10-26</td>\n    </tr>\n    <tr>\n      <th>152</th>\n      <td>勇侠青春謳</td>\n      <td>1</td>\n      <td>1</td>\n      <td>2006-10-25</td>\n    </tr>\n    <tr>\n      <th>326</th>\n      <td>芸術変態論</td>\n      <td>1</td>\n      <td>1</td>\n      <td>2018-07-25</td>\n    </tr>\n    <tr>\n      <th>...</th>\n      <td>...</td>\n      <td>...</td>\n      <td>...</td>\n      <td>...</td>\n    </tr>\n    <tr>\n      <th>82</th>\n      <td>閉ざされた画室</td>\n      <td>155</td>\n      <td>48</td>\n      <td>2001-04-25</td>\n    </tr>\n    <tr>\n      <th>267</th>\n      <td>乙女の贖い</td>\n      <td>155</td>\n      <td>48</td>\n      <td>2013-07-24</td>\n    </tr>\n    <tr>\n      <th>15</th>\n      <td>メガロポリス・アリス -MEGALOPOLIS ALICE-</td>\n      <td>158</td>\n      <td>49</td>\n      <td>1992-12-09</td>\n    </tr>\n    <tr>\n      <th>48</th>\n      <td>ピアニィ・ピンク</td>\n      <td>159</td>\n      <td>50</td>\n      <td>1997-05-21</td>\n    </tr>\n    <tr>\n      <th>225</th>\n      <td>腕 kaina</td>\n      <td>159</td>\n      <td>50</td>\n      <td>2010-07-14</td>\n    </tr>\n  </tbody>\n</table>\n<p>160 rows × 4 columns</p>\n</div>",
      "text/plain": "                              title  rank_highest  highest       date\nno                                                                   \n99                            戦争と平和             1        1 2002-07-24\n132                        北京LOVERS             1        1 2005-06-22\n135                           聖少女領域             1        1 2005-10-26\n152                           勇侠青春謳             1        1 2006-10-25\n326                           芸術変態論             1        1 2018-07-25\n..                              ...           ...      ...        ...\n82                          閉ざされた画室           155       48 2001-04-25\n267                           乙女の贖い           155       48 2013-07-24\n15   メガロポリス・アリス -MEGALOPOLIS ALICE-           158       49 1992-12-09\n48                         ピアニィ・ピンク           159       50 1997-05-21\n225                         腕 kaina           159       50 2010-07-14\n\n[160 rows x 4 columns]"
     },
     "execution_count": 274,
     "metadata": {},
     "output_type": "execute_result"
    }
   ],
   "source": [
    "highest_top = result.sort_values(['rank_highest', 'date'], ascending=[True, True]) \\\n",
    "                    .query('highest <= 50') \\\n",
    "                    [['title', 'rank_highest', 'highest', 'date']].astype({'rank_highest': int, 'highest': int})\n",
    "\n",
    "highest_top"
   ]
  },
  {
   "cell_type": "code",
   "execution_count": 255,
   "metadata": {},
   "outputs": [
    {
     "data": {
      "text/html": "<div>\n<style scoped>\n    .dataframe tbody tr th:only-of-type {\n        vertical-align: middle;\n    }\n\n    .dataframe tbody tr th {\n        vertical-align: top;\n    }\n\n    .dataframe thead th {\n        text-align: right;\n    }\n</style>\n<table border=\"1\" class=\"dataframe\">\n  <thead>\n    <tr style=\"text-align: right;\">\n      <th></th>\n      <th>title</th>\n      <th>rank_highest_exclude_debut</th>\n      <th>highest_exclude_debut</th>\n      <th>date</th>\n    </tr>\n    <tr>\n      <th>no</th>\n      <th></th>\n      <th></th>\n      <th></th>\n      <th></th>\n    </tr>\n  </thead>\n  <tbody>\n    <tr>\n      <th>132</th>\n      <td>北京LOVERS</td>\n      <td>1</td>\n      <td>1</td>\n      <td>2005-06-22</td>\n    </tr>\n    <tr>\n      <th>135</th>\n      <td>聖少女領域</td>\n      <td>1</td>\n      <td>1</td>\n      <td>2005-10-26</td>\n    </tr>\n    <tr>\n      <th>107</th>\n      <td>月蝕グランギニョル</td>\n      <td>3</td>\n      <td>2</td>\n      <td>2003-11-05</td>\n    </tr>\n    <tr>\n      <th>179</th>\n      <td>逢魔ヶ恋</td>\n      <td>3</td>\n      <td>2</td>\n      <td>2007-10-03</td>\n    </tr>\n    <tr>\n      <th>145</th>\n      <td>GOD DIVA</td>\n      <td>5</td>\n      <td>3</td>\n      <td>2006-06-28</td>\n    </tr>\n    <tr>\n      <th>...</th>\n      <td>...</td>\n      <td>...</td>\n      <td>...</td>\n      <td>...</td>\n    </tr>\n    <tr>\n      <th>271</th>\n      <td>薔薇娼館</td>\n      <td>103</td>\n      <td>48</td>\n      <td>2013-09-11</td>\n    </tr>\n    <tr>\n      <th>15</th>\n      <td>メガロポリス・アリス -MEGALOPOLIS ALICE-</td>\n      <td>109</td>\n      <td>49</td>\n      <td>1992-12-09</td>\n    </tr>\n    <tr>\n      <th>48</th>\n      <td>ピアニィ・ピンク</td>\n      <td>110</td>\n      <td>50</td>\n      <td>1997-05-21</td>\n    </tr>\n    <tr>\n      <th>196</th>\n      <td>亡骸の女</td>\n      <td>110</td>\n      <td>50</td>\n      <td>2008-11-19</td>\n    </tr>\n    <tr>\n      <th>295</th>\n      <td>Tico Tico no Fubá</td>\n      <td>110</td>\n      <td>50</td>\n      <td>2015-01-21</td>\n    </tr>\n  </tbody>\n</table>\n<p>112 rows × 4 columns</p>\n</div>",
      "text/plain": "                              title  rank_highest_exclude_debut  \\\nno                                                                \n132                        北京LOVERS                           1   \n135                           聖少女領域                           1   \n107                       月蝕グランギニョル                           3   \n179                            逢魔ヶ恋                           3   \n145                        GOD DIVA                           5   \n..                              ...                         ...   \n271                            薔薇娼館                         103   \n15   メガロポリス・アリス -MEGALOPOLIS ALICE-                         109   \n48                         ピアニィ・ピンク                         110   \n196                            亡骸の女                         110   \n295               Tico Tico no Fubá                         110   \n\n     highest_exclude_debut       date  \nno                                     \n132                      1 2005-06-22  \n135                      1 2005-10-26  \n107                      2 2003-11-05  \n179                      2 2007-10-03  \n145                      3 2006-06-28  \n..                     ...        ...  \n271                     48 2013-09-11  \n15                      49 1992-12-09  \n48                      50 1997-05-21  \n196                     50 2008-11-19  \n295                     50 2015-01-21  \n\n[112 rows x 4 columns]"
     },
     "execution_count": 255,
     "metadata": {},
     "output_type": "execute_result"
    }
   ],
   "source": [
    "highest_top = result.sort_values(['rank_highest_exclude_debut', 'date'], ascending=[True, True]) \\\n",
    "                    .query('highest_exclude_debut <= 50') \\\n",
    "                    [['title', 'rank_highest_exclude_debut', 'highest_exclude_debut', 'date']].astype({'rank_highest_exclude_debut': int, 'highest_exclude_debut': int})\n",
    "\n",
    "highest_top"
   ]
  },
  {
   "cell_type": "code",
   "execution_count": 304,
   "metadata": {},
   "outputs": [
    {
     "data": {
      "text/html": "<div>\n<style scoped>\n    .dataframe tbody tr th:only-of-type {\n        vertical-align: middle;\n    }\n\n    .dataframe tbody tr th {\n        vertical-align: top;\n    }\n\n    .dataframe thead th {\n        text-align: right;\n    }\n</style>\n<table border=\"1\" class=\"dataframe\">\n  <thead>\n    <tr style=\"text-align: right;\">\n      <th></th>\n      <th>title</th>\n      <th>under10</th>\n      <th>under10_mean</th>\n      <th>date</th>\n    </tr>\n    <tr>\n      <th>no</th>\n      <th></th>\n      <th></th>\n      <th></th>\n      <th></th>\n    </tr>\n  </thead>\n  <tbody>\n    <tr>\n      <th>107</th>\n      <td>月蝕グランギニョル</td>\n      <td>16</td>\n      <td>1.0</td>\n      <td>2003-11-05</td>\n    </tr>\n    <tr>\n      <th>135</th>\n      <td>聖少女領域</td>\n      <td>15</td>\n      <td>1.0</td>\n      <td>2005-10-26</td>\n    </tr>\n    <tr>\n      <th>191</th>\n      <td>雪華懺悔心中</td>\n      <td>11</td>\n      <td>1.0</td>\n      <td>2008-08-27</td>\n    </tr>\n    <tr>\n      <th>326</th>\n      <td>芸術変態論</td>\n      <td>2</td>\n      <td>1.0</td>\n      <td>2018-07-25</td>\n    </tr>\n    <tr>\n      <th>338</th>\n      <td>BArADiPArADicA</td>\n      <td>1</td>\n      <td>1.0</td>\n      <td>2019-08-28</td>\n    </tr>\n    <tr>\n      <th>343</th>\n      <td>自由戀愛</td>\n      <td>1</td>\n      <td>1.0</td>\n      <td>2019-08-28</td>\n    </tr>\n  </tbody>\n</table>\n</div>",
      "text/plain": "              title  under10  under10_mean       date\nno                                                   \n107       月蝕グランギニョル       16           1.0 2003-11-05\n135           聖少女領域       15           1.0 2005-10-26\n191          雪華懺悔心中       11           1.0 2008-08-27\n326           芸術変態論        2           1.0 2018-07-25\n338  BArADiPArADicA        1           1.0 2019-08-28\n343            自由戀愛        1           1.0 2019-08-28"
     },
     "execution_count": 304,
     "metadata": {},
     "output_type": "execute_result"
    }
   ],
   "source": [
    "tmp = result.loc[:]\n",
    "tmp['under10'] = 0\n",
    "for no in tmp.index:\n",
    "    song = tmp.loc[no]\n",
    "    to_mean_all = list(filter(lambda y: year_filter(y, song.initial, RANK_ALL), RANK_ALL))\n",
    "    tmp.at[no, 'under10'] = len(list(filter(lambda s: s <= 10, song[to_mean_all].values)))\n",
    "tmp['under10_mean'] = tmp.under10 / tmp.count_all\n",
    "tmp.sort_values(['under10_mean', 'date'], ascending=[False, True]) \\\n",
    "   .query('under10_mean >= 1') \\\n",
    "   [['title', 'under10', 'under10_mean', 'date']]"
   ]
  },
  {
   "cell_type": "code",
   "execution_count": 303,
   "metadata": {},
   "outputs": [
    {
     "data": {
      "text/html": "<div>\n<style scoped>\n    .dataframe tbody tr th:only-of-type {\n        vertical-align: middle;\n    }\n\n    .dataframe tbody tr th {\n        vertical-align: top;\n    }\n\n    .dataframe thead th {\n        text-align: right;\n    }\n</style>\n<table border=\"1\" class=\"dataframe\">\n  <thead>\n    <tr style=\"text-align: right;\">\n      <th></th>\n      <th>title</th>\n      <th>under20</th>\n      <th>under20_mean</th>\n      <th>date</th>\n    </tr>\n    <tr>\n      <th>no</th>\n      <th></th>\n      <th></th>\n      <th></th>\n      <th></th>\n    </tr>\n  </thead>\n  <tbody>\n    <tr>\n      <th>107</th>\n      <td>月蝕グランギニョル</td>\n      <td>16</td>\n      <td>1.0</td>\n      <td>2003-11-05</td>\n    </tr>\n    <tr>\n      <th>108</th>\n      <td>未來のイヴ</td>\n      <td>16</td>\n      <td>1.0</td>\n      <td>2003-11-05</td>\n    </tr>\n    <tr>\n      <th>135</th>\n      <td>聖少女領域</td>\n      <td>15</td>\n      <td>1.0</td>\n      <td>2005-10-26</td>\n    </tr>\n    <tr>\n      <th>191</th>\n      <td>雪華懺悔心中</td>\n      <td>11</td>\n      <td>1.0</td>\n      <td>2008-08-27</td>\n    </tr>\n    <tr>\n      <th>282</th>\n      <td>Lolicate</td>\n      <td>6</td>\n      <td>1.0</td>\n      <td>2014-08-27</td>\n    </tr>\n    <tr>\n      <th>322</th>\n      <td>卑弥呼外伝</td>\n      <td>3</td>\n      <td>1.0</td>\n      <td>2017-03-29</td>\n    </tr>\n    <tr>\n      <th>326</th>\n      <td>芸術変態論</td>\n      <td>2</td>\n      <td>1.0</td>\n      <td>2018-07-25</td>\n    </tr>\n    <tr>\n      <th>338</th>\n      <td>BArADiPArADicA</td>\n      <td>1</td>\n      <td>1.0</td>\n      <td>2019-08-28</td>\n    </tr>\n    <tr>\n      <th>339</th>\n      <td>21世紀新青年</td>\n      <td>1</td>\n      <td>1.0</td>\n      <td>2019-08-28</td>\n    </tr>\n    <tr>\n      <th>340</th>\n      <td>リアル×ファンタジー</td>\n      <td>1</td>\n      <td>1.0</td>\n      <td>2019-08-28</td>\n    </tr>\n    <tr>\n      <th>343</th>\n      <td>自由戀愛</td>\n      <td>1</td>\n      <td>1.0</td>\n      <td>2019-08-28</td>\n    </tr>\n    <tr>\n      <th>344</th>\n      <td>少女のための残酷童話</td>\n      <td>1</td>\n      <td>1.0</td>\n      <td>2019-08-28</td>\n    </tr>\n  </tbody>\n</table>\n</div>",
      "text/plain": "              title  under20  under20_mean       date\nno                                                   \n107       月蝕グランギニョル       16           1.0 2003-11-05\n108           未來のイヴ       16           1.0 2003-11-05\n135           聖少女領域       15           1.0 2005-10-26\n191          雪華懺悔心中       11           1.0 2008-08-27\n282        Lolicate        6           1.0 2014-08-27\n322           卑弥呼外伝        3           1.0 2017-03-29\n326           芸術変態論        2           1.0 2018-07-25\n338  BArADiPArADicA        1           1.0 2019-08-28\n339         21世紀新青年        1           1.0 2019-08-28\n340      リアル×ファンタジー        1           1.0 2019-08-28\n343            自由戀愛        1           1.0 2019-08-28\n344      少女のための残酷童話        1           1.0 2019-08-28"
     },
     "execution_count": 303,
     "metadata": {},
     "output_type": "execute_result"
    }
   ],
   "source": [
    "tmp = result.loc[:]\n",
    "tmp['under20'] = 0\n",
    "for no in tmp.index:\n",
    "    song = tmp.loc[no]\n",
    "    to_mean_all = list(filter(lambda y: year_filter(y, song.initial, RANK_ALL), RANK_ALL))\n",
    "    tmp.at[no, 'under20'] = len(list(filter(lambda s: s <= 20, song[to_mean_all].values)))\n",
    "tmp['under20_mean'] = tmp.under20 / tmp.count_all\n",
    "tmp.sort_values(['under20_mean', 'date'], ascending=[False, True]) \\\n",
    "   .query('under20_mean >= 1') \\\n",
    "   [['title', 'under20', 'under20_mean', 'date']]"
   ]
  },
  {
   "cell_type": "code",
   "execution_count": 256,
   "metadata": {},
   "outputs": [
    {
     "data": {
      "text/html": "<div>\n<style scoped>\n    .dataframe tbody tr th:only-of-type {\n        vertical-align: middle;\n    }\n\n    .dataframe tbody tr th {\n        vertical-align: top;\n    }\n\n    .dataframe thead th {\n        text-align: right;\n    }\n</style>\n<table border=\"1\" class=\"dataframe\">\n  <thead>\n    <tr style=\"text-align: right;\">\n      <th></th>\n      <th>title</th>\n      <th>under30</th>\n      <th>under30_mean</th>\n      <th>date</th>\n    </tr>\n    <tr>\n      <th>no</th>\n      <th></th>\n      <th></th>\n      <th></th>\n      <th></th>\n    </tr>\n  </thead>\n  <tbody>\n    <tr>\n      <th>107</th>\n      <td>月蝕グランギニョル</td>\n      <td>16</td>\n      <td>1.0</td>\n      <td>2003-11-05</td>\n    </tr>\n    <tr>\n      <th>108</th>\n      <td>未來のイヴ</td>\n      <td>16</td>\n      <td>1.0</td>\n      <td>2003-11-05</td>\n    </tr>\n    <tr>\n      <th>135</th>\n      <td>聖少女領域</td>\n      <td>15</td>\n      <td>1.0</td>\n      <td>2005-10-26</td>\n    </tr>\n    <tr>\n      <th>191</th>\n      <td>雪華懺悔心中</td>\n      <td>11</td>\n      <td>1.0</td>\n      <td>2008-08-27</td>\n    </tr>\n    <tr>\n      <th>251</th>\n      <td>凶夢伝染</td>\n      <td>8</td>\n      <td>1.0</td>\n      <td>2012-01-25</td>\n    </tr>\n    <tr>\n      <th>282</th>\n      <td>Lolicate</td>\n      <td>6</td>\n      <td>1.0</td>\n      <td>2014-08-27</td>\n    </tr>\n    <tr>\n      <th>319</th>\n      <td>まだら恋椿外道</td>\n      <td>4</td>\n      <td>1.0</td>\n      <td>2016-08-24</td>\n    </tr>\n    <tr>\n      <th>322</th>\n      <td>卑弥呼外伝</td>\n      <td>3</td>\n      <td>1.0</td>\n      <td>2017-03-29</td>\n    </tr>\n    <tr>\n      <th>326</th>\n      <td>芸術変態論</td>\n      <td>2</td>\n      <td>1.0</td>\n      <td>2018-07-25</td>\n    </tr>\n    <tr>\n      <th>331</th>\n      <td>青空</td>\n      <td>2</td>\n      <td>1.0</td>\n      <td>2018-07-25</td>\n    </tr>\n    <tr>\n      <th>336</th>\n      <td>魅惑劇</td>\n      <td>2</td>\n      <td>1.0</td>\n      <td>2018-07-25</td>\n    </tr>\n    <tr>\n      <th>338</th>\n      <td>BArADiPArADicA</td>\n      <td>1</td>\n      <td>1.0</td>\n      <td>2019-08-28</td>\n    </tr>\n    <tr>\n      <th>339</th>\n      <td>21世紀新青年</td>\n      <td>1</td>\n      <td>1.0</td>\n      <td>2019-08-28</td>\n    </tr>\n    <tr>\n      <th>340</th>\n      <td>リアル×ファンタジー</td>\n      <td>1</td>\n      <td>1.0</td>\n      <td>2019-08-28</td>\n    </tr>\n    <tr>\n      <th>341</th>\n      <td>Maison de Bonbonnière</td>\n      <td>1</td>\n      <td>1.0</td>\n      <td>2019-08-28</td>\n    </tr>\n    <tr>\n      <th>343</th>\n      <td>自由戀愛</td>\n      <td>1</td>\n      <td>1.0</td>\n      <td>2019-08-28</td>\n    </tr>\n    <tr>\n      <th>344</th>\n      <td>少女のための残酷童話</td>\n      <td>1</td>\n      <td>1.0</td>\n      <td>2019-08-28</td>\n    </tr>\n  </tbody>\n</table>\n</div>",
      "text/plain": "                     title  under30  under30_mean       date\nno                                                          \n107              月蝕グランギニョル       16           1.0 2003-11-05\n108                  未來のイヴ       16           1.0 2003-11-05\n135                  聖少女領域       15           1.0 2005-10-26\n191                 雪華懺悔心中       11           1.0 2008-08-27\n251                   凶夢伝染        8           1.0 2012-01-25\n282               Lolicate        6           1.0 2014-08-27\n319                まだら恋椿外道        4           1.0 2016-08-24\n322                  卑弥呼外伝        3           1.0 2017-03-29\n326                  芸術変態論        2           1.0 2018-07-25\n331                     青空        2           1.0 2018-07-25\n336                    魅惑劇        2           1.0 2018-07-25\n338         BArADiPArADicA        1           1.0 2019-08-28\n339                21世紀新青年        1           1.0 2019-08-28\n340             リアル×ファンタジー        1           1.0 2019-08-28\n341  Maison de Bonbonnière        1           1.0 2019-08-28\n343                   自由戀愛        1           1.0 2019-08-28\n344             少女のための残酷童話        1           1.0 2019-08-28"
     },
     "execution_count": 256,
     "metadata": {},
     "output_type": "execute_result"
    }
   ],
   "source": [
    "tmp = result.loc[:]\n",
    "tmp['under30_mean'] = tmp.under30 / tmp.count_all\n",
    "tmp.sort_values(['under30_mean', 'date'], ascending=[False, True]) \\\n",
    "   .query('under30_mean >= 1') \\\n",
    "   [['title', 'under30', 'under30_mean', 'date']]"
   ]
  },
  {
   "cell_type": "code",
   "execution_count": 305,
   "metadata": {},
   "outputs": [
    {
     "data": {
      "text/html": "<div>\n<style scoped>\n    .dataframe tbody tr th:only-of-type {\n        vertical-align: middle;\n    }\n\n    .dataframe tbody tr th {\n        vertical-align: top;\n    }\n\n    .dataframe thead th {\n        text-align: right;\n    }\n</style>\n<table border=\"1\" class=\"dataframe\">\n  <thead>\n    <tr style=\"text-align: right;\">\n      <th></th>\n      <th>title</th>\n      <th>under50</th>\n      <th>under50_mean</th>\n      <th>date</th>\n    </tr>\n    <tr>\n      <th>no</th>\n      <th></th>\n      <th></th>\n      <th></th>\n      <th></th>\n    </tr>\n  </thead>\n  <tbody>\n    <tr>\n      <th>99</th>\n      <td>戦争と平和</td>\n      <td>16</td>\n      <td>1.0</td>\n      <td>2002-07-24</td>\n    </tr>\n    <tr>\n      <th>107</th>\n      <td>月蝕グランギニョル</td>\n      <td>16</td>\n      <td>1.0</td>\n      <td>2003-11-05</td>\n    </tr>\n    <tr>\n      <th>108</th>\n      <td>未來のイヴ</td>\n      <td>16</td>\n      <td>1.0</td>\n      <td>2003-11-05</td>\n    </tr>\n    <tr>\n      <th>112</th>\n      <td>地獄の季節</td>\n      <td>16</td>\n      <td>1.0</td>\n      <td>2003-12-03</td>\n    </tr>\n    <tr>\n      <th>121</th>\n      <td>禁じられた遊び</td>\n      <td>16</td>\n      <td>1.0</td>\n      <td>2004-10-22</td>\n    </tr>\n    <tr>\n      <th>135</th>\n      <td>聖少女領域</td>\n      <td>15</td>\n      <td>1.0</td>\n      <td>2005-10-26</td>\n    </tr>\n    <tr>\n      <th>145</th>\n      <td>GOD DIVA</td>\n      <td>14</td>\n      <td>1.0</td>\n      <td>2006-06-28</td>\n    </tr>\n    <tr>\n      <th>149</th>\n      <td>KING KNIGHT</td>\n      <td>14</td>\n      <td>1.0</td>\n      <td>2006-09-21</td>\n    </tr>\n    <tr>\n      <th>152</th>\n      <td>勇侠青春謳</td>\n      <td>14</td>\n      <td>1.0</td>\n      <td>2006-10-25</td>\n    </tr>\n    <tr>\n      <th>168</th>\n      <td>青嵐血風録</td>\n      <td>12</td>\n      <td>1.0</td>\n      <td>2007-08-22</td>\n    </tr>\n    <tr>\n      <th>191</th>\n      <td>雪華懺悔心中</td>\n      <td>11</td>\n      <td>1.0</td>\n      <td>2008-08-27</td>\n    </tr>\n    <tr>\n      <th>251</th>\n      <td>凶夢伝染</td>\n      <td>8</td>\n      <td>1.0</td>\n      <td>2012-01-25</td>\n    </tr>\n    <tr>\n      <th>282</th>\n      <td>Lolicate</td>\n      <td>6</td>\n      <td>1.0</td>\n      <td>2014-08-27</td>\n    </tr>\n    <tr>\n      <th>319</th>\n      <td>まだら恋椿外道</td>\n      <td>4</td>\n      <td>1.0</td>\n      <td>2016-08-24</td>\n    </tr>\n    <tr>\n      <th>320</th>\n      <td>悪しき進化</td>\n      <td>4</td>\n      <td>1.0</td>\n      <td>2016-08-24</td>\n    </tr>\n    <tr>\n      <th>322</th>\n      <td>卑弥呼外伝</td>\n      <td>3</td>\n      <td>1.0</td>\n      <td>2017-03-29</td>\n    </tr>\n    <tr>\n      <th>326</th>\n      <td>芸術変態論</td>\n      <td>2</td>\n      <td>1.0</td>\n      <td>2018-07-25</td>\n    </tr>\n    <tr>\n      <th>331</th>\n      <td>青空</td>\n      <td>2</td>\n      <td>1.0</td>\n      <td>2018-07-25</td>\n    </tr>\n    <tr>\n      <th>333</th>\n      <td>或る修道士の告解</td>\n      <td>2</td>\n      <td>1.0</td>\n      <td>2018-07-25</td>\n    </tr>\n    <tr>\n      <th>336</th>\n      <td>魅惑劇</td>\n      <td>2</td>\n      <td>1.0</td>\n      <td>2018-07-25</td>\n    </tr>\n    <tr>\n      <th>338</th>\n      <td>BArADiPArADicA</td>\n      <td>1</td>\n      <td>1.0</td>\n      <td>2019-08-28</td>\n    </tr>\n    <tr>\n      <th>339</th>\n      <td>21世紀新青年</td>\n      <td>1</td>\n      <td>1.0</td>\n      <td>2019-08-28</td>\n    </tr>\n    <tr>\n      <th>340</th>\n      <td>リアル×ファンタジー</td>\n      <td>1</td>\n      <td>1.0</td>\n      <td>2019-08-28</td>\n    </tr>\n    <tr>\n      <th>341</th>\n      <td>Maison de Bonbonnière</td>\n      <td>1</td>\n      <td>1.0</td>\n      <td>2019-08-28</td>\n    </tr>\n    <tr>\n      <th>343</th>\n      <td>自由戀愛</td>\n      <td>1</td>\n      <td>1.0</td>\n      <td>2019-08-28</td>\n    </tr>\n    <tr>\n      <th>344</th>\n      <td>少女のための残酷童話</td>\n      <td>1</td>\n      <td>1.0</td>\n      <td>2019-08-28</td>\n    </tr>\n  </tbody>\n</table>\n</div>",
      "text/plain": "                     title  under50  under50_mean       date\nno                                                          \n99                   戦争と平和       16           1.0 2002-07-24\n107              月蝕グランギニョル       16           1.0 2003-11-05\n108                  未來のイヴ       16           1.0 2003-11-05\n112                  地獄の季節       16           1.0 2003-12-03\n121                禁じられた遊び       16           1.0 2004-10-22\n135                  聖少女領域       15           1.0 2005-10-26\n145               GOD DIVA       14           1.0 2006-06-28\n149            KING KNIGHT       14           1.0 2006-09-21\n152                  勇侠青春謳       14           1.0 2006-10-25\n168                  青嵐血風録       12           1.0 2007-08-22\n191                 雪華懺悔心中       11           1.0 2008-08-27\n251                   凶夢伝染        8           1.0 2012-01-25\n282               Lolicate        6           1.0 2014-08-27\n319                まだら恋椿外道        4           1.0 2016-08-24\n320                  悪しき進化        4           1.0 2016-08-24\n322                  卑弥呼外伝        3           1.0 2017-03-29\n326                  芸術変態論        2           1.0 2018-07-25\n331                     青空        2           1.0 2018-07-25\n333               或る修道士の告解        2           1.0 2018-07-25\n336                    魅惑劇        2           1.0 2018-07-25\n338         BArADiPArADicA        1           1.0 2019-08-28\n339                21世紀新青年        1           1.0 2019-08-28\n340             リアル×ファンタジー        1           1.0 2019-08-28\n341  Maison de Bonbonnière        1           1.0 2019-08-28\n343                   自由戀愛        1           1.0 2019-08-28\n344             少女のための残酷童話        1           1.0 2019-08-28"
     },
     "execution_count": 305,
     "metadata": {},
     "output_type": "execute_result"
    }
   ],
   "source": [
    "tmp = result.loc[:, :]\n",
    "tmp['under50_mean'] = tmp.under50 / tmp.count_all\n",
    "tmp.sort_values(['under50_mean', 'date'], ascending=[False, True]) \\\n",
    "   .query('under50_mean >= 1') \\\n",
    "   [['title', 'under50', 'under50_mean', 'date']]"
   ]
  },
  {
   "cell_type": "code",
   "execution_count": 257,
   "metadata": {},
   "outputs": [
    {
     "data": {
      "text/html": "<div>\n<style scoped>\n    .dataframe tbody tr th:only-of-type {\n        vertical-align: middle;\n    }\n\n    .dataframe tbody tr th {\n        vertical-align: top;\n    }\n\n    .dataframe thead th {\n        text-align: right;\n    }\n</style>\n<table border=\"1\" class=\"dataframe\">\n  <thead>\n    <tr style=\"text-align: right;\">\n      <th></th>\n      <th>title</th>\n      <th>under100</th>\n      <th>under100_mean</th>\n      <th>date</th>\n    </tr>\n    <tr>\n      <th>no</th>\n      <th></th>\n      <th></th>\n      <th></th>\n      <th></th>\n    </tr>\n  </thead>\n  <tbody>\n    <tr>\n      <th>24</th>\n      <td>嵐ヶ丘</td>\n      <td>16</td>\n      <td>1.0</td>\n      <td>1993-06-09</td>\n    </tr>\n    <tr>\n      <th>72</th>\n      <td>コッペリアの柩</td>\n      <td>16</td>\n      <td>1.0</td>\n      <td>1999-12-24</td>\n    </tr>\n    <tr>\n      <th>99</th>\n      <td>戦争と平和</td>\n      <td>16</td>\n      <td>1.0</td>\n      <td>2002-07-24</td>\n    </tr>\n    <tr>\n      <th>107</th>\n      <td>月蝕グランギニョル</td>\n      <td>16</td>\n      <td>1.0</td>\n      <td>2003-11-05</td>\n    </tr>\n    <tr>\n      <th>108</th>\n      <td>未來のイヴ</td>\n      <td>16</td>\n      <td>1.0</td>\n      <td>2003-11-05</td>\n    </tr>\n    <tr>\n      <th>112</th>\n      <td>地獄の季節</td>\n      <td>16</td>\n      <td>1.0</td>\n      <td>2003-12-03</td>\n    </tr>\n    <tr>\n      <th>121</th>\n      <td>禁じられた遊び</td>\n      <td>16</td>\n      <td>1.0</td>\n      <td>2004-10-22</td>\n    </tr>\n    <tr>\n      <th>126</th>\n      <td>人生美味礼讃</td>\n      <td>16</td>\n      <td>1.0</td>\n      <td>2005-06-22</td>\n    </tr>\n    <tr>\n      <th>135</th>\n      <td>聖少女領域</td>\n      <td>15</td>\n      <td>1.0</td>\n      <td>2005-10-26</td>\n    </tr>\n    <tr>\n      <th>145</th>\n      <td>GOD DIVA</td>\n      <td>14</td>\n      <td>1.0</td>\n      <td>2006-06-28</td>\n    </tr>\n    <tr>\n      <th>149</th>\n      <td>KING KNIGHT</td>\n      <td>14</td>\n      <td>1.0</td>\n      <td>2006-09-21</td>\n    </tr>\n    <tr>\n      <th>152</th>\n      <td>勇侠青春謳</td>\n      <td>14</td>\n      <td>1.0</td>\n      <td>2006-10-25</td>\n    </tr>\n    <tr>\n      <th>158</th>\n      <td>薔薇獄乙女</td>\n      <td>14</td>\n      <td>1.0</td>\n      <td>2006-12-06</td>\n    </tr>\n    <tr>\n      <th>166</th>\n      <td>跪いて足をお嘗め</td>\n      <td>12</td>\n      <td>1.0</td>\n      <td>2007-06-13</td>\n    </tr>\n    <tr>\n      <th>168</th>\n      <td>青嵐血風録</td>\n      <td>12</td>\n      <td>1.0</td>\n      <td>2007-08-22</td>\n    </tr>\n    <tr>\n      <th>169</th>\n      <td>暗黒サイケデリック</td>\n      <td>12</td>\n      <td>1.0</td>\n      <td>2007-08-22</td>\n    </tr>\n    <tr>\n      <th>171</th>\n      <td>胡蝶夢心中</td>\n      <td>12</td>\n      <td>1.0</td>\n      <td>2007-08-22</td>\n    </tr>\n    <tr>\n      <th>173</th>\n      <td>欲望</td>\n      <td>12</td>\n      <td>1.0</td>\n      <td>2007-08-22</td>\n    </tr>\n    <tr>\n      <th>174</th>\n      <td>暴夜layla幻談</td>\n      <td>12</td>\n      <td>1.0</td>\n      <td>2007-08-22</td>\n    </tr>\n    <tr>\n      <th>179</th>\n      <td>逢魔ヶ恋</td>\n      <td>12</td>\n      <td>1.0</td>\n      <td>2007-10-03</td>\n    </tr>\n    <tr>\n      <th>183</th>\n      <td>わが﨟たし悪の華</td>\n      <td>11</td>\n      <td>1.0</td>\n      <td>2008-07-30</td>\n    </tr>\n    <tr>\n      <th>191</th>\n      <td>雪華懺悔心中</td>\n      <td>11</td>\n      <td>1.0</td>\n      <td>2008-08-27</td>\n    </tr>\n    <tr>\n      <th>204</th>\n      <td>Poisoner</td>\n      <td>10</td>\n      <td>1.0</td>\n      <td>2009-08-26</td>\n    </tr>\n    <tr>\n      <th>226</th>\n      <td>刀と鞘</td>\n      <td>9</td>\n      <td>1.0</td>\n      <td>2010-08-25</td>\n    </tr>\n    <tr>\n      <th>251</th>\n      <td>凶夢伝染</td>\n      <td>8</td>\n      <td>1.0</td>\n      <td>2012-01-25</td>\n    </tr>\n    <tr>\n      <th>263</th>\n      <td>RED WALTZ</td>\n      <td>8</td>\n      <td>1.0</td>\n      <td>2012-07-18</td>\n    </tr>\n    <tr>\n      <th>273</th>\n      <td>少女と水蜜桃</td>\n      <td>7</td>\n      <td>1.0</td>\n      <td>2013-09-11</td>\n    </tr>\n    <tr>\n      <th>282</th>\n      <td>Lolicate</td>\n      <td>6</td>\n      <td>1.0</td>\n      <td>2014-08-27</td>\n    </tr>\n    <tr>\n      <th>293</th>\n      <td>L’Amour Looks Something Like You</td>\n      <td>5</td>\n      <td>1.0</td>\n      <td>2015-01-21</td>\n    </tr>\n    <tr>\n      <th>302</th>\n      <td>放蕩娘と無慈悲な遊戯</td>\n      <td>5</td>\n      <td>1.0</td>\n      <td>2015-09-09</td>\n    </tr>\n    <tr>\n      <th>314</th>\n      <td>薔薇美と百合寧の不思議なホテル</td>\n      <td>4</td>\n      <td>1.0</td>\n      <td>2016-08-24</td>\n    </tr>\n    <tr>\n      <th>315</th>\n      <td>絶叫哲学</td>\n      <td>4</td>\n      <td>1.0</td>\n      <td>2016-08-24</td>\n    </tr>\n    <tr>\n      <th>319</th>\n      <td>まだら恋椿外道</td>\n      <td>4</td>\n      <td>1.0</td>\n      <td>2016-08-24</td>\n    </tr>\n    <tr>\n      <th>320</th>\n      <td>悪しき進化</td>\n      <td>4</td>\n      <td>1.0</td>\n      <td>2016-08-24</td>\n    </tr>\n    <tr>\n      <th>322</th>\n      <td>卑弥呼外伝</td>\n      <td>3</td>\n      <td>1.0</td>\n      <td>2017-03-29</td>\n    </tr>\n    <tr>\n      <th>324</th>\n      <td>少女蜜葬 ～Le sang et le miel</td>\n      <td>3</td>\n      <td>1.0</td>\n      <td>2017-06-21</td>\n    </tr>\n    <tr>\n      <th>326</th>\n      <td>芸術変態論</td>\n      <td>2</td>\n      <td>1.0</td>\n      <td>2018-07-25</td>\n    </tr>\n    <tr>\n      <th>329</th>\n      <td>少女昆蟲記</td>\n      <td>2</td>\n      <td>1.0</td>\n      <td>2018-07-25</td>\n    </tr>\n    <tr>\n      <th>331</th>\n      <td>青空</td>\n      <td>2</td>\n      <td>1.0</td>\n      <td>2018-07-25</td>\n    </tr>\n    <tr>\n      <th>332</th>\n      <td>極まれリ</td>\n      <td>2</td>\n      <td>1.0</td>\n      <td>2018-07-25</td>\n    </tr>\n    <tr>\n      <th>333</th>\n      <td>或る修道士の告解</td>\n      <td>2</td>\n      <td>1.0</td>\n      <td>2018-07-25</td>\n    </tr>\n    <tr>\n      <th>336</th>\n      <td>魅惑劇</td>\n      <td>2</td>\n      <td>1.0</td>\n      <td>2018-07-25</td>\n    </tr>\n    <tr>\n      <th>337</th>\n      <td>美しき獣たちの為の</td>\n      <td>1</td>\n      <td>1.0</td>\n      <td>2019-02-13</td>\n    </tr>\n    <tr>\n      <th>338</th>\n      <td>BArADiPArADicA</td>\n      <td>1</td>\n      <td>1.0</td>\n      <td>2019-08-28</td>\n    </tr>\n    <tr>\n      <th>339</th>\n      <td>21世紀新青年</td>\n      <td>1</td>\n      <td>1.0</td>\n      <td>2019-08-28</td>\n    </tr>\n    <tr>\n      <th>340</th>\n      <td>リアル×ファンタジー</td>\n      <td>1</td>\n      <td>1.0</td>\n      <td>2019-08-28</td>\n    </tr>\n    <tr>\n      <th>341</th>\n      <td>Maison de Bonbonnière</td>\n      <td>1</td>\n      <td>1.0</td>\n      <td>2019-08-28</td>\n    </tr>\n    <tr>\n      <th>343</th>\n      <td>自由戀愛</td>\n      <td>1</td>\n      <td>1.0</td>\n      <td>2019-08-28</td>\n    </tr>\n    <tr>\n      <th>344</th>\n      <td>少女のための残酷童話</td>\n      <td>1</td>\n      <td>1.0</td>\n      <td>2019-08-28</td>\n    </tr>\n    <tr>\n      <th>345</th>\n      <td>恐怖の頭脳改革</td>\n      <td>1</td>\n      <td>1.0</td>\n      <td>2019-08-28</td>\n    </tr>\n    <tr>\n      <th>346</th>\n      <td>地球で</td>\n      <td>1</td>\n      <td>1.0</td>\n      <td>2019-08-28</td>\n    </tr>\n    <tr>\n      <th>348</th>\n      <td>WALTZ FOR DEBBY (Bill Evans)</td>\n      <td>1</td>\n      <td>1.0</td>\n      <td>2019-08-28</td>\n    </tr>\n  </tbody>\n</table>\n</div>",
      "text/plain": "                                title  under100  under100_mean       date\nno                                                                       \n24                                嵐ヶ丘        16            1.0 1993-06-09\n72                            コッペリアの柩        16            1.0 1999-12-24\n99                              戦争と平和        16            1.0 2002-07-24\n107                         月蝕グランギニョル        16            1.0 2003-11-05\n108                             未來のイヴ        16            1.0 2003-11-05\n112                             地獄の季節        16            1.0 2003-12-03\n121                           禁じられた遊び        16            1.0 2004-10-22\n126                            人生美味礼讃        16            1.0 2005-06-22\n135                             聖少女領域        15            1.0 2005-10-26\n145                          GOD DIVA        14            1.0 2006-06-28\n149                       KING KNIGHT        14            1.0 2006-09-21\n152                             勇侠青春謳        14            1.0 2006-10-25\n158                             薔薇獄乙女        14            1.0 2006-12-06\n166                          跪いて足をお嘗め        12            1.0 2007-06-13\n168                             青嵐血風録        12            1.0 2007-08-22\n169                         暗黒サイケデリック        12            1.0 2007-08-22\n171                             胡蝶夢心中        12            1.0 2007-08-22\n173                                欲望        12            1.0 2007-08-22\n174                         暴夜layla幻談        12            1.0 2007-08-22\n179                              逢魔ヶ恋        12            1.0 2007-10-03\n183                          わが﨟たし悪の華        11            1.0 2008-07-30\n191                            雪華懺悔心中        11            1.0 2008-08-27\n204                          Poisoner        10            1.0 2009-08-26\n226                               刀と鞘         9            1.0 2010-08-25\n251                              凶夢伝染         8            1.0 2012-01-25\n263                         RED WALTZ         8            1.0 2012-07-18\n273                            少女と水蜜桃         7            1.0 2013-09-11\n282                          Lolicate         6            1.0 2014-08-27\n293  L’Amour Looks Something Like You         5            1.0 2015-01-21\n302                        放蕩娘と無慈悲な遊戯         5            1.0 2015-09-09\n314                   薔薇美と百合寧の不思議なホテル         4            1.0 2016-08-24\n315                              絶叫哲学         4            1.0 2016-08-24\n319                           まだら恋椿外道         4            1.0 2016-08-24\n320                             悪しき進化         4            1.0 2016-08-24\n322                             卑弥呼外伝         3            1.0 2017-03-29\n324          少女蜜葬 ～Le sang et le miel         3            1.0 2017-06-21\n326                             芸術変態論         2            1.0 2018-07-25\n329                             少女昆蟲記         2            1.0 2018-07-25\n331                                青空         2            1.0 2018-07-25\n332                              極まれリ         2            1.0 2018-07-25\n333                          或る修道士の告解         2            1.0 2018-07-25\n336                               魅惑劇         2            1.0 2018-07-25\n337                         美しき獣たちの為の         1            1.0 2019-02-13\n338                    BArADiPArADicA         1            1.0 2019-08-28\n339                           21世紀新青年         1            1.0 2019-08-28\n340                        リアル×ファンタジー         1            1.0 2019-08-28\n341             Maison de Bonbonnière         1            1.0 2019-08-28\n343                              自由戀愛         1            1.0 2019-08-28\n344                        少女のための残酷童話         1            1.0 2019-08-28\n345                           恐怖の頭脳改革         1            1.0 2019-08-28\n346                               地球で         1            1.0 2019-08-28\n348      WALTZ FOR DEBBY (Bill Evans)         1            1.0 2019-08-28"
     },
     "execution_count": 257,
     "metadata": {},
     "output_type": "execute_result"
    }
   ],
   "source": [
    "tmp = result.loc[:, :]\n",
    "tmp['under100_mean'] = tmp.under100 / tmp.count_all\n",
    "tmp.sort_values(['under100_mean', 'date'], ascending=[False, True]) \\\n",
    "   .query('under100_mean >= 1') \\\n",
    "   [['title', 'under100', 'under100_mean', 'date']]"
   ]
  },
  {
   "cell_type": "markdown",
   "execution_count": 10,
   "metadata": {},
   "outputs": [],
   "source": [
    "# URA ranking"
   ]
  },
  {
   "cell_type": "code",
   "execution_count": 258,
   "metadata": {},
   "outputs": [
    {
     "data": {
      "text/html": "<div>\n<style scoped>\n    .dataframe tbody tr th:only-of-type {\n        vertical-align: middle;\n    }\n\n    .dataframe tbody tr th {\n        vertical-align: top;\n    }\n\n    .dataframe thead th {\n        text-align: right;\n    }\n</style>\n<table border=\"1\" class=\"dataframe\">\n  <thead>\n    <tr style=\"text-align: right;\">\n      <th></th>\n      <th>title</th>\n      <th>date</th>\n      <th>initial</th>\n      <th>kind</th>\n      <th>2007</th>\n      <th>2008</th>\n      <th>2009</th>\n      <th>2010</th>\n      <th>2011</th>\n      <th>2012</th>\n      <th>...</th>\n      <th>under30</th>\n      <th>under50</th>\n      <th>under100</th>\n      <th>under200</th>\n      <th>count_all</th>\n      <th>count</th>\n      <th>rank_average</th>\n      <th>rank_average_exclude_debut</th>\n      <th>rank_highest</th>\n      <th>rank_highest_exclude_debut</th>\n    </tr>\n    <tr>\n      <th>no</th>\n      <th></th>\n      <th></th>\n      <th></th>\n      <th></th>\n      <th></th>\n      <th></th>\n      <th></th>\n      <th></th>\n      <th></th>\n      <th></th>\n      <th></th>\n      <th></th>\n      <th></th>\n      <th></th>\n      <th></th>\n      <th></th>\n      <th></th>\n      <th></th>\n      <th></th>\n      <th></th>\n      <th></th>\n    </tr>\n  </thead>\n  <tbody>\n    <tr>\n      <th>1</th>\n      <td>桜の花は狂い咲き</td>\n      <td>1997-04-25</td>\n      <td>2005</td>\n      <td>[SA, OA, OT]</td>\n      <td>86.0</td>\n      <td>126.0</td>\n      <td>116.0</td>\n      <td>109.0</td>\n      <td>96.0</td>\n      <td>123.0</td>\n      <td>...</td>\n      <td>0</td>\n      <td>0</td>\n      <td>4</td>\n      <td>13</td>\n      <td>16</td>\n      <td>13</td>\n      <td>61.0</td>\n      <td>49.0</td>\n      <td>100.0</td>\n      <td>67.0</td>\n    </tr>\n    <tr>\n      <th>3</th>\n      <td>マリーゴールド・ガーデン</td>\n      <td>1988-01-25</td>\n      <td>2005</td>\n      <td>[SA, OA, S-2]</td>\n      <td>141.0</td>\n      <td>162.0</td>\n      <td>142.0</td>\n      <td>150.0</td>\n      <td>175.0</td>\n      <td>141.0</td>\n      <td>...</td>\n      <td>0</td>\n      <td>0</td>\n      <td>0</td>\n      <td>10</td>\n      <td>16</td>\n      <td>13</td>\n      <td>128.0</td>\n      <td>123.0</td>\n      <td>185.0</td>\n      <td>167.0</td>\n    </tr>\n    <tr>\n      <th>4</th>\n      <td>鏡面界 im Juni</td>\n      <td>1988-01-25</td>\n      <td>2005</td>\n      <td>[OA]</td>\n      <td>165.0</td>\n      <td>185.0</td>\n      <td>181.0</td>\n      <td>171.0</td>\n      <td>204.0</td>\n      <td>131.0</td>\n      <td>...</td>\n      <td>0</td>\n      <td>0</td>\n      <td>0</td>\n      <td>7</td>\n      <td>16</td>\n      <td>13</td>\n      <td>178.0</td>\n      <td>165.0</td>\n      <td>172.0</td>\n      <td>155.0</td>\n    </tr>\n    <tr>\n      <th>5</th>\n      <td>アンジェ・ノワールの祭戯</td>\n      <td>1988-01-25</td>\n      <td>2005</td>\n      <td>[SA, OA]</td>\n      <td>109.0</td>\n      <td>131.0</td>\n      <td>111.0</td>\n      <td>93.0</td>\n      <td>81.0</td>\n      <td>96.0</td>\n      <td>...</td>\n      <td>0</td>\n      <td>0</td>\n      <td>4</td>\n      <td>12</td>\n      <td>16</td>\n      <td>13</td>\n      <td>68.0</td>\n      <td>55.0</td>\n      <td>89.0</td>\n      <td>58.0</td>\n    </tr>\n    <tr>\n      <th>6</th>\n      <td>紅い睡蓮の午後</td>\n      <td>1988-01-25</td>\n      <td>2005</td>\n      <td>[SA, OA]</td>\n      <td>144.0</td>\n      <td>176.0</td>\n      <td>153.0</td>\n      <td>164.0</td>\n      <td>188.0</td>\n      <td>204.0</td>\n      <td>...</td>\n      <td>0</td>\n      <td>0</td>\n      <td>0</td>\n      <td>8</td>\n      <td>16</td>\n      <td>13</td>\n      <td>152.0</td>\n      <td>146.0</td>\n      <td>181.0</td>\n      <td>162.0</td>\n    </tr>\n  </tbody>\n</table>\n<p>5 rows × 36 columns</p>\n</div>",
      "text/plain": "           title       date initial           kind   2007   2008   2009  \\\nno                                                                        \n1       桜の花は狂い咲き 1997-04-25    2005   [SA, OA, OT]   86.0  126.0  116.0   \n3   マリーゴールド・ガーデン 1988-01-25    2005  [SA, OA, S-2]  141.0  162.0  142.0   \n4    鏡面界 im Juni 1988-01-25    2005           [OA]  165.0  185.0  181.0   \n5   アンジェ・ノワールの祭戯 1988-01-25    2005       [SA, OA]  109.0  131.0  111.0   \n6        紅い睡蓮の午後 1988-01-25    2005       [SA, OA]  144.0  176.0  153.0   \n\n     2010   2011   2012  ...  under30  under50  under100  under200  count_all  \\\nno                       ...                                                    \n1   109.0   96.0  123.0  ...        0        0         4        13         16   \n3   150.0  175.0  141.0  ...        0        0         0        10         16   \n4   171.0  204.0  131.0  ...        0        0         0         7         16   \n5    93.0   81.0   96.0  ...        0        0         4        12         16   \n6   164.0  188.0  204.0  ...        0        0         0         8         16   \n\n    count  rank_average rank_average_exclude_debut  rank_highest  \\\nno                                                                 \n1      13          61.0                       49.0         100.0   \n3      13         128.0                      123.0         185.0   \n4      13         178.0                      165.0         172.0   \n5      13          68.0                       55.0          89.0   \n6      13         152.0                      146.0         181.0   \n\n    rank_highest_exclude_debut  \nno                              \n1                         67.0  \n3                        167.0  \n4                        155.0  \n5                         58.0  \n6                        162.0  \n\n[5 rows x 36 columns]"
     },
     "execution_count": 258,
     "metadata": {},
     "output_type": "execute_result"
    }
   ],
   "source": [
    "RANK = [2007, 2008, 2009, 2010, 2011, 2012, 2013, 2014, 2015, 2016, 2017, 2018, 2019]\n",
    "\n",
    "# ura ranking\n",
    "ura = df[df[URA] > 100][COLUMNS]\n",
    "ura['rank_average'] = ura.average.rank(method='min', na_option='bottom')\n",
    "ura['rank_average_exclude_debut'] = ura.average_exclude_debut.rank(method='min', na_option='bottom')\n",
    "ura['rank_highest'] = ura.highest.rank(method='min', na_option='bottom')\n",
    "ura['rank_highest_exclude_debut'] = ura.highest_exclude_debut.rank(method='min', na_option='bottom')\n",
    "\n",
    "ura.head()"
   ]
  },
  {
   "cell_type": "code",
   "execution_count": 259,
   "metadata": {},
   "outputs": [
    {
     "data": {
      "text/html": "<div>\n<style scoped>\n    .dataframe tbody tr th:only-of-type {\n        vertical-align: middle;\n    }\n\n    .dataframe tbody tr th {\n        vertical-align: top;\n    }\n\n    .dataframe thead th {\n        text-align: right;\n    }\n</style>\n<table border=\"1\" class=\"dataframe\">\n  <thead>\n    <tr style=\"text-align: right;\">\n      <th></th>\n      <th>title</th>\n      <th>rank_average_exclude_debut</th>\n      <th>average_exclude_debut</th>\n      <th>date</th>\n    </tr>\n    <tr>\n      <th>no</th>\n      <th></th>\n      <th></th>\n      <th></th>\n      <th></th>\n    </tr>\n  </thead>\n  <tbody>\n    <tr>\n      <th>185</th>\n      <td>神風</td>\n      <td>1</td>\n      <td>39.400000</td>\n      <td>2008-08-27</td>\n    </tr>\n    <tr>\n      <th>261</th>\n      <td>真夏の憂愁夫人</td>\n      <td>2</td>\n      <td>44.857143</td>\n      <td>2012-07-18</td>\n    </tr>\n    <tr>\n      <th>269</th>\n      <td>ローズ家の双子達</td>\n      <td>3</td>\n      <td>52.333333</td>\n      <td>2013-09-11</td>\n    </tr>\n    <tr>\n      <th>268</th>\n      <td>令嬢薔薇図鑑</td>\n      <td>4</td>\n      <td>59.166667</td>\n      <td>2013-09-11</td>\n    </tr>\n    <tr>\n      <th>130</th>\n      <td>昭和恋々幻燈館</td>\n      <td>5</td>\n      <td>62.692308</td>\n      <td>2005-06-22</td>\n    </tr>\n    <tr>\n      <th>205</th>\n      <td>処女懐胎、あるいは白骨塔より少女達は飛翔する</td>\n      <td>6</td>\n      <td>63.222222</td>\n      <td>2009-08-26</td>\n    </tr>\n    <tr>\n      <th>195</th>\n      <td>鬼帝の剣</td>\n      <td>7</td>\n      <td>64.300000</td>\n      <td>2008-11-19</td>\n    </tr>\n    <tr>\n      <th>264</th>\n      <td>快恠奇奇</td>\n      <td>8</td>\n      <td>66.500000</td>\n      <td>2013-02-20</td>\n    </tr>\n    <tr>\n      <th>181</th>\n      <td>コトダマ</td>\n      <td>9</td>\n      <td>67.000000</td>\n      <td>2008-01-23</td>\n    </tr>\n    <tr>\n      <th>274</th>\n      <td>黒百合隠密カゲキダン</td>\n      <td>10</td>\n      <td>69.833333</td>\n      <td>2013-09-11</td>\n    </tr>\n    <tr>\n      <th>215</th>\n      <td>堕天國宣戦</td>\n      <td>11</td>\n      <td>72.666667</td>\n      <td>2009-10-21</td>\n    </tr>\n    <tr>\n      <th>317</th>\n      <td>昭和B級下手喰い道</td>\n      <td>12</td>\n      <td>78.333333</td>\n      <td>2016-08-24</td>\n    </tr>\n    <tr>\n      <th>164</th>\n      <td>暗黒天国</td>\n      <td>13</td>\n      <td>78.636364</td>\n      <td>2007-05-23</td>\n    </tr>\n    <tr>\n      <th>206</th>\n      <td>お毒味LADY</td>\n      <td>14</td>\n      <td>79.888889</td>\n      <td>2009-08-26</td>\n    </tr>\n    <tr>\n      <th>318</th>\n      <td>女化生舞楽図</td>\n      <td>15</td>\n      <td>83.666667</td>\n      <td>2016-08-24</td>\n    </tr>\n    <tr>\n      <th>224</th>\n      <td>亂世エロイカ</td>\n      <td>16</td>\n      <td>86.125000</td>\n      <td>2010-07-14</td>\n    </tr>\n    <tr>\n      <th>175</th>\n      <td>六道輪廻サバイバル</td>\n      <td>17</td>\n      <td>86.181818</td>\n      <td>2007-08-22</td>\n    </tr>\n    <tr>\n      <th>187</th>\n      <td>ヘテロ失楽園</td>\n      <td>18</td>\n      <td>88.500000</td>\n      <td>2008-08-27</td>\n    </tr>\n    <tr>\n      <th>299</th>\n      <td>陸と海と空と</td>\n      <td>19</td>\n      <td>89.250000</td>\n      <td>2015-09-09</td>\n    </tr>\n    <tr>\n      <th>210</th>\n      <td>上海繚乱ロマンチカ</td>\n      <td>20</td>\n      <td>90.777778</td>\n      <td>2009-08-26</td>\n    </tr>\n    <tr>\n      <th>13</th>\n      <td>恋せよ乙女 -Love story of ZIPANG-</td>\n      <td>21</td>\n      <td>91.846154</td>\n      <td>1992-07-07</td>\n    </tr>\n    <tr>\n      <th>200</th>\n      <td>地獄の門</td>\n      <td>22</td>\n      <td>93.333333</td>\n      <td>2009-05-27</td>\n    </tr>\n    <tr>\n      <th>70</th>\n      <td>月光夜</td>\n      <td>23</td>\n      <td>96.461538</td>\n      <td>1998-11-21</td>\n    </tr>\n    <tr>\n      <th>230</th>\n      <td>平成日本残酷物語</td>\n      <td>24</td>\n      <td>96.625000</td>\n      <td>2010-09-26</td>\n    </tr>\n  </tbody>\n</table>\n</div>",
      "text/plain": "                            title  rank_average_exclude_debut  \\\nno                                                              \n185                            神風                           1   \n261                       真夏の憂愁夫人                           2   \n269                      ローズ家の双子達                           3   \n268                        令嬢薔薇図鑑                           4   \n130                       昭和恋々幻燈館                           5   \n205        処女懐胎、あるいは白骨塔より少女達は飛翔する                           6   \n195                          鬼帝の剣                           7   \n264                          快恠奇奇                           8   \n181                          コトダマ                           9   \n274                    黒百合隠密カゲキダン                          10   \n215                         堕天國宣戦                          11   \n317                     昭和B級下手喰い道                          12   \n164                          暗黒天国                          13   \n206                       お毒味LADY                          14   \n318                        女化生舞楽図                          15   \n224                        亂世エロイカ                          16   \n175                     六道輪廻サバイバル                          17   \n187                        ヘテロ失楽園                          18   \n299                        陸と海と空と                          19   \n210                     上海繚乱ロマンチカ                          20   \n13   恋せよ乙女 -Love story of ZIPANG-                          21   \n200                          地獄の門                          22   \n70                            月光夜                          23   \n230                      平成日本残酷物語                          24   \n\n     average_exclude_debut       date  \nno                                     \n185              39.400000 2008-08-27  \n261              44.857143 2012-07-18  \n269              52.333333 2013-09-11  \n268              59.166667 2013-09-11  \n130              62.692308 2005-06-22  \n205              63.222222 2009-08-26  \n195              64.300000 2008-11-19  \n264              66.500000 2013-02-20  \n181              67.000000 2008-01-23  \n274              69.833333 2013-09-11  \n215              72.666667 2009-10-21  \n317              78.333333 2016-08-24  \n164              78.636364 2007-05-23  \n206              79.888889 2009-08-26  \n318              83.666667 2016-08-24  \n224              86.125000 2010-07-14  \n175              86.181818 2007-08-22  \n187              88.500000 2008-08-27  \n299              89.250000 2015-09-09  \n210              90.777778 2009-08-26  \n13               91.846154 1992-07-07  \n200              93.333333 2009-05-27  \n70               96.461538 1998-11-21  \n230              96.625000 2010-09-26  "
     },
     "execution_count": 259,
     "metadata": {},
     "output_type": "execute_result"
    }
   ],
   "source": [
    "average_top = ura.sort_values(['rank_average_exclude_debut', 'date'], ascending=[True, True]) \\\n",
    "                 .query('average_exclude_debut <= 100') \\\n",
    "                 [['title', 'rank_average_exclude_debut', 'average_exclude_debut', 'date']].astype({'rank_average_exclude_debut': int})\n",
    "\n",
    "average_top"
   ]
  },
  {
   "cell_type": "code",
   "execution_count": 260,
   "metadata": {},
   "outputs": [
    {
     "name": "stdout",
     "output_type": "stream",
     "text": "1|神風|39.40\n2|真夏の憂愁夫人|44.86\n3|ローズ家の双子達|52.33\n4|令嬢薔薇図鑑|59.17\n5|昭和恋々幻燈館|62.69\n6|処女懐胎、あるいは白骨塔より少女達は飛翔する|63.22\n7|鬼帝の剣|64.30\n8|快恠奇奇|66.50\n9|コトダマ|67.00\n10|黒百合隠密カゲキダン|69.83\n11|堕天國宣戦|72.67\n12|昭和B級下手喰い道|78.33\n13|暗黒天国|78.64\n14|お毒味LADY|79.89\n15|女化生舞楽図|83.67\n16|亂世エロイカ|86.12\n17|六道輪廻サバイバル|86.18\n18|ヘテロ失楽園|88.50\n19|陸と海と空と|89.25\n20|上海繚乱ロマンチカ|90.78\n21|恋せよ乙女 -Love story of ZIPANG-|91.85\n22|地獄の門|93.33\n23|月光夜|96.46\n24|平成日本残酷物語|96.62\n"
    }
   ],
   "source": [
    "for no in average_top.index:\n",
    "    print(f'{average_top.at[no, \"rank_average_exclude_debut\"]}|{average_top.at[no, \"title\"]}|{average_top.at[no, \"average_exclude_debut\"]:.2f}')"
   ]
  },
  {
   "cell_type": "code",
   "execution_count": 261,
   "metadata": {},
   "outputs": [
    {
     "data": {
      "text/html": "<div>\n<style scoped>\n    .dataframe tbody tr th:only-of-type {\n        vertical-align: middle;\n    }\n\n    .dataframe tbody tr th {\n        vertical-align: top;\n    }\n\n    .dataframe thead th {\n        text-align: right;\n    }\n</style>\n<table border=\"1\" class=\"dataframe\">\n  <thead>\n    <tr style=\"text-align: right;\">\n      <th></th>\n      <th>title</th>\n      <th>rank_highest_exclude_debut</th>\n      <th>highest_exclude_debut</th>\n      <th>date</th>\n    </tr>\n    <tr>\n      <th>no</th>\n      <th></th>\n      <th></th>\n      <th></th>\n      <th></th>\n    </tr>\n  </thead>\n  <tbody>\n    <tr>\n      <th>261</th>\n      <td>真夏の憂愁夫人</td>\n      <td>1</td>\n      <td>9</td>\n      <td>2012-07-18</td>\n    </tr>\n    <tr>\n      <th>274</th>\n      <td>黒百合隠密カゲキダン</td>\n      <td>2</td>\n      <td>10</td>\n      <td>2013-09-11</td>\n    </tr>\n    <tr>\n      <th>269</th>\n      <td>ローズ家の双子達</td>\n      <td>3</td>\n      <td>12</td>\n      <td>2013-09-11</td>\n    </tr>\n    <tr>\n      <th>185</th>\n      <td>神風</td>\n      <td>4</td>\n      <td>14</td>\n      <td>2008-08-27</td>\n    </tr>\n    <tr>\n      <th>215</th>\n      <td>堕天國宣戦</td>\n      <td>4</td>\n      <td>14</td>\n      <td>2009-10-21</td>\n    </tr>\n    <tr>\n      <th>206</th>\n      <td>お毒味LADY</td>\n      <td>6</td>\n      <td>18</td>\n      <td>2009-08-26</td>\n    </tr>\n    <tr>\n      <th>205</th>\n      <td>処女懐胎、あるいは白骨塔より少女達は飛翔する</td>\n      <td>7</td>\n      <td>19</td>\n      <td>2009-08-26</td>\n    </tr>\n    <tr>\n      <th>164</th>\n      <td>暗黒天国</td>\n      <td>8</td>\n      <td>20</td>\n      <td>2007-05-23</td>\n    </tr>\n    <tr>\n      <th>195</th>\n      <td>鬼帝の剣</td>\n      <td>9</td>\n      <td>23</td>\n      <td>2008-11-19</td>\n    </tr>\n    <tr>\n      <th>268</th>\n      <td>令嬢薔薇図鑑</td>\n      <td>10</td>\n      <td>25</td>\n      <td>2013-09-11</td>\n    </tr>\n    <tr>\n      <th>301</th>\n      <td>快楽のススメ</td>\n      <td>11</td>\n      <td>26</td>\n      <td>2015-09-09</td>\n    </tr>\n    <tr>\n      <th>159</th>\n      <td>極楽荊姫</td>\n      <td>12</td>\n      <td>28</td>\n      <td>2006-12-06</td>\n    </tr>\n    <tr>\n      <th>198</th>\n      <td>裸々イヴ新世紀</td>\n      <td>13</td>\n      <td>29</td>\n      <td>2009-01-21</td>\n    </tr>\n    <tr>\n      <th>175</th>\n      <td>六道輪廻サバイバル</td>\n      <td>14</td>\n      <td>30</td>\n      <td>2007-08-22</td>\n    </tr>\n    <tr>\n      <th>122</th>\n      <td>あたしがアリスだった頃</td>\n      <td>15</td>\n      <td>31</td>\n      <td>2004-10-22</td>\n    </tr>\n    <tr>\n      <th>124</th>\n      <td>君がため、惜しからざりし命さへ</td>\n      <td>16</td>\n      <td>32</td>\n      <td>2005-06-08</td>\n    </tr>\n    <tr>\n      <th>181</th>\n      <td>コトダマ</td>\n      <td>16</td>\n      <td>32</td>\n      <td>2008-01-23</td>\n    </tr>\n    <tr>\n      <th>264</th>\n      <td>快恠奇奇</td>\n      <td>18</td>\n      <td>33</td>\n      <td>2013-02-20</td>\n    </tr>\n    <tr>\n      <th>186</th>\n      <td>黙示録前戯</td>\n      <td>19</td>\n      <td>34</td>\n      <td>2008-08-27</td>\n    </tr>\n    <tr>\n      <th>200</th>\n      <td>地獄の門</td>\n      <td>19</td>\n      <td>34</td>\n      <td>2009-05-27</td>\n    </tr>\n    <tr>\n      <th>240</th>\n      <td>Troubadour</td>\n      <td>19</td>\n      <td>34</td>\n      <td>2011-05-25</td>\n    </tr>\n    <tr>\n      <th>13</th>\n      <td>恋せよ乙女 -Love story of ZIPANG-</td>\n      <td>22</td>\n      <td>36</td>\n      <td>1992-07-07</td>\n    </tr>\n    <tr>\n      <th>130</th>\n      <td>昭和恋々幻燈館</td>\n      <td>23</td>\n      <td>37</td>\n      <td>2005-06-22</td>\n    </tr>\n    <tr>\n      <th>210</th>\n      <td>上海繚乱ロマンチカ</td>\n      <td>23</td>\n      <td>37</td>\n      <td>2009-08-26</td>\n    </tr>\n    <tr>\n      <th>224</th>\n      <td>亂世エロイカ</td>\n      <td>25</td>\n      <td>40</td>\n      <td>2010-07-14</td>\n    </tr>\n    <tr>\n      <th>276</th>\n      <td>見ぬ友へ</td>\n      <td>26</td>\n      <td>41</td>\n      <td>2013-09-11</td>\n    </tr>\n    <tr>\n      <th>257</th>\n      <td>真偽贋物遊覧会</td>\n      <td>27</td>\n      <td>42</td>\n      <td>2012-07-18</td>\n    </tr>\n    <tr>\n      <th>317</th>\n      <td>昭和B級下手喰い道</td>\n      <td>28</td>\n      <td>43</td>\n      <td>2016-08-24</td>\n    </tr>\n    <tr>\n      <th>37</th>\n      <td>Nous Deux C'est Pour La Vie</td>\n      <td>29</td>\n      <td>44</td>\n      <td>1995-10-18</td>\n    </tr>\n    <tr>\n      <th>70</th>\n      <td>月光夜</td>\n      <td>30</td>\n      <td>45</td>\n      <td>1998-11-21</td>\n    </tr>\n    <tr>\n      <th>138</th>\n      <td>百合と夜鶯</td>\n      <td>30</td>\n      <td>45</td>\n      <td>2005-12-07</td>\n    </tr>\n    <tr>\n      <th>209</th>\n      <td>Animals on the Earth</td>\n      <td>30</td>\n      <td>45</td>\n      <td>2009-08-26</td>\n    </tr>\n    <tr>\n      <th>96</th>\n      <td>schism</td>\n      <td>33</td>\n      <td>46</td>\n      <td>2002-07-24</td>\n    </tr>\n    <tr>\n      <th>154</th>\n      <td>La calèche ～春の雪</td>\n      <td>34</td>\n      <td>47</td>\n      <td>2006-12-06</td>\n    </tr>\n    <tr>\n      <th>318</th>\n      <td>女化生舞楽図</td>\n      <td>34</td>\n      <td>47</td>\n      <td>2016-08-24</td>\n    </tr>\n    <tr>\n      <th>43</th>\n      <td>Wish</td>\n      <td>36</td>\n      <td>48</td>\n      <td>1996-12-24</td>\n    </tr>\n    <tr>\n      <th>82</th>\n      <td>閉ざされた画室</td>\n      <td>36</td>\n      <td>48</td>\n      <td>2001-04-25</td>\n    </tr>\n    <tr>\n      <th>235</th>\n      <td>鹿鳴館ブギウギ</td>\n      <td>36</td>\n      <td>48</td>\n      <td>2010-09-26</td>\n    </tr>\n    <tr>\n      <th>267</th>\n      <td>乙女の贖い</td>\n      <td>36</td>\n      <td>48</td>\n      <td>2013-07-24</td>\n    </tr>\n    <tr>\n      <th>271</th>\n      <td>薔薇娼館</td>\n      <td>36</td>\n      <td>48</td>\n      <td>2013-09-11</td>\n    </tr>\n    <tr>\n      <th>295</th>\n      <td>Tico Tico no Fubá</td>\n      <td>41</td>\n      <td>50</td>\n      <td>2015-01-21</td>\n    </tr>\n  </tbody>\n</table>\n</div>",
      "text/plain": "                            title  rank_highest_exclude_debut  \\\nno                                                              \n261                       真夏の憂愁夫人                           1   \n274                    黒百合隠密カゲキダン                           2   \n269                      ローズ家の双子達                           3   \n185                            神風                           4   \n215                         堕天國宣戦                           4   \n206                       お毒味LADY                           6   \n205        処女懐胎、あるいは白骨塔より少女達は飛翔する                           7   \n164                          暗黒天国                           8   \n195                          鬼帝の剣                           9   \n268                        令嬢薔薇図鑑                          10   \n301                        快楽のススメ                          11   \n159                          極楽荊姫                          12   \n198                       裸々イヴ新世紀                          13   \n175                     六道輪廻サバイバル                          14   \n122                   あたしがアリスだった頃                          15   \n124               君がため、惜しからざりし命さへ                          16   \n181                          コトダマ                          16   \n264                          快恠奇奇                          18   \n186                         黙示録前戯                          19   \n200                          地獄の門                          19   \n240                    Troubadour                          19   \n13   恋せよ乙女 -Love story of ZIPANG-                          22   \n130                       昭和恋々幻燈館                          23   \n210                     上海繚乱ロマンチカ                          23   \n224                        亂世エロイカ                          25   \n276                          見ぬ友へ                          26   \n257                       真偽贋物遊覧会                          27   \n317                     昭和B級下手喰い道                          28   \n37    Nous Deux C'est Pour La Vie                          29   \n70                            月光夜                          30   \n138                         百合と夜鶯                          30   \n209          Animals on the Earth                          30   \n96                         schism                          33   \n154               La calèche ～春の雪                          34   \n318                        女化生舞楽図                          34   \n43                           Wish                          36   \n82                        閉ざされた画室                          36   \n235                       鹿鳴館ブギウギ                          36   \n267                         乙女の贖い                          36   \n271                          薔薇娼館                          36   \n295             Tico Tico no Fubá                          41   \n\n     highest_exclude_debut       date  \nno                                     \n261                      9 2012-07-18  \n274                     10 2013-09-11  \n269                     12 2013-09-11  \n185                     14 2008-08-27  \n215                     14 2009-10-21  \n206                     18 2009-08-26  \n205                     19 2009-08-26  \n164                     20 2007-05-23  \n195                     23 2008-11-19  \n268                     25 2013-09-11  \n301                     26 2015-09-09  \n159                     28 2006-12-06  \n198                     29 2009-01-21  \n175                     30 2007-08-22  \n122                     31 2004-10-22  \n124                     32 2005-06-08  \n181                     32 2008-01-23  \n264                     33 2013-02-20  \n186                     34 2008-08-27  \n200                     34 2009-05-27  \n240                     34 2011-05-25  \n13                      36 1992-07-07  \n130                     37 2005-06-22  \n210                     37 2009-08-26  \n224                     40 2010-07-14  \n276                     41 2013-09-11  \n257                     42 2012-07-18  \n317                     43 2016-08-24  \n37                      44 1995-10-18  \n70                      45 1998-11-21  \n138                     45 2005-12-07  \n209                     45 2009-08-26  \n96                      46 2002-07-24  \n154                     47 2006-12-06  \n318                     47 2016-08-24  \n43                      48 1996-12-24  \n82                      48 2001-04-25  \n235                     48 2010-09-26  \n267                     48 2013-07-24  \n271                     48 2013-09-11  \n295                     50 2015-01-21  "
     },
     "execution_count": 261,
     "metadata": {},
     "output_type": "execute_result"
    }
   ],
   "source": [
    "highest_top = ura.sort_values(['rank_highest_exclude_debut', 'date'], ascending=[True, True]) \\\n",
    "                 .query('highest_exclude_debut <= 50') \\\n",
    "                 [['title', 'rank_highest_exclude_debut', 'highest_exclude_debut', 'date']].astype({'rank_highest_exclude_debut': int, 'highest_exclude_debut': int})\n",
    "\n",
    "highest_top"
   ]
  },
  {
   "cell_type": "code",
   "execution_count": 262,
   "metadata": {},
   "outputs": [
    {
     "data": {
      "text/html": "<div>\n<style scoped>\n    .dataframe tbody tr th:only-of-type {\n        vertical-align: middle;\n    }\n\n    .dataframe tbody tr th {\n        vertical-align: top;\n    }\n\n    .dataframe thead th {\n        text-align: right;\n    }\n</style>\n<table border=\"1\" class=\"dataframe\">\n  <thead>\n    <tr style=\"text-align: right;\">\n      <th></th>\n      <th>title</th>\n      <th>under100</th>\n      <th>under100_mean</th>\n      <th>date</th>\n    </tr>\n    <tr>\n      <th>no</th>\n      <th></th>\n      <th></th>\n      <th></th>\n      <th></th>\n    </tr>\n  </thead>\n  <tbody>\n    <tr>\n      <th>181</th>\n      <td>コトダマ</td>\n      <td>11</td>\n      <td>0.916667</td>\n      <td>2008-01-23</td>\n    </tr>\n    <tr>\n      <th>185</th>\n      <td>神風</td>\n      <td>10</td>\n      <td>0.909091</td>\n      <td>2008-08-27</td>\n    </tr>\n    <tr>\n      <th>261</th>\n      <td>真夏の憂愁夫人</td>\n      <td>7</td>\n      <td>0.875000</td>\n      <td>2012-07-18</td>\n    </tr>\n    <tr>\n      <th>264</th>\n      <td>快恠奇奇</td>\n      <td>6</td>\n      <td>0.857143</td>\n      <td>2013-02-20</td>\n    </tr>\n    <tr>\n      <th>268</th>\n      <td>令嬢薔薇図鑑</td>\n      <td>6</td>\n      <td>0.857143</td>\n      <td>2013-09-11</td>\n    </tr>\n    <tr>\n      <th>269</th>\n      <td>ローズ家の双子達</td>\n      <td>6</td>\n      <td>0.857143</td>\n      <td>2013-09-11</td>\n    </tr>\n    <tr>\n      <th>164</th>\n      <td>暗黒天国</td>\n      <td>10</td>\n      <td>0.833333</td>\n      <td>2007-05-23</td>\n    </tr>\n    <tr>\n      <th>175</th>\n      <td>六道輪廻サバイバル</td>\n      <td>10</td>\n      <td>0.833333</td>\n      <td>2007-08-22</td>\n    </tr>\n    <tr>\n      <th>195</th>\n      <td>鬼帝の剣</td>\n      <td>9</td>\n      <td>0.818182</td>\n      <td>2008-11-19</td>\n    </tr>\n    <tr>\n      <th>200</th>\n      <td>地獄の門</td>\n      <td>8</td>\n      <td>0.800000</td>\n      <td>2009-05-27</td>\n    </tr>\n    <tr>\n      <th>205</th>\n      <td>処女懐胎、あるいは白骨塔より少女達は飛翔する</td>\n      <td>8</td>\n      <td>0.800000</td>\n      <td>2009-08-26</td>\n    </tr>\n    <tr>\n      <th>215</th>\n      <td>堕天國宣戦</td>\n      <td>8</td>\n      <td>0.800000</td>\n      <td>2009-10-21</td>\n    </tr>\n  </tbody>\n</table>\n</div>",
      "text/plain": "                      title  under100  under100_mean       date\nno                                                             \n181                    コトダマ        11       0.916667 2008-01-23\n185                      神風        10       0.909091 2008-08-27\n261                 真夏の憂愁夫人         7       0.875000 2012-07-18\n264                    快恠奇奇         6       0.857143 2013-02-20\n268                  令嬢薔薇図鑑         6       0.857143 2013-09-11\n269                ローズ家の双子達         6       0.857143 2013-09-11\n164                    暗黒天国        10       0.833333 2007-05-23\n175               六道輪廻サバイバル        10       0.833333 2007-08-22\n195                    鬼帝の剣         9       0.818182 2008-11-19\n200                    地獄の門         8       0.800000 2009-05-27\n205  処女懐胎、あるいは白骨塔より少女達は飛翔する         8       0.800000 2009-08-26\n215                   堕天國宣戦         8       0.800000 2009-10-21"
     },
     "execution_count": 262,
     "metadata": {},
     "output_type": "execute_result"
    }
   ],
   "source": [
    "tmp = ura.loc[:, :]\n",
    "tmp['under100_mean'] = tmp.under100 / tmp.count_all\n",
    "tmp.sort_values(['under100_mean', 'date'], ascending=[False, True]) \\\n",
    "   .query('under100_mean >= 0.8') \\\n",
    "   [['title', 'under100', 'under100_mean', 'date']]"
   ]
  },
  {
   "cell_type": "code",
   "execution_count": 263,
   "metadata": {},
   "outputs": [
    {
     "data": {
      "text/html": "<div>\n<style scoped>\n    .dataframe tbody tr th:only-of-type {\n        vertical-align: middle;\n    }\n\n    .dataframe tbody tr th {\n        vertical-align: top;\n    }\n\n    .dataframe thead th {\n        text-align: right;\n    }\n</style>\n<table border=\"1\" class=\"dataframe\">\n  <thead>\n    <tr style=\"text-align: right;\">\n      <th></th>\n      <th>title</th>\n      <th>date</th>\n      <th>initial</th>\n      <th>kind</th>\n      <th>2007</th>\n      <th>2008</th>\n      <th>2009</th>\n      <th>2010</th>\n      <th>2011</th>\n      <th>2012</th>\n      <th>...</th>\n      <th>under50</th>\n      <th>under100</th>\n      <th>under200</th>\n      <th>count_all</th>\n      <th>count</th>\n      <th>rank_average</th>\n      <th>rank_average_exclude_debut</th>\n      <th>rank_highest</th>\n      <th>rank_highest_exclude_debut</th>\n      <th>under100_mean</th>\n    </tr>\n    <tr>\n      <th>no</th>\n      <th></th>\n      <th></th>\n      <th></th>\n      <th></th>\n      <th></th>\n      <th></th>\n      <th></th>\n      <th></th>\n      <th></th>\n      <th></th>\n      <th></th>\n      <th></th>\n      <th></th>\n      <th></th>\n      <th></th>\n      <th></th>\n      <th></th>\n      <th></th>\n      <th></th>\n      <th></th>\n      <th></th>\n    </tr>\n  </thead>\n  <tbody>\n    <tr>\n      <th>55</th>\n      <td>日曜日のシエスタ</td>\n      <td>1997-12-17</td>\n      <td>2005</td>\n      <td>[SA, ST]</td>\n      <td>129.0</td>\n      <td>208.0</td>\n      <td>179.0</td>\n      <td>171.0</td>\n      <td>169.0</td>\n      <td>139.0</td>\n      <td>...</td>\n      <td>0</td>\n      <td>0</td>\n      <td>7</td>\n      <td>16</td>\n      <td>13</td>\n      <td>158.0</td>\n      <td>149.0</td>\n      <td>168.0</td>\n      <td>151.0</td>\n      <td>0.0</td>\n    </tr>\n    <tr>\n      <th>91</th>\n      <td>La vie en rose</td>\n      <td>2001-07-25</td>\n      <td>2005</td>\n      <td>[OA]</td>\n      <td>187.0</td>\n      <td>196.0</td>\n      <td>221.0</td>\n      <td>155.0</td>\n      <td>211.0</td>\n      <td>217.0</td>\n      <td>...</td>\n      <td>0</td>\n      <td>0</td>\n      <td>4</td>\n      <td>16</td>\n      <td>13</td>\n      <td>199.0</td>\n      <td>195.0</td>\n      <td>193.0</td>\n      <td>181.0</td>\n      <td>0.0</td>\n    </tr>\n    <tr>\n      <th>106</th>\n      <td>Féliciter</td>\n      <td>2003-04-23</td>\n      <td>2005</td>\n      <td>[SA]</td>\n      <td>168.0</td>\n      <td>174.0</td>\n      <td>215.0</td>\n      <td>179.0</td>\n      <td>223.0</td>\n      <td>185.0</td>\n      <td>...</td>\n      <td>0</td>\n      <td>0</td>\n      <td>5</td>\n      <td>16</td>\n      <td>13</td>\n      <td>182.0</td>\n      <td>173.0</td>\n      <td>203.0</td>\n      <td>191.0</td>\n      <td>0.0</td>\n    </tr>\n    <tr>\n      <th>180</th>\n      <td>Nocturnal</td>\n      <td>2007-12-12</td>\n      <td>2008</td>\n      <td>[SA]</td>\n      <td>NaN</td>\n      <td>154.0</td>\n      <td>202.0</td>\n      <td>192.0</td>\n      <td>223.0</td>\n      <td>217.0</td>\n      <td>...</td>\n      <td>0</td>\n      <td>0</td>\n      <td>2</td>\n      <td>12</td>\n      <td>12</td>\n      <td>207.0</td>\n      <td>207.0</td>\n      <td>190.0</td>\n      <td>207.0</td>\n      <td>0.0</td>\n    </tr>\n    <tr>\n      <th>216</th>\n      <td>寶島</td>\n      <td>2009-10-21</td>\n      <td>2010</td>\n      <td>[S-2, CA]</td>\n      <td>NaN</td>\n      <td>NaN</td>\n      <td>NaN</td>\n      <td>109.0</td>\n      <td>147.0</td>\n      <td>171.0</td>\n      <td>...</td>\n      <td>0</td>\n      <td>0</td>\n      <td>4</td>\n      <td>10</td>\n      <td>10</td>\n      <td>190.0</td>\n      <td>201.0</td>\n      <td>147.0</td>\n      <td>173.0</td>\n      <td>0.0</td>\n    </tr>\n    <tr>\n      <th>247</th>\n      <td>逢魔蛾城の伯爵</td>\n      <td>2011-06-29</td>\n      <td>2011</td>\n      <td>[SA]</td>\n      <td>NaN</td>\n      <td>NaN</td>\n      <td>NaN</td>\n      <td>NaN</td>\n      <td>123.0</td>\n      <td>158.0</td>\n      <td>...</td>\n      <td>0</td>\n      <td>0</td>\n      <td>4</td>\n      <td>9</td>\n      <td>9</td>\n      <td>163.0</td>\n      <td>164.0</td>\n      <td>165.0</td>\n      <td>168.0</td>\n      <td>0.0</td>\n    </tr>\n    <tr>\n      <th>296</th>\n      <td>小夜すみれ ～ある夜の森の小さなお話</td>\n      <td>2015-01-21</td>\n      <td>2015</td>\n      <td>[SA]</td>\n      <td>NaN</td>\n      <td>NaN</td>\n      <td>NaN</td>\n      <td>NaN</td>\n      <td>NaN</td>\n      <td>NaN</td>\n      <td>...</td>\n      <td>0</td>\n      <td>0</td>\n      <td>2</td>\n      <td>5</td>\n      <td>5</td>\n      <td>194.0</td>\n      <td>194.0</td>\n      <td>189.0</td>\n      <td>177.0</td>\n      <td>0.0</td>\n    </tr>\n    <tr>\n      <th>311</th>\n      <td>魂ノ代</td>\n      <td>2015-10-21</td>\n      <td>2015</td>\n      <td>[S-2]</td>\n      <td>NaN</td>\n      <td>NaN</td>\n      <td>NaN</td>\n      <td>NaN</td>\n      <td>NaN</td>\n      <td>NaN</td>\n      <td>...</td>\n      <td>0</td>\n      <td>0</td>\n      <td>1</td>\n      <td>5</td>\n      <td>5</td>\n      <td>213.0</td>\n      <td>213.0</td>\n      <td>206.0</td>\n      <td>213.0</td>\n      <td>0.0</td>\n    </tr>\n  </tbody>\n</table>\n<p>8 rows × 37 columns</p>\n</div>",
      "text/plain": "                  title       date initial       kind   2007   2008   2009  \\\nno                                                                           \n55             日曜日のシエスタ 1997-12-17    2005   [SA, ST]  129.0  208.0  179.0   \n91       La vie en rose 2001-07-25    2005       [OA]  187.0  196.0  221.0   \n106           Féliciter 2003-04-23    2005       [SA]  168.0  174.0  215.0   \n180           Nocturnal 2007-12-12    2008       [SA]    NaN  154.0  202.0   \n216                  寶島 2009-10-21    2010  [S-2, CA]    NaN    NaN    NaN   \n247             逢魔蛾城の伯爵 2011-06-29    2011       [SA]    NaN    NaN    NaN   \n296  小夜すみれ ～ある夜の森の小さなお話 2015-01-21    2015       [SA]    NaN    NaN    NaN   \n311                 魂ノ代 2015-10-21    2015      [S-2]    NaN    NaN    NaN   \n\n      2010   2011   2012  ...  under50  under100  under200  count_all  count  \\\nno                        ...                                                  \n55   171.0  169.0  139.0  ...        0         0         7         16     13   \n91   155.0  211.0  217.0  ...        0         0         4         16     13   \n106  179.0  223.0  185.0  ...        0         0         5         16     13   \n180  192.0  223.0  217.0  ...        0         0         2         12     12   \n216  109.0  147.0  171.0  ...        0         0         4         10     10   \n247    NaN  123.0  158.0  ...        0         0         4          9      9   \n296    NaN    NaN    NaN  ...        0         0         2          5      5   \n311    NaN    NaN    NaN  ...        0         0         1          5      5   \n\n     rank_average  rank_average_exclude_debut rank_highest  \\\nno                                                           \n55          158.0                       149.0        168.0   \n91          199.0                       195.0        193.0   \n106         182.0                       173.0        203.0   \n180         207.0                       207.0        190.0   \n216         190.0                       201.0        147.0   \n247         163.0                       164.0        165.0   \n296         194.0                       194.0        189.0   \n311         213.0                       213.0        206.0   \n\n     rank_highest_exclude_debut  under100_mean  \nno                                              \n55                        151.0            0.0  \n91                        181.0            0.0  \n106                       191.0            0.0  \n180                       207.0            0.0  \n216                       173.0            0.0  \n247                       168.0            0.0  \n296                       177.0            0.0  \n311                       213.0            0.0  \n\n[8 rows x 37 columns]"
     },
     "execution_count": 263,
     "metadata": {},
     "output_type": "execute_result"
    }
   ],
   "source": [
    "# 未投票\n",
    "zero = ['日曜日のシエスタ', 'La vie en rose', 'Féliciter', 'Nocturnal', '寶島', '逢魔蛾城の伯爵', '小夜すみれ ～ある夜の森の小さなお話', '魂ノ代']\n",
    "ura.query('title in @zero')"
   ]
  },
  {
   "cell_type": "code",
   "execution_count": 264,
   "metadata": {},
   "outputs": [
    {
     "data": {
      "text/html": "<div>\n<style scoped>\n    .dataframe tbody tr th:only-of-type {\n        vertical-align: middle;\n    }\n\n    .dataframe tbody tr th {\n        vertical-align: top;\n    }\n\n    .dataframe thead th {\n        text-align: right;\n    }\n</style>\n<table border=\"1\" class=\"dataframe\">\n  <thead>\n    <tr style=\"text-align: right;\">\n      <th></th>\n      <th>title</th>\n      <th>date</th>\n      <th>initial</th>\n      <th>kind</th>\n      <th>2007</th>\n      <th>2008</th>\n      <th>2009</th>\n      <th>2010</th>\n      <th>2011</th>\n      <th>2012</th>\n      <th>...</th>\n      <th>under50</th>\n      <th>under100</th>\n      <th>under200</th>\n      <th>count_all</th>\n      <th>count</th>\n      <th>rank_average</th>\n      <th>rank_average_exclude_debut</th>\n      <th>rank_highest</th>\n      <th>rank_highest_exclude_debut</th>\n      <th>under100_mean</th>\n    </tr>\n    <tr>\n      <th>no</th>\n      <th></th>\n      <th></th>\n      <th></th>\n      <th></th>\n      <th></th>\n      <th></th>\n      <th></th>\n      <th></th>\n      <th></th>\n      <th></th>\n      <th></th>\n      <th></th>\n      <th></th>\n      <th></th>\n      <th></th>\n      <th></th>\n      <th></th>\n      <th></th>\n      <th></th>\n      <th></th>\n      <th></th>\n    </tr>\n  </thead>\n  <tbody>\n    <tr>\n      <th>3</th>\n      <td>マリーゴールド・ガーデン</td>\n      <td>1988-01-25</td>\n      <td>2005</td>\n      <td>[SA, OA, S-2]</td>\n      <td>141.0</td>\n      <td>162.0</td>\n      <td>142.0</td>\n      <td>150.0</td>\n      <td>175.0</td>\n      <td>141.0</td>\n      <td>...</td>\n      <td>0</td>\n      <td>0</td>\n      <td>10</td>\n      <td>16</td>\n      <td>13</td>\n      <td>128.0</td>\n      <td>123.0</td>\n      <td>185.0</td>\n      <td>167.0</td>\n      <td>0.000000</td>\n    </tr>\n    <tr>\n      <th>12</th>\n      <td>フラワーチャイルド</td>\n      <td>1988-07-25</td>\n      <td>2005</td>\n      <td>[OA, S-1, CA]</td>\n      <td>187.0</td>\n      <td>197.0</td>\n      <td>221.0</td>\n      <td>214.0</td>\n      <td>223.0</td>\n      <td>217.0</td>\n      <td>...</td>\n      <td>0</td>\n      <td>0</td>\n      <td>5</td>\n      <td>16</td>\n      <td>13</td>\n      <td>185.0</td>\n      <td>178.0</td>\n      <td>175.0</td>\n      <td>156.0</td>\n      <td>0.000000</td>\n    </tr>\n    <tr>\n      <th>13</th>\n      <td>恋せよ乙女 -Love story of ZIPANG-</td>\n      <td>1992-07-07</td>\n      <td>2005</td>\n      <td>[OA, S-1, SA, CA]</td>\n      <td>36.0</td>\n      <td>48.0</td>\n      <td>58.0</td>\n      <td>74.0</td>\n      <td>87.0</td>\n      <td>71.0</td>\n      <td>...</td>\n      <td>3</td>\n      <td>10</td>\n      <td>13</td>\n      <td>16</td>\n      <td>13</td>\n      <td>29.0</td>\n      <td>21.0</td>\n      <td>50.0</td>\n      <td>22.0</td>\n      <td>0.625000</td>\n    </tr>\n    <tr>\n      <th>25</th>\n      <td>舞踏会の手帖</td>\n      <td>1993-06-09</td>\n      <td>2005</td>\n      <td>[OA, S-2, CA]</td>\n      <td>92.0</td>\n      <td>137.0</td>\n      <td>174.0</td>\n      <td>171.0</td>\n      <td>223.0</td>\n      <td>153.0</td>\n      <td>...</td>\n      <td>0</td>\n      <td>1</td>\n      <td>10</td>\n      <td>16</td>\n      <td>13</td>\n      <td>143.0</td>\n      <td>135.0</td>\n      <td>128.0</td>\n      <td>104.0</td>\n      <td>0.062500</td>\n    </tr>\n    <tr>\n      <th>27</th>\n      <td>エスカルゴ嬉遊曲</td>\n      <td>1994-01-19</td>\n      <td>2005</td>\n      <td>[S-2, CA]</td>\n      <td>56.0</td>\n      <td>66.0</td>\n      <td>91.0</td>\n      <td>109.0</td>\n      <td>155.0</td>\n      <td>194.0</td>\n      <td>...</td>\n      <td>0</td>\n      <td>3</td>\n      <td>9</td>\n      <td>16</td>\n      <td>13</td>\n      <td>118.0</td>\n      <td>107.0</td>\n      <td>79.0</td>\n      <td>46.0</td>\n      <td>0.187500</td>\n    </tr>\n    <tr>\n      <th>37</th>\n      <td>Nous Deux C'est Pour La Vie</td>\n      <td>1995-10-18</td>\n      <td>2005</td>\n      <td>[S-2, CA]</td>\n      <td>44.0</td>\n      <td>65.0</td>\n      <td>80.0</td>\n      <td>118.0</td>\n      <td>117.0</td>\n      <td>107.0</td>\n      <td>...</td>\n      <td>2</td>\n      <td>5</td>\n      <td>14</td>\n      <td>16</td>\n      <td>13</td>\n      <td>63.0</td>\n      <td>51.0</td>\n      <td>59.0</td>\n      <td>29.0</td>\n      <td>0.312500</td>\n    </tr>\n    <tr>\n      <th>42</th>\n      <td>Only Love Song</td>\n      <td>1996-08-01</td>\n      <td>2005</td>\n      <td>[S-2]</td>\n      <td>187.0</td>\n      <td>129.0</td>\n      <td>185.0</td>\n      <td>150.0</td>\n      <td>158.0</td>\n      <td>217.0</td>\n      <td>...</td>\n      <td>0</td>\n      <td>0</td>\n      <td>10</td>\n      <td>16</td>\n      <td>13</td>\n      <td>141.0</td>\n      <td>133.0</td>\n      <td>168.0</td>\n      <td>151.0</td>\n      <td>0.000000</td>\n    </tr>\n    <tr>\n      <th>43</th>\n      <td>Wish</td>\n      <td>1996-12-24</td>\n      <td>2005</td>\n      <td>[S-1, OT, ST, CA]</td>\n      <td>53.0</td>\n      <td>71.0</td>\n      <td>81.0</td>\n      <td>72.0</td>\n      <td>86.0</td>\n      <td>127.0</td>\n      <td>...</td>\n      <td>1</td>\n      <td>6</td>\n      <td>13</td>\n      <td>16</td>\n      <td>13</td>\n      <td>55.0</td>\n      <td>45.0</td>\n      <td>69.0</td>\n      <td>36.0</td>\n      <td>0.375000</td>\n    </tr>\n    <tr>\n      <th>44</th>\n      <td>夢のあとに ～après un rêve～</td>\n      <td>1996-12-24</td>\n      <td>2005</td>\n      <td>[S-2, ST, OT, CA]</td>\n      <td>168.0</td>\n      <td>199.0</td>\n      <td>198.0</td>\n      <td>164.0</td>\n      <td>211.0</td>\n      <td>217.0</td>\n      <td>...</td>\n      <td>0</td>\n      <td>0</td>\n      <td>6</td>\n      <td>16</td>\n      <td>13</td>\n      <td>186.0</td>\n      <td>181.0</td>\n      <td>202.0</td>\n      <td>189.0</td>\n      <td>0.000000</td>\n    </tr>\n    <tr>\n      <th>49</th>\n      <td>月夜のピエレット</td>\n      <td>1997-05-21</td>\n      <td>2005</td>\n      <td>[OA, OT, S-2, ST, CA]</td>\n      <td>94.0</td>\n      <td>172.0</td>\n      <td>107.0</td>\n      <td>104.0</td>\n      <td>92.0</td>\n      <td>68.0</td>\n      <td>...</td>\n      <td>0</td>\n      <td>3</td>\n      <td>11</td>\n      <td>16</td>\n      <td>13</td>\n      <td>84.0</td>\n      <td>71.0</td>\n      <td>100.0</td>\n      <td>67.0</td>\n      <td>0.187500</td>\n    </tr>\n    <tr>\n      <th>57</th>\n      <td>Anniversary of Angel</td>\n      <td>1997-12-17</td>\n      <td>2005</td>\n      <td>[S-1, OT, CA]</td>\n      <td>54.0</td>\n      <td>99.0</td>\n      <td>97.0</td>\n      <td>98.0</td>\n      <td>147.0</td>\n      <td>140.0</td>\n      <td>...</td>\n      <td>0</td>\n      <td>5</td>\n      <td>11</td>\n      <td>16</td>\n      <td>13</td>\n      <td>81.0</td>\n      <td>69.0</td>\n      <td>77.0</td>\n      <td>44.0</td>\n      <td>0.312500</td>\n    </tr>\n    <tr>\n      <th>58</th>\n      <td>天使に寄す</td>\n      <td>1997-12-17</td>\n      <td>2005</td>\n      <td>[S-2, CA]</td>\n      <td>119.0</td>\n      <td>170.0</td>\n      <td>179.0</td>\n      <td>179.0</td>\n      <td>211.0</td>\n      <td>217.0</td>\n      <td>...</td>\n      <td>0</td>\n      <td>0</td>\n      <td>8</td>\n      <td>16</td>\n      <td>13</td>\n      <td>170.0</td>\n      <td>160.0</td>\n      <td>160.0</td>\n      <td>142.0</td>\n      <td>0.000000</td>\n    </tr>\n    <tr>\n      <th>59</th>\n      <td>LABYRINTH</td>\n      <td>1998-10-21</td>\n      <td>2005</td>\n      <td>[OA, S-1, ST, CA]</td>\n      <td>59.0</td>\n      <td>142.0</td>\n      <td>83.0</td>\n      <td>171.0</td>\n      <td>111.0</td>\n      <td>141.0</td>\n      <td>...</td>\n      <td>0</td>\n      <td>4</td>\n      <td>13</td>\n      <td>16</td>\n      <td>13</td>\n      <td>59.0</td>\n      <td>48.0</td>\n      <td>83.0</td>\n      <td>50.0</td>\n      <td>0.250000</td>\n    </tr>\n    <tr>\n      <th>87</th>\n      <td>après le noir</td>\n      <td>2001-05-23</td>\n      <td>2005</td>\n      <td>[S-2, CA]</td>\n      <td>78.0</td>\n      <td>97.0</td>\n      <td>133.0</td>\n      <td>109.0</td>\n      <td>131.0</td>\n      <td>173.0</td>\n      <td>...</td>\n      <td>0</td>\n      <td>2</td>\n      <td>13</td>\n      <td>16</td>\n      <td>13</td>\n      <td>75.0</td>\n      <td>59.0</td>\n      <td>114.0</td>\n      <td>86.0</td>\n      <td>0.125000</td>\n    </tr>\n    <tr>\n      <th>120</th>\n      <td>pastel pure</td>\n      <td>2004-08-25</td>\n      <td>2005</td>\n      <td>[S-1, ST, CA]</td>\n      <td>104.0</td>\n      <td>160.0</td>\n      <td>184.0</td>\n      <td>179.0</td>\n      <td>211.0</td>\n      <td>217.0</td>\n      <td>...</td>\n      <td>0</td>\n      <td>0</td>\n      <td>6</td>\n      <td>16</td>\n      <td>13</td>\n      <td>174.0</td>\n      <td>163.0</td>\n      <td>142.0</td>\n      <td>119.0</td>\n      <td>0.000000</td>\n    </tr>\n    <tr>\n      <th>122</th>\n      <td>あたしがアリスだった頃</td>\n      <td>2004-10-22</td>\n      <td>2005</td>\n      <td>[S-2, CA]</td>\n      <td>31.0</td>\n      <td>47.0</td>\n      <td>119.0</td>\n      <td>67.0</td>\n      <td>78.0</td>\n      <td>155.0</td>\n      <td>...</td>\n      <td>2</td>\n      <td>4</td>\n      <td>11</td>\n      <td>16</td>\n      <td>13</td>\n      <td>66.0</td>\n      <td>53.0</td>\n      <td>43.0</td>\n      <td>15.0</td>\n      <td>0.250000</td>\n    </tr>\n    <tr>\n      <th>124</th>\n      <td>君がため、惜しからざりし命さへ</td>\n      <td>2005-06-08</td>\n      <td>2005</td>\n      <td>[S-2, CA]</td>\n      <td>32.0</td>\n      <td>87.0</td>\n      <td>96.0</td>\n      <td>93.0</td>\n      <td>106.0</td>\n      <td>127.0</td>\n      <td>...</td>\n      <td>1</td>\n      <td>4</td>\n      <td>10</td>\n      <td>16</td>\n      <td>13</td>\n      <td>94.0</td>\n      <td>86.0</td>\n      <td>46.0</td>\n      <td>16.0</td>\n      <td>0.250000</td>\n    </tr>\n    <tr>\n      <th>136</th>\n      <td>S嬢の秘めやかな悔恨</td>\n      <td>2005-10-26</td>\n      <td>2006#1</td>\n      <td>[S-2, CA]</td>\n      <td>69.0</td>\n      <td>115.0</td>\n      <td>149.0</td>\n      <td>79.0</td>\n      <td>147.0</td>\n      <td>204.0</td>\n      <td>...</td>\n      <td>0</td>\n      <td>2</td>\n      <td>7</td>\n      <td>15</td>\n      <td>13</td>\n      <td>129.0</td>\n      <td>124.0</td>\n      <td>104.0</td>\n      <td>73.0</td>\n      <td>0.133333</td>\n    </tr>\n    <tr>\n      <th>144</th>\n      <td>水月鏡花</td>\n      <td>2006-05-24</td>\n      <td>2006#2</td>\n      <td>[S-2, CA]</td>\n      <td>62.0</td>\n      <td>98.0</td>\n      <td>64.0</td>\n      <td>70.0</td>\n      <td>97.0</td>\n      <td>86.0</td>\n      <td>...</td>\n      <td>0</td>\n      <td>8</td>\n      <td>13</td>\n      <td>14</td>\n      <td>13</td>\n      <td>44.0</td>\n      <td>33.0</td>\n      <td>86.0</td>\n      <td>56.0</td>\n      <td>0.571429</td>\n    </tr>\n    <tr>\n      <th>159</th>\n      <td>極楽荊姫</td>\n      <td>2006-12-06</td>\n      <td>2006#2</td>\n      <td>[S-2, CA]</td>\n      <td>28.0</td>\n      <td>85.0</td>\n      <td>109.0</td>\n      <td>93.0</td>\n      <td>147.0</td>\n      <td>217.0</td>\n      <td>...</td>\n      <td>1</td>\n      <td>3</td>\n      <td>9</td>\n      <td>14</td>\n      <td>13</td>\n      <td>103.0</td>\n      <td>95.0</td>\n      <td>41.0</td>\n      <td>12.0</td>\n      <td>0.214286</td>\n    </tr>\n    <tr>\n      <th>164</th>\n      <td>暗黒天国</td>\n      <td>2007-05-23</td>\n      <td>2008</td>\n      <td>[S-1, ST, CA]</td>\n      <td>NaN</td>\n      <td>18.0</td>\n      <td>20.0</td>\n      <td>25.0</td>\n      <td>51.0</td>\n      <td>83.0</td>\n      <td>...</td>\n      <td>5</td>\n      <td>10</td>\n      <td>11</td>\n      <td>12</td>\n      <td>12</td>\n      <td>15.0</td>\n      <td>13.0</td>\n      <td>25.0</td>\n      <td>8.0</td>\n      <td>0.833333</td>\n    </tr>\n    <tr>\n      <th>165</th>\n      <td>桃色天国</td>\n      <td>2007-05-23</td>\n      <td>2008</td>\n      <td>[S-2, CA]</td>\n      <td>NaN</td>\n      <td>64.0</td>\n      <td>104.0</td>\n      <td>140.0</td>\n      <td>128.0</td>\n      <td>194.0</td>\n      <td>...</td>\n      <td>0</td>\n      <td>1</td>\n      <td>9</td>\n      <td>12</td>\n      <td>12</td>\n      <td>125.0</td>\n      <td>129.0</td>\n      <td>93.0</td>\n      <td>119.0</td>\n      <td>0.083333</td>\n    </tr>\n    <tr>\n      <th>167</th>\n      <td>最愛なる魔王さま</td>\n      <td>2007-06-13</td>\n      <td>2008</td>\n      <td>[S-2, CA]</td>\n      <td>NaN</td>\n      <td>57.0</td>\n      <td>84.0</td>\n      <td>82.0</td>\n      <td>123.0</td>\n      <td>217.0</td>\n      <td>...</td>\n      <td>0</td>\n      <td>3</td>\n      <td>9</td>\n      <td>12</td>\n      <td>12</td>\n      <td>111.0</td>\n      <td>112.0</td>\n      <td>82.0</td>\n      <td>91.0</td>\n      <td>0.250000</td>\n    </tr>\n    <tr>\n      <th>181</th>\n      <td>コトダマ</td>\n      <td>2008-01-23</td>\n      <td>2008</td>\n      <td>[S-1, ST, CA]</td>\n      <td>NaN</td>\n      <td>8.0</td>\n      <td>32.0</td>\n      <td>35.0</td>\n      <td>38.0</td>\n      <td>53.0</td>\n      <td>...</td>\n      <td>5</td>\n      <td>11</td>\n      <td>11</td>\n      <td>12</td>\n      <td>12</td>\n      <td>10.0</td>\n      <td>9.0</td>\n      <td>8.0</td>\n      <td>16.0</td>\n      <td>0.916667</td>\n    </tr>\n    <tr>\n      <th>182</th>\n      <td>コヒブミ</td>\n      <td>2008-01-23</td>\n      <td>2008</td>\n      <td>[S-2, CA]</td>\n      <td>NaN</td>\n      <td>73.0</td>\n      <td>147.0</td>\n      <td>140.0</td>\n      <td>158.0</td>\n      <td>127.0</td>\n      <td>...</td>\n      <td>0</td>\n      <td>2</td>\n      <td>7</td>\n      <td>12</td>\n      <td>12</td>\n      <td>121.0</td>\n      <td>122.0</td>\n      <td>109.0</td>\n      <td>88.0</td>\n      <td>0.166667</td>\n    </tr>\n    <tr>\n      <th>184</th>\n      <td>麤皮</td>\n      <td>2008-07-30</td>\n      <td>2009</td>\n      <td>[S-2, CA]</td>\n      <td>NaN</td>\n      <td>NaN</td>\n      <td>25.0</td>\n      <td>56.0</td>\n      <td>68.0</td>\n      <td>110.0</td>\n      <td>...</td>\n      <td>1</td>\n      <td>3</td>\n      <td>10</td>\n      <td>11</td>\n      <td>11</td>\n      <td>73.0</td>\n      <td>76.0</td>\n      <td>35.0</td>\n      <td>46.0</td>\n      <td>0.272727</td>\n    </tr>\n    <tr>\n      <th>195</th>\n      <td>鬼帝の剣</td>\n      <td>2008-11-19</td>\n      <td>2009</td>\n      <td>[S-1, ST, CA]</td>\n      <td>NaN</td>\n      <td>NaN</td>\n      <td>5.0</td>\n      <td>32.0</td>\n      <td>30.0</td>\n      <td>56.0</td>\n      <td>...</td>\n      <td>4</td>\n      <td>9</td>\n      <td>11</td>\n      <td>11</td>\n      <td>11</td>\n      <td>7.0</td>\n      <td>7.0</td>\n      <td>3.0</td>\n      <td>9.0</td>\n      <td>0.818182</td>\n    </tr>\n    <tr>\n      <th>198</th>\n      <td>裸々イヴ新世紀</td>\n      <td>2009-01-21</td>\n      <td>2009</td>\n      <td>[S-1, OT, ST, CA]</td>\n      <td>NaN</td>\n      <td>NaN</td>\n      <td>9.0</td>\n      <td>29.0</td>\n      <td>45.0</td>\n      <td>82.0</td>\n      <td>...</td>\n      <td>3</td>\n      <td>7</td>\n      <td>11</td>\n      <td>11</td>\n      <td>11</td>\n      <td>31.0</td>\n      <td>27.0</td>\n      <td>10.0</td>\n      <td>13.0</td>\n      <td>0.636364</td>\n    </tr>\n    <tr>\n      <th>199</th>\n      <td>騎士乙女</td>\n      <td>2009-01-21</td>\n      <td>2009</td>\n      <td>[SA, S-2, CA]</td>\n      <td>NaN</td>\n      <td>NaN</td>\n      <td>41.0</td>\n      <td>73.0</td>\n      <td>68.0</td>\n      <td>194.0</td>\n      <td>...</td>\n      <td>1</td>\n      <td>3</td>\n      <td>7</td>\n      <td>11</td>\n      <td>11</td>\n      <td>112.0</td>\n      <td>114.0</td>\n      <td>57.0</td>\n      <td>67.0</td>\n      <td>0.272727</td>\n    </tr>\n    <tr>\n      <th>200</th>\n      <td>地獄の門</td>\n      <td>2009-05-27</td>\n      <td>2010</td>\n      <td>[S-1, ST, CA]</td>\n      <td>NaN</td>\n      <td>NaN</td>\n      <td>NaN</td>\n      <td>15.0</td>\n      <td>34.0</td>\n      <td>58.0</td>\n      <td>...</td>\n      <td>4</td>\n      <td>8</td>\n      <td>9</td>\n      <td>10</td>\n      <td>10</td>\n      <td>22.0</td>\n      <td>22.0</td>\n      <td>19.0</td>\n      <td>19.0</td>\n      <td>0.800000</td>\n    </tr>\n    <tr>\n      <th>201</th>\n      <td>吾君想う故に吾在り生き霊となりて</td>\n      <td>2009-05-27</td>\n      <td>2010</td>\n      <td>[S-2, CA]</td>\n      <td>NaN</td>\n      <td>NaN</td>\n      <td>NaN</td>\n      <td>70.0</td>\n      <td>128.0</td>\n      <td>155.0</td>\n      <td>...</td>\n      <td>0</td>\n      <td>1</td>\n      <td>8</td>\n      <td>10</td>\n      <td>10</td>\n      <td>106.0</td>\n      <td>109.0</td>\n      <td>106.0</td>\n      <td>119.0</td>\n      <td>0.100000</td>\n    </tr>\n    <tr>\n      <th>202</th>\n      <td>戦慄の子供たち</td>\n      <td>2009-08-19</td>\n      <td>2010</td>\n      <td>[S-1, ST, CA]</td>\n      <td>NaN</td>\n      <td>NaN</td>\n      <td>NaN</td>\n      <td>25.0</td>\n      <td>81.0</td>\n      <td>55.0</td>\n      <td>...</td>\n      <td>1</td>\n      <td>6</td>\n      <td>9</td>\n      <td>10</td>\n      <td>10</td>\n      <td>33.0</td>\n      <td>31.0</td>\n      <td>35.0</td>\n      <td>45.0</td>\n      <td>0.600000</td>\n    </tr>\n    <tr>\n      <th>203</th>\n      <td>Hell's Maria</td>\n      <td>2009-08-19</td>\n      <td>2010</td>\n      <td>[S-2, CA]</td>\n      <td>NaN</td>\n      <td>NaN</td>\n      <td>NaN</td>\n      <td>109.0</td>\n      <td>113.0</td>\n      <td>133.0</td>\n      <td>...</td>\n      <td>0</td>\n      <td>0</td>\n      <td>10</td>\n      <td>10</td>\n      <td>10</td>\n      <td>95.0</td>\n      <td>94.0</td>\n      <td>147.0</td>\n      <td>129.0</td>\n      <td>0.000000</td>\n    </tr>\n    <tr>\n      <th>215</th>\n      <td>堕天國宣戦</td>\n      <td>2009-10-21</td>\n      <td>2010</td>\n      <td>[S-1, ST, CA]</td>\n      <td>NaN</td>\n      <td>NaN</td>\n      <td>NaN</td>\n      <td>7.0</td>\n      <td>14.0</td>\n      <td>23.0</td>\n      <td>...</td>\n      <td>4</td>\n      <td>8</td>\n      <td>10</td>\n      <td>10</td>\n      <td>10</td>\n      <td>12.0</td>\n      <td>11.0</td>\n      <td>6.0</td>\n      <td>4.0</td>\n      <td>0.800000</td>\n    </tr>\n    <tr>\n      <th>216</th>\n      <td>寶島</td>\n      <td>2009-10-21</td>\n      <td>2010</td>\n      <td>[S-2, CA]</td>\n      <td>NaN</td>\n      <td>NaN</td>\n      <td>NaN</td>\n      <td>109.0</td>\n      <td>147.0</td>\n      <td>171.0</td>\n      <td>...</td>\n      <td>0</td>\n      <td>0</td>\n      <td>4</td>\n      <td>10</td>\n      <td>10</td>\n      <td>190.0</td>\n      <td>201.0</td>\n      <td>147.0</td>\n      <td>173.0</td>\n      <td>0.000000</td>\n    </tr>\n    <tr>\n      <th>224</th>\n      <td>亂世エロイカ</td>\n      <td>2010-07-14</td>\n      <td>2011</td>\n      <td>[S-1, CA]</td>\n      <td>NaN</td>\n      <td>NaN</td>\n      <td>NaN</td>\n      <td>NaN</td>\n      <td>9.0</td>\n      <td>40.0</td>\n      <td>...</td>\n      <td>2</td>\n      <td>6</td>\n      <td>9</td>\n      <td>9</td>\n      <td>9</td>\n      <td>17.0</td>\n      <td>16.0</td>\n      <td>10.0</td>\n      <td>25.0</td>\n      <td>0.666667</td>\n    </tr>\n    <tr>\n      <th>225</th>\n      <td>腕 kaina</td>\n      <td>2010-07-14</td>\n      <td>2011</td>\n      <td>[S-2, CA]</td>\n      <td>NaN</td>\n      <td>NaN</td>\n      <td>NaN</td>\n      <td>NaN</td>\n      <td>50.0</td>\n      <td>78.0</td>\n      <td>...</td>\n      <td>1</td>\n      <td>3</td>\n      <td>8</td>\n      <td>9</td>\n      <td>9</td>\n      <td>72.0</td>\n      <td>75.0</td>\n      <td>72.0</td>\n      <td>61.0</td>\n      <td>0.333333</td>\n    </tr>\n    <tr>\n      <th>227</th>\n      <td>灰桜</td>\n      <td>2010-08-25</td>\n      <td>2011</td>\n      <td>[S-2, CA]</td>\n      <td>NaN</td>\n      <td>NaN</td>\n      <td>NaN</td>\n      <td>NaN</td>\n      <td>158.0</td>\n      <td>185.0</td>\n      <td>...</td>\n      <td>0</td>\n      <td>0</td>\n      <td>4</td>\n      <td>9</td>\n      <td>9</td>\n      <td>177.0</td>\n      <td>175.0</td>\n      <td>197.0</td>\n      <td>198.0</td>\n      <td>0.000000</td>\n    </tr>\n    <tr>\n      <th>252</th>\n      <td>夜見のたそがれの、うつろなる蒼き瞳の。</td>\n      <td>2012-01-25</td>\n      <td>2012</td>\n      <td>[S-2, CA]</td>\n      <td>NaN</td>\n      <td>NaN</td>\n      <td>NaN</td>\n      <td>NaN</td>\n      <td>NaN</td>\n      <td>84.0</td>\n      <td>...</td>\n      <td>0</td>\n      <td>4</td>\n      <td>7</td>\n      <td>8</td>\n      <td>8</td>\n      <td>65.0</td>\n      <td>57.0</td>\n      <td>106.0</td>\n      <td>75.0</td>\n      <td>0.500000</td>\n    </tr>\n    <tr>\n      <th>253</th>\n      <td>胎内ヒトガタ遊戯</td>\n      <td>2012-01-25</td>\n      <td>2012</td>\n      <td>[S-2]</td>\n      <td>NaN</td>\n      <td>NaN</td>\n      <td>NaN</td>\n      <td>NaN</td>\n      <td>NaN</td>\n      <td>98.0</td>\n      <td>...</td>\n      <td>0</td>\n      <td>1</td>\n      <td>5</td>\n      <td>8</td>\n      <td>8</td>\n      <td>137.0</td>\n      <td>145.0</td>\n      <td>134.0</td>\n      <td>147.0</td>\n      <td>0.125000</td>\n    </tr>\n    <tr>\n      <th>266</th>\n      <td>Fräulein Rose</td>\n      <td>2013-07-24</td>\n      <td>2013</td>\n      <td>[S-2, CA]</td>\n      <td>NaN</td>\n      <td>NaN</td>\n      <td>NaN</td>\n      <td>NaN</td>\n      <td>NaN</td>\n      <td>NaN</td>\n      <td>...</td>\n      <td>0</td>\n      <td>1</td>\n      <td>4</td>\n      <td>7</td>\n      <td>7</td>\n      <td>153.0</td>\n      <td>179.0</td>\n      <td>116.0</td>\n      <td>201.0</td>\n      <td>0.142857</td>\n    </tr>\n    <tr>\n      <th>267</th>\n      <td>乙女の贖い</td>\n      <td>2013-07-24</td>\n      <td>2013</td>\n      <td>[S-2, CA]</td>\n      <td>NaN</td>\n      <td>NaN</td>\n      <td>NaN</td>\n      <td>NaN</td>\n      <td>NaN</td>\n      <td>NaN</td>\n      <td>...</td>\n      <td>1</td>\n      <td>3</td>\n      <td>6</td>\n      <td>7</td>\n      <td>7</td>\n      <td>76.0</td>\n      <td>87.0</td>\n      <td>69.0</td>\n      <td>36.0</td>\n      <td>0.428571</td>\n    </tr>\n    <tr>\n      <th>310</th>\n      <td>波羅蜜蓮華</td>\n      <td>2015-10-21</td>\n      <td>2015</td>\n      <td>[S-1, ST]</td>\n      <td>NaN</td>\n      <td>NaN</td>\n      <td>NaN</td>\n      <td>NaN</td>\n      <td>NaN</td>\n      <td>NaN</td>\n      <td>...</td>\n      <td>1</td>\n      <td>3</td>\n      <td>4</td>\n      <td>5</td>\n      <td>5</td>\n      <td>48.0</td>\n      <td>70.0</td>\n      <td>13.0</td>\n      <td>75.0</td>\n      <td>0.600000</td>\n    </tr>\n    <tr>\n      <th>311</th>\n      <td>魂ノ代</td>\n      <td>2015-10-21</td>\n      <td>2015</td>\n      <td>[S-2]</td>\n      <td>NaN</td>\n      <td>NaN</td>\n      <td>NaN</td>\n      <td>NaN</td>\n      <td>NaN</td>\n      <td>NaN</td>\n      <td>...</td>\n      <td>0</td>\n      <td>0</td>\n      <td>1</td>\n      <td>5</td>\n      <td>5</td>\n      <td>213.0</td>\n      <td>213.0</td>\n      <td>206.0</td>\n      <td>213.0</td>\n      <td>0.000000</td>\n    </tr>\n  </tbody>\n</table>\n<p>44 rows × 37 columns</p>\n</div>",
      "text/plain": "                            title       date initial                   kind  \\\nno                                                                            \n3                    マリーゴールド・ガーデン 1988-01-25    2005          [SA, OA, S-2]   \n12                      フラワーチャイルド 1988-07-25    2005          [OA, S-1, CA]   \n13   恋せよ乙女 -Love story of ZIPANG- 1992-07-07    2005      [OA, S-1, SA, CA]   \n25                         舞踏会の手帖 1993-06-09    2005          [OA, S-2, CA]   \n27                       エスカルゴ嬉遊曲 1994-01-19    2005              [S-2, CA]   \n37    Nous Deux C'est Pour La Vie 1995-10-18    2005              [S-2, CA]   \n42                 Only Love Song 1996-08-01    2005                  [S-2]   \n43                           Wish 1996-12-24    2005      [S-1, OT, ST, CA]   \n44          夢のあとに ～après un rêve～ 1996-12-24    2005      [S-2, ST, OT, CA]   \n49                       月夜のピエレット 1997-05-21    2005  [OA, OT, S-2, ST, CA]   \n57           Anniversary of Angel 1997-12-17    2005          [S-1, OT, CA]   \n58                          天使に寄す 1997-12-17    2005              [S-2, CA]   \n59                      LABYRINTH 1998-10-21    2005      [OA, S-1, ST, CA]   \n87                  après le noir 2001-05-23    2005              [S-2, CA]   \n120                   pastel pure 2004-08-25    2005          [S-1, ST, CA]   \n122                   あたしがアリスだった頃 2004-10-22    2005              [S-2, CA]   \n124               君がため、惜しからざりし命さへ 2005-06-08    2005              [S-2, CA]   \n136                    S嬢の秘めやかな悔恨 2005-10-26  2006#1              [S-2, CA]   \n144                          水月鏡花 2006-05-24  2006#2              [S-2, CA]   \n159                          極楽荊姫 2006-12-06  2006#2              [S-2, CA]   \n164                          暗黒天国 2007-05-23    2008          [S-1, ST, CA]   \n165                          桃色天国 2007-05-23    2008              [S-2, CA]   \n167                      最愛なる魔王さま 2007-06-13    2008              [S-2, CA]   \n181                          コトダマ 2008-01-23    2008          [S-1, ST, CA]   \n182                          コヒブミ 2008-01-23    2008              [S-2, CA]   \n184                            麤皮 2008-07-30    2009              [S-2, CA]   \n195                          鬼帝の剣 2008-11-19    2009          [S-1, ST, CA]   \n198                       裸々イヴ新世紀 2009-01-21    2009      [S-1, OT, ST, CA]   \n199                          騎士乙女 2009-01-21    2009          [SA, S-2, CA]   \n200                          地獄の門 2009-05-27    2010          [S-1, ST, CA]   \n201              吾君想う故に吾在り生き霊となりて 2009-05-27    2010              [S-2, CA]   \n202                       戦慄の子供たち 2009-08-19    2010          [S-1, ST, CA]   \n203                  Hell's Maria 2009-08-19    2010              [S-2, CA]   \n215                         堕天國宣戦 2009-10-21    2010          [S-1, ST, CA]   \n216                            寶島 2009-10-21    2010              [S-2, CA]   \n224                        亂世エロイカ 2010-07-14    2011              [S-1, CA]   \n225                       腕 kaina 2010-07-14    2011              [S-2, CA]   \n227                            灰桜 2010-08-25    2011              [S-2, CA]   \n252           夜見のたそがれの、うつろなる蒼き瞳の。 2012-01-25    2012              [S-2, CA]   \n253                      胎内ヒトガタ遊戯 2012-01-25    2012                  [S-2]   \n266                 Fräulein Rose 2013-07-24    2013              [S-2, CA]   \n267                         乙女の贖い 2013-07-24    2013              [S-2, CA]   \n310                         波羅蜜蓮華 2015-10-21    2015              [S-1, ST]   \n311                           魂ノ代 2015-10-21    2015                  [S-2]   \n\n      2007   2008   2009   2010   2011   2012  ...  under50  under100  \\\nno                                             ...                      \n3    141.0  162.0  142.0  150.0  175.0  141.0  ...        0         0   \n12   187.0  197.0  221.0  214.0  223.0  217.0  ...        0         0   \n13    36.0   48.0   58.0   74.0   87.0   71.0  ...        3        10   \n25    92.0  137.0  174.0  171.0  223.0  153.0  ...        0         1   \n27    56.0   66.0   91.0  109.0  155.0  194.0  ...        0         3   \n37    44.0   65.0   80.0  118.0  117.0  107.0  ...        2         5   \n42   187.0  129.0  185.0  150.0  158.0  217.0  ...        0         0   \n43    53.0   71.0   81.0   72.0   86.0  127.0  ...        1         6   \n44   168.0  199.0  198.0  164.0  211.0  217.0  ...        0         0   \n49    94.0  172.0  107.0  104.0   92.0   68.0  ...        0         3   \n57    54.0   99.0   97.0   98.0  147.0  140.0  ...        0         5   \n58   119.0  170.0  179.0  179.0  211.0  217.0  ...        0         0   \n59    59.0  142.0   83.0  171.0  111.0  141.0  ...        0         4   \n87    78.0   97.0  133.0  109.0  131.0  173.0  ...        0         2   \n120  104.0  160.0  184.0  179.0  211.0  217.0  ...        0         0   \n122   31.0   47.0  119.0   67.0   78.0  155.0  ...        2         4   \n124   32.0   87.0   96.0   93.0  106.0  127.0  ...        1         4   \n136   69.0  115.0  149.0   79.0  147.0  204.0  ...        0         2   \n144   62.0   98.0   64.0   70.0   97.0   86.0  ...        0         8   \n159   28.0   85.0  109.0   93.0  147.0  217.0  ...        1         3   \n164    NaN   18.0   20.0   25.0   51.0   83.0  ...        5        10   \n165    NaN   64.0  104.0  140.0  128.0  194.0  ...        0         1   \n167    NaN   57.0   84.0   82.0  123.0  217.0  ...        0         3   \n181    NaN    8.0   32.0   35.0   38.0   53.0  ...        5        11   \n182    NaN   73.0  147.0  140.0  158.0  127.0  ...        0         2   \n184    NaN    NaN   25.0   56.0   68.0  110.0  ...        1         3   \n195    NaN    NaN    5.0   32.0   30.0   56.0  ...        4         9   \n198    NaN    NaN    9.0   29.0   45.0   82.0  ...        3         7   \n199    NaN    NaN   41.0   73.0   68.0  194.0  ...        1         3   \n200    NaN    NaN    NaN   15.0   34.0   58.0  ...        4         8   \n201    NaN    NaN    NaN   70.0  128.0  155.0  ...        0         1   \n202    NaN    NaN    NaN   25.0   81.0   55.0  ...        1         6   \n203    NaN    NaN    NaN  109.0  113.0  133.0  ...        0         0   \n215    NaN    NaN    NaN    7.0   14.0   23.0  ...        4         8   \n216    NaN    NaN    NaN  109.0  147.0  171.0  ...        0         0   \n224    NaN    NaN    NaN    NaN    9.0   40.0  ...        2         6   \n225    NaN    NaN    NaN    NaN   50.0   78.0  ...        1         3   \n227    NaN    NaN    NaN    NaN  158.0  185.0  ...        0         0   \n252    NaN    NaN    NaN    NaN    NaN   84.0  ...        0         4   \n253    NaN    NaN    NaN    NaN    NaN   98.0  ...        0         1   \n266    NaN    NaN    NaN    NaN    NaN    NaN  ...        0         1   \n267    NaN    NaN    NaN    NaN    NaN    NaN  ...        1         3   \n310    NaN    NaN    NaN    NaN    NaN    NaN  ...        1         3   \n311    NaN    NaN    NaN    NaN    NaN    NaN  ...        0         0   \n\n     under200  count_all  count  rank_average  rank_average_exclude_debut  \\\nno                                                                          \n3          10         16     13         128.0                       123.0   \n12          5         16     13         185.0                       178.0   \n13         13         16     13          29.0                        21.0   \n25         10         16     13         143.0                       135.0   \n27          9         16     13         118.0                       107.0   \n37         14         16     13          63.0                        51.0   \n42         10         16     13         141.0                       133.0   \n43         13         16     13          55.0                        45.0   \n44          6         16     13         186.0                       181.0   \n49         11         16     13          84.0                        71.0   \n57         11         16     13          81.0                        69.0   \n58          8         16     13         170.0                       160.0   \n59         13         16     13          59.0                        48.0   \n87         13         16     13          75.0                        59.0   \n120         6         16     13         174.0                       163.0   \n122        11         16     13          66.0                        53.0   \n124        10         16     13          94.0                        86.0   \n136         7         15     13         129.0                       124.0   \n144        13         14     13          44.0                        33.0   \n159         9         14     13         103.0                        95.0   \n164        11         12     12          15.0                        13.0   \n165         9         12     12         125.0                       129.0   \n167         9         12     12         111.0                       112.0   \n181        11         12     12          10.0                         9.0   \n182         7         12     12         121.0                       122.0   \n184        10         11     11          73.0                        76.0   \n195        11         11     11           7.0                         7.0   \n198        11         11     11          31.0                        27.0   \n199         7         11     11         112.0                       114.0   \n200         9         10     10          22.0                        22.0   \n201         8         10     10         106.0                       109.0   \n202         9         10     10          33.0                        31.0   \n203        10         10     10          95.0                        94.0   \n215        10         10     10          12.0                        11.0   \n216         4         10     10         190.0                       201.0   \n224         9          9      9          17.0                        16.0   \n225         8          9      9          72.0                        75.0   \n227         4          9      9         177.0                       175.0   \n252         7          8      8          65.0                        57.0   \n253         5          8      8         137.0                       145.0   \n266         4          7      7         153.0                       179.0   \n267         6          7      7          76.0                        87.0   \n310         4          5      5          48.0                        70.0   \n311         1          5      5         213.0                       213.0   \n\n    rank_highest  rank_highest_exclude_debut  under100_mean  \nno                                                           \n3          185.0                       167.0       0.000000  \n12         175.0                       156.0       0.000000  \n13          50.0                        22.0       0.625000  \n25         128.0                       104.0       0.062500  \n27          79.0                        46.0       0.187500  \n37          59.0                        29.0       0.312500  \n42         168.0                       151.0       0.000000  \n43          69.0                        36.0       0.375000  \n44         202.0                       189.0       0.000000  \n49         100.0                        67.0       0.187500  \n57          77.0                        44.0       0.312500  \n58         160.0                       142.0       0.000000  \n59          83.0                        50.0       0.250000  \n87         114.0                        86.0       0.125000  \n120        142.0                       119.0       0.000000  \n122         43.0                        15.0       0.250000  \n124         46.0                        16.0       0.250000  \n136        104.0                        73.0       0.133333  \n144         86.0                        56.0       0.571429  \n159         41.0                        12.0       0.214286  \n164         25.0                         8.0       0.833333  \n165         93.0                       119.0       0.083333  \n167         82.0                        91.0       0.250000  \n181          8.0                        16.0       0.916667  \n182        109.0                        88.0       0.166667  \n184         35.0                        46.0       0.272727  \n195          3.0                         9.0       0.818182  \n198         10.0                        13.0       0.636364  \n199         57.0                        67.0       0.272727  \n200         19.0                        19.0       0.800000  \n201        106.0                       119.0       0.100000  \n202         35.0                        45.0       0.600000  \n203        147.0                       129.0       0.000000  \n215          6.0                         4.0       0.800000  \n216        147.0                       173.0       0.000000  \n224         10.0                        25.0       0.666667  \n225         72.0                        61.0       0.333333  \n227        197.0                       198.0       0.000000  \n252        106.0                        75.0       0.500000  \n253        134.0                       147.0       0.125000  \n266        116.0                       201.0       0.142857  \n267         69.0                        36.0       0.428571  \n310         13.0                        75.0       0.600000  \n311        206.0                       213.0       0.000000  \n\n[44 rows x 37 columns]"
     },
     "execution_count": 264,
     "metadata": {},
     "output_type": "execute_result"
    }
   ],
   "source": [
    "ura[ura.kind.apply(lambda k: 'S-1' in k or 'S-2' in k)]"
   ]
  },
  {
   "cell_type": "code",
   "execution_count": 265,
   "metadata": {},
   "outputs": [
    {
     "ename": "NameError",
     "evalue": "name 'ura_list' is not defined",
     "output_type": "error",
     "traceback": [
      "\u001b[1;31m---------------------------------------------------------------------------\u001b[0m",
      "\u001b[1;31mNameError\u001b[0m                                 Traceback (most recent call last)",
      "\u001b[1;32m<ipython-input-265-530fce2f5e84>\u001b[0m in \u001b[0;36m<module>\u001b[1;34m\u001b[0m\n\u001b[1;32m----> 1\u001b[1;33m \u001b[0mura_list\u001b[0m\u001b[1;33m[\u001b[0m\u001b[1;33m(\u001b[0m\u001b[1;36m160\u001b[0m \u001b[1;33m<=\u001b[0m \u001b[0mura_list\u001b[0m\u001b[1;33m[\u001b[0m\u001b[1;36m2018\u001b[0m\u001b[1;33m]\u001b[0m\u001b[1;33m)\u001b[0m \u001b[1;33m&\u001b[0m \u001b[1;33m(\u001b[0m\u001b[0mura_list\u001b[0m\u001b[1;33m[\u001b[0m\u001b[1;36m2018\u001b[0m\u001b[1;33m]\u001b[0m \u001b[1;33m<=\u001b[0m \u001b[1;36m210\u001b[0m\u001b[1;33m)\u001b[0m\u001b[1;33m]\u001b[0m\u001b[1;33m\u001b[0m\u001b[1;33m\u001b[0m\u001b[0m\n\u001b[0m",
      "\u001b[1;31mNameError\u001b[0m: name 'ura_list' is not defined"
     ]
    }
   ],
   "source": [
    "ura_list[(160 <= ura_list[2018]) & (ura_list[2018] <= 210)]"
   ]
  },
  {
   "cell_type": "code",
   "execution_count": 134,
   "metadata": {},
   "outputs": [
    {
     "data": {
      "text/plain": [
       "53"
      ]
     },
     "execution_count": 134,
     "metadata": {},
     "output_type": "execute_result"
    }
   ],
   "source": [
    "len(_)"
   ]
  },
  {
   "cell_type": "code",
   "execution_count": 124,
   "metadata": {},
   "outputs": [
    {
     "data": {
      "text/html": [
       "<div>\n",
       "<style scoped>\n",
       "    .dataframe tbody tr th:only-of-type {\n",
       "        vertical-align: middle;\n",
       "    }\n",
       "\n",
       "    .dataframe tbody tr th {\n",
       "        vertical-align: top;\n",
       "    }\n",
       "\n",
       "    .dataframe thead th {\n",
       "        text-align: right;\n",
       "    }\n",
       "</style>\n",
       "<table border=\"1\" class=\"dataframe\">\n",
       "  <thead>\n",
       "    <tr style=\"text-align: right;\">\n",
       "      <th></th>\n",
       "      <th>title</th>\n",
       "      <th>release</th>\n",
       "      <th>kind</th>\n",
       "      <th>average</th>\n",
       "      <th>average_exclude_debut</th>\n",
       "      <th>rank_average</th>\n",
       "      <th>rank_average_exclude_debut</th>\n",
       "      <th>highest</th>\n",
       "      <th>highest_exclude_debut</th>\n",
       "      <th>rank_highest</th>\n",
       "      <th>rank_highest_exclude_debut</th>\n",
       "      <th>under_100</th>\n",
       "      <th>over_100</th>\n",
       "      <th>over_100_average</th>\n",
       "      <th>2018</th>\n",
       "    </tr>\n",
       "  </thead>\n",
       "  <tbody>\n",
       "    <tr>\n",
       "      <th>4</th>\n",
       "      <td>桜の花は狂い咲き</td>\n",
       "      <td>1988</td>\n",
       "      <td>OA/SA</td>\n",
       "      <td>117.454545</td>\n",
       "      <td>117.454545</td>\n",
       "      <td>57.0</td>\n",
       "      <td>55.0</td>\n",
       "      <td>68.0</td>\n",
       "      <td>68.0</td>\n",
       "      <td>87.0</td>\n",
       "      <td>58.0</td>\n",
       "      <td>False</td>\n",
       "      <td>4</td>\n",
       "      <td>0.333333</td>\n",
       "      <td>164.0</td>\n",
       "    </tr>\n",
       "    <tr>\n",
       "      <th>46</th>\n",
       "      <td>乙女の祈り</td>\n",
       "      <td>1998</td>\n",
       "      <td>OA</td>\n",
       "      <td>105.454545</td>\n",
       "      <td>105.454545</td>\n",
       "      <td>48.0</td>\n",
       "      <td>42.0</td>\n",
       "      <td>52.0</td>\n",
       "      <td>52.0</td>\n",
       "      <td>65.0</td>\n",
       "      <td>38.0</td>\n",
       "      <td>False</td>\n",
       "      <td>6</td>\n",
       "      <td>0.500000</td>\n",
       "      <td>136.0</td>\n",
       "    </tr>\n",
       "    <tr>\n",
       "      <th>47</th>\n",
       "      <td>Rose Moon</td>\n",
       "      <td>1998</td>\n",
       "      <td>OA</td>\n",
       "      <td>90.636364</td>\n",
       "      <td>90.636364</td>\n",
       "      <td>33.0</td>\n",
       "      <td>26.0</td>\n",
       "      <td>51.0</td>\n",
       "      <td>51.0</td>\n",
       "      <td>62.0</td>\n",
       "      <td>36.0</td>\n",
       "      <td>False</td>\n",
       "      <td>8</td>\n",
       "      <td>0.666667</td>\n",
       "      <td>133.0</td>\n",
       "    </tr>\n",
       "    <tr>\n",
       "      <th>53</th>\n",
       "      <td>少女貴族</td>\n",
       "      <td>2001</td>\n",
       "      <td>OA</td>\n",
       "      <td>70.363636</td>\n",
       "      <td>70.363636</td>\n",
       "      <td>17.0</td>\n",
       "      <td>11.0</td>\n",
       "      <td>24.0</td>\n",
       "      <td>24.0</td>\n",
       "      <td>22.0</td>\n",
       "      <td>6.0</td>\n",
       "      <td>False</td>\n",
       "      <td>9</td>\n",
       "      <td>0.750000</td>\n",
       "      <td>192.0</td>\n",
       "    </tr>\n",
       "    <tr>\n",
       "      <th>64</th>\n",
       "      <td>熱帯性植物園</td>\n",
       "      <td>2002</td>\n",
       "      <td>OA</td>\n",
       "      <td>109.090909</td>\n",
       "      <td>109.090909</td>\n",
       "      <td>50.0</td>\n",
       "      <td>44.0</td>\n",
       "      <td>51.0</td>\n",
       "      <td>51.0</td>\n",
       "      <td>62.0</td>\n",
       "      <td>36.0</td>\n",
       "      <td>False</td>\n",
       "      <td>5</td>\n",
       "      <td>0.416667</td>\n",
       "      <td>175.0</td>\n",
       "    </tr>\n",
       "    <tr>\n",
       "      <th>65</th>\n",
       "      <td>遊月恋歌</td>\n",
       "      <td>2002</td>\n",
       "      <td>OA/SA</td>\n",
       "      <td>41.363636</td>\n",
       "      <td>41.363636</td>\n",
       "      <td>2.0</td>\n",
       "      <td>1.0</td>\n",
       "      <td>18.0</td>\n",
       "      <td>18.0</td>\n",
       "      <td>13.0</td>\n",
       "      <td>4.0</td>\n",
       "      <td>True</td>\n",
       "      <td>11</td>\n",
       "      <td>0.916667</td>\n",
       "      <td>110.0</td>\n",
       "    </tr>\n",
       "    <tr>\n",
       "      <th>74</th>\n",
       "      <td>少女殉血</td>\n",
       "      <td>2003</td>\n",
       "      <td>ST</td>\n",
       "      <td>113.727273</td>\n",
       "      <td>113.727273</td>\n",
       "      <td>54.0</td>\n",
       "      <td>51.0</td>\n",
       "      <td>27.0</td>\n",
       "      <td>27.0</td>\n",
       "      <td>28.0</td>\n",
       "      <td>10.0</td>\n",
       "      <td>False</td>\n",
       "      <td>5</td>\n",
       "      <td>0.416667</td>\n",
       "      <td>126.0</td>\n",
       "    </tr>\n",
       "    <tr>\n",
       "      <th>121</th>\n",
       "      <td>Animals on the Earth</td>\n",
       "      <td>2009</td>\n",
       "      <td>OA</td>\n",
       "      <td>93.000000</td>\n",
       "      <td>101.285714</td>\n",
       "      <td>36.0</td>\n",
       "      <td>39.0</td>\n",
       "      <td>35.0</td>\n",
       "      <td>45.0</td>\n",
       "      <td>40.0</td>\n",
       "      <td>25.0</td>\n",
       "      <td>False</td>\n",
       "      <td>5</td>\n",
       "      <td>0.416667</td>\n",
       "      <td>175.0</td>\n",
       "    </tr>\n",
       "    <tr>\n",
       "      <th>141</th>\n",
       "      <td>四神獣飼殺し</td>\n",
       "      <td>2010</td>\n",
       "      <td>OA</td>\n",
       "      <td>115.142857</td>\n",
       "      <td>129.833333</td>\n",
       "      <td>56.0</td>\n",
       "      <td>63.0</td>\n",
       "      <td>27.0</td>\n",
       "      <td>71.0</td>\n",
       "      <td>28.0</td>\n",
       "      <td>68.0</td>\n",
       "      <td>False</td>\n",
       "      <td>4</td>\n",
       "      <td>0.333333</td>\n",
       "      <td>115.0</td>\n",
       "    </tr>\n",
       "    <tr>\n",
       "      <th>159</th>\n",
       "      <td>ALICE同罪イノセント</td>\n",
       "      <td>2012</td>\n",
       "      <td>OA</td>\n",
       "      <td>72.333333</td>\n",
       "      <td>85.200000</td>\n",
       "      <td>20.0</td>\n",
       "      <td>20.0</td>\n",
       "      <td>8.0</td>\n",
       "      <td>35.0</td>\n",
       "      <td>6.0</td>\n",
       "      <td>20.0</td>\n",
       "      <td>False</td>\n",
       "      <td>5</td>\n",
       "      <td>0.416667</td>\n",
       "      <td>119.0</td>\n",
       "    </tr>\n",
       "    <tr>\n",
       "      <th>185</th>\n",
       "      <td>陸と海と空と</td>\n",
       "      <td>2015</td>\n",
       "      <td>OA</td>\n",
       "      <td>49.666667</td>\n",
       "      <td>65.500000</td>\n",
       "      <td>6.0</td>\n",
       "      <td>8.0</td>\n",
       "      <td>18.0</td>\n",
       "      <td>56.0</td>\n",
       "      <td>13.0</td>\n",
       "      <td>44.0</td>\n",
       "      <td>True</td>\n",
       "      <td>3</td>\n",
       "      <td>0.250000</td>\n",
       "      <td>114.0</td>\n",
       "    </tr>\n",
       "    <tr>\n",
       "      <th>193</th>\n",
       "      <td>緋ノ糸輪廻ノGEMINI</td>\n",
       "      <td>2015</td>\n",
       "      <td>OA</td>\n",
       "      <td>70.000000</td>\n",
       "      <td>88.500000</td>\n",
       "      <td>16.0</td>\n",
       "      <td>23.0</td>\n",
       "      <td>33.0</td>\n",
       "      <td>80.0</td>\n",
       "      <td>38.0</td>\n",
       "      <td>77.0</td>\n",
       "      <td>True</td>\n",
       "      <td>3</td>\n",
       "      <td>0.250000</td>\n",
       "      <td>147.0</td>\n",
       "    </tr>\n",
       "  </tbody>\n",
       "</table>\n",
       "</div>"
      ],
      "text/plain": [
       "                    title  release   kind     average  average_exclude_debut  \\\n",
       "4                桜の花は狂い咲き     1988  OA/SA  117.454545             117.454545   \n",
       "46                  乙女の祈り     1998     OA  105.454545             105.454545   \n",
       "47              Rose Moon     1998     OA   90.636364              90.636364   \n",
       "53                   少女貴族     2001     OA   70.363636              70.363636   \n",
       "64                 熱帯性植物園     2002     OA  109.090909             109.090909   \n",
       "65                   遊月恋歌     2002  OA/SA   41.363636              41.363636   \n",
       "74                   少女殉血     2003     ST  113.727273             113.727273   \n",
       "121  Animals on the Earth     2009     OA   93.000000             101.285714   \n",
       "141                四神獣飼殺し     2010     OA  115.142857             129.833333   \n",
       "159          ALICE同罪イノセント     2012     OA   72.333333              85.200000   \n",
       "185                陸と海と空と     2015     OA   49.666667              65.500000   \n",
       "193          緋ノ糸輪廻ノGEMINI     2015     OA   70.000000              88.500000   \n",
       "\n",
       "     rank_average  rank_average_exclude_debut  highest  highest_exclude_debut  \\\n",
       "4            57.0                        55.0     68.0                   68.0   \n",
       "46           48.0                        42.0     52.0                   52.0   \n",
       "47           33.0                        26.0     51.0                   51.0   \n",
       "53           17.0                        11.0     24.0                   24.0   \n",
       "64           50.0                        44.0     51.0                   51.0   \n",
       "65            2.0                         1.0     18.0                   18.0   \n",
       "74           54.0                        51.0     27.0                   27.0   \n",
       "121          36.0                        39.0     35.0                   45.0   \n",
       "141          56.0                        63.0     27.0                   71.0   \n",
       "159          20.0                        20.0      8.0                   35.0   \n",
       "185           6.0                         8.0     18.0                   56.0   \n",
       "193          16.0                        23.0     33.0                   80.0   \n",
       "\n",
       "     rank_highest  rank_highest_exclude_debut  under_100  over_100  \\\n",
       "4            87.0                        58.0      False         4   \n",
       "46           65.0                        38.0      False         6   \n",
       "47           62.0                        36.0      False         8   \n",
       "53           22.0                         6.0      False         9   \n",
       "64           62.0                        36.0      False         5   \n",
       "65           13.0                         4.0       True        11   \n",
       "74           28.0                        10.0      False         5   \n",
       "121          40.0                        25.0      False         5   \n",
       "141          28.0                        68.0      False         4   \n",
       "159           6.0                        20.0      False         5   \n",
       "185          13.0                        44.0       True         3   \n",
       "193          38.0                        77.0       True         3   \n",
       "\n",
       "     over_100_average   2018  \n",
       "4            0.333333  164.0  \n",
       "46           0.500000  136.0  \n",
       "47           0.666667  133.0  \n",
       "53           0.750000  192.0  \n",
       "64           0.416667  175.0  \n",
       "65           0.916667  110.0  \n",
       "74           0.416667  126.0  \n",
       "121          0.416667  175.0  \n",
       "141          0.333333  115.0  \n",
       "159          0.416667  119.0  \n",
       "185          0.250000  114.0  \n",
       "193          0.250000  147.0  "
      ]
     },
     "execution_count": 124,
     "metadata": {},
     "output_type": "execute_result"
    }
   ],
   "source": [
    "my = ['桜の花は狂い咲き', '乙女の祈り', 'Rose Moon', '少女貴族', '熱帯性植物園', '遊月恋歌', '少女殉血', 'Animals on the Earth', '四神獣飼殺し', 'ALICE同罪イノセント', '陸と海と空と', '緋ノ糸輪廻ノGEMINI']\n",
    "result.query('title in @my').join(ura_list[2018])"
   ]
  },
  {
   "cell_type": "code",
   "execution_count": 122,
   "metadata": {
    "scrolled": false
   },
   "outputs": [],
   "source": [
    "# for idx, i in enumerate(map(lambda line: f'<p>{line}</p>', ura_list.title)):\n",
    "#     print(i, end='')\n",
    "#     if idx % 50 == 49:\n",
    "#         print()"
   ]
  },
  {
   "cell_type": "code",
   "execution_count": 123,
   "metadata": {
    "scrolled": false
   },
   "outputs": [],
   "source": [
    "# for idx, i in enumerate(map(lambda line: f'<li>{line}</li>', ura_list.title)):\n",
    "#     print(i, end='')\n",
    "#     if idx % 100 == 99:\n",
    "#         print()"
   ]
  }
 ],
 "metadata": {
  "kernelspec": {
   "display_name": "Python 3",
   "language": "python",
   "name": "python3"
  },
  "language_info": {
   "codemirror_mode": {
    "name": "ipython",
    "version": 3
   },
   "file_extension": ".py",
   "mimetype": "text/x-python",
   "name": "python",
   "nbconvert_exporter": "python",
   "pygments_lexer": "ipython3",
   "version": "3.7.5"
  }
 },
 "nbformat": 4,
 "nbformat_minor": 2
}